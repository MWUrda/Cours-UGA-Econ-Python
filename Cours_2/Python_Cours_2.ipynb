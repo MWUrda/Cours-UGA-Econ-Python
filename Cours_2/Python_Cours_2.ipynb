{
 "cells": [
  {
   "cell_type": "markdown",
   "metadata": {},
   "source": [
    "# Optimisation et présentation des résultats\n",
    "\n",
    "Nous allons commencer a travailler avec des données numériques en utilisant la librarie **numpy**, à résoudre des problèmes simples d'optimisation numériques en utilisant la librarie **scipy** et en particulier les fonctions de **scipy.optimize**, et enfin nous présenterons les résutats sous forme \"textuelle\" avec la fonction **print**, et de graphiques avec **matplotlib**.\n",
    "\n",
    "## Références:\n",
    "\n",
    "- print: [exemples](https://www.python-course.eu/python3_formatted_output.php) (détaillés)\n",
    "- numpy: [tutoriel détaillé](https://www.python-course.eu/numpy.php)\n",
    "- matplotlib: [exemples](https://matplotlib.org/stable/tutorials/introductory/sample_plots.html), [documentation](https://matplotlib.org/stable/users/index.html), [styles](https://matplotlib.org/3.1.0/gallery/style_sheets/style_sheets_reference.html)\n",
    "- scipy-optimize: [documentation](https://docs.scipy.org/doc/scipy/reference/optimize.html)\n",
    "$\\def\\R{\\mathbb{R}}$"
   ]
  },
  {
   "cell_type": "markdown",
   "metadata": {},
   "source": [
    "# Problème du consommateur\n",
    " \n",
    "\n",
    "Nous allons considérer un consommateur dont les préférences en matière de consommation sont représentées par une fonction d'utilité,\n",
    "$\n",
    "\\begin{align*}\n",
    "u(q_1, q_2): \\R_{+}^2 &\\rightarrow \\R.\n",
    "\\end{align*}\n",
    "$\n",
    "\n",
    "On considère ainsi le cadre de paniers de biens à deux composantes. D'autre part, nous supposons que le consommateur dispose d'un revenu $R$ déterminé de façon exogène par rapport à son choix de consommation. Enfin le vecteur de prix $p = (p_1, p_2)$ est aussi exogène, le consommateur le considérant comme donné.\n",
    "\n",
    "Le problème de choix du consommateur consiste à déterminer le panier *optimal* $q^* = (q_1^*, q_2^*)$ au sens où il maximise son utilité sous sa contrainte de budjet. Formellement,\n",
    "\n",
    "$\n",
    "\\begin{align*}\n",
    "V(p_1,p_2, R) &= \\max_{q_1, q_2} u(q_1, q_2)\\\\\n",
    "&t.q.,\\\\\n",
    "p_1q_1 + p_2q_2\\leq R,& \\quad p_1, p_2, R > 0,\\\\\n",
    "% &q_1, q_2 \\geq 0\n",
    "\\end{align*}\n",
    "$\n",
    "\n",
    "## Exemple: fonction d'utilité Cobb-Douglas.\n",
    "\n",
    "Dans cet exemple $u(\\cdot)$ est donnée par,\n",
    "\n",
    "$\n",
    "\\begin{align*}\n",
    "u(q_1, q_2) &= q_1^\\alpha q_2^{1-\\alpha}, \\quad \\alpha \\in (0, 1).\n",
    "\\end{align*}\n",
    "$\n",
    "\n",
    "Les solutions optimales sont ici:\n",
    "\n",
    "$\n",
    "\\begin{align*}\n",
    "q^{*}_1 &= \\alpha\\frac{R}{p_1},\\\\\n",
    "q^{*}_2 &= (1-\\alpha)\\frac{R}{p_2}.\n",
    "\\end{align*}\n",
    "$\n",
    "\n",
    "$q^*_1$, et $q^*_2$ sont des fonctions des prix des biens, et du revenu, qu'on appelle *fonctions de demande*, et que l'on note respectivement $q_1^d(p, R)$, et $q_2^d(p, R)$."
   ]
  },
  {
   "cell_type": "markdown",
   "metadata": {},
   "source": [
    "# Calcul numérique avec numpy "
   ]
  },
  {
   "cell_type": "code",
   "execution_count": null,
   "metadata": {},
   "outputs": [],
   "source": [
    "import numpy as np # importation de la bibliothèque numpy"
   ]
  },
  {
   "cell_type": "markdown",
   "metadata": {},
   "source": [
    "## L'**array** numpy\n",
    "\n",
    "Un array numpy est semblable à une liste avec cependant les deux différences suivantes:\n",
    "\n",
    "1. Les éléments sont homogènes.\n",
    "2. Une opération de *slicing* sur un array produit une \"vue\"(à *view*) de celui-ci plutôt que d'extraire du contenu."
   ]
  },
  {
   "cell_type": "markdown",
   "metadata": {},
   "source": [
    "## Les bases\n",
    "\n",
    "Un array numpy peut être créé à partir d'une liste et être multidimensionnel.\n",
    "\n"
   ]
  },
  {
   "cell_type": "code",
   "execution_count": null,
   "metadata": {},
   "outputs": [],
   "source": [
    "A = np.array([0, 1, 2, 3, 4, 5, 6, 7, 8, 9]) # une dimension\n",
    "B = np.array([[3.4, 8.7, 9.9], \n",
    "              [1.1, -7.8, -0.7],\n",
    "              [4.1, 12.3, 4.8]]) # deux dimensions\n",
    "\n",
    "print(type(A),type(B)) # type\n",
    "print(A.dtype,B.dtype) # le type des éléments dans les array\n",
    "print(A.ndim,B.ndim) # dimensions\n",
    "print(A.shape,B.shape) # \"shape\" ou format (e.g, 1d: nombre d'éléments, 2d: nombre de lignes x nombre de colonnes)\n",
    "print(A.size,B.size) # taille(i.e., nombre d'élèments)"
   ]
  },
  {
   "cell_type": "markdown",
   "metadata": {},
   "source": [
    "Le **Slicing** sur un array produit une **vue** de celui-ci:\n",
    "\n",
    "\n"
   ]
  },
  {
   "cell_type": "code",
   "execution_count": null,
   "metadata": {},
   "outputs": [],
   "source": [
    "A = np.array([0, 1, 2, 3, 4, 5, 6, 7, 8, 9])\n",
    "B = A.copy() # B est une copie de A\n",
    "C = A[2:6] # C obtenu par slicing sur A produit une vue de A\n",
    "C[0] = 0\n",
    "C[1] = 0\n",
    "print(A) # A est modifié\n",
    "print(B) # B ne l'est pas"
   ]
  },
  {
   "cell_type": "markdown",
   "metadata": {},
   "source": [
    "Un array peut aussi être créé en appliquant des fonction numpy qui donnent des arrays spécifiques "
   ]
  },
  {
   "cell_type": "code",
   "execution_count": null,
   "metadata": {},
   "outputs": [],
   "source": [
    "print(np.ones((2,3))) # array rempli de 1\n",
    "print(np.zeros((4,2))) # array rempli de zéros\n",
    "print(np.full((3, 5), 3.14)) # array rempli d'un nombre désiré\n",
    "print(np.arange(0, 10)) # suite de nombres équidistants\n",
    "print(np.eye(3)) # array sous forme d'une matrice identité\n",
    "print(np.linspace(0,1,6)) # suite: interpolation linéaire entre deux bornes\n",
    "\n"
   ]
  },
  {
   "cell_type": "markdown",
   "metadata": {},
   "source": [
    "Des précisions sur une fonction comme `np.linspace` peuvent être obtenues avec"
   ]
  },
  {
   "cell_type": "code",
   "execution_count": null,
   "metadata": {},
   "outputs": [],
   "source": [
    "help(np.linspace)"
   ]
  },
  {
   "cell_type": "markdown",
   "metadata": {},
   "source": [
    "**Remarque**: dans les fonctions précédentes on peut ajouter un argument dtype pour contraindre le type du array(int, ou float)."
   ]
  },
  {
   "cell_type": "code",
   "execution_count": null,
   "metadata": {},
   "outputs": [],
   "source": [
    "print(np.ones((2,3), dtype=int)) # array rempli de 1\n",
    "print(np.zeros((4,2), dtype=int)) # array rempli de zéros"
   ]
  },
  {
   "cell_type": "markdown",
   "metadata": {},
   "source": [
    "## Opérations mathématiques sur les array"
   ]
  },
  {
   "cell_type": "code",
   "execution_count": null,
   "metadata": {},
   "outputs": [],
   "source": [
    "A = np.array([[1,0],[0,1]])\n",
    "B = np.array([[2,2],[2,2]])\n",
    "\n",
    "print(A,'\\n')\n",
    "print(B, '\\n')\n",
    "print(A + B,'\\n')\n",
    "print(A - B,'\\n')\n",
    "print(A * B,'\\n') # produit élément par élément\n",
    "print(A / B,'\\n') # division élément par élément\n",
    "print(A @ B,'\\n') # produit matriciel"
   ]
  },
  {
   "cell_type": "markdown",
   "metadata": {},
   "source": [
    "Lorsque les arrays n'ont pas le même format le **broadcasting** est utilisé dans certains cas. Voici un exemple avec la multiplication:"
   ]
  },
  {
   "cell_type": "code",
   "execution_count": null,
   "metadata": {},
   "outputs": [],
   "source": [
    "A = np.array([ [10, 20, 30], [40, 50, 60] ]) # format = (2,3) \n",
    "B = np.array([1, 2, 3]) # format = (3,) = (1,3)\n",
    "C = np.array([[1],[2]]) # format = (2,1)\n",
    "\n",
    "\n",
    "print(A, A.shape, '\\n')\n",
    "print(B, B.shape, '\\n') # on remarque la transformation du format en vecteur colonne!\n",
    "print(C, C.shape, '\\n') \n",
    "\n",
    "print(A*B,'\\n') # chaque ligne est multipliée par B\n",
    "print(A*C,'\\n') # chaque colonne est multipliée par C"
   ]
  },
  {
   "cell_type": "markdown",
   "metadata": {},
   "source": [
    "Si l'on veut e.g. additionner deux arrays et que le broadcasting est impossible on peut utiliser **np.newaxis**:"
   ]
  },
  {
   "cell_type": "code",
   "execution_count": null,
   "metadata": {},
   "outputs": [],
   "source": [
    "A = np.array([1, 2, 3]) # array 1D, shape = (3,)\n",
    "B = np.array([1,2]) # array 1D, shape = (2,)\n",
    "\n",
    "#  B ne peut être broadcasté sur  A, car aucun des deux n'a deux dimensions.\n",
    "# Utilisons à la place newaxis\n",
    "print(A[:,np.newaxis], A[:,np.newaxis].shape, '\\n') # maintenant (3,1)\n",
    "print(B[np.newaxis,:], B[np.newaxis,:].shape, '\\n') # maintenant (1,2)\n",
    "\n",
    "print(A[:,np.newaxis]*B[np.newaxis,:], '\\n') # A est un vecteur colonne, B est un vecteur ligne\n",
    "print(A[np.newaxis,:]*B[:,np.newaxis]) # A est un vecteur ligne, B est un vecteur colonne"
   ]
  },
  {
   "cell_type": "markdown",
   "metadata": {},
   "source": [
    "**Règle général du broadcasting**: Les arrays peuvent être additionnés/soustraits/multipliés/divisés si dans toutes leurs dimensions ils ont les mêmes tailles, ou l'une d'elles a une taille de 1. Si les arrays diffèrent dans le nombre de leurs dimensions, cela n'est requis que pour les dimensions(intérieures) partagées.\n",
    "\n"
   ]
  },
  {
   "cell_type": "markdown",
   "metadata": {},
   "source": [
    "**Plus sur le broadcasting:** \n",
    "- [Documentation](https://docs.scipy.org/doc/numpy-1.13.0/user/basics.broadcasting.html),\n",
    "- [ici aussi](https://jakevdp.github.io/PythonDataScienceHandbook/02.05-computation-on-arrays-broadcasting.html),"
   ]
  },
  {
   "cell_type": "markdown",
   "metadata": {},
   "source": [
    "De nombreuses **procédures mathématiques** peuvent être exécutées sur les arrays numpy."
   ]
  },
  {
   "cell_type": "code",
   "execution_count": null,
   "metadata": {},
   "outputs": [],
   "source": [
    "A =  np.array([3.1, 2.3, 9.1, -2.5, 12.1])\n",
    "print(np.min(A)) # obtenir le minimum\n",
    "print(np.argmin(A)) # obtenir l'indice du minimum \n",
    "print(np.mean(A)) # calcul de la moyenne\n",
    "print(np.sort(A)) # trier (par ordre croissant)"
   ]
  },
  {
   "cell_type": "markdown",
   "metadata": {},
   "source": [
    "**Remarque:** parfois une méthode peut être utilisée à la place d'une fonction, e.g. ``A.mean()``. Personnellement, je préfère utiliser les fonctions car elles \"fonctionnent\" toujours.\n",
    "\n"
   ]
  },
  {
   "cell_type": "markdown",
   "metadata": {},
   "source": [
    "## Indexation "
   ]
  },
  {
   "cell_type": "markdown",
   "metadata": {},
   "source": [
    "**L'indexation sur plusieurs dimensions** peut être faite ainsi:"
   ]
  },
  {
   "cell_type": "code",
   "execution_count": null,
   "metadata": {},
   "outputs": [],
   "source": [
    "X = np.array([ [11, 12, 13], [21, 22, 23] ]) # array 2 x 3\n",
    "print(X)\n",
    "print(X[0,0]) # 1ère ligne, 1ère colonne\n",
    "print(X[0,1]) # 1ère ligne , 2ème colonne\n",
    "print(X[1,2]) # 2ème ligne, 3ème colonne"
   ]
  },
  {
   "cell_type": "code",
   "execution_count": null,
   "metadata": {},
   "outputs": [],
   "source": [
    "X[0] # 1ère ligne"
   ]
  },
  {
   "cell_type": "markdown",
   "metadata": {},
   "source": [
    "Les indices peuvent être **logiques**. L'opérateur logique pour 'et' est `&` et celui 'ou' est `|`."
   ]
  },
  {
   "cell_type": "code",
   "execution_count": null,
   "metadata": {},
   "outputs": [],
   "source": [
    "A = np.array([1,2,3,4,1,2,3,4])\n",
    "B = np.array([3,3,3,3,2,3,2,2])\n",
    "I = (A < 3) & (B == 3) # remarquez qu'on utilise '&' à la place de 'and'\n",
    "print(I)\n",
    "print(A[I],'\\n')\n",
    "\n",
    "# Deux façons d'obtenir les indices tels que == True\n",
    "print(np.where(I)) # Une clause 'where' demande s'il est vrai/True que les éléments vérifient I.\n",
    "print(I.nonzero()) # Car la variable boolèenne associée vaut 1 pour vrai/True et  0 pour faux/False."
   ]
  },
  {
   "cell_type": "code",
   "execution_count": null,
   "metadata": {},
   "outputs": [],
   "source": [
    "I = (A < 3) | (B == 3) # on remarque l'utilisation de '|' au lieu de 'or'\n",
    "print(A[I])"
   ]
  },
  {
   "cell_type": "markdown",
   "metadata": {},
   "source": [
    "## Liste de bonnes choses à connaître"
   ]
  },
  {
   "cell_type": "markdown",
   "metadata": {},
   "source": [
    "**Attributs et méthodes** à connaître:\n",
    "\n",
    "- size / ndim / shape\n",
    "- ravel / reshape / sort\n",
    "- copy"
   ]
  },
  {
   "cell_type": "markdown",
   "metadata": {},
   "source": [
    "**Fonctions** à connaître:\n",
    "\n",
    "- array / empty / zeros / ones / linspace\n",
    "- mean / median / std / var / sum / percentile\n",
    "- min/max, argmin/argmax / fmin / fmax / sort / clip\n",
    "- meshgrid / hstack / vstack / concatenate / tile / insert\n",
    "- allclose / isnan / isinf / isfinite / any / all"
   ]
  },
  {
   "cell_type": "markdown",
   "metadata": {},
   "source": [
    "**Concepts** à connaître:\n",
    "\n",
    "- vue vs. copie\n",
    "- broadcasting\n",
    "- indexation logique"
   ]
  },
  {
   "cell_type": "markdown",
   "metadata": {},
   "source": [
    "**Questions** \n",
    "\n",
    "1. Soit les lignes de code suivantes,"
   ]
  },
  {
   "cell_type": "code",
   "execution_count": null,
   "metadata": {},
   "outputs": [],
   "source": [
    "A = np.array([1,2,3,4,5])\n",
    "B = A[3:]\n",
    "B[:] = 0"
   ]
  },
  {
   "cell_type": "markdown",
   "metadata": {},
   "source": [
    "A quoi est égal `np.sum(A)`?\n",
    "- **A:** 15\n",
    "- **B:** 10\n",
    "- **C:** 6\n",
    "- **D:** 0\n",
    "- **E:** Ne sais pas"
   ]
  },
  {
   "cell_type": "markdown",
   "metadata": {},
   "source": [
    "**Questions** \n",
    "\n",
    "2. Considérons le code suivant qui emploi le broadcasting,"
   ]
  },
  {
   "cell_type": "code",
   "execution_count": null,
   "metadata": {},
   "outputs": [],
   "source": [
    "A = np.array([0, 1, 2])\n",
    "print(A + 5, (A + 5).shape, '\\n')"
   ]
  },
  {
   "cell_type": "markdown",
   "metadata": {},
   "source": [
    "Proposez un code qui donne le même résultat sans broadcasting."
   ]
  },
  {
   "cell_type": "markdown",
   "metadata": {},
   "source": [
    "**Réponse**:"
   ]
  },
  {
   "cell_type": "code",
   "execution_count": null,
   "metadata": {},
   "outputs": [],
   "source": [
    "B = np.full((1, 3), 5)\n",
    "print(B)\n",
    "print(A + B, (A+B).shape)"
   ]
  },
  {
   "cell_type": "markdown",
   "metadata": {},
   "source": [
    "**Questions** \n",
    "\n",
    "3. Même question mais pour:"
   ]
  },
  {
   "cell_type": "code",
   "execution_count": null,
   "metadata": {},
   "outputs": [],
   "source": [
    "M = np.ones((3, 3))\n",
    "print(M, M.shape, '\\n')\n",
    "print(M + A, (M + A).shape, '\\n')"
   ]
  },
  {
   "cell_type": "markdown",
   "metadata": {},
   "source": [
    "**Réponse:**"
   ]
  },
  {
   "cell_type": "code",
   "execution_count": null,
   "metadata": {},
   "outputs": [],
   "source": [
    "B  = np.vstack((A, A, A))\n",
    "print(B)\n",
    "print(M)\n",
    "print(M + B)"
   ]
  },
  {
   "cell_type": "markdown",
   "metadata": {},
   "source": [
    "Même question mais pour:"
   ]
  },
  {
   "cell_type": "code",
   "execution_count": null,
   "metadata": {},
   "outputs": [],
   "source": [
    "M = np.ones((3, 3))\n",
    "print(M, M.shape, '\\n')\n",
    "print(M + A, (M + A).shape, '\\n')"
   ]
  },
  {
   "cell_type": "markdown",
   "metadata": {},
   "source": [
    "## Avancé: mémoire"
   ]
  },
  {
   "cell_type": "markdown",
   "metadata": {},
   "source": [
    "La mémoire est structurée au niveau des lignes"
   ]
  },
  {
   "cell_type": "code",
   "execution_count": null,
   "metadata": {},
   "outputs": [],
   "source": [
    "A = np.array([[3.1,4.2],[5.7,9.3]])\n",
    "B = A.ravel() # une vue de A unidimensionnelle\n",
    "print(A.shape,A[0,:])\n",
    "print(B.shape,B)"
   ]
  },
  {
   "cell_type": "markdown",
   "metadata": {},
   "source": [
    "# Fonction d'utilité"
   ]
  },
  {
   "cell_type": "markdown",
   "metadata": {},
   "source": [
    "Définissons la fonction d'utilité:"
   ]
  },
  {
   "cell_type": "code",
   "execution_count": null,
   "metadata": {},
   "outputs": [],
   "source": [
    "def utilite(q1,q2,alpha=0.50):\n",
    "    return q1**alpha*q2**(1-alpha)\n",
    "\n",
    "# q1,q2 sont des arguments positionnels\n",
    "# alpha est un argument à mot-clé avec la valeur par défaut de 0.50"
   ]
  },
  {
   "cell_type": "markdown",
   "metadata": {},
   "source": [
    "## Affichage"
   ]
  },
  {
   "cell_type": "markdown",
   "metadata": {},
   "source": [
    "Affichage pour un(e) seul(e) appel(évaluation) de la fonction"
   ]
  },
  {
   "cell_type": "code",
   "execution_count": null,
   "metadata": {},
   "outputs": [],
   "source": [
    "q1 = 1\n",
    "q2 = 3\n",
    "u = utilite(q1,q2)\n",
    "\n",
    "# f'texte' est un formattage pour la chaîne de caractères 'texte'\n",
    "# {q1:.3f} affiche la variable q1 comme un flottant 3 chiffres après la virgule\n",
    "\n",
    "print(f'q1 = {q1:.3f}, q2 = {q2:.3f} -> u = {u:.3f}') \n"
   ]
  },
  {
   "cell_type": "markdown",
   "metadata": {},
   "source": [
    "Plusieurs appels/évaluations,"
   ]
  },
  {
   "cell_type": "code",
   "execution_count": null,
   "metadata": {},
   "outputs": [],
   "source": [
    "q1_liste = [2,4,6,8,10,12]\n",
    "q2 = 3\n",
    "\n",
    "for q1 in q1_liste: # boucle sur les éléments de q1_liste\n",
    "    u = utilite(q1,q2,alpha=0.25)\n",
    "    print(f'q1 = {q1:.3f}, q2 = {q2:.3f} -> u = {u:.3f}')"
   ]
  },
  {
   "cell_type": "markdown",
   "metadata": {},
   "source": [
    "Un peu mieux..."
   ]
  },
  {
   "cell_type": "code",
   "execution_count": null,
   "metadata": {},
   "outputs": [],
   "source": [
    "for i,q1 in enumerate(q1_liste): # i est un compteur\n",
    "    u = utilite(q1,q2,alpha=0.25)\n",
    "    print(f'{i:2d}: q1 = {q1:<6.3f} q2 = {q2:<6.3f} -> u = {u:<6.3f}')\n",
    "    \n",
    "# {i:2d}: entier de largeur 2 (aligné à droite)\n",
    "# {q1:<6.3f}: float de largeur 6 et 3 chiffres après la virgule (<, aligné à gauche)"
   ]
  },
  {
   "cell_type": "markdown",
   "metadata": {},
   "source": [
    "Voir [ici](https://www.geeksforgeeks.org/python-output-formatting/) pour plus d'informations sur le formatage des résultats.  Et pour plus d'options ces [exemples](https://www.python-course.eu/python3_formatted_output.php)."
   ]
  },
  {
   "cell_type": "markdown",
   "metadata": {},
   "source": [
    "## Affichage dans un fichier texte"
   ]
  },
  {
   "cell_type": "markdown",
   "metadata": {},
   "source": [
    "Ouverture d'un fichier et écriture dans celui-ci,"
   ]
  },
  {
   "cell_type": "code",
   "execution_count": null,
   "metadata": {},
   "outputs": [],
   "source": [
    "with open('unfichier.txt', 'w') as the_file: # 'w' correspond à 'écrire/write'\n",
    "    \n",
    "    for i, q1 in enumerate(q1_liste):\n",
    "        u = utilite(q1,q2,alpha=0.25)\n",
    "        text = f'{i+10:2d}: q1 = {q1:<6.3f} q2 = {q2:<6.3f} -> u = {u:<6.3f}'\n",
    "        the_file.write(text + '\\n') # \\n fait un saut de ligne\n",
    "\n",
    "# note: la clause 'with' clause assure que le fichier sera fermé par la suite\n"
   ]
  },
  {
   "cell_type": "markdown",
   "metadata": {},
   "source": [
    "Ouverture du fichier, lecture des lignes écrites dans celui-ci, et affichage,"
   ]
  },
  {
   "cell_type": "code",
   "execution_count": null,
   "metadata": {},
   "outputs": [],
   "source": [
    "with open('unfichier.txt', 'r') as the_file: # 'r' correspond à 'lire'\n",
    "    \n",
    "    lines = the_file.readlines()\n",
    "    for line in lines:\n",
    "        print(line,end='') # end='' supprime le saut de ligne supplémentaire ajouté par 'print'"
   ]
  },
  {
   "cell_type": "markdown",
   "metadata": {},
   "source": [
    "**Remarque**: on peut supprimer le fichier par le code suivant,"
   ]
  },
  {
   "cell_type": "code",
   "execution_count": null,
   "metadata": {},
   "outputs": [],
   "source": [
    "import os # importation du module 'os'\n",
    "os.remove(\"unfichier.txt\")"
   ]
  },
  {
   "cell_type": "markdown",
   "metadata": {},
   "source": [
    "**Remarque**: si vous rédigez un document latex vous pouvez alors importer vos résultats issus de Python et les y inclure."
   ]
  },
  {
   "cell_type": "markdown",
   "metadata": {},
   "source": [
    "## Calcul de la fonction d'utilité sur une grille."
   ]
  },
  {
   "cell_type": "markdown",
   "metadata": {},
   "source": [
    "On évalue la fonction d'utilité sur une grille bidimensionnelle avec $n$ éléments sur chaque dimension:"
   ]
  },
  {
   "cell_type": "code",
   "execution_count": null,
   "metadata": {},
   "outputs": [],
   "source": [
    "# a. Réglages\n",
    "n = 100 # nombre d'éléments\n",
    "q_max = 10 # valeur maximale\n",
    "\n",
    "# b. affectation des arrays \n",
    "shape_tuple = (n,n)\n",
    "q1_vals = np.empty(shape_tuple) # affectation d'arrays 2d avec un format/shape=(n,n)\n",
    "q2_vals = np.empty(shape_tuple)\n",
    "u_vals = np.empty(shape_tuple)\n",
    "\n",
    "# Note: q1_vals et q2_vals sont 2d. \n",
    "# Ce n'est pas strictement nécessaire ici, des arrays 1d pouvant suffire dans \n",
    "# la boucle emboîtée et le remplissage de u_vals.\n",
    "# Néanmoins, cela les rend isomorphes avec les grilles utilisées pour \n",
    "# les bord des graphiques, qui requièrent souvent des grilles 2d.\n",
    "\n",
    "# c. remplissage des grilles\n",
    "for i in range(n): # 0,1,...,n-1\n",
    "    for j in range(n): # 0,1,...,n-1\n",
    "        q1_vals[i,j] = (i/(n-1))*q_max # in [0,q_max]\n",
    "        q2_vals[i,j] = (j/(n-1))*q_max # in [0,q_max]\n",
    "        u_vals[i,j] = utilite(q1_vals[i,j],q2_vals[i,j],alpha=0.25)"
   ]
  },
  {
   "cell_type": "markdown",
   "metadata": {},
   "source": [
    "**Alternative**: utiliser des fonctions propres à numpy."
   ]
  },
  {
   "cell_type": "code",
   "execution_count": null,
   "metadata": {},
   "outputs": [],
   "source": [
    "q_vec = np.linspace(0,q_max,n)\n",
    "q1_vals_alt,q2_vals_alt = np.meshgrid(q_vec,q_vec,indexing='ij')\n",
    "print('Dimension de la grille sur q1 (et q2): ', q1_vals_alt.shape) \n",
    "# La grille est 2d. La fonction utilite a besoin de cela pour calculer élément par élément. \n",
    "u_vals_alt = utilite(q1_vals_alt, q2_vals_alt, alpha=0.25)"
   ]
  },
  {
   "cell_type": "markdown",
   "metadata": {},
   "source": [
    "Les **grilles de maillage(mesh grids)** sont un peu difficiles à comprendre mais très importantes pour la créations de graphiques de surface. Pour plus d'information vous pouvez consulter [GeeksforGeeks](https://www.geeksforgeeks.org/numpy-meshgrid-function/), [stack overflow](https://stackoverflow.com/questions/36013063/what-is-the-purpose-of-meshgrid-in-python-numpy) et la [doc numpy](https://numpy.org/doc/stable/reference/generated/numpy.meshgrid.html)"
   ]
  },
  {
   "cell_type": "markdown",
   "metadata": {},
   "source": [
    "On teste si l'on a les mêmes résultats,"
   ]
  },
  {
   "cell_type": "code",
   "execution_count": null,
   "metadata": {},
   "outputs": [],
   "source": [
    "# a. max de la valeur absolue de la différence entre résultats\n",
    "max_abs_diff = np.max(np.abs(u_vals-u_vals_alt))\n",
    "print(max_abs_diff) # proche de zéro\n",
    "\n",
    "# b. test si toutes les valeurs sont proches\n",
    "print(np.allclose(u_vals,u_vals_alt))"
   ]
  },
  {
   "cell_type": "markdown",
   "metadata": {},
   "source": [
    "Les résultats ne sont pas exactement les mêmes en raison de l'arithmétique sur les flottants(c.f. cours précédent)"
   ]
  },
  {
   "cell_type": "markdown",
   "metadata": {},
   "source": [
    "## Graph de la fonction d'utilité"
   ]
  },
  {
   "cell_type": "markdown",
   "metadata": {},
   "source": [
    "importation de modules et instruction pour avoir les figures en ligne"
   ]
  },
  {
   "cell_type": "code",
   "execution_count": null,
   "metadata": {},
   "outputs": [],
   "source": [
    "%matplotlib inline\n",
    "import matplotlib.pyplot as plt # module de base\n",
    "from mpl_toolkits.mplot3d import Axes3D # pour les figure 3d\n",
    "plt.style.use('seaborn-whitegrid') # grille blanche, appropriée en 3d"
   ]
  },
  {
   "cell_type": "markdown",
   "metadata": {},
   "source": [
    "Construction du graphique"
   ]
  },
  {
   "cell_type": "code",
   "execution_count": null,
   "metadata": {},
   "outputs": [],
   "source": [
    "fig = plt.figure() # création de la figure\n",
    "ax = fig.add_subplot(1,1,1,projection='3d') # création d'un système d'axes 3d sur la figure\n",
    "ax.plot_surface(q1_vals,q2_vals,u_vals); # création d'un graph de surface sur le système d'axes\n",
    "\n",
    "# remarque: fig.add_subplot(a,b,c) crée le c'th sous-graph sur une grille de a x b graphs"
   ]
  },
  {
   "cell_type": "markdown",
   "metadata": {},
   "source": [
    "Faire que la figure soit **zoomable** et **interactive** avec widget"
   ]
  },
  {
   "cell_type": "code",
   "execution_count": null,
   "metadata": {},
   "outputs": [],
   "source": [
    "%matplotlib widget\n",
    "fig = plt.figure() # create the figure\n",
    "ax = fig.add_subplot(1,1,1,projection='3d') # création d'un système d'axes 3d sur la figure\n",
    "ax.plot_surface(q1_vals,q2_vals,u_vals); # création d'un graph de surface sur le système d'axes"
   ]
  },
  {
   "cell_type": "markdown",
   "metadata": {},
   "source": [
    "On revient sur l'affichage en ligne"
   ]
  },
  {
   "cell_type": "code",
   "execution_count": null,
   "metadata": {},
   "outputs": [],
   "source": [
    "%matplotlib inline"
   ]
  },
  {
   "cell_type": "markdown",
   "metadata": {},
   "source": [
    "**Extensions**: couleurs, rendre la figure plus agréable visuellement, sauvegarde."
   ]
  },
  {
   "cell_type": "code",
   "execution_count": null,
   "metadata": {},
   "outputs": [],
   "source": [
    "from matplotlib import cm # pour 'colormap', couleurs pour la figure\n",
    "\n",
    "# a. le graphique en cours\n",
    "fig = plt.figure()\n",
    "ax = fig.add_subplot(1,1,1,projection='3d')\n",
    "ax.plot_surface(q1_vals,q2_vals,u_vals,cmap=cm.jet)\n",
    "\n",
    "# b. ajouts de labels\n",
    "ax.set_xlabel('$q_1$')\n",
    "ax.set_ylabel('$q_2$')\n",
    "ax.set_zlabel('$u$')\n",
    "\n",
    "# c. inversion de l'axe des 'x' pour amener l'origine au devant au centre \n",
    "ax.invert_xaxis()\n",
    "\n",
    "# d. sauvegarde\n",
    "fig.tight_layout()\n",
    "fig.savefig('unefigure.pdf') # ici .pdf mais peut être un autre format, e.g., .png "
   ]
  },
  {
   "cell_type": "markdown",
   "metadata": {},
   "source": [
    "**Plus d'options pour le format?** voir ces [exemples](https://matplotlib.org/tutorials/introductory/sample_plots.html#sphx-glr-tutorials-introductory-sample-plots-py)."
   ]
  },
  {
   "cell_type": "markdown",
   "metadata": {},
   "source": [
    "**Une autre variation**: "
   ]
  },
  {
   "cell_type": "code",
   "execution_count": null,
   "metadata": {},
   "outputs": [],
   "source": [
    "# a. graphique en cours\n",
    "fig = plt.figure()\n",
    "ax = fig.add_subplot(1,1,1,projection='3d')\n",
    "ax.plot_wireframe(q1_vals, q2_vals,u_vals,edgecolor='black')\n",
    "\n",
    "# b. ajout de labels\n",
    "ax.set_xlabel('$q_1$')\n",
    "ax.set_ylabel('$q_2$')\n",
    "ax.set_zlabel('$u$')\n",
    "\n",
    "# c. iversion de l'axe des x\n",
    "ax.invert_xaxis()\n",
    "\n",
    "# e. sauvegarde\n",
    "fig.tight_layout()\n",
    "fig.savefig('unefigure_cadre2.png')\n",
    "fig.savefig('unefigure_cadre2.pdf')"
   ]
  },
  {
   "cell_type": "markdown",
   "metadata": {},
   "source": [
    "## Résumé"
   ]
  },
  {
   "cell_type": "markdown",
   "metadata": {},
   "source": [
    "Nous avons traité:\n",
    "\n",
    "1. L'affichage de résultats (visuellement, leurs enregistrement en fichier)\n",
    "2. Les graphiques/figures (matplotlib)"
   ]
  },
  {
   "cell_type": "markdown",
   "metadata": {},
   "source": [
    "**Autres modules pour graphiques:** [seaborn](https://seaborn.pydata.org/) et [bokeh](https://bokeh.pydata.org/en/latest/)."
   ]
  },
  {
   "cell_type": "markdown",
   "metadata": {},
   "source": [
    "# Algorithme 1: boucles simples"
   ]
  },
  {
   "cell_type": "markdown",
   "metadata": {},
   "source": [
    "Rappelons que notre problème est,"
   ]
  },
  {
   "cell_type": "markdown",
   "metadata": {},
   "source": [
    "$$\n",
    "\\begin{align*}\n",
    "V(p_{1},p_{2},R) & = \\max_{q_{1},q_{2}}u(q_{1},q_{2})\\\\\n",
    " & \\text{t.q.}\\\\\n",
    "p_{1}q_{1}+p_{2}q_{2} & \\leq R,\\,\\,\\,p_{1},p_{2},R>0\\\\\n",
    "q_{1},q_{2} & \\geq 0\n",
    "\\end{align*}\n",
    "$$"
   ]
  },
  {
   "cell_type": "markdown",
   "metadata": {},
   "source": [
    "**Idée:** faire une boucle sur une grille $n_1 \\times n_2$ solutions potentielles. Ceci revient à résoudre:\n",
    "\n",
    "$$\n",
    "\\begin{align*}\n",
    "V(p_{1},p_{2},R) & = \\max_{q_{1}\\in Q_1,q_{2} \\in Q_2} q_1^{\\alpha}q_2^{1-\\alpha}\\\\\n",
    " & \\text{t.q.}\\\\\n",
    " Q_1 & = \\left\\{0,\\frac{1}{n_1-1}\\frac{R}{p_1},\\frac{2}{n_1-1}\\frac{R}{p_1},\\dots,\\frac{R}{p_1}\\right\\} \\\\\n",
    " Q_2 & = \\left\\{0,\\frac{1}{n_2-1}\\frac{R}{p_2},\\frac{2}{n_2-1}\\frac{ R}{p_2},\\dots,\\frac{ R}{p_2}\\right\\} \\\\\n",
    "p_{1}q_{1}+p_{2}q_{2} & \\leq R\\\\\n",
    "\\end{align*}\n",
    "$$"
   ]
  },
  {
   "cell_type": "markdown",
   "metadata": {},
   "source": [
    "Une fonction faisant cela est ici,"
   ]
  },
  {
   "cell_type": "code",
   "execution_count": null,
   "metadata": {},
   "outputs": [],
   "source": [
    "def meilleur_choix(alpha,R,p1,p2,n1,n2, affichage_print=True):\n",
    "    \n",
    "    # a. affectation d'arrays\n",
    "    shape_tuple = (n1,n2)\n",
    "    q1_vals = np.empty(shape_tuple)\n",
    "    q2_vals = np.empty(shape_tuple)\n",
    "    u_vals = np.empty(shape_tuple)\n",
    "    \n",
    "    # b. début avec q1=q2=0\n",
    "    q1_meilleur = 0\n",
    "    q2_meilleur = 0\n",
    "    u_meilleur = utilite(0,0,alpha=alpha)\n",
    "    \n",
    "    # c. boucle sur toutes les possibilités\n",
    "    for i in range(n1):\n",
    "        for j in range(n2):\n",
    "            \n",
    "            # i. q1 et q2 (affectation en chaîne)\n",
    "            q1_vals[i,j] = q1 = (i/(n1-1))*R/p1\n",
    "            q2_vals[i,j] = q2 = (j/(n2-1))*R/p2\n",
    "            \n",
    "            # ii. utilité\n",
    "            if p1*q1 + p2*q2 <= R: # u(q1,q2) si dépenses <= revenu \n",
    "                u_vals[i,j] = utilite(q1,q2,alpha=alpha)\n",
    "            else: # u(0,0) si dépenses > revenu\n",
    "                u_vals[i,j] = utilite(0,0,alpha=alpha)\n",
    "            \n",
    "            # iii. test si meilleur choix jusque là\n",
    "            if u_vals[i,j] > u_meilleur:\n",
    "                q1_meilleur = q1_vals[i,j]\n",
    "                q2_meilleur = q2_vals[i,j] \n",
    "                u_meilleur = u_vals[i,j]\n",
    "    \n",
    "    # d. affichage si affichage_print = True\n",
    "    if affichage_print:\n",
    "        print_solution(q1_meilleur,q2_meilleur,u_meilleur,R,p1,p2)\n",
    "\n",
    "    return q1_meilleur,q2_meilleur, u_meilleur,q1_vals,q2_vals,u_vals\n",
    "\n",
    "# fonction pour l'affichage de la solution\n",
    "def print_solution(q1,q2,u,R,p1,p2):\n",
    "    print(f'q1 = {q1:.8f}')\n",
    "    print(f'q2 = {q2:.8f}')\n",
    "    print(f'u  = {u:.8f}')\n",
    "    print(f'R-p1*q1-p2*q2 = {R-p1*q1-p2*q2:.8f}') "
   ]
  },
  {
   "cell_type": "markdown",
   "metadata": {},
   "source": [
    "Appel de la fonction:"
   ]
  },
  {
   "cell_type": "code",
   "execution_count": null,
   "metadata": {},
   "outputs": [],
   "source": [
    "sol = meilleur_choix(alpha=0.25,R=10,p1=1,p2=2,n1=500,n2=400)"
   ]
  },
  {
   "cell_type": "markdown",
   "metadata": {},
   "source": [
    "Graph de la solution:"
   ]
  },
  {
   "cell_type": "code",
   "execution_count": null,
   "metadata": {},
   "outputs": [],
   "source": [
    "%matplotlib widget\n",
    "\n",
    "# a. on déballe les éléments de la solution\n",
    "q1_meilleur,q2_meilleur,u_meilleur,q1_vals,q2_vals,u_vals = sol\n",
    "\n",
    "# b. mise en place du graphique\n",
    "fig = plt.figure(dpi=100,num='')\n",
    "ax = fig.add_subplot(1,1,1,projection='3d')\n",
    "\n",
    "# c. graph 3d de l'utilité pour différents choix\n",
    "ax.plot_surface(q1_vals,q2_vals,u_vals,cmap=cm.jet)\n",
    "ax.invert_xaxis()\n",
    "\n",
    "# d. graph du choix optimal\n",
    "ax.scatter(q1_meilleur,q2_meilleur,u_meilleur,s=50,color='black');"
   ]
  },
  {
   "cell_type": "code",
   "execution_count": null,
   "metadata": {},
   "outputs": [],
   "source": [
    "%matplotlib inline"
   ]
  },
  {
   "cell_type": "markdown",
   "metadata": {},
   "source": [
    "**Exercice**: Trouvez une meilleure solution apportant plus d'utilité et avec un revenu non dépensé , $R-p_1 q_1-p_2 q_2$, moindre."
   ]
  },
  {
   "cell_type": "markdown",
   "metadata": {},
   "source": [
    "**Réponse**"
   ]
  },
  {
   "cell_type": "code",
   "execution_count": null,
   "metadata": {},
   "outputs": [],
   "source": [
    "sol = meilleur_choix(alpha=0.25,R=10,p1=1,p2=2,n1=1000,n2=1000)"
   ]
  },
  {
   "cell_type": "markdown",
   "metadata": {},
   "source": [
    "# Algorithme 2: utilisation de la monotonicité"
   ]
  },
  {
   "cell_type": "markdown",
   "metadata": {},
   "source": [
    "**Idée:** boucle sur une grille de $n$ solutions possibles pour $q_1$ et en supposant que la partie non dépensée en $q_1$ l'est en $q_2$. Ceci est équivalent à résoudre:\n",
    "\n",
    "\n",
    "$$\n",
    "\\begin{align*}\n",
    "V(p_{1},p_{2},R) & = \\max_{q_{1}\\in Q_1} q_1^{\\alpha}q_2^{1-\\alpha}\\\\\n",
    " \\text{t.q.}\\\\\n",
    " Q_1 & = \\left\\{0,\\frac{1}{n-1}\\frac{}{p_1},\\frac{2}{n-1}\\frac{R}{p_1},\\dots,\\frac{R}{p_1}\\right\\} \\\\\n",
    "q_{2} & = \\frac{R-p_{1}q_{1}}{p_2}\\\\\n",
    "\\end{align*}\n",
    "$$"
   ]
  },
  {
   "cell_type": "markdown",
   "metadata": {},
   "source": [
    "Une fonction pour faire cela:"
   ]
  },
  {
   "cell_type": "code",
   "execution_count": null,
   "metadata": {},
   "outputs": [],
   "source": [
    "def meilleur_choix_monotone(alpha,R,p1,p2,n,affichage_print=True):\n",
    "    \n",
    "    # a. affectation d'arrays\n",
    "    shape_tuple = (n)\n",
    "    q1_vals = np.empty(shape_tuple)\n",
    "    q2_vals = np.empty(shape_tuple)\n",
    "    u_vals = np.empty(shape_tuple)\n",
    "    \n",
    "    # b. début partant de q1=q2=0\n",
    "    q1_meilleur = 0\n",
    "    q2_meilleur = 0\n",
    "    u_meilleur = utilite(0,0,alpha)\n",
    "    \n",
    "    # c. boucle sur toutes les possibilités\n",
    "    for i in range(n):\n",
    "        \n",
    "        # i. q1\n",
    "        q1_vals[i] = q1 = i/(n-1)*R/p1\n",
    "        \n",
    "        # ii. q2 résultant\n",
    "        q2_vals[i] = q2 = (R-p1*q1)/p2\n",
    "            \n",
    "        # iii. utilité\n",
    "        u_vals[i] = utilite(q1,q2,alpha)\n",
    "        \n",
    "        if u_vals[i] >= u_meilleur:    \n",
    "            q1_meilleur = q1_vals[i]\n",
    "            q2_meilleur = q2_vals[i] \n",
    "            u_meilleur = u_vals[i]\n",
    "            \n",
    "    # d. affichage\n",
    "    if affichage_print:\n",
    "        print_solution(q1_meilleur,q2_meilleur,u_meilleur,R,p1,p2)   \n",
    "\n",
    "    return q1_meilleur,q2_meilleur,u_meilleur,q1_vals,q2_vals,u_vals"
   ]
  },
  {
   "cell_type": "code",
   "execution_count": null,
   "metadata": {},
   "outputs": [],
   "source": [
    "sol_monotone = meilleur_choix_monotone(alpha=0.25,R=10,p1=1,p2=2,n=1000) "
   ]
  },
  {
   "cell_type": "markdown",
   "metadata": {},
   "source": [
    "Graph de la solution:"
   ]
  },
  {
   "cell_type": "code",
   "execution_count": null,
   "metadata": {},
   "outputs": [],
   "source": [
    "plt.style.use(\"seaborn-whitegrid\")\n",
    "\n",
    "# a. création du graph\n",
    "fig = plt.figure(figsize=(10,4))# la tailles est en pouces...\n",
    "\n",
    "# b. on déballe les éléments de la solution\n",
    "q1_meilleur,q2_meilleur, u_meilleur, q1_vals,q2_vals,u_vals = sol_monotone\n",
    "\n",
    "# c. graph à gauche\n",
    "ax_left = fig.add_subplot(1,2,1)\n",
    "\n",
    "ax_left.plot(q1_vals,u_vals)\n",
    "ax_left.scatter(q1_meilleur,u_meilleur) # ajout de la solution comme un point\n",
    "\n",
    "ax_left.set_title('valeur du choix, $u(q_1,q_2)$')\n",
    "ax_left.set_xlabel('$q_1$')\n",
    "ax_left.set_ylabel('$u(q_1,(R-p_1 q_1)/p_2)$')\n",
    "ax_left.grid(True)\n",
    "\n",
    "# c. graph à droite \n",
    "ax_right = fig.add_subplot(1,2,2)\n",
    "\n",
    "ax_right.plot(q1_vals,q2_vals)\n",
    "ax_right.scatter(q1_meilleur,q2_meilleur)\n",
    "\n",
    "ax_right.set_title('$q_2$ résultant')\n",
    "ax_right.set_xlabel('$q_1$')\n",
    "ax_right.set_ylabel('$q_2$')\n",
    "ax_right.grid(True)"
   ]
  },
  {
   "cell_type": "markdown",
   "metadata": {},
   "source": [
    "# Algorithme 3: utilisation d'un solveur\n"
   ]
  },
  {
   "cell_type": "code",
   "execution_count": null,
   "metadata": {},
   "outputs": [],
   "source": [
    "from scipy import optimize"
   ]
  },
  {
   "cell_type": "markdown",
   "metadata": {},
   "source": [
    "Choix de paramètres:"
   ]
  },
  {
   "cell_type": "code",
   "execution_count": null,
   "metadata": {},
   "outputs": [],
   "source": [
    "alpha = 0.25 # paramètre sur les préférences\n",
    "R = 10 # revenu\n",
    "p1 = 1 # prix du bien 1\n",
    "p2 = 2 # prix du bien 2"
   ]
  },
  {
   "cell_type": "markdown",
   "metadata": {},
   "source": [
    "**Cas 1**: solveur scalaire avec monotonicité."
   ]
  },
  {
   "cell_type": "code",
   "execution_count": null,
   "metadata": {},
   "outputs": [],
   "source": [
    "# a. fonction objectif(à minimiser)\n",
    "def valeur_du_choix(q1,alpha,R,p1,p2):\n",
    "    q2 = (R-p1*q1)/p2\n",
    "    return -utilite(q1,q2,alpha)\n",
    "\n",
    "# b. appel du soleur\n",
    "sol_cas1 = optimize.minimize_scalar(\n",
    "    valeur_du_choix,method='bounded',\n",
    "    bounds=(0,R/p1),args=(alpha,R,p1,p2))\n",
    "\n",
    "# c. on déballe la solution\n",
    "q1 = sol_cas1.x\n",
    "q2 = (R-p1*q1)/p2\n",
    "u = utilite(q1,q2,alpha)\n",
    "print_solution(q1,q2,u,R,p1,p2)"
   ]
  },
  {
   "cell_type": "markdown",
   "metadata": {},
   "source": [
    "**Cas 2**: solveur multidimensionnel sous contraintes."
   ]
  },
  {
   "cell_type": "code",
   "execution_count": null,
   "metadata": {},
   "outputs": [],
   "source": [
    "# a. fonction objectif(à minimiser)\n",
    "def valeur_du_choix(q,alpha,R,p1,p2):\n",
    "    # remarque: q est un vecteur\n",
    "    q1 = q[0]\n",
    "    q2 = q[1]\n",
    "    return -utilite(q1,q2,alpha)\n",
    "\n",
    "# b. contraites (non satisfaites si négatives) et bornes\n",
    "constraintes = ({'type': 'ineq', 'fun': lambda q:  R-p1*q[0]-p2*q[1]})\n",
    "bornes = ((0,R/p1),(0,R/p2))\n",
    "\n",
    "# c. appel du solveur\n",
    "valeurs_initiales = [R/p1/2,R/p2/2]\n",
    "sol_cas2 = optimize.minimize(\n",
    "    valeur_du_choix,valeurs_initiales,args=(alpha,R,p1,p2),\n",
    "    method='SLSQP',bounds=bornes,constraints=constraintes)\n",
    "\n",
    "# d. unpack solution\n",
    "q1 = sol_cas2.x[0]\n",
    "q2 = sol_cas2.x[1]\n",
    "u = utilite(q1,q2,alpha)\n",
    "print_solution(q1,q2,u,R,p1,p2)"
   ]
  },
  {
   "cell_type": "markdown",
   "metadata": {},
   "source": [
    "**Cas 3**: solveur multidimensionnel sans contraintes implémenté via des pénalités."
   ]
  },
  {
   "cell_type": "code",
   "execution_count": null,
   "metadata": {},
   "outputs": [],
   "source": [
    "# a. fonction objectif(à minimiser)\n",
    "def valeur_du_choix(q,alpha,R,p1,p2):\n",
    "    \n",
    "    # i. unpack\n",
    "    q1 = q[0]\n",
    "    q2 = q[1]\n",
    "    \n",
    "    # ii. pénalité\n",
    "    penalite = 0\n",
    "    E = p1*q1+p2*q2 # total des dépenses\n",
    "    if E > R: # dépenses > revenu -> non permis\n",
    "        fac = R/E\n",
    "        penalite += 1000*(E-R) # calcul de la pénalité   \n",
    "        q1 *= fac # on force E=R\n",
    "        q2 *= fac # on force E=R\n",
    "        \n",
    "    return -utilite(q1,q2,alpha) \n",
    "\n",
    "# b. appel du solveur\n",
    "valeurs_initiales = [R/p1/2,R/p2/2]\n",
    "sol_cas3 = optimize.minimize(\n",
    "    valeur_du_choix,valeurs_initiales,method='Nelder-Mead',\n",
    "    args=(alpha,R,p1,p2))\n",
    "\n",
    "# c. unpack solution\n",
    "q1 = sol_cas3.x[0]\n",
    "q2 = sol_cas3.x[1]\n",
    "u = utilite(q1,q2,alpha)\n",
    "print_solution(q1,q2,u,R,p1,p2)"
   ]
  },
  {
   "cell_type": "markdown",
   "metadata": {},
   "source": [
    "**Task:** trouvez l'<font color='red'>**erreur**</font> dans le code de la cellule précédente."
   ]
  },
  {
   "cell_type": "code",
   "execution_count": null,
   "metadata": {},
   "outputs": [],
   "source": [
    "# Code pour la réponse ici:"
   ]
  },
  {
   "cell_type": "markdown",
   "metadata": {},
   "source": [
    "**Réponse:**"
   ]
  },
  {
   "cell_type": "code",
   "execution_count": null,
   "metadata": {},
   "outputs": [],
   "source": [
    "# a. fonction objectif(à minimiser)\n",
    "def valeur_du_choix(q,alpha,R,p1,p2):\n",
    "    \n",
    "    # i. unpack\n",
    "    q1 = q[0]\n",
    "    q2 = q[1]\n",
    "    \n",
    "    # ii. pénalité\n",
    "    penalite = 0\n",
    "    E = p1*q1+p2*q2 # total des dépenses\n",
    "    if E > R: # dépenses > revenu -> non permis\n",
    "        fac = R/E\n",
    "        penalite += 1000*(E-R) # calcul de la pénalité   \n",
    "        q1 *= fac # on force E=R\n",
    "        q2 *= fac # on force E=R\n",
    "        \n",
    "    return -utilite(q1,q2,alpha) + penalite\n",
    "\n",
    "# b. appel du solveur\n",
    "valeurs_initiales = [R/p1/2,R/p2/2]\n",
    "sol_cas3 = optimize.minimize(\n",
    "    valeur_du_choix,valeurs_initiales,method='Nelder-Mead',\n",
    "    args=(alpha,R,p1,p2))\n",
    "\n",
    "# c. unpack solution\n",
    "q1 = sol_cas3.x[0]\n",
    "q2 = sol_cas3.x[1]\n",
    "u = utilite(q1,q2,alpha)\n",
    "print_solution(q1,q2,u,R,p1,p2)"
   ]
  },
  {
   "cell_type": "markdown",
   "metadata": {},
   "source": [
    "# Courbes d'indifférence"
   ]
  },
  {
   "cell_type": "markdown",
   "metadata": {},
   "source": [
    "Rappelons que la courbe d'indifférence traversant le point $(\\tilde{q}_1,\\tilde{q}_2)$ est donné par\n",
    "\n",
    "$$\n",
    "\\big\\{(q_1,q_2) \\in \\mathbb{R}^2_+ \\,|\\, u(q_1,q_2) = u(\\tilde{q}_1,\\tilde{q}_2)\\big\\}\n",
    "$$\n",
    "\n",
    "Pour trouver laqcouqbe d'indifférence on peut fixer une grille pour $q_2$, et obtenir le $q_1$ correspondant lequel est solution de $u(q_1,q_2) = u(\\tilde{q}_1,\\tilde{q}_2)$ pour chaque valeur de $q_2$."
   ]
  },
  {
   "cell_type": "code",
   "execution_count": null,
   "metadata": {},
   "outputs": [],
   "source": [
    "def objectif(q1,q2,alpha,u):\n",
    "    return utilite(q1,q2,alpha)-u \n",
    "    # = 0 et alors sur la courbe d'indifférence d'utilité = u\n",
    "\n",
    "def courbe_indifference(q1_tilde,q2_tilde,alpha,n,q2_max):\n",
    "    \n",
    "    # a. utilité en (q1_tilde, q2_tilde)\n",
    "    u_tilde = utilite(q1_tilde,q2_tilde,alpha)\n",
    "    \n",
    "    # b. allocate numpy arrays\n",
    "    q1_vec = np.empty(n)\n",
    "    q2_vec = np.linspace(1e-8,q2_max,n)\n",
    "    \n",
    "    # c. boucle sur q2\n",
    "    for i,q2 in enumerate(q2_vec):\n",
    "\n",
    "        q1_initial = 0 # valeur initiale\n",
    "        sol = optimize.root(objectif, q1_initial, args=(q2,alpha,u_tilde)) \n",
    "        # optimize.root -> cherche une solution pour objectif = 0 commençant en q1 = q1_initial\n",
    "        \n",
    "        q1_vec[i] = sol.x[0]\n",
    "    \n",
    "    return q1_vec,q2_vec"
   ]
  },
  {
   "cell_type": "markdown",
   "metadata": {},
   "source": [
    "Courbe d'indifférence obtenue et son graph:"
   ]
  },
  {
   "cell_type": "code",
   "execution_count": null,
   "metadata": {},
   "outputs": [],
   "source": [
    "# a. courbe d'indifférence traversant (4,4) for q2 dans [0,10]\n",
    "q2_max = 10\n",
    "q1_vec,q2_vec = courbe_indifference(q1_tilde=4,q2_tilde=4,alpha=0.25,n=100,q2_max=q2_max) \n",
    "\n",
    "# b. graph pour la courbe d'indifférence\n",
    "fig = plt.figure(figsize=(6,6))\n",
    "ax = fig.add_subplot(1,1,1)\n",
    "\n",
    "ax.plot(q1_vec,q2_vec)\n",
    "\n",
    "ax.set_xlabel('$q_1$')\n",
    "ax.set_ylabel('$q_2$')\n",
    "ax.set_xlim([0,q2_max])\n",
    "ax.set_ylim([0,q2_max])\n",
    "ax.grid(True)"
   ]
  },
  {
   "cell_type": "markdown",
   "metadata": {},
   "source": [
    "**Exercice:** trouver la courbe d'indifférence qui traverse $q_1 = 15$ et $q_2 = 3$ avec $\\alpha = 0.5$."
   ]
  },
  {
   "cell_type": "code",
   "execution_count": null,
   "metadata": {},
   "outputs": [],
   "source": [
    "q2_max = 20\n",
    "q1_vec,q2_vec = courbe_indifference(q1_tilde=15,q2_tilde=3,alpha=0.5,n=100,q2_max=q2_max) \n",
    "\n",
    "fig = plt.figure(figsize=(6,6))\n",
    "ax = fig.add_subplot(1,1,1)\n",
    "ax.plot(q1_vec,q2_vec)\n",
    "\n",
    "ax.set_xlabel('$q_1$')\n",
    "ax.set_ylabel('$q_2$')\n",
    "ax.set_xlim([0,q2_max])\n",
    "ax.set_ylim([0,q2_max])\n",
    "ax.grid(True)"
   ]
  },
  {
   "cell_type": "markdown",
   "metadata": {},
   "source": [
    "# Une solution plus élégante"
   ]
  },
  {
   "cell_type": "markdown",
   "metadata": {},
   "source": [
    "> **Remarque:** Cette partie est plus avancée car on utilise un module avec une classe. Elle constitue néanmoins un bon exemple sur la manière de structurer un code pour résoudre et illustrer un modèle."
   ]
  },
  {
   "cell_type": "markdown",
   "metadata": {},
   "source": [
    "**Chargement du module** le module est 'consommateur_module.py' est dans le même dossier que ce notebook."
   ]
  },
  {
   "cell_type": "code",
   "execution_count": null,
   "metadata": {},
   "outputs": [],
   "source": [
    "from consommateur_module import consommateur"
   ]
  },
  {
   "cell_type": "markdown",
   "metadata": {},
   "source": [
    "## MU"
   ]
  },
  {
   "cell_type": "markdown",
   "metadata": {},
   "source": [
    "Nous allons donner naissance à un consommateur appelé MU"
   ]
  },
  {
   "cell_type": "code",
   "execution_count": null,
   "metadata": {},
   "outputs": [],
   "source": [
    "MU = consommateur() # création d'une instance de la classe consommateur appelée MU\n",
    "print(MU)"
   ]
  },
  {
   "cell_type": "markdown",
   "metadata": {},
   "source": [
    "Solution du problème de **MU**."
   ]
  },
  {
   "cell_type": "code",
   "execution_count": null,
   "metadata": {},
   "outputs": [],
   "source": [
    "MU.solve()\n",
    "print(MU)"
   ]
  }
 ],
 "metadata": {
  "interpreter": {
   "hash": "8a894924a8054982a5c897c02f36d019274ceaf42c853aa8fb1f2ffcb169480b"
  },
  "kernelspec": {
   "display_name": "Python 3.8.8 64-bit ('base': conda)",
   "name": "python3"
  },
  "language_info": {
   "codemirror_mode": {
    "name": "ipython",
    "version": 3
   },
   "file_extension": ".py",
   "mimetype": "text/x-python",
   "name": "python",
   "nbconvert_exporter": "python",
   "pygments_lexer": "ipython3",
   "version": "3.8.8"
  },
  "orig_nbformat": 4
 },
 "nbformat": 4,
 "nbformat_minor": 2
}
