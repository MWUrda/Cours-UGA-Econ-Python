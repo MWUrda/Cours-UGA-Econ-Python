{
 "cells": [
  {
   "cell_type": "markdown",
   "metadata": {},
   "source": [
    "# <center> INTRODUCTION À PYTHON POUR L'ÉCONOMIE APPLIQUÉE</center>\n",
    "## <center> DEVOIR 1 : À RENDRE LE LUNDI 26.12.2022</center>\n",
    "### <center> (AIDE POUR UN CHOIX DE QUESTIONS) </center>\n",
    "#### <center>Michal Urdanivia (UGA)</center>\n",
    "#### <center> michal.wong-urdanivia@univ-grenoble-alpes.fr </center>"
   ]
  },
  {
   "cell_type": "markdown",
   "metadata": {},
   "source": [
    "Les fonctions suivantes considèrent le cas de l'estimation par MCO et utilisent numpy et le calcul sur arrays. Vous pouvez vous en servir en essayant de les comprendre et vous reportant à vos cours d'économétrie pour des détails sur les formules(remarque: mes commentaires sont en anglais)"
   ]
  },
  {
   "cell_type": "code",
   "execution_count": 1,
   "metadata": {},
   "outputs": [],
   "source": [
    "import numpy as np \n"
   ]
  },
  {
   "cell_type": "code",
   "execution_count": 2,
   "metadata": {},
   "outputs": [],
   "source": [
    "# Fonction pour calculer l'estimateur \n",
    "# Remarques: \n",
    "# Les arguments sont de series pandas.\n",
    "# La fonction produit un liste d'éléments dont les coefficients: élément d'indice 0\n",
    "\n",
    "def ols_beta_hat(Y, X, s_wgt=None, nocons=False):\n",
    "\n",
    "    n  = len(Y)  \n",
    "    if X.ndim == 1:\n",
    "        K = 1\n",
    "        ind_var = X.name\n",
    "        X = X.values.reshape((n,1))\n",
    "    else:\n",
    "        K = X.shape[1]\n",
    "        ind_var = list(X.columns)  \n",
    "        X = X.values \n",
    "\n",
    "    dep_var = Y.name\n",
    "    Y = Y.values.reshape((n,1))\n",
    "\n",
    "    if s_wgt is None:\n",
    "       sw = 1 \n",
    "       s_wgt_var = 'None'\n",
    "    else:\n",
    "       s_wgt_var = s_wgt.name                             \n",
    "       sw = np.asarray(s_wgt/s_wgt.mean()).reshape((-1,1))\n",
    "\n",
    "    if not nocons:\n",
    "        X = np.concatenate((np.ones((n,1)), X), axis=1) \n",
    "\n",
    "    if K ==1 :\n",
    "        ind_var = ['constant', ind_var]\n",
    "    else : \n",
    "        ind_var = ['constant'] + ind_var   \n",
    "        K += 1\n",
    "\n",
    "    XX  = (sw * X).T @ X\n",
    "    XY  = (sw * X).T @ Y\n",
    "\n",
    "    beta_hat = np.linalg.solve(XX, XY)\n",
    "    ehat    = X @ beta_hat\n",
    "    score_i   = sw * X * (Y - ehat)\n",
    "    return[beta_hat, ehat, XX, XY, X, Y, n, K, ind_var, dep_var, sw, score_i, s_wgt_var]\n",
    "\n",
    "\n"
   ]
  },
  {
   "cell_type": "markdown",
   "metadata": {},
   "source": [
    "**Application sur données**: le code suivant télécharge les données utilisées qui correspondent à un article de 1995 [\"\"Using Geographic Variation in College Proximity to Estimate the Return to Schooling.\"](https://davidcard.berkeley.edu/papers/geo_var_schooling.pdf).  "
   ]
  },
  {
   "cell_type": "code",
   "execution_count": 3,
   "metadata": {},
   "outputs": [],
   "source": [
    "import pandas as pd\n",
    "import statsmodels.api as sm"
   ]
  },
  {
   "cell_type": "code",
   "execution_count": 4,
   "metadata": {},
   "outputs": [
    {
     "name": "stdout",
     "output_type": "stream",
     "text": [
      "<class 'pandas.core.frame.DataFrame'>\n",
      "Int64Index: 3613 entries, 0 to 3612\n",
      "Data columns (total 52 columns):\n",
      " #   Column    Non-Null Count  Dtype  \n",
      "---  ------    --------------  -----  \n",
      " 0   id        3613 non-null   int16  \n",
      " 1   nearc2    3613 non-null   int8   \n",
      " 2   nearc4    3613 non-null   int8   \n",
      " 3   nearc4a   3613 non-null   int8   \n",
      " 4   nearc4b   3613 non-null   int8   \n",
      " 5   ed76      3613 non-null   int8   \n",
      " 6   ed66      3613 non-null   int8   \n",
      " 7   age76     3613 non-null   int8   \n",
      " 8   daded     3613 non-null   float32\n",
      " 9   nodaded   3613 non-null   int8   \n",
      " 10  momed     3613 non-null   float32\n",
      " 11  nomomed   3613 non-null   int8   \n",
      " 12  weight    3613 non-null   int32  \n",
      " 13  momdad14  3613 non-null   int8   \n",
      " 14  sinmom14  3613 non-null   int8   \n",
      " 15  step14    3613 non-null   int8   \n",
      " 16  reg661    3613 non-null   int8   \n",
      " 17  reg662    3613 non-null   int8   \n",
      " 18  reg663    3613 non-null   int8   \n",
      " 19  reg664    3613 non-null   int8   \n",
      " 20  reg665    3613 non-null   int8   \n",
      " 21  reg666    3613 non-null   int8   \n",
      " 22  reg667    3613 non-null   int8   \n",
      " 23  reg668    3613 non-null   int8   \n",
      " 24  reg669    3613 non-null   int8   \n",
      " 25  south66   3613 non-null   int8   \n",
      " 26  work76    3613 non-null   int8   \n",
      " 27  work78    3613 non-null   int8   \n",
      " 28  lwage76   3010 non-null   float32\n",
      " 29  lwage78   2639 non-null   float32\n",
      " 30  famed     3613 non-null   int8   \n",
      " 31  black     3613 non-null   int8   \n",
      " 32  smsa76r   3613 non-null   int8   \n",
      " 33  smsa78r   3319 non-null   float64\n",
      " 34  reg76r    3613 non-null   int8   \n",
      " 35  reg78r    3319 non-null   float64\n",
      " 36  reg80r    3227 non-null   float64\n",
      " 37  smsa66r   3613 non-null   int8   \n",
      " 38  wage76    3017 non-null   float64\n",
      " 39  wage78    2656 non-null   float64\n",
      " 40  wage80    2520 non-null   float64\n",
      " 41  noint78   3613 non-null   int8   \n",
      " 42  noint80   3613 non-null   int8   \n",
      " 43  enroll76  3613 non-null   int8   \n",
      " 44  enroll78  3317 non-null   float64\n",
      " 45  enroll80  3220 non-null   float64\n",
      " 46  kww       3543 non-null   float64\n",
      " 47  iq        2470 non-null   float64\n",
      " 48  marsta76  3604 non-null   float64\n",
      " 49  marsta78  3319 non-null   float64\n",
      " 50  marsta80  3227 non-null   float64\n",
      " 51  libcrd14  3598 non-null   float64\n",
      "dtypes: float32(4), float64(14), int16(1), int32(1), int8(32)\n",
      "memory usage: 613.9 KB\n"
     ]
    }
   ],
   "source": [
    "card1995_df = pd.read_stata(\"https://www.ssc.wisc.edu/~bhansen/econometrics/Card1995.dta\")\n",
    "card1995_df.info()   # Affichage d'informations.\n"
   ]
  },
  {
   "cell_type": "code",
   "execution_count": 5,
   "metadata": {},
   "outputs": [
    {
     "data": {
      "text/plain": [
       "(3017, 52)"
      ]
     },
     "execution_count": 5,
     "metadata": {},
     "output_type": "execute_result"
    }
   ],
   "source": [
    "card1995_df = card1995_df.dropna(subset=['wage76', 'ed76', 'black', 'smsa76r', 'south66', 'age76', 'nearc4'])\n",
    "card1995_df.shape"
   ]
  },
  {
   "cell_type": "code",
   "execution_count": 6,
   "metadata": {},
   "outputs": [],
   "source": [
    "card1995_df['exper'] = card1995_df['age76'] - 16-6\n",
    "card1995_df['expersq100'] = (card1995_df['age76'] - 16-6)**2/100\n",
    "card1995_df['lwage76'] = np.log(card1995_df.wage76)\n",
    "X = card1995_df[['ed76', 'exper', 'expersq100', 'black', 'smsa76r', 'south66']]\n",
    "Y = card1995_df['lwage76']\n",
    "Z = card1995_df['nearc4'] "
   ]
  },
  {
   "cell_type": "code",
   "execution_count": 7,
   "metadata": {},
   "outputs": [
    {
     "data": {
      "text/plain": [
       "array([[ 5.51386287],\n",
       "       [ 0.03447452],\n",
       "       [ 0.03805097],\n",
       "       [ 0.04525096],\n",
       "       [-0.18826047],\n",
       "       [ 0.17610176],\n",
       "       [-0.1020169 ]])"
      ]
     },
     "execution_count": 7,
     "metadata": {},
     "output_type": "execute_result"
    }
   ],
   "source": [
    "# Application de la fonction\n",
    "coeffs = ols_beta_hat(Y, X)\n",
    "coeffs[0]"
   ]
  },
  {
   "cell_type": "code",
   "execution_count": 8,
   "metadata": {},
   "outputs": [],
   "source": [
    "# Comparaison avec Statsmodels"
   ]
  },
  {
   "cell_type": "code",
   "execution_count": 9,
   "metadata": {},
   "outputs": [
    {
     "name": "stdout",
     "output_type": "stream",
     "text": [
      "                            OLS Regression Results                            \n",
      "==============================================================================\n",
      "Dep. Variable:                lwage76   R-squared:                       0.261\n",
      "Model:                            OLS   Adj. R-squared:                  0.259\n",
      "Method:                 Least Squares   F-statistic:                     177.1\n",
      "Date:                Thu, 24 Nov 2022   Prob (F-statistic):          1.95e-193\n",
      "Time:                        11:41:39   Log-Likelihood:                -1459.0\n",
      "No. Observations:                3017   AIC:                             2932.\n",
      "Df Residuals:                    3010   BIC:                             2974.\n",
      "Df Model:                           6                                         \n",
      "Covariance Type:            nonrobust                                         \n",
      "==============================================================================\n",
      "                 coef    std err          t      P>|t|      [0.025      0.975]\n",
      "------------------------------------------------------------------------------\n",
      "const          5.5139      0.043    127.565      0.000       5.429       5.599\n",
      "ed76           0.0345      0.003     12.147      0.000       0.029       0.040\n",
      "exper          0.0381      0.002     16.364      0.000       0.033       0.043\n",
      "expersq100     0.0453      0.014      3.210      0.001       0.018       0.073\n",
      "black         -0.1883      0.019     -9.833      0.000      -0.226      -0.151\n",
      "smsa76r        0.1761      0.016     10.816      0.000       0.144       0.208\n",
      "south66       -0.1020      0.016     -6.223      0.000      -0.134      -0.070\n",
      "==============================================================================\n",
      "Omnibus:                      374.281   Durbin-Watson:                   1.856\n",
      "Prob(Omnibus):                  0.000   Jarque-Bera (JB):             1115.066\n",
      "Skew:                          -0.650   Prob(JB):                    7.36e-243\n",
      "Kurtosis:                       5.680   Cond. No.                         91.4\n",
      "==============================================================================\n",
      "\n",
      "Notes:\n",
      "[1] Standard Errors assume that the covariance matrix of the errors is correctly specified.\n"
     ]
    }
   ],
   "source": [
    "import statsmodels.api as sm\n",
    "model = sm.OLS(Y, sm.add_constant(X))\n",
    "results = model.fit()\n",
    "print(results.summary())"
   ]
  },
  {
   "cell_type": "code",
   "execution_count": 10,
   "metadata": {},
   "outputs": [],
   "source": [
    "# Fonction pour calculer la variance dans le cas hétéroscédastique sans clustering\n",
    "# Remarques: \n",
    "# Les arguments sont l'output de la fonction pour estimer\n",
    "def ols_vcov_hc(ols_beta_hat):\n",
    "\n",
    "    ehat = ols_beta_hat[1]\n",
    "    XX = ols_beta_hat[2]\n",
    "    Y = ols_beta_hat[5]\n",
    "    n = ols_beta_hat[6]\n",
    "    K = ols_beta_hat[7]\n",
    "    sw = ols_beta_hat[10]\n",
    "    score_i=   ols_beta_hat[11]    # n x K m\n",
    " \n",
    "     \n",
    "     # Calculate heteroscedastic robust variance.\n",
    "    fsc = n/(n-K)                   # Finite\n",
    "    omega = fsc*(score_i.T @ score_i) # K X \n",
    "     \n",
    "    iXX = np.linalg.inv(XX)\n",
    "    vcov_beta_hat = iXX @ omega @ iXX.T\n",
    "\n",
    "\n",
    "    vcov_type='HC'\n",
    "\n",
    "    return [vcov_beta_hat, vcov_type]"
   ]
  },
  {
   "cell_type": "code",
   "execution_count": 11,
   "metadata": {},
   "outputs": [],
   "source": [
    "# Application\n",
    "\n",
    "vcov = ols_vcov_hc(coeffs)\n"
   ]
  },
  {
   "cell_type": "code",
   "execution_count": 12,
   "metadata": {},
   "outputs": [
    {
     "data": {
      "text/plain": [
       "array([0.04407436, 0.00282983, 0.0024297 , 0.01455765, 0.01899232,\n",
       "       0.01592654, 0.01659616])"
      ]
     },
     "execution_count": 12,
     "metadata": {},
     "output_type": "execute_result"
    }
   ],
   "source": [
    "# Écart-types estimés\n",
    "std = np.sqrt(np.diag(ols_vcov_hc(coeffs)[0]))\n",
    "std"
   ]
  }
 ],
 "metadata": {
  "kernelspec": {
   "display_name": "Python 3.8.8 ('base')",
   "language": "python",
   "name": "python3"
  },
  "language_info": {
   "codemirror_mode": {
    "name": "ipython",
    "version": 3
   },
   "file_extension": ".py",
   "mimetype": "text/x-python",
   "name": "python",
   "nbconvert_exporter": "python",
   "pygments_lexer": "ipython3",
   "version": "3.8.8"
  },
  "orig_nbformat": 4,
  "vscode": {
   "interpreter": {
    "hash": "8a894924a8054982a5c897c02f36d019274ceaf42c853aa8fb1f2ffcb169480b"
   }
  }
 },
 "nbformat": 4,
 "nbformat_minor": 2
}
