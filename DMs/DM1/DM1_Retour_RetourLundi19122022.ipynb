{
 "cells": [
  {
   "cell_type": "markdown",
   "metadata": {},
   "source": [
    "# <center> INTRODUCTION À PYTHON POUR L'ÉCONOMIE APPLIQUÉE</center>\n",
    "## <center> DEVOIR 1 : À RENDRE LE LUNDI 19.12.2023</center>\n",
    "#### <center>Michal Urdanivia (UGA)</center>\n",
    "#### <center> michal.wong-urdanivia@univ-grenoble-alpes.fr </center>"
   ]
  },
  {
   "cell_type": "markdown",
   "metadata": {},
   "source": [
    "### <center>PROBLÈME DU CONSOMMATEUR </center>"
   ]
  },
  {
   "cell_type": "markdown",
   "metadata": {},
   "source": [
    "Considérons le panier à $M$ biens, $q=(q_1,q_2,\\dots,q_M)$, et le **problème de maximisation de l'utilité** avec un revenu exogène $R$, et le vecteur de prix $p=(p_1,p_2,\\dots,p_M)$,\n",
    "\n",
    "$$\n",
    "\\begin{align*}\n",
    "V(p_{1},p_{2},\\dots,,p_{M},I) & = \\max_{q_{1},q_{2},\\dots,q_M} q_{1}^{\\alpha_1} q_{2}^{\\alpha_2} \\dots q_{M}^{\\alpha_M} \\\\\n",
    " & \\text{s.t.}\\\\\n",
    "DT & = \\sum_{i=1}^{M}p_{i}q_{i} \\leq R,\\,\\,\\,p_{1},p_{2},\\dots,p_M,R>0\\\\\n",
    "q_{1},q_{2},\\dots,x_M & \\geq 0\n",
    "\\end{align*}\n",
    "$$"
   ]
  },
  {
   "cell_type": "markdown",
   "metadata": {},
   "source": [
    "**Problème:** résoudre ce problème dans le cas de paniers à 5 biens pour des paramètres $ \\alpha = (\\alpha_1,\\alpha_2, \\dots,\\alpha_5)$, des prix, et le revenu, arbitraires:\n",
    "\n",
    "1. Dans un premier temps utilisez une boucle.\n",
    "\n",
    "2. Et ensuite utilisez un solveur numérique"
   ]
  },
  {
   "cell_type": "markdown",
   "metadata": {},
   "source": [
    "**Remarques**:\n",
    "\n",
    "Dans ce problème on connaît les solutions optimales qui sont données par:\\n\",\n",
    "$$\n",
    "\\begin{align*}\n",
    "q_i^* &= \\frac{\\alpha_iR}{p_i}, \\quad i = 1, \\ldots, M.\n",
    "\\end{align*}\n",
    "$$\n",
    "\n"
   ]
  },
  {
   "cell_type": "markdown",
   "metadata": {},
   "source": [
    "Vous pouvez utiliser les fonctions suivantes:"
   ]
  },
  {
   "cell_type": "code",
   "execution_count": 4,
   "metadata": {},
   "outputs": [],
   "source": [
    "def utilite_fn(q,alpha):\n",
    "    # assurez vous que vous comprenez ce que fait la fonction\n",
    "\n",
    "    u = 1\n",
    "    for q_now,alpha_now in zip(q,alpha):\n",
    "        u *= np.max(q_now,0)**alpha_now\n",
    "    return u\n",
    "    \n",
    "def depenses_fn(q,p):\n",
    "    # assurez vous que vous comprenez ce que fait la fonction\n",
    "\n",
    "    DT = 0\n",
    "    for x_now,p_now in zip(q,p):\n",
    "        DT += p_now*x_now\n",
    "    return DT\n",
    "\n",
    "def affichage_solution(q,alpha,R,p):\n",
    "    # vous pouvez utiliser cette fonction\n",
    "    \n",
    "    # a. valeurs de x.\n",
    "    text = 'q = ['\n",
    "    for q_now in q:\n",
    "        text += f'{q_now:.2f} '\n",
    "    text += f']\\n'\n",
    "    \n",
    "    # b. utilité\n",
    "    u = utilite_fn(q,alpha)    \n",
    "    text += f'utilité = {u:.3f}\\n'\n",
    "    \n",
    "    # c. dépenses vs revenu\n",
    "    DT =  depenses_fn(q,p)\n",
    "    text += f'DT = {DT:.2f} <= R = {R:.2f}\\n'\n",
    "    \n",
    "    # d. parts dans les dépenses\n",
    "    dt = p*q/R\n",
    "    text += 'parts dans les des dépenses = ['\n",
    "    for dt_now in dt:\n",
    "        text += f'{dt_now:.2f} '\n",
    "    text += f']'        \n",
    "        \n",
    "    print(text)"
   ]
  },
  {
   "cell_type": "code",
   "execution_count": 1,
   "metadata": {},
   "outputs": [],
   "source": [
    "import numpy as np"
   ]
  },
  {
   "cell_type": "markdown",
   "metadata": {},
   "source": [
    "Vous pouvez retenir les valeurs suivantes des paramètres:"
   ]
  },
  {
   "cell_type": "code",
   "execution_count": 5,
   "metadata": {},
   "outputs": [],
   "source": [
    "alpha = np.ones(5)/5\n",
    "p = np.array([1,2,3,4,5])\n",
    "R = 10"
   ]
  },
  {
   "cell_type": "markdown",
   "metadata": {},
   "source": [
    "**Commentaire sur les valeurs des paramètres**:\n",
    "\n",
    "- Ici on $\\alpha_i = 1/5$ pour $i=1, \\ldots, M,$\n",
    "- on a aussi les prix $p = (p_1, p_2, p_3, p_4, p_5) = (1, 2, 3, 4, 5)$,\n",
    "- et comme $R = 10$,\n",
    "les solutions optimales sont:\n",
    "$$\n",
    "\\begin{align*}\n",
    "q_1^* &= \\frac{\\alpha_1R}{p_1} = 2,\\\\\n",
    "q_2^* &= \\frac{\\alpha_2R}{p_2} = 1,\\\\\n",
    "q_3^* &= \\frac{\\alpha_3R}{p_3} = 2/3,\\\\\n",
    "q_4^* &= \\frac{\\alpha_4R}{p_4} = 1/2,\\\\ \n",
    "q_5^* &= \\frac{\\alpha_5R}{p_5}= 2/5,\n",
    "\\end{align*}\n",
    "$$\n"
   ]
  },
  {
   "cell_type": "code",
   "execution_count": null,
   "metadata": {},
   "outputs": [],
   "source": [
    "# Vos réponses ici"
   ]
  },
  {
   "cell_type": "code",
   "execution_count": 10,
   "metadata": {},
   "outputs": [
    {
     "data": {
      "text/plain": [
       "0.6666666666666666"
      ]
     },
     "execution_count": 10,
     "metadata": {},
     "output_type": "execute_result"
    }
   ],
   "source": [
    "(2/3)"
   ]
  },
  {
   "cell_type": "markdown",
   "metadata": {},
   "source": [
    "1. Solution avec une boucle"
   ]
  },
  {
   "cell_type": "code",
   "execution_count": 6,
   "metadata": {},
   "outputs": [
    {
     "name": "stdout",
     "output_type": "stream",
     "text": [
      "q = [2.14 1.07 0.71 0.36 0.43 ]\n",
      "utilité = 0.758\n",
      "DT = 10.00 <= R = 10.00\n",
      "parts dans les des dépenses = [0.21 0.21 0.21 0.14 0.21 ]\n"
     ]
    }
   ],
   "source": [
    "# Solution avec boucle\n",
    "\n",
    "N = 15 # nombre de points dans chaque dimension\n",
    "fac = np.linspace(0,1,N) # vecteur entre 0 et 1\n",
    "x_max = R/p # maximum de x de sorte que DT = R\n",
    "\n",
    "u_best = -np.inf\n",
    "x_best = np.empty(5)\n",
    "for x1 in fac:\n",
    "   for x2 in fac:\n",
    "        for x3 in fac:\n",
    "            for x4 in fac:\n",
    "                for x5 in fac:\n",
    "                    x = np.array([])*x_max # à compléter\n",
    "                    DT = depenses_fn(x,p)\n",
    "                    if DT <= R:\n",
    "                        u_now = utilite_fn() # à compléter\n",
    "                        if u_now > u_best:\n",
    "                            x_best = x\n",
    "                            u_best = u_now\n",
    "\n",
    "affichage_solution(x_best,alpha,R,p)"
   ]
  }
 ],
 "metadata": {
  "interpreter": {
   "hash": "8a894924a8054982a5c897c02f36d019274ceaf42c853aa8fb1f2ffcb169480b"
  },
  "kernelspec": {
   "display_name": "Python 3.8.8 64-bit ('base': conda)",
   "name": "python3"
  },
  "language_info": {
   "codemirror_mode": {
    "name": "ipython",
    "version": 3
   },
   "file_extension": ".py",
   "mimetype": "text/x-python",
   "name": "python",
   "nbconvert_exporter": "python",
   "pygments_lexer": "ipython3",
   "version": "3.8.8"
  },
  "toc-autonumbering": true
 },
 "nbformat": 4,
 "nbformat_minor": 4
}
