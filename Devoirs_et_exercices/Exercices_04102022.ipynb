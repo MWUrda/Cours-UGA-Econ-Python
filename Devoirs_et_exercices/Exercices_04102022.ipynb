{
 "cells": [
  {
   "cell_type": "markdown",
   "metadata": {},
   "source": [
    "# <center> INTRODUCTION À PYTHON POUR L'ÉCONOMIE APPLIQUÉE</center>\n",
    "## <center> EXERCICES : 04.10.2022</center>\n",
    "#### <center>Michal Urdanivia (UGA)</center>\n",
    "#### <center> michal.wong-urdanivia@univ-grenoble-alpes.fr </center>"
   ]
  },
  {
   "cell_type": "markdown",
   "metadata": {},
   "source": [
    "### <center> INFORMATIONS </center>\n",
    "\n",
    "- Les exercices suivants portent sur le contenu du premier au troisième cours. Il sont en partie issus de l'examen de session 1 de l'année 2021-2022.\n",
    "\n",
    "- Pour chaque réponse vous devez utiliser un code Python, car les phrases textuelles(par exemple dans des cellules `markdown` comme celle-ci) ne sont pas des réponses même si vous pouvez les utiliser pour commenter vos réponses.\n",
    "\n",
    "- Il est recommandé de commenter votre code dans les cellules de code elles-mêmes(avec le symbole $\\#$ précédant le commentaire).\n",
    "\n",
    "- J'ai laissé pour certaines questions des cellules de code incomplètes que vous pouvez utiliser si vous le souhaitez mais il faut les compléter afin d'obtenir les réponses affichées. Mais si vous préférez faire votre propre code de A à Z, supprimez les."
   ]
  },
  {
   "cell_type": "markdown",
   "metadata": {},
   "source": [
    "### <center> OPTIMISATION D'UNE FONCTION </center>\n",
    "\n",
    "\n",
    "On considère le problème suivant:\n",
    "\n",
    "$$\n",
    "\\min_{x\\in\\mathbb{R}} f(x)\n",
    "$$\n",
    "\n",
    "avec $ f(x) = x^2 - 8x $.\n"
   ]
  },
  {
   "cell_type": "markdown",
   "metadata": {},
   "source": [
    "**Question 1:**\n",
    "\n",
    "Quel est l'optimum de cette fonction?(il n'est pas demandé ici de coder mais de résoudre le problème analytiquement)"
   ]
  },
  {
   "cell_type": "markdown",
   "metadata": {},
   "source": [
    "**Question 2:**\n",
    "\n",
    "Résoudre ce problème en utilisant une boucle(c.f., devoir 1). Affichez vos résultats(valeur de la fonction, et de \n",
    "l'argument qui la minimise)"
   ]
  },
  {
   "cell_type": "markdown",
   "metadata": {},
   "source": [
    "**Question 3:**\n",
    "\n",
    "Résoudre ce problème en utilisant `optimize()` de scipy. Affichez vos résultats(valeur de la fonction, et de l'argument qui la minimise)"
   ]
  },
  {
   "cell_type": "markdown",
   "metadata": {},
   "source": [
    "**Question 4:**\n",
    "\n",
    "Représentez graphiquement vos solutions."
   ]
  }
 ],
 "metadata": {
  "kernelspec": {
   "display_name": "Python 3.8.8 ('base')",
   "language": "python",
   "name": "python3"
  },
  "language_info": {
   "name": "python",
   "version": "3.8.8"
  },
  "orig_nbformat": 4,
  "vscode": {
   "interpreter": {
    "hash": "8a894924a8054982a5c897c02f36d019274ceaf42c853aa8fb1f2ffcb169480b"
   }
  }
 },
 "nbformat": 4,
 "nbformat_minor": 2
}
