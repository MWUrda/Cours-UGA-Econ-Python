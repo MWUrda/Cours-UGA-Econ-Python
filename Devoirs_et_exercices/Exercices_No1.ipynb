{
 "cells": [
  {
   "cell_type": "markdown",
   "metadata": {},
   "source": [
    "# <center> INTRODUCTION À PYTHON POUR L'ÉCONOMIE APPLIQUÉE</center>\n",
    "## <center> EXERCICES : No 1</center>\n",
    "#### <center>Michal Urdanivia (UGA)</center>\n",
    "#### <center> michal.wong-urdanivia@univ-grenoble-alpes.fr </center>"
   ]
  },
  {
   "cell_type": "markdown",
   "metadata": {},
   "source": [
    "### <center> INFORMATIONS </center>\n",
    "\n",
    "- Les exercices suivants portent sur le contenu du premier cours. Il sont en partie issus de l'examen de session 1 de l'année 2021-2022 d'un cours introductif en L3.\n",
    "\n",
    "- Pour chaque réponse vous devez utiliser un code Python, car les phrases textuelles(par exemple dans des cellules `markdown` comme celle-ci) ne sont pas des réponses même si vous pouvez les utiliser pour commenter vos réponses.\n",
    "\n",
    "**Exemple**: pour donner le `type` d'un objet python il faut donner la commande qui vous permet de l'afficher dans une cellule de code Python. \n",
    "\n",
    "- Il est aussi recommandé de commenter votre code dans les cellules de code elles-mêmes(avec le symbole $\\#$ précédant le commentaire).\n",
    "\n",
    "- J'ai laissé pour certaines questions des cellules de code incomplètes que vous pouvez utiliser si vous le souhaitez mais il faut les compléter afin d'obtenir les réponses affichées. Mais si vous préférez faire votre propre code de A à Z, supprimez les."
   ]
  },
  {
   "cell_type": "markdown",
   "metadata": {},
   "source": [
    "### <center> CALCUL D'UNE MOYENNE DE NOTES </center>\n",
    "Le but dans cette partie est d'aboutir à la construction d'une fonction qui permette de calculer la moyenne des notes d'étudiants suivante un cours. L'évaluation de chaque étudiant, qui caractérisé par un numéro(son identifiant), est basée sur: \n",
    "\n",
    "- la meilleure note parmi de devoirs rendus.\n",
    "- la note d'un devoir surveillé.\n",
    "\n"
   ]
  },
  {
   "cell_type": "markdown",
   "metadata": {},
   "source": [
    "On commence par considérer le cas d'un étudiant. Celui-ci est donc caractérisé par:\n",
    "\n",
    "- sont identifiant, `ident`.\n",
    "- sa note premier devoir, ` DM1 `\n",
    "- sa note au deuxième devoir, ` DM2 `\n",
    "- sa note au devoir surveillé, ` DS `"
   ]
  },
  {
   "cell_type": "markdown",
   "metadata": {},
   "source": [
    "Pour ce premier étudiant nous enregistrons ses \"données\"(identifiant et notes) sous la forme suivante:"
   ]
  },
  {
   "cell_type": "code",
   "execution_count": 11,
   "metadata": {},
   "outputs": [],
   "source": [
    "etudiant_1 = {'ident': '1', 'DM1': 15.5, 'DM2': 12.0, 'DS' : 12}"
   ]
  },
  {
   "cell_type": "markdown",
   "metadata": {},
   "source": [
    "Questions 1: \n",
    "\n",
    "- Donnez le type de l'objet `etudiant_1`\n",
    "- Donnez le nombre d'élément de cet objet\n",
    "- Donnez les types de chaque élément de cet objet(pour cette question vous devez extraire chaque élément)\n",
    "- Conseil: utilisez `print()`pour afficher vos résultats.\n"
   ]
  },
  {
   "cell_type": "markdown",
   "metadata": {},
   "source": [
    "**Réponses:**"
   ]
  },
  {
   "cell_type": "code",
   "execution_count": 6,
   "metadata": {},
   "outputs": [
    {
     "name": "stdout",
     "output_type": "stream",
     "text": [
      "le type : <class 'dict'>\n",
      "nombre d'éléments: 4\n",
      "types de chaque élément : <class 'str'> <class 'float'> <class 'float'> <class 'int'>\n"
     ]
    }
   ],
   "source": [
    "# Votre code/réponse ici"
   ]
  },
  {
   "cell_type": "markdown",
   "metadata": {},
   "source": [
    "**Question 2:**\n",
    "\n",
    "Convertissez:\n",
    "\n",
    "- tous les éléments de l'objet  `ètudiant_1` qui correspondent à des notes en éléments du type  `float` quand cela est nécessaire(lorsqu'ils ne sont pas déjà de ce type), \n",
    "- et l'identifiant en élément du type `int`. \n",
    "\n",
    "Autrement dit, vous conservez le même objet `ètudiant_1` avec le même nombre d'éléments mais leurs types sont modifiés."
   ]
  },
  {
   "cell_type": "markdown",
   "metadata": {},
   "source": [
    "**Réponse:**"
   ]
  },
  {
   "cell_type": "code",
   "execution_count": 13,
   "metadata": {},
   "outputs": [
    {
     "name": "stdout",
     "output_type": "stream",
     "text": [
      "{'ident': 1, 'DM1': 15.5, 'DM2': 12.0, 'DS': 12.0}\n"
     ]
    }
   ],
   "source": [
    "# Votre code/réponse ici:\n",
    "\n",
    "\n"
   ]
  },
  {
   "cell_type": "markdown",
   "metadata": {},
   "source": [
    "**Question 3:**\n",
    "\n",
    "Optimiser le code précédent avec une boucle sur les élément de l'objet `étudiant_2` qui est du même type que l'objet `étudiant_1` mais avec de valeurs différentes pour ses éléments(identifiant et notes):"
   ]
  },
  {
   "cell_type": "code",
   "execution_count": 14,
   "metadata": {},
   "outputs": [
    {
     "name": "stdout",
     "output_type": "stream",
     "text": [
      "<class 'dict'>\n",
      "4\n",
      "<class 'float'>\n",
      "<class 'int'>\n",
      "<class 'float'>\n",
      "<class 'int'>\n"
     ]
    }
   ],
   "source": [
    "etudiant_2 = {'ident': 2.0, 'DM1': 14, 'DM2': 12.0, 'DS' : 12}"
   ]
  },
  {
   "cell_type": "markdown",
   "metadata": {},
   "source": [
    "**Réponse:**"
   ]
  },
  {
   "cell_type": "code",
   "execution_count": 15,
   "metadata": {},
   "outputs": [
    {
     "name": "stdout",
     "output_type": "stream",
     "text": [
      "<class 'int'>\n",
      "<class 'float'>\n",
      "<class 'float'>\n",
      "<class 'float'>\n"
     ]
    }
   ],
   "source": [
    "# Votre code/réponse ici:"
   ]
  },
  {
   "cell_type": "markdown",
   "metadata": {},
   "source": [
    "**Question 4:**\n",
    "\n",
    "Écrivez un code pour calculer la note finale d'un étudiant. Celle-ci est obtenue de la façon suivante:\n",
    "\n",
    "- la meilleure note entre `DM1` et `DM2` est conservée par exemple en définissant une note `DM` qui est égale à cette meilleure note, donc: $ DM = \\max(DM1, DM2) $\n",
    "- la moyenne pondérée entre `DM` et `DS` est calculée et c'est la note finale. Les coefficient de pondération sont $ \\alpha $ et $ (1-\\alpha) $, avec $ \\alpha\\in(0, 1) $ pour respectivement `DM`et `DS`, donc:  $ \\text{Note Finale} = \\alpha DM + (1-\\alpha) DS $. \n",
    "\n",
    "**Indications:**\n",
    "\n",
    "- Sauf indication du contraire on retient $\\alpha = 0.5$.\n",
    "- Vous pouvez utiliser la fonction [`max()`](https://thepythonguru.com/python-builtin-functions/max/) de Python ou celle de [`amax()`](https://numpy.org/doc/stable/reference/generated/numpy.amax.html#numpy.amax) dans le module Numpy(dans ce cas vous devez importer le module et indiquer les notes sous forme d'un array).\n",
    "- Faîtes le calcul pour l'objet `etudiant_1`."
   ]
  },
  {
   "cell_type": "markdown",
   "metadata": {},
   "source": [
    "**Réponse:**"
   ]
  },
  {
   "cell_type": "code",
   "execution_count": 16,
   "metadata": {},
   "outputs": [
    {
     "name": "stdout",
     "output_type": "stream",
     "text": [
      "Note DM: 15.5\n",
      "Note finale: 13.75\n"
     ]
    }
   ],
   "source": [
    "# Note finale avec max() de Python"
   ]
  },
  {
   "cell_type": "code",
   "execution_count": 17,
   "metadata": {},
   "outputs": [
    {
     "name": "stdout",
     "output_type": "stream",
     "text": [
      "Note DM: 15.5\n",
      "Note finale: 13.75\n"
     ]
    }
   ],
   "source": [
    "# Note finale avec amax de Numpy"
   ]
  },
  {
   "cell_type": "markdown",
   "metadata": {},
   "source": [
    "**Question 5:**\n",
    "\n",
    "Écrivez une fonction `NF` qui calcule la note finale d'un étudiant selon les critères précédents: \n",
    "\n",
    "- Son argument positionnel est un objet `etudiant` tel que nous l'avons vu dans les questions précédentes avec donc le même nombre d'éléments(identifiant, notes): \n",
    "- Son argument à mot-clé est le coefficient de pondération $ \\alpha $ avec la valeur pas défaut de $ 0.5 $.\n",
    "- Le produit de cette fonction est une liste qui contient: \n",
    "  - l'objet `etudiant` avec la conversion des types de ses éléments(c.f., question 2 ou 3)\n",
    "  - la note finale(c.f., question 4)\n",
    "- Testez votre fonction sur l'objet `etudiant_3` indiqué ci-dessous. En particulier, affichez la note finale avec la valeur de $ \\alpha $ par défaut(donc 0.5) et pour $ \\alpha = 0.6 $ \n"
   ]
  },
  {
   "cell_type": "code",
   "execution_count": 19,
   "metadata": {},
   "outputs": [],
   "source": [
    "# Objet etudiant_3 pour tester la fonction\n",
    "etudiant_3 = {'ident': 3.0, 'DM1': 15, 'DM2': 9.0, 'DS' : 11}"
   ]
  },
  {
   "cell_type": "markdown",
   "metadata": {},
   "source": [
    "**Réponse:**"
   ]
  },
  {
   "cell_type": "code",
   "execution_count": 18,
   "metadata": {},
   "outputs": [],
   "source": [
    "# Réponse"
   ]
  },
  {
   "cell_type": "code",
   "execution_count": 21,
   "metadata": {},
   "outputs": [
    {
     "name": "stdout",
     "output_type": "stream",
     "text": [
      "Note finale: 13.0\n",
      "Note finale(pour alpha = 0.6): 13.4\n"
     ]
    }
   ],
   "source": [
    "# Test de la fonction\n"
   ]
  },
  {
   "cell_type": "markdown",
   "metadata": {},
   "source": [
    "**Question 6:**\n",
    "\n",
    "A présent nous allons tester la fonction précédente dans un cas qui s'approche un peu plus de la \"réalité\" en ce sens que nous considérons plus d'un étudiant.\n",
    "\n",
    "Le code suivant crée un objet `etudiant` en générant de manière aléatoire les notes qui sont tirées uniformément parmi les entiers de 0 à 20. Pour cela on utilise la fonction dans Numpy [`numpy.random.randint()`](https://numpy.org/doc/stable/reference/random/generated/numpy.random.randint.html)\n",
    "\n",
    "Donc l'objet `etudiant` créé de cet façon est du même type que les étudiants précédents à la différence que les notes sont attribuées de manière aléatoire."
   ]
  },
  {
   "cell_type": "code",
   "execution_count": 72,
   "metadata": {},
   "outputs": [],
   "source": [
    "# Création d'un étudiant fictif avec notes définies aléatoirement \n"
   ]
  },
  {
   "cell_type": "markdown",
   "metadata": {},
   "source": [
    "Écrivez une boucle qui:\n",
    "\n",
    "- génère 20 objets du même type que l'objet `etudiant` précédent, et avec des identifiants allant de 0 à 19,\n",
    "- conservez tous les objets ainsi générés dans une liste ayant donc 20 éléments nommée `etudiants`."
   ]
  },
  {
   "cell_type": "markdown",
   "metadata": {},
   "source": [
    "**Réponse:**"
   ]
  },
  {
   "cell_type": "code",
   "execution_count": 78,
   "metadata": {},
   "outputs": [],
   "source": [
    "# Votre code/réponse ici(à complétér):\n"
   ]
  },
  {
   "cell_type": "markdown",
   "metadata": {},
   "source": [
    "**Question 7:**\n",
    "Afin de tester votre résultat faîtes un extrait de cette liste(celle de la question 6), par exemple le premier élément/objet, et affichez les types de chaque élément de cet objet comme dans la première question de l'examen."
   ]
  },
  {
   "cell_type": "markdown",
   "metadata": {},
   "source": [
    "**Résponse:**"
   ]
  },
  {
   "cell_type": "code",
   "execution_count": 82,
   "metadata": {},
   "outputs": [
    {
     "name": "stdout",
     "output_type": "stream",
     "text": [
      "<class 'dict'>\n",
      "4\n",
      "<class 'str'>\n",
      "<class 'int'>\n",
      "<class 'int'>\n",
      "<class 'int'>\n"
     ]
    }
   ],
   "source": [
    "# Votre code/réponse ici(à complétér):\n",
    "\n",
    "\n",
    "\n",
    "\n"
   ]
  },
  {
   "cell_type": "markdown",
   "metadata": {},
   "source": [
    "**Question 8:**\n",
    "\n",
    "Utilisez la fonction `NF` que vous avez construit sur chaque étudiant dans la liste `etudiants` de la question précédente. Pour cela: \n",
    "\n",
    "- Faîtes une boucle qui applique cette fonction sur chaque élément de la liste `etudiants`\n",
    "- conservez les résultats dans une liste `etudiants_notes`.\n",
    "- testez votre code en affichant un étudiant en particulier."
   ]
  },
  {
   "cell_type": "markdown",
   "metadata": {},
   "source": [
    "**Réponse:**"
   ]
  },
  {
   "cell_type": "code",
   "execution_count": 84,
   "metadata": {},
   "outputs": [],
   "source": [
    "# Votre code/réponse ici à compléter"
   ]
  },
  {
   "cell_type": "code",
   "execution_count": 87,
   "metadata": {},
   "outputs": [
    {
     "data": {
      "text/plain": [
       "[{'ident': 0, 'DM1': 15.0, 'DM2': 4.0, 'DS': 10.0}, 12.5]"
      ]
     },
     "execution_count": 87,
     "metadata": {},
     "output_type": "execute_result"
    }
   ],
   "source": [
    "# Affichage d'un étudiants et sa note finale\n"
   ]
  }
 ],
 "metadata": {
  "interpreter": {
   "hash": "8a894924a8054982a5c897c02f36d019274ceaf42c853aa8fb1f2ffcb169480b"
  },
  "kernelspec": {
   "display_name": "Python 3.8.8 64-bit ('base': conda)",
   "language": "python",
   "name": "python3"
  },
  "language_info": {
   "codemirror_mode": {
    "name": "ipython",
    "version": 3
   },
   "file_extension": ".py",
   "mimetype": "text/x-python",
   "name": "python",
   "nbconvert_exporter": "python",
   "pygments_lexer": "ipython3",
   "version": "3.8.8"
  },
  "orig_nbformat": 4
 },
 "nbformat": 4,
 "nbformat_minor": 2
}
