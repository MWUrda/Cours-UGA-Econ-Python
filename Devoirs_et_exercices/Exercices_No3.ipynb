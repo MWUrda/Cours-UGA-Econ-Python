{
 "cells": [
  {
   "cell_type": "markdown",
   "metadata": {},
   "source": [
    "# <center> INTRODUCTION À PYTHON POUR L'ÉCONOMIE APPLIQUÉE</center>\n",
    "## <center> EXERCICES : 18.10.2022</center>\n",
    "#### <center>Michal Urdanivia (UGA)</center>\n",
    "#### <center> michal.wong-urdanivia@univ-grenoble-alpes.fr </center>"
   ]
  },
  {
   "cell_type": "markdown",
   "metadata": {},
   "source": [
    "### <center> INFORMATIONS </center>\n",
    "\n",
    "**Structure du devoir:** chaque devoir consiste en exercices et problèmes. Les premiers ont pour objet de s'entraîner à l'utilisation de techniques spécifiques. Les second portent sur l'application des techniques à des problèmes économiques. \n",
    "\n",
    "**Corrections:** elles seront déposés sur le dépôt github du cours et seront brièvement revues en séance.\n",
    "\n",
    "**Solutions multiples:** les solutions données ne sont qu'un exemple parmi les différentes façons de traiter un problème d'analyse numérique et d'aboutir à **la même solution**."
   ]
  },
  {
   "cell_type": "markdown",
   "metadata": {},
   "source": [
    "### <center>OPTIMISATION ET AFFICHAGE </center>"
   ]
  },
  {
   "cell_type": "markdown",
   "metadata": {},
   "source": [
    "#### Fonctions"
   ]
  },
  {
   "cell_type": "markdown",
   "metadata": {},
   "source": [
    "Implémentez une version Python de la fonction suivante,"
   ]
  },
  {
   "cell_type": "markdown",
   "metadata": {},
   "source": [
    "$$ \n",
    "u(q_1,q_2) = (\\alpha q_1^{-\\beta} + (1-\\alpha) q_2^{-\\beta})^{-1/\\beta}.\n",
    "$$\n",
    "\n",
    "**Remarque**: les paramètres $\\alpha$ et $\\beta$ ont des valeurs par défaut égales à 0.5 et 1 respectivement."
   ]
  },
  {
   "cell_type": "markdown",
   "metadata": {},
   "source": [
    "**Réponse**"
   ]
  },
  {
   "cell_type": "code",
   "execution_count": null,
   "metadata": {},
   "outputs": [],
   "source": [
    "# réponse/code "
   ]
  },
  {
   "cell_type": "markdown",
   "metadata": {},
   "source": [
    "### Affichage"
   ]
  },
  {
   "cell_type": "code",
   "execution_count": null,
   "metadata": {},
   "outputs": [],
   "source": [
    "q1_vec = [1.05,1.3,2.3,2.5,3.1]\n",
    "q2_vec = [1.05,1.3,2.3,2.5,3.1]"
   ]
  },
  {
   "cell_type": "markdown",
   "metadata": {},
   "source": [
    "Construire une fonction Python  `print_tableau(q1_vec,q2_vec)` pour afficher les valeurs `u(q1,q2)` sous la forme d'un tableau $ 5\\times 5 $ où chaque entrée est un résultat de l'évaluation de `u(,.,)` selon les valeurs prises par `q1`et `q2` dans `q1_vec`et `q2_vec`. Vous pouvez vous appuyer sur le code suivant:"
   ]
  },
  {
   "cell_type": "code",
   "execution_count": null,
   "metadata": {},
   "outputs": [],
   "source": [
    "# Réponse:\n",
    "def print_tableau(q1_vec,q2_vec):\n",
    "    \n",
    "    # a. texte vide\n",
    "    text = ''\n",
    "    \n",
    "    # b. haut du tableau\n",
    "    text += f'{\"\":3s}'\n",
    "    for j, q2 in enumerate(q2_vec):\n",
    "       text += f'{j:6d}' \n",
    "    text += '\\n' # saut de ligne\n",
    "    \n",
    "    # c. coeur\n",
    "    for i,q1 in enumerate(q1_vec):\n",
    "        if i > 0:\n",
    "            text += '\\n' # saut de ligne\n",
    "        text += f'{i:3d} ' # gauche\n",
    "        for j, q2 in enumerate(q2_vec):\n",
    "            text += f'{u(,):6.3f}' # ligne à compléter\n",
    "    \n",
    "    # d. affichage\n",
    "    print(text)\n",
    "\n",
    "print_tableau(q1_vec,q2_vec)"
   ]
  },
  {
   "cell_type": "markdown",
   "metadata": {},
   "source": [
    "### matplotlib"
   ]
  },
  {
   "cell_type": "markdown",
   "metadata": {},
   "source": [
    "Reproduire le graphique ci-dessous qui représente $u(q_1,q_2)$ en utilisant la fonction `meshgrid`  de _numpy_ et la fonction `plot_surface` de _matplotlib_. "
   ]
  },
  {
   "cell_type": "code",
   "execution_count": null,
   "metadata": {},
   "outputs": [],
   "source": [
    "# évaluation de la fonction d'utilité \n",
    "import numpy as np\n",
    "q1_grid,q2_grid = np.meshgrid(q1_vec,q2_vec,indexing='ij')\n",
    "u_grid = u(q1_grid,q2_grid)\n",
    "\n",
    "# imports de modules\n",
    "%matplotlib inline\n",
    "import matplotlib.pyplot as plt\n",
    "plt.style.use('seaborn-whitegrid')\n",
    "from mpl_toolkits.mplot3d import Axes3D\n",
    "from matplotlib import cm # pour les couleurs\n"
   ]
  },
  {
   "cell_type": "markdown",
   "metadata": {},
   "source": [
    "**Réponse**"
   ]
  },
  {
   "cell_type": "code",
   "execution_count": null,
   "metadata": {},
   "outputs": [],
   "source": [
    "# a. graph\n",
    "fig = plt.figure()\n",
    "ax = fig.add_subplot(1,1,1,projection='3d')\n",
    "ax.plot_surface(q1_grid,q2_grid,u_grid,cmap=cm.jet)\n",
    "\n",
    "# b. ajout de labels\n",
    "ax.set_xlabel('$q_1$')\n",
    "ax.set_ylabel('$q_2$')\n",
    "ax.set_zlabel('$utilité,u$')\n",
    "\n",
    "# c. inversion des axes\n",
    "# ligne à compléter"
   ]
  },
  {
   "cell_type": "markdown",
   "metadata": {},
   "source": [
    "### Optimisation "
   ]
  },
  {
   "cell_type": "markdown",
   "metadata": {},
   "source": [
    "Considérons le problème de minimisation:\n",
    "\n",
    "$$\n",
    "\\min_x  f(x) = \\min_x \\sin(x) + 0.05 \\cdot x^2\n",
    "$$"
   ]
  },
  {
   "cell_type": "markdown",
   "metadata": {},
   "source": [
    "Résoudre ce problème et illustrez les résultats."
   ]
  },
  {
   "cell_type": "code",
   "execution_count": null,
   "metadata": {},
   "outputs": [],
   "source": [
    "# mettre à jour le code suivant:\n",
    "\n",
    "# a. définition de la fonction\n",
    "def f(x):\n",
    "    return 0 # cette ligne est erronée(à corriger)\n",
    "\n",
    "# b. solution utilisant une boucle\n",
    "import numpy as np\n",
    "n = 100\n",
    "q_vec = np.linspace(-10,10,n)\n",
    "f_vec = np.empty(n)\n",
    "\n",
    "f_best = np.inf # maximum initial\n",
    "x_best = np.nan # ce n'est pas un nombre\n",
    "\n",
    "for i,x in enumerate(x_vec):\n",
    "    f_now = f_vec[i] = f(x)\n",
    "    # lignes manquantes\n",
    "\n",
    "# c. solution utilisant scipy optimize\n",
    "from scipy import optimize\n",
    "x_guess = [0]      \n",
    "# ligne manquante, indication: objective_function = lambda x: ? --> fonction objectif\n",
    "# ligne manquante, indication: res = optimize.minimize(?)\n",
    "# x_best_scipy = res.x[0]\n",
    "# f_best_scipy = res.fun\n",
    "\n",
    "# d. affichage\n",
    "# lignes manquantes\n",
    "\n",
    "# e. graphique\n",
    "# lignes manquante"
   ]
  },
  {
   "cell_type": "markdown",
   "metadata": {},
   "source": [
    "**Réponse:**"
   ]
  },
  {
   "cell_type": "markdown",
   "metadata": {},
   "source": [
    "### <center>PROBLÈME DU CONSOMMATEUR </center>"
   ]
  },
  {
   "cell_type": "markdown",
   "metadata": {},
   "source": [
    "Considérons le panier à $M$ biens, $q=(q_1,q_2,\\dots,q_M)$, et le **problème de maximisation de l'utilité** avec un revenu exogène $R$, et le vecteur de prix $p=(p_1,p_2,\\dots,p_M)$,\n",
    "\n",
    "$$\n",
    "\\begin{align*}\n",
    "V(p_{1},p_{2},\\dots,,p_{M},I) & = \\max_{q_{1},q_{2},\\dots,q_M} q_{1}^{\\alpha_1} q_{2}^{\\alpha_2} \\dots q_{M}^{\\alpha_M} \\\\\n",
    " & \\text{s.t.}\\\\\n",
    "DT & = \\sum_{i=1}^{M}p_{i}q_{i} \\leq R,\\,\\,\\,p_{1},p_{2},\\dots,p_M,R>0\\\\\n",
    "q_{1},q_{2},\\dots,x_M & \\geq 0\n",
    "\\end{align*}\n",
    "$$"
   ]
  },
  {
   "cell_type": "markdown",
   "metadata": {},
   "source": [
    "**Problème:** résoudre ce problème dans le cas de paniers à 5 biens pour des paramètres $ \\alpha = (\\alpha_1,\\alpha_2, \\dots,\\alpha_5)$, des prix, et le revenu, arbitraires. Dans un premier temps utilisez une boucle, et ensuite un solveur numérique."
   ]
  },
  {
   "cell_type": "markdown",
   "metadata": {},
   "source": [
    "Vous pouvez utiliser les fonctions suivantes:"
   ]
  },
  {
   "cell_type": "code",
   "execution_count": null,
   "metadata": {},
   "outputs": [],
   "source": [
    "def utilite_fn(q,alpha):\n",
    "    # assurez vous que vous comprenez ce que fait la fonction\n",
    "\n",
    "    u = 1\n",
    "    for q_now,alpha_now in zip(q,alpha):\n",
    "        u *= np.max(q_now,0)**alpha_now\n",
    "    return u\n",
    "    \n",
    "def depenses_fn(q,p):\n",
    "    # ensure you understand what this function is doing\n",
    "\n",
    "    DT = 0\n",
    "    for x_now,p_now in zip(q,p):\n",
    "        DT += p_now*x_now\n",
    "    return DT\n",
    "\n",
    "def affichage_solution(q,alpha,R,p):\n",
    "    # vous pouvez utiliser cette fonction\n",
    "    \n",
    "    # a. x values\n",
    "    text = 'q = ['\n",
    "    for q_now in q:\n",
    "        text += f'{q_now:.2f} '\n",
    "    text += f']\\n'\n",
    "    \n",
    "    # b. utilité\n",
    "    u = utilite_fn(q,alpha)    \n",
    "    text += f'utilité = {u:.3f}\\n'\n",
    "    \n",
    "    # c. dépenses vs revenu\n",
    "    DT =  depenses_fn(q,p)\n",
    "    text += f'DT = {DT:.2f} <= R = {R:.2f}\\n'\n",
    "    \n",
    "    # d. parts dans les dépenses\n",
    "    dt = p*q/R\n",
    "    text += 'parts dans les des dépenses = ['\n",
    "    for dt_now in dt:\n",
    "        text += f'{dt_now:.2f} '\n",
    "    text += f']'        \n",
    "        \n",
    "    print(text)"
   ]
  },
  {
   "cell_type": "markdown",
   "metadata": {},
   "source": [
    "Vous pouvez retenir les valeurs suivantes des paramètres:"
   ]
  },
  {
   "cell_type": "code",
   "execution_count": null,
   "metadata": {},
   "outputs": [],
   "source": [
    "alpha = np.ones(5)/5\n",
    "p = np.array([1,2,3,4,5])\n",
    "R = 10"
   ]
  },
  {
   "cell_type": "code",
   "execution_count": null,
   "metadata": {},
   "outputs": [],
   "source": [
    "# Votre réponse/code ici"
   ]
  },
  {
   "cell_type": "markdown",
   "metadata": {},
   "source": [
    "Solution avec une boucle"
   ]
  }
 ],
 "metadata": {
  "interpreter": {
   "hash": "8a894924a8054982a5c897c02f36d019274ceaf42c853aa8fb1f2ffcb169480b"
  },
  "kernelspec": {
   "display_name": "Python 3.8.8 64-bit ('base': conda)",
   "name": "python3"
  },
  "language_info": {
   "codemirror_mode": {
    "name": "ipython",
    "version": 3
   },
   "file_extension": ".py",
   "mimetype": "text/x-python",
   "name": "python",
   "nbconvert_exporter": "python",
   "pygments_lexer": "ipython3",
   "version": "3.8.8"
  },
  "toc-autonumbering": true
 },
 "nbformat": 4,
 "nbformat_minor": 4
}
