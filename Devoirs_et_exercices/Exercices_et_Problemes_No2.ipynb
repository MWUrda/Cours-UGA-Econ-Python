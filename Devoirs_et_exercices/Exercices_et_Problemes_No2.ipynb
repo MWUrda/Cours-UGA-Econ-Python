{
 "cells": [
  {
   "cell_type": "markdown",
   "metadata": {},
   "source": [
    "# <center> INTRODUCTION À PYTHON POUR L'ÉCONOMIE APPLIQUÉE</center>\n",
    "## <center> EXERCICES : No 2</center>\n",
    "#### <center>Michal Urdanivia (UGA)</center>\n",
    "#### <center> michal.wong-urdanivia@univ-grenoble-alpes.fr </center>"
   ]
  },
  {
   "cell_type": "markdown",
   "metadata": {},
   "source": [
    "### <center> INFORMATIONS </center>\n",
    "\n",
    "- Les exercices suivants portent sur le contenu du premier au troisième cours. Il sont en partie issus de l'examen de session 1 de l'année 2021-2022.\n",
    "\n",
    "- Pour chaque réponse vous devez utiliser un code Python, car les phrases textuelles(par exemple dans des cellules `markdown` comme celle-ci) ne sont pas des réponses même si vous pouvez les utiliser pour commenter vos réponses.\n",
    "\n",
    "- Il est recommandé de commenter votre code dans les cellules de code elles-mêmes(avec le symbole $\\#$ précédant le commentaire).\n",
    "\n",
    "- J'ai laissé pour certaines questions des cellules de code incomplètes que vous pouvez utiliser si vous le souhaitez mais il faut les compléter afin d'obtenir les réponses affichées. Mais si vous préférez faire votre propre code de A à Z, supprimez les."
   ]
  },
  {
   "cell_type": "markdown",
   "metadata": {},
   "source": [
    "### <center> OPTIMISATION D'UNE FONCTION </center>\n",
    "\n",
    "\n",
    "On considère le problème suivant:\n",
    "\n",
    "$$\n",
    "\\min_{x\\in\\mathbb{R}} f(x)\n",
    "$$\n",
    "\n",
    "avec $ f(x) = x^2 - 8x $.\n"
   ]
  },
  {
   "cell_type": "markdown",
   "metadata": {},
   "source": [
    "**Question 1:**\n",
    "\n",
    "Quel est l'optimum de cette fonction?(il n'est pas demandé ici de coder mais de résoudre le problème analytiquement)"
   ]
  },
  {
   "cell_type": "markdown",
   "metadata": {},
   "source": [
    "**Question 2:**\n",
    "\n",
    "Résoudre ce problème en utilisant une boucle(c.f., devoir 1). Affichez vos résultats(valeur de la fonction, et de \n",
    "l'argument qui la minimise)"
   ]
  },
  {
   "cell_type": "markdown",
   "metadata": {},
   "source": [
    "**Question 3:**\n",
    "\n",
    "Résoudre ce problème en utilisant `optimize()` de scipy. Affichez vos résultats(valeur de la fonction, et de l'argument qui la minimise)"
   ]
  },
  {
   "cell_type": "markdown",
   "metadata": {},
   "source": [
    "**Question 4:**\n",
    "\n",
    "Représentez graphiquement vos solutions."
   ]
  },
  {
   "cell_type": "markdown",
   "metadata": {},
   "source": [
    "**Indication de réponses questions 2-4**: vous devez compléter le code ci-après(lisez les cours 2)"
   ]
  },
  {
   "cell_type": "code",
   "execution_count": null,
   "metadata": {},
   "outputs": [],
   "source": [
    "def f(x):\n",
    "    return  # ligne à compléter\n",
    "\n",
    "# b. solution avec boucle\n",
    "import numpy as np\n",
    "n = 100\n",
    "x_vec = np.linspace(-10,10,n)\n",
    "f_vec = np.empty(n)\n",
    "\n",
    "f_best = np.inf # maximum initial\n",
    "x_best = np.nan # ceci n'est pas un nombre(\"not a number\")\n",
    "\n",
    "for i,x in enumerate(x_vec):\n",
    "    f_now = f_vec[i] = f(x)\n",
    "    if f_now < f_best:\n",
    "        x_best = x\n",
    "        f_best = f_now\n",
    "\n",
    "# c. solution avec scipy optmize\n",
    "from scipy import optimize\n",
    "x_guess = [0]      \n",
    "objective_function = lambda x: f(x[0])\n",
    "res = optimize.minimize(, x_guess, method='Nelder-Mead') # ligne à compléter\n",
    "x_best_scipy = res.x[0]\n",
    "f_best_scipy = res.fun\n",
    "\n",
    "# d. affichage\n",
    "print(f'La meilleure boucle est {f_best:.8f} en x = {x_best:.8f}')\n",
    "print(f'Avec scipy.optimize, {f_best_scipy:.8f} en x = {x_best_scipy:.8f}')\n",
    "\n",
    "# e. graphique\n",
    "import # ligne à compléter\n",
    "fig = plt.figure() # dpi = points-per-inch(pouces) (résolution)\n",
    "ax = fig.add_subplot(1,1,1)\n",
    "\n",
    "ax.plot(x_vec,f_vec,ls='--',lw=2,color='black',label='$f(x)$')\n",
    "ax.plot(x_best,f_best,ls='',marker='s',color='blue',label='loop')\n",
    "ax.plot(x_best_scipy,f_best_scipy,ls='',marker='o',\n",
    "        markersize=10,markerfacecolor='none',\n",
    "        markeredgecolor='red',label='scipy.optimize')\n",
    "\n",
    "ax.set_xlabel('$x$')\n",
    "ax.set_ylabel('$f$')\n",
    "ax.grid(True)\n",
    "ax.legend(loc='upper center');"
   ]
  }
 ],
 "metadata": {
  "kernelspec": {
   "display_name": "Python 3.8.8 ('base')",
   "language": "python",
   "name": "python3"
  },
  "language_info": {
   "codemirror_mode": {
    "name": "ipython",
    "version": 3
   },
   "file_extension": ".py",
   "mimetype": "text/x-python",
   "name": "python",
   "nbconvert_exporter": "python",
   "pygments_lexer": "ipython3",
   "version": "3.8.8"
  },
  "orig_nbformat": 4,
  "vscode": {
   "interpreter": {
    "hash": "8a894924a8054982a5c897c02f36d019274ceaf42c853aa8fb1f2ffcb169480b"
   }
  }
 },
 "nbformat": 4,
 "nbformat_minor": 2
}
