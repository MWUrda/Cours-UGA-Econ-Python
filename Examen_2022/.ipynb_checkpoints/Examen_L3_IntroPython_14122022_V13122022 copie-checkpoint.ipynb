{
 "cells": [
  {
   "cell_type": "markdown",
   "metadata": {},
   "source": [
    "# <center> INTRODUCTION À PYTHON POUR L'ÉCONOMIE APPLIQUÉE</center>\n",
    "## <center> EXAMEN DE PREMIÈRE SESSION : 14 DÉCEMBRE 2022</center>\n",
    "### <center>Michal Urdanivia (UGA)</center>\n",
    "#### <center> michal.wong-urdanivia@univ-grenoble-alpes.fr </center>"
   ]
  },
  {
   "attachments": {},
   "cell_type": "markdown",
   "metadata": {},
   "source": [
    "## Informations\n",
    "\n",
    "- L'examen contient plusieurs parties réparties en tâches à réaliser qui consistent en code Python à écrire.\n",
    "- Chaque tâche correctement effectuée donne lieu à des points de note.\n",
    "- Chaque tâche peut elle même se répartir en différent points(sous-tâches) à traiter et pour que la tâche soit considérée comme correctement traitée :\n",
    "   - tous les points doivent avoir été traités correctement,\n",
    "   - ceci signifie que l'execution du code par un tiers (le correcteur notamment) sans avoir à le modifier ne doit pas aboutir à des erreurs,\n",
    "   - une tâche incomplète même avec des points(sous-tâches) correctement traité(e)s ne donne lieu à aucun point de note.\n",
    "- Pour chaque tâche vous devez utiliser un code Python, car les phrases textuelles(par exemple dans des cellules `markdown` comme celle-ci) ne sont pas des réponses même si vous pouvez les utiliser pour commenter vos réponses, cela étant fortement recommandé.\n",
    "\n",
    "**Exemple**: pour donner le `type` d'un objet python il faut donner la commande qui vous permet de l'afficher dans une cellule de code Python. \n",
    "\n",
    "- Il est aussi recommandé de commenter votre code dans les cellules de code elles-mêmes(avec le symbole $\\#$ précédant le commentaire).\n",
    "\n",
    "- J'ai laissé pour certaines questions des cellules de code incomplètes que vous pouvez utiliser si vous le souhaitez mais il faut les # lignes de code à compléter afin d'obtenir les réponses affichées. Mais si vous préférez faire votre propre code de A à Z, supprimez les."
   ]
  },
  {
   "cell_type": "markdown",
   "metadata": {},
   "source": [
    "## <center> 1. PREMIÈRE PARTIE </center>"
   ]
  },
  {
   "cell_type": "markdown",
   "metadata": {},
   "source": [
    "### 1.1. Présentation\n",
    "\n",
    "Le but dans cette partie est d'aboutir à la construction d'une fonction qui permette de calculer la moyenne et la variance des notes d'étudiants dans un cours qu'il suivent :\n",
    " - Chaque étudiant est identifié par un numéro(son identifiant) et son évaluation est une moyenne pondérée des ses notes de contrôle continu(CC par la suite) et de ses notes de devoir surveillé(DS par la suite).\n",
    " - Pour tester les fonctions on considère d'abord l'exemple d'un seul étudiant suivi par celui d'une cohorte.\n",
    " - Pour le cas d'un seul étudiant avant de procéder à la programmation des fonctions on commence par considérer quelques points préalables tels que la façon dont se présentent les informations(e.g., le type d'objet, $\\ldots$) "
   ]
  },
  {
   "cell_type": "markdown",
   "metadata": {},
   "source": [
    "### 1.2. Un seul étudiant"
   ]
  },
  {
   "cell_type": "markdown",
   "metadata": {},
   "source": [
    "Nous allons créer un étudiant fictif selon le code suivant qui crée l'objet `et` dans lequel:\n",
    "- les notes de CC sont données par l'objet notes `cc`,\n",
    "- les notes de DS sont données par l'objet notes `ds`,\n",
    "- l'identifiant par l'objet `id`."
   ]
  },
  {
   "cell_type": "code",
   "execution_count": 1,
   "metadata": {},
   "outputs": [],
   "source": [
    "# Quelques imports de bibliothèques utilisées\n",
    "\n",
    "import numpy as np\n",
    "np.random.seed(2000) "
   ]
  },
  {
   "cell_type": "code",
   "execution_count": 2,
   "metadata": {},
   "outputs": [],
   "source": [
    "\n",
    "# Création d'un étudiant fictif\n",
    "et = {'cc': np.random.uniform(low=0.0, high=20.0, size = 4),\n",
    "      'ds': np.random.uniform(low=0.0, high=20.0, size = 2),\n",
    "      'id' : '1'}"
   ]
  },
  {
   "cell_type": "markdown",
   "metadata": {},
   "source": [
    "**Tâches no 1:**\n",
    "- Affichez le type de l'objet `et`, et le nombre de ses éléments.\n",
    "- Extraire ses éléments, affichez leur type(ces deux opérations peuvent se faire en une seule étape, et pour les notes affichez aussi leur nombre(c.à.d., combien de notes en DS, et combien en CC)"
   ]
  },
  {
   "cell_type": "code",
   "execution_count": 3,
   "metadata": {},
   "outputs": [
    {
     "name": "stdout",
     "output_type": "stream",
     "text": [
      "type de l'objet et : <class 'dict'>\n",
      "nombre d'éléments de l'objet et : 3\n",
      "type de l'élément cc: <class 'numpy.ndarray'>\n",
      "nombre de notes cc: 4\n",
      "type de l'élément ds: <class 'numpy.ndarray'>\n",
      "nombre de notes ds: 2\n",
      "type de l'élément id: <class 'str'>\n"
     ]
    }
   ],
   "source": [
    "# Réponse\n",
    "print('type de l\\'objet et :', type(et))\n",
    "# lignes de code à compléter\n",
    "\n"
   ]
  },
  {
   "cell_type": "markdown",
   "metadata": {},
   "source": [
    "**Tâches no 2:**\n",
    "- Définissez une fonction qui s'applique à un objet du type `et`(plus haut) et calcule la moyenne, et l'écart-type pour les notes de CC et DS respectivement, et la moyenne finale pondérée entre ces deux moyennes avec un coefficient de $\\alpha\\in(0, 1)$ pour la moyenne de CC et de $(1-\\alpha)$ pour celle de DS. Autrement dit en notant $MF$ cette dernière moyenne et $MCC$ et $MDS$ les moyennes de CC et CT respectivement,\n",
    "  $$\n",
    "  \\begin{align*}\n",
    "   MF &= \\alpha MCC + (1-\\alpha)MDS,\n",
    "  \\end{align*}\n",
    "  $$\n",
    "et prenez par défaut $\\alpha = 0.5$.\n",
    "- Appelez cette fonction `nf`.\n",
    "- Les arguments sont donc un objet du type `et` et le paramètre $\\alpha$ noté `alpha` dans votre fonction.\n",
    "- L'output de cette fonction doit être un dictionnaire contenant donc:\n",
    "  - la moyenne  de DS, avec la clé `mds`, \n",
    "  - l'écart-type  de DS, avec la clé `stdds`, \n",
    "  - la moyenne  de  CC, avec la clé `mcc`,\n",
    "  - l'écart-type de CC, avec la clé `stdcc`, \n",
    "  - la moyenne finale pondérée définie plus haut avec la clé `mf`,\n",
    "  - et l'identifiant avec la même clè que pour `et`.\n",
    "- Testez cette fonction sur l'objet `et` défini aux questions précédentes et affichez les différents éléments de votre output en les extrayant chacun à leur tour. \n",
    "- Remarque : pour les moyennes et écart-types non pondérées vous pouvez utiliser les fonction `np.mean()`, et `np.std()` de Numpy(avec dans nos notation l'abréviation `np`)"
   ]
  },
  {
   "cell_type": "code",
   "execution_count": 4,
   "metadata": {},
   "outputs": [],
   "source": [
    "# Réponse : fonction\n",
    "def nf(et, alpha = 0.5) :\n",
    "    mds = np.mean(et['ds'])\n",
    "    #  lignes de code à compléter\n",
    "    \n",
    "    \n",
    "    \n",
    "    return {'mds': mds , 'stdds': stdds , 'mcc': mcc , 'stdcc': stdcc , 'mf' : mf , 'id' : et['id']}\n",
    "\n"
   ]
  },
  {
   "cell_type": "code",
   "execution_count": 5,
   "metadata": {},
   "outputs": [
    {
     "name": "stdout",
     "output_type": "stream",
     "text": [
      "moyenne en DS : 9.079040466506438\n",
      "écart-type en DS : 1.5616769102672623\n",
      "moyenne en CC : 9.799828132965681\n",
      "écart-type en CC : 1.8870367343692733\n",
      "moyenne finale : 9.43943429973606\n",
      "identifiant : 1\n"
     ]
    }
   ],
   "source": [
    "# Réponse : test et affichage\n",
    "\n",
    "nfet = nf(et) \n",
    "print('moyenne en DS :', nfet['mds'])\n",
    "print('écart-type en DS :', nfet['stdds'])\n",
    "#  lignes de code à compléter"
   ]
  },
  {
   "cell_type": "markdown",
   "metadata": {},
   "source": [
    "**Tâches no 3:**\n",
    "- Définissez une fonction qui en utilisant une boucle crée une liste contenant $n$ objets du type `et`chacun ayant des notes possiblement différentes, et un identifiant différent ces derniers allant de 1 à $n$ et respectant le type de l'identifiant dans le cas d'un seul étudiant `et` précédent. Appelez cette fonction `ets` et son argument est donc $n$ avec $n = 10$ par défaut.\n",
    "- Pour vérifier le bon déroulement de la fonction précédente,\n",
    "  - utilisez la afin de créer une liste de 10 étudiants fictifs du type `et`. Appelez cette liste `ets_10`,\n",
    "  - extrayez et affichez comme dans la **tâche no 1** les notes de CC de deux étudiants différents ainsi que leurs identifiants.\n",
    "  - appliquez sur ces deux étudiants la fonction `nf` et affichez leurs moyennes finales et leurs identifiants respectifs."
   ]
  },
  {
   "cell_type": "code",
   "execution_count": 6,
   "metadata": {},
   "outputs": [],
   "source": [
    "# Réponse : fonction\n",
    "def ets(n = 10) : \n",
    "    ets = [] # liste vide\n",
    "    # boucle\n",
    "    for i in range(n):\n",
    "        ets.append( \n",
    "        {,#  lignes de code à compléter\n",
    "         ,\n",
    "         'id' : str(i+1)})\n",
    "    return ets"
   ]
  },
  {
   "cell_type": "code",
   "execution_count": 7,
   "metadata": {},
   "outputs": [],
   "source": [
    "# Test et affichage\n"
   ]
  },
  {
   "cell_type": "markdown",
   "metadata": {},
   "source": [
    "**Tâches no 4:**\n",
    "- Définissez une fonction noté `nfs` qui s'applique sur une liste d'étudiants du type `ets`(son premier argument) précédente et produits une liste avec pour chacun de ces éléments(donc chaque étudiant) le résultat de l'application de la fonction `nf`. Un autre argument de cette fonction est le paramètre $\\alpha$ de la fonction `nf` elle même avec la même valeur par défaut. Pour cette tâche utilisez une boucle.\n",
    "- Testez votre fonction sur `ets_10` en notant l'objet crée `nfs_10` et affichez le premier élément."
   ]
  },
  {
   "cell_type": "code",
   "execution_count": 13,
   "metadata": {},
   "outputs": [],
   "source": [
    "# Réponse : fonction\n",
    "def nfs(ets, alpha = 0.5) : \n",
    "    nfs = [] # liste vide\n",
    "# boucle   \n",
    "    #  lignes de code à compléter\n",
    "    \n",
    "    \n",
    "    return nfs"
   ]
  },
  {
   "cell_type": "code",
   "execution_count": 14,
   "metadata": {},
   "outputs": [],
   "source": [
    "# Réponse : test et affichage\n"
   ]
  },
  {
   "cell_type": "markdown",
   "metadata": {},
   "source": [
    "## <center> 2. DEUXIÈME PARTIE </center>"
   ]
  },
  {
   "cell_type": "markdown",
   "metadata": {},
   "source": [
    "### 2.1. Présentation\n",
    "\n",
    "On considère le calcul de l'estimateur des MCO d'un modèle économétrique/statistique pour la relation entre une variable $ Y $ et un vecteur(colonne) $ X\\in \\mathbb{R}^p $. $Y$ est généralement appelée variable dépendante ou régressande, et $X$ vecteur de covariable ou régresseurs.\n",
    "\n",
    "Nous avons $ n $ observations sur $ Y $ et $ X $, $\\{(X_i, Y_i)\\}_{i=1}^n$, et on suppose que la relation entre $Y_i$ et $X_i$ vérifie:\n",
    "\n",
    "$$\n",
    "\\begin{align*}\n",
    "Y_i &= X_i^\\top\\beta = X_{1, i}\\beta_1 + X_{2, i}\\beta_2+\\ldots X_{p, i}\\beta_p + \\varepsilon_i, \\quad i = 1, 2, \\ldots, n.\n",
    "\\end{align*}\n",
    "$$\n",
    "où $ \\varepsilon_i $ est l'erreur du modèle et représente tout ce qui n''est pas observé et explique les variations de $Y_i$ pour $ X_i $ donné.\n",
    "\n",
    "Ceci peut s'écrire en notation matricielle:\n",
    "\n",
    "$$\n",
    "\\begin{align*}\n",
    "Y &= \\mathbf{X}\\beta + \\varepsilon ,\n",
    "\\end{align*}\n",
    "$$\n",
    "où $ \\mathbf{X} $ est la matrice $ n\\times p $ dite des régresseurs ayant pour ligne $i$ le \n",
    "vecteur ligne $ X_i^\\top $, $ Y $ est le vecteur $n\\times 1$ dont l'élément $i$ est\n",
    "$Y_i$, et $\\varepsilon$ est le vecteur $n\\times 1$ dont l'élément $i$ est $\\varepsilon_i$.\n",
    "\n",
    "Nous voulons calculer l'estimateur des MCO(c.à.d., des moindres carrés ordinaires) du vecteur $p\\times 1$ $\\beta:=(\\beta_1, \\beta_2, \\ldots, \\beta_p)$, à savoir,\n",
    "\n",
    "$$\n",
    "\\begin{align*}\n",
    "\\hat{\\beta}^{MCO}&= (\\mathbf{X}^\\top\\mathbf{X})^{-1}\\mathbf{X}^\\top\\mathbf{Y},\n",
    "\\end{align*}\n",
    "$$\n",
    "\n",
    "\n"
   ]
  },
  {
   "cell_type": "markdown",
   "metadata": {},
   "source": [
    "**Tâches no 5:**\n",
    "\n",
    "Nous allons d'abord générer des données afin de tester la fonction qui calculera l'estimateur des MCO. Pour cela on considère le cas de quatre régresseurs(donc $p = 4$) et où le premier est constant, soit:\n",
    "\n",
    "$$\n",
    "\\begin{align*}\n",
    "Y_i &= \\beta_1 + \\beta_2 X_{2, i} + \\beta_3 X_{3, i}+ \\beta_4 X_{4, i}\\varepsilon_i, \\quad i = 1, 2, \\ldots, n.\n",
    "\\end{align*}\n",
    "$$\n",
    "\n",
    "Donc ici: \n",
    "\n",
    "- on cherche donc à calculer l'estimateur des MCO du vecteur $4\\times 1$ $\\beta:=(\\beta_1, \\beta_2, \\beta_3, \\beta_4)^\\top$ qu'on note $\\hat{\\beta}^{MCO}:=(\\hat{\\beta}_1^{MCO}, \\hat{\\beta}_2^{MCO}, \\hat{\\beta}_3^{MCO}, \\hat{\\beta}_4^{MCO})^\\top$,\n",
    "\n",
    "- la matrice $ \\mathbf{X} $ est une matrice $ n \\times 4 $ de la forme:\n",
    "\n",
    "$$\n",
    "\\begin{align*}\n",
    "\\mathbf{X} & = \n",
    "\\begin{pmatrix}\n",
    "1 & X_{2, 1}& X_{3, 1} & X_{4, 1}\\\\\n",
    "1 & X_{2, 2}& X_{3, 2} & X_{4, 2}\\\\\n",
    "\\vdots&\\vdots\\\\\n",
    "1 & X_{2, n}& X_{3, 1} & X_{4, n}\\\\\n",
    "\\end{pmatrix}\t\n",
    "\\end{align*}\n",
    "$$"
   ]
  },
  {
   "cell_type": "markdown",
   "metadata": {},
   "source": [
    "- Pour tester la fonction que l'on propose de définir afin de calculer $ \\hat{\\beta}^{MCO} $, nous allons d'abord définir une fonction qui génère des données artificielles/aléatoires pour tester ensuite notre fonction. Cette fonction, qu'on note `gen_data` prends comme argument le nombre d'observations $n$, et les coefficients $\\beta$ et génère les variables suivantes:\n",
    "  - $ X_{1}$ un vecteur de taille $n$ ne contenant que le nombre 1,\n",
    "  - $ X_{2} $ un vecteur de taille $n$ de nombre aléatoires selon une loi $\\mathcal{N}(0, 1)$(c.à.d., normale centrée réduite),\n",
    "  - $ X_{3} $ un vecteur de taille $n$ de nombre aléatoires selon une loi $\\mathcal{B}(0.5)$(c.à.d., binomiale de paramètre $p = 0.5$).\n",
    "  - $ X_{4} $ un vecteur de taille $n$ de nombre aléatoires selon une loi $\\mathcal{U}(0, 1)$(c.\n",
    "à.d., uniforme dans l'intervalle $[0, 1]$).\n",
    "  - à partir de ces vecteurs créez la matrice $ \\mathbf{X} $, vous pouvez utiliser pour cela la fonction [`hstack()`](https://numpy.org/doc/stable/reference/generated/numpy.hstack.html)de numpy(c.f., notebook du cours 2, indiqué dans la liste des \"choses à connaître\").\n",
    "- Générez un vecteur de taille $n$ de nombre aléatoires selon une loi $\\mathcal{N}(0, 1)$, ce sera $ \\varepsilon $.\n",
    "- Générez le vecteur $Y$ selon: $Y = \\beta_1  + \\beta_2 X_{2} +  \\beta_3X_3  + \\beta_4 X_4 + \\varepsilon = \\mathbf{X} \\beta$.\n",
    "- L'output de la fonction doit être une liste avec la matrice $\\mathbf{X}$, et le vecteur $Y$ sous forme d'arrays numpy.\n",
    "\n",
    "**Remarques:** \n",
    "- L'argument qui correspond au vecteur des coefficient doit être un array/vecteur $ 4\\times 1 $, et celui qui est $n$ aura la valeur par défaut $n=100$.\n",
    "- Pour les variables aléatoires $X_2$, $X_3$, $X_4$ utilisez les fonction suivantes(si vous utilisez l'abbreviation `np` courante, changez `numpy` par `np` dans la syntaxe )\n",
    "  - [numpy.random.binomial()](https://numpy.org/doc/stable/reference/random/generated/numpy.random.binomial.html)\n",
    "  - [numpy.random.normal()](https://numpy.org/doc/stable/reference/random/generated/numpy.random.normal.html)\n",
    "  - [numpy.random.uniform()](https://numpy.org/doc/stable/reference/random/generated/numpy.random.uniform.html)\n",
    "\n",
    "  "
   ]
  },
  {
   "cell_type": "code",
   "execution_count": 45,
   "metadata": {},
   "outputs": [],
   "source": [
    "# Réponse: fonction\n",
    "def gen_data(beta, n = 100):\n",
    "    X1 = np.ones((n, 1))\n",
    "    #  lignes de code à compléter\n",
    "    \n",
    "    \n",
    "    X = np.hstack((X1, X2, X3, X4))\n",
    "    epsilon = np.random.normal(0, 1, size = (n, 1) )\n",
    "    Y = X@beta + epsilon\n",
    "    return [Y, X]\n"
   ]
  },
  {
   "cell_type": "markdown",
   "metadata": {},
   "source": [
    "**Tâches no 6:**\n",
    "- Testez votre fonction avec $n = 100$ et $\\beta = (\\beta_1, \\beta_2, \\beta_3, \\beta_4) = (0.4, 0.6, 0.2, 0.25)^\\top$. Pour cela:\n",
    " - appelez l'output produit de la fonction `data_100`,\n",
    " - affichez les dimensions de la matrice $\\mathbf{X}$ et du vecteur $Y$ qui doivent donc être \n",
    "$100\\times 4$ et $100\\times 1$(ou $100$ selon comment vous créez $Y$)(il faut les extraire de votre output)"
   ]
  },
  {
   "cell_type": "code",
   "execution_count": 46,
   "metadata": {},
   "outputs": [],
   "source": [
    "# Réponse : test de la fonction\n",
    "beta  = np.array([[0.4], [0.6], [0.2], [0.25]])\n",
    "data_100 = #  lignes de code à compléter\n"
   ]
  },
  {
   "cell_type": "markdown",
   "metadata": {},
   "source": [
    "**Tâches no 7:**\n",
    "\n",
    "Créez une fonction qui calcule l'estimateur des MCO de $\\beta$(pour $p$ quelconque). Pour calculer\n",
    "l'inverse d'une matrice vous pouvez utiliser [linalg.inv()](https://numpy.org/doc/stable/reference/generated/numpy.linalg.inv.html)(fonction non évoquée dans le notebook présentant Numpy)\n",
    "de Numpy, et le transposé d'une matrice $ A $ est donné par $ A.T $(voir \"cheatcheet\" numpy dans \n",
    "le dépôt git du cours-dossier Autres-) ou bien [ici](https://assets.datacamp.com/blog_assets/Numpy_Python_Cheat_Sheet.pdf). Voici un exemple:"
   ]
  },
  {
   "cell_type": "code",
   "execution_count": null,
   "metadata": {},
   "outputs": [],
   "source": [
    "# '#' enlevez le # si numpy n'a pas été importé avant(par exemple parce que vous n'avez pas traité les question\n",
    "# précédentes)\n",
    "# import numpy as np \n",
    "B = np.array([[2,0],[1,2]]) # une matrice 2x2\n",
    "print(B) \n",
    "print(B.T) # affichage de sa transposé\n",
    "print(np.linalg.inv(B)) # affichage de son inverse"
   ]
  },
  {
   "cell_type": "markdown",
   "metadata": {},
   "source": [
    "**Remarques:**\n",
    "- Dans le cas qui nous intéresse vous devez appliquer la transposé à la matrice $\\mathbf{X}$ et l'inverse à $ \\mathbf{X}^\\top \\mathbf{X} $.\n",
    "- Les arguments de votre fonction doivent être une matrice des régresseurs $\\mathbf{X}$ et le vecteur correspondant à la régressande $Y$.\n",
    "- Notez la fonction `ols_estim`\n",
    "- L'output de la fonction doit être le vecteur des coefficients estimés $\\hat{\\beta}^{MCO}$ représentés sous forme d'array."
   ]
  },
  {
   "cell_type": "markdown",
   "metadata": {},
   "source": [
    "**Tâches no 8:**\n",
    "- Testez votre fonction sur les données générées par `gen_data`,\n",
    "- Affichez les coefficients estimés"
   ]
  },
  {
   "cell_type": "code",
   "execution_count": null,
   "metadata": {},
   "outputs": [],
   "source": [
    "# Réponse"
   ]
  }
 ],
 "metadata": {
  "interpreter": {
   "hash": "8a894924a8054982a5c897c02f36d019274ceaf42c853aa8fb1f2ffcb169480b"
  },
  "kernelspec": {
   "display_name": "Python 3.8.8 64-bit ('base': conda)",
   "language": "python",
   "name": "python3"
  },
  "language_info": {
   "codemirror_mode": {
    "name": "ipython",
    "version": 3
   },
   "file_extension": ".py",
   "mimetype": "text/x-python",
   "name": "python",
   "nbconvert_exporter": "python",
   "pygments_lexer": "ipython3",
   "version": "3.8.8 (default, Apr 13 2021, 12:59:45) \n[Clang 10.0.0 ]"
  },
  "orig_nbformat": 4
 },
 "nbformat": 4,
 "nbformat_minor": 2
}
