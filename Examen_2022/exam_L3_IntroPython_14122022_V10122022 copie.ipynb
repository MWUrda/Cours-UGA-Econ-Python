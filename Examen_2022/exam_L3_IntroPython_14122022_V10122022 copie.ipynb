{
 "cells": [
  {
   "cell_type": "markdown",
   "metadata": {},
   "source": [
    "# <center> INTRODUCTION À PYTHON POUR L'ÉCONOMIE APPLIQUÉE</center>\n",
    "## <center> EXAMEN DE PREMIÈRE SESSION : 14 DÉCEMBRE 2022</center>\n",
    "### <center>Michal Urdanivia (UGA)</center>\n",
    "#### <center> michal.wong-urdanivia@univ-grenoble-alpes.fr </center>"
   ]
  },
  {
   "cell_type": "markdown",
   "metadata": {},
   "source": [
    "## Informations\n",
    "\n",
    "- L'examen contient plusieurs parties réparties en tâches à réaliser qui consistent en code Python à écrire.\n",
    "- Chaque tâche correctement effectuée donne lieu à des points de note.\n",
    "- Chaque tâche peut elle même se répartir en différent points(sous-tâches) à traiter et pour que la tâche soit considérée comme correctement traitée :\n",
    "   - tous les points doivent avoir été traités correctement,\n",
    "   - ceci signifie que l'execution du code par un tiers (le correcteur notamment) sans avoir à le modifier ne doit pas aboutir à des erreurs,\n",
    "   - une tâche incomplète même avec des points(sous-tâches) correctement traité(e)s ne donne lieu à aucun point de note.\n",
    "- Pour chaque tâche vous devez utiliser un code Python, car les phrases textuelles(par exemple dans des cellules `markdown` comme celle-ci) ne sont pas des réponses même si vous pouvez les utiliser pour commenter vos réponses, cela étant fortement recommandé.\n",
    "\n",
    "**Exemple**: pour donner le `type` d'un objet python il faut donner la commande qui vous permet de l'afficher dans une cellule de code Python. \n",
    "\n",
    "- Il est aussi recommandé de commenter votre code dans les cellules de code elles-mêmes(avec le symbole $\\#$ précédant le commentaire).\n",
    "\n",
    "- J'ai laissé pour certaines questions des cellules de code incomplètes que vous pouvez utiliser si vous le souhaitez mais il faut les compléter afin d'obtenir les réponses affichées. Mais si vous préférez faire votre propre code de A à Z, supprimez les."
   ]
  },
  {
   "cell_type": "markdown",
   "metadata": {},
   "source": [
    "## <center> 1. PREMIÈRE PARTIE </center>"
   ]
  },
  {
   "cell_type": "markdown",
   "metadata": {},
   "source": [
    "### 1.1. Présentation\n",
    "\n",
    "Le but dans cette partie est d'aboutir à la construction d'une fonction qui permette de calculer la moyenne et la variance des notes d'étudiants dans un cours qu'il suivent :\n",
    " - Chaque étudiant est identifié par un numéro(son identifiant) et son évaluation est une moyenne pondérée des ses notes de contrôle continu(CC par la suite) et de ses notes de devoir surveillé(DS par la suite).\n",
    " - Pour tester les fonctions on considère d'abord l'exemple d'un seul étudiant suivi par celui d'une cohorte.\n",
    " - Pour le cas d'un seul étudiant avant de procéder à la programmation des fonctions on commence par considérer quelques points préalables tels que la façon dont se présentent les informations(e.g., le type d'objet, $\\ldots$) "
   ]
  },
  {
   "cell_type": "markdown",
   "metadata": {},
   "source": [
    "### 1.2. Un seul étudiant"
   ]
  },
  {
   "cell_type": "markdown",
   "metadata": {},
   "source": [
    "Nous allons créer un étudiant fictif selon le code suivant qui crée l'objet `et` dans lequel:\n",
    "- les notes de CC sont données par l'objet notes `cc`,\n",
    "- les notes de DS sont données par l'objet notes `ds`,\n",
    "- l'identifiant par l'objet `id`."
   ]
  },
  {
   "cell_type": "code",
   "execution_count": 1,
   "metadata": {},
   "outputs": [],
   "source": [
    "# Quelques imports de bibliothèques utilisées\n",
    "\n",
    "import numpy as np\n",
    "np.random.seed(2000) "
   ]
  },
  {
   "cell_type": "code",
   "execution_count": 2,
   "metadata": {},
   "outputs": [],
   "source": [
    "\n",
    "# Création d'un étudiant fictif\n",
    "et = {'cc': np.random.uniform(low=0.0, high=20.0, size = 4),\n",
    "      'ds': np.random.uniform(low=0.0, high=20.0, size = 2),\n",
    "      'id' : '1'}"
   ]
  },
  {
   "cell_type": "markdown",
   "metadata": {},
   "source": [
    "**Tâches no 1:**\n",
    "- Affichez le type de l'objet `et`, et le nombre de ses éléments.\n",
    "- Extraire ses éléments, affichez leur type(ces deux opérations peuvent se faire en une seule étape, et pour les notes affichez aussi leur nombre(c.à.d., combien de notes en DS, et combien en CC)"
   ]
  },
  {
   "cell_type": "code",
   "execution_count": 3,
   "metadata": {},
   "outputs": [
    {
     "name": "stdout",
     "output_type": "stream",
     "text": [
      "type de l'objet et : <class 'dict'>\n",
      "nombre d'éléments de l'objet et : 3\n",
      "type de l'élément cc: <class 'numpy.ndarray'>\n",
      "nombre de notes cc: 4\n",
      "type de l'élément ds: <class 'numpy.ndarray'>\n",
      "nombre de notes ds: 2\n",
      "type de l'élément id: <class 'str'>\n"
     ]
    }
   ],
   "source": [
    "# Réponse\n",
    "\n"
   ]
  },
  {
   "cell_type": "markdown",
   "metadata": {},
   "source": [
    "**Tâches no 2:**\n",
    "- Définissez une fonction qui s'applique à un objet du type `et`(plus haut) et calcule la moyenne, et l'écart-type pour les notes de CC et DS respectivement, et la moyenne finale pondérée entre ces deux moyennes avec un coefficient de $\\alpha\\in(0, 1)$ pour la moyenne de CC et de $(1-\\alpha)$ pour celle de DS. Autrement dit en notant $MF$ cette dernière moyenne et $MCC$ et $MDS$ les moyennes de CC et CT respectivement,\n",
    "  $$\n",
    "  \\begin{align*}\n",
    "   MF &= \\alpha MCC + (1-\\alpha)MDS,\n",
    "  \\end{align*}\n",
    "  $$\n",
    "et prenez par défaut $\\alpha = 0.5$.\n",
    "- Appelez cette fonction `nf`.\n",
    "- Les arguments sont donc un objet du type `et` et le paramètre $\\alpha$ noté `alpha` dans votre fonction.\n",
    "- L'output de cette fonction doit être un dictionnaire contenant donc:\n",
    "  - la moyenne  de DS, avec la clé `mds`, \n",
    "  - la variance  de DS, avec la clé `stdds`, \n",
    "  - la moyenne  de  CC, avec la clé `mcc`,\n",
    "  - la variance  de CC, avec la clé `stdcc`, \n",
    "  - la moyenne finale pondérée définie plus haut avec la clé `mf`,\n",
    "  - et l'identifiant avec la même clè que pour `et`.\n",
    "- Testez cette fonction sur l'objet `et` défini aux questions précédentes et affichez les différents éléments de votre output en les extrayant chacun à leur tour. \n",
    "- Remarque : pour les moyennes et écart-types non pondérées vous pouvez utiliser les fonction `np.mean()`, et `np.std()` de Numpy(avec dans nos notation l'abréviation `np`)"
   ]
  },
  {
   "cell_type": "code",
   "execution_count": 4,
   "metadata": {},
   "outputs": [],
   "source": [
    "# Réponse : fonction\n",
    "\n"
   ]
  },
  {
   "cell_type": "code",
   "execution_count": 5,
   "metadata": {},
   "outputs": [
    {
     "name": "stdout",
     "output_type": "stream",
     "text": [
      "moyenne en DS : 9.079040466506438\n",
      "écart-type en DS : 1.5616769102672623\n",
      "moyenne en CC : 9.799828132965681\n",
      "écart-type en CC : 1.8870367343692733\n",
      "moyenne finale : 9.43943429973606\n",
      "identifiant : 1\n"
     ]
    }
   ],
   "source": [
    "# Réponse : test et affichage\n"
   ]
  },
  {
   "cell_type": "markdown",
   "metadata": {},
   "source": [
    "**Tâches no 3:**\n",
    "- Définissez une fonction qui en utilisant une boucle crée une liste contenant $n$ objets du type `et`chacun ayant des notes possiblement différentes, et un identifiant différent ces derniers allant de 1 à $n$ et respectant le type de l'identifiant dans le cas d'un seul étudiant `et` précédent. Appelez cette fonction `ets` et son argument est donc $n$ avec $n = 10$ par défaut.\n",
    "- Pour vérifier le bon déroulement de la fonction précédente,\n",
    "  - utilisez la afin de créer une liste de 10 étudiants fictifs du type `et`. Appelez cette liste `ets_10`,\n",
    "  - extrayez et affichez comme dans la **tâche no 1** les notes de CC de deux étudiants différents ainsi que leurs identifiants.\n",
    "  - appliquez sur ces deux étudiants la fonction `nf` et affichez leurs moyennes finales et leurs identifiants respectifs."
   ]
  },
  {
   "cell_type": "code",
   "execution_count": 6,
   "metadata": {},
   "outputs": [],
   "source": [
    "# Réponse : fonction"
   ]
  },
  {
   "cell_type": "code",
   "execution_count": 7,
   "metadata": {},
   "outputs": [],
   "source": [
    "# Test et affichage\n"
   ]
  },
  {
   "cell_type": "markdown",
   "metadata": {},
   "source": [
    "**Tâches no 4:**\n",
    "- Définissez une fonction noté `nfs` qui s'applique sur une liste d'étudiants du type `ets`(son premier argument) précédente et produits une liste avec pour chacun de ces éléments(donc chaque étudiant) le résultat de l'application de la fonction `nf`. Un autre argument de cette fonction est le paramètre $\\alpha$ de la fonction `nf` elle même avec la même valeur par défaut. Pour cette tâche utilisez une boucle.\n",
    "- Testez votre fonction sur `ets_10` en notant l'objet crée `nfs_10` et affichez le premier élément."
   ]
  },
  {
   "cell_type": "code",
   "execution_count": 13,
   "metadata": {},
   "outputs": [],
   "source": [
    "# Réponse : fonction"
   ]
  },
  {
   "cell_type": "code",
   "execution_count": 15,
   "metadata": {},
   "outputs": [
    {
     "data": {
      "text/plain": [
       "{'mds': 2.7918836809929557,\n",
       " 'stdds': 0.2504993019655044,\n",
       " 'mcc': 5.256448468122992,\n",
       " 'stdcc': 3.9044616544654653,\n",
       " 'mf': 4.024166074557973,\n",
       " 'id': '1'}"
      ]
     },
     "execution_count": 15,
     "metadata": {},
     "output_type": "execute_result"
    }
   ],
   "source": [
    "# Réponse : test et affichage"
   ]
  }
 ],
 "metadata": {
  "interpreter": {
   "hash": "8a894924a8054982a5c897c02f36d019274ceaf42c853aa8fb1f2ffcb169480b"
  },
  "kernelspec": {
   "display_name": "Python 3.8.8 64-bit ('base': conda)",
   "language": "python",
   "name": "python3"
  },
  "language_info": {
   "codemirror_mode": {
    "name": "ipython",
    "version": 3
   },
   "file_extension": ".py",
   "mimetype": "text/x-python",
   "name": "python",
   "nbconvert_exporter": "python",
   "pygments_lexer": "ipython3",
   "version": "3.8.8"
  },
  "orig_nbformat": 4
 },
 "nbformat": 4,
 "nbformat_minor": 2
}
