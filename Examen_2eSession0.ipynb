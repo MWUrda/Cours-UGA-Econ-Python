{
 "cells": [
  {
   "cell_type": "markdown",
   "metadata": {},
   "source": [
    "# <center> INTRODUCTION À PYTHON POUR L'ÉCONOMIE APPLIQUÉE</center>\n",
    "## <center> 3ÈME ANNÉE DE LICENCE D'ÉCONOMIE</center>\n",
    "## <center> EXAMEN DE DEUXIÈME SESSION</center>\n",
    "#### <center>RESPONSABLE DU COURS: Michal Urdanivia (UGA)</center>\n",
    "#### <center> michal.wong-urdanivia@univ-grenoble-alpes.fr </center>"
   ]
  },
  {
   "cell_type": "markdown",
   "metadata": {},
   "source": [
    "### <center> REMARQUES </center>\n",
    "\n",
    "* Durée: 1 heure.\n",
    "* Pour certaines questions un code à compléter vous ai suggéré."
   ]
  },
  {
   "cell_type": "markdown",
   "metadata": {},
   "source": [
    "* Question 1: créez une variable `x` égale à 1 et une variable `y` égale 2.\n"
   ]
  },
  {
   "cell_type": "code",
   "execution_count": null,
   "metadata": {},
   "outputs": [],
   "source": [
    "# Réponse:"
   ]
  },
  {
   "cell_type": "markdown",
   "metadata": {},
   "source": [
    "* Question 2: affichez le type de chacune de ces variables.\n"
   ]
  },
  {
   "cell_type": "code",
   "execution_count": null,
   "metadata": {},
   "outputs": [],
   "source": [
    "# Réponse:"
   ]
  },
  {
   "cell_type": "markdown",
   "metadata": {},
   "source": [
    "* Question 3: créez une variable égale au rapport `x/y` et affichez son type."
   ]
  },
  {
   "cell_type": "code",
   "execution_count": null,
   "metadata": {},
   "outputs": [],
   "source": [
    "# Réponse:"
   ]
  },
  {
   "cell_type": "markdown",
   "metadata": {},
   "source": [
    "* Question 4: créez une variable booléenne égale à  1 quand $ x/y < 1 $ "
   ]
  },
  {
   "cell_type": "markdown",
   "metadata": {},
   "source": [
    "* Question 4: \n",
    "\n",
    "   - Créez un dictionnaire avec 4 éléments qui sont le nom d'une personne(clé: nom), son prénom(clé: prénom), sa taille(clé: taille), son poids(clé: poids). Utilisez pour ces éléments les valeurs `Pierre`, `Dupont`, `65`, `175`, les deux premières étant des chaînes de caractères. Donnez à ce dictionnaire le nom `pierre_d_tp`\n",
    "   - Affichez chaque élément du dictionnaire et son type sans utiliser une boucle et en utilisant une.\n"
   ]
  },
  {
   "cell_type": "code",
   "execution_count": 4,
   "metadata": {},
   "outputs": [
    {
     "name": "stdout",
     "output_type": "stream",
     "text": [
      "Pierre\n",
      "Dupont\n",
      "170\n",
      "65\n"
     ]
    }
   ],
   "source": [
    "# Réponse\n",
    "pierre_d_tp = {}\n",
    "\n",
    "# Affichage sans boucle\n",
    "\n",
    "print(pierre_d_tp['nom'])\n",
    "# compléter ici\n",
    "\n",
    "# Affichage avec boucle\n",
    "# compléter ici"
   ]
  },
  {
   "cell_type": "markdown",
   "metadata": {},
   "source": [
    "* Question 6: \n",
    "\n",
    "  - Créez une fonction `calcul_imc` ayant comme argument un objet de type dictionnaire similaire à l'objet `pierre_d_tp` de la question précédente, et qui calcule l'indice de masse corporelle qui est donné par $ \\frac{poids}{(taille/100)^2} $. Donnez à l'argument de la fonction le nom `x_y_tp`(remarque: c'est donc un objet de type dictionnaire avec un nom, prénom, taille, et poids)\n",
    "  - Évaluez cette fonction sur `pierre_d_tp`.\n"
   ]
  },
  {
   "cell_type": "code",
   "execution_count": 14,
   "metadata": {},
   "outputs": [],
   "source": [
    "# Réponse\n",
    "\n",
    "def calcul_imc(x_y_tp):\n",
    "    # compléter ici\n",
    "    return \n"
   ]
  },
  {
   "cell_type": "code",
   "execution_count": 15,
   "metadata": {},
   "outputs": [
    {
     "data": {
      "text/plain": [
       "22.49134948096886"
      ]
     },
     "execution_count": 15,
     "metadata": {},
     "output_type": "execute_result"
    }
   ],
   "source": [
    "calcul_imc() # compléter ici"
   ]
  },
  {
   "cell_type": "markdown",
   "metadata": {},
   "source": [
    "* Question 6: considérons le problème de minimisation suivant,\n",
    "\n",
    "$$\n",
    "\\min_x  f(x) = \\min_x \\sin(x) + 0.05 \\cdot x^2.\n",
    "$$\n",
    "\n",
    "Résoudre ce problème et illustrez les résultats. Pour cela vous pouvez vous appuyer sur le code suivante qu'il faudra compléter."
   ]
  },
  {
   "cell_type": "code",
   "execution_count": null,
   "metadata": {},
   "outputs": [],
   "source": [
    "# Code à compléter pour la question 6. \n",
    "import numpy as np\n",
    "# a. définition de la fonction\n",
    "def f(x):\n",
    "    return np.sin(x) # compléter ici\n",
    "\n",
    "# b. solution utilisant une boucle\n",
    "import numpy as np\n",
    "n = 100\n",
    "x_vec = np.linspace(-10,10,n)\n",
    "f_vec = np.empty(n)\n",
    "\n",
    "f_best = np.inf # maximum initial\n",
    "x_best = np.nan # ce n'est pas un nombre\n",
    "\n",
    "for i,x in enumerate(x_vec):\n",
    "    f_now = f_vec[i] = f(x)\n",
    "    if f_now < f_best:\n",
    "        x_best = x\n",
    "        f_best = f_now\n",
    "\n",
    "# c. solution avec scipy.optimize\n",
    "from scipy import optimize\n",
    "x_guess = [0]      \n",
    "objective_function = lambda x: f(x[0])\n",
    "res = optimize.minimize( , x_guess, method='Nelder-Mead') # compléter ici\n",
    "x_best_scipy = res.x[0]\n",
    "f_best_scipy = res.fun\n",
    "\n",
    "# d. affichage\n",
    "print(f'La meilleure boucle est {f_best:.8f} en x = {x_best:.8f}')\n",
    "print(f'Avec scipy.optimize, {f_best_scipy:.8f} en x = {x_best_scipy:.8f}')\n",
    "\n",
    "# e. graphique\n",
    "import matplotlib.pyplot as plt\n",
    "fig = plt.figure() # dpi = points-per-inch(pouces) (résolution)\n",
    "ax = fig.add_subplot(1,1,1)\n",
    "\n",
    "ax.plot(x_vec,f_vec,ls='--',lw=2,color='black',label='$f(x)$')\n",
    "ax.plot(x_best,f_best,ls='',marker='s',color='blue',label='loop')\n",
    "ax.plot(x_best_scipy,f_best_scipy,ls='',marker='o',\n",
    "        markersize=10,markerfacecolor='none',\n",
    "        markeredgecolor='red',label='scipy.optimize')\n",
    "\n",
    "ax.set_xlabel('$x$')\n",
    "ax.set_ylabel('$f$')\n",
    "ax.grid(True)\n",
    "ax.legend(loc='upper center');"
   ]
  },
  {
   "cell_type": "markdown",
   "metadata": {},
   "source": [
    "* Question 7: commentez le résultat de la question 6(quelle est la solution?)"
   ]
  }
 ],
 "metadata": {
  "kernelspec": {
   "display_name": "Python 3.8.8 ('base')",
   "language": "python",
   "name": "python3"
  },
  "language_info": {
   "codemirror_mode": {
    "name": "ipython",
    "version": 3
   },
   "file_extension": ".py",
   "mimetype": "text/x-python",
   "name": "python",
   "nbconvert_exporter": "python",
   "pygments_lexer": "ipython3",
   "version": "3.8.8"
  },
  "orig_nbformat": 4,
  "vscode": {
   "interpreter": {
    "hash": "8a894924a8054982a5c897c02f36d019274ceaf42c853aa8fb1f2ffcb169480b"
   }
  }
 },
 "nbformat": 4,
 "nbformat_minor": 2
}
