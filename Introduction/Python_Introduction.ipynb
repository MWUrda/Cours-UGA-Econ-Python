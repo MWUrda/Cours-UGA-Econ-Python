{
 "cells": [
  {
   "cell_type": "markdown",
   "metadata": {},
   "source": [
    "# <center> INTRODUCTION À PYTHON POUR L'ÉCONOMIE APPLIQUÉE</center>\n",
    "## <center> COURS 0 : </center>\n",
    "## <center> QUELQUES EXEMPLES INTRODUCTIFS </center>\n",
    "#### <center>Michal Urdanivia (UGA)</center>\n",
    "#### <center> michal.wong-urdanivia@univ-grenoble-alpes.fr </center>"
   ]
  },
  {
   "cell_type": "markdown",
   "metadata": {},
   "source": [
    "### <center> PRÉSENTATION </center>"
   ]
  },
  {
   "cell_type": "markdown",
   "metadata": {},
   "source": [
    "Dans cette introduction nous allons donner un très court aperçu des possibilités d'utilisation du langage Python pour l'économiste. Pour cela:\n",
    "- nous allons présenter des exemples de simulation de modèles simples de l'économie,\n",
    "- des exemples du travail empirique pouvant être fait."
   ]
  },
  {
   "cell_type": "markdown",
   "metadata": {},
   "source": [
    "**Résumé:** Un notebook Jupyter est un document composé de **cellules** qui contiennent:\n",
    "- Le code de programmation qui dans notre cas sera du code Python.\n",
    "- Du texte dont du texte mathématiques écrit dans le \"style\" de LaTex. Ces cellules sont des cellules *markdown*.\n",
    "- Des résultats issus de l'execution du code programmé."
   ]
  },
  {
   "cell_type": "markdown",
   "metadata": {},
   "source": [
    "Ainsi, ceci est une cellule avec du texte et plus précisément cellule *markdown*."
   ]
  },
  {
   "cell_type": "markdown",
   "metadata": {},
   "source": [
    "On peut y écrire sous forme de listes:\n",
    "\n",
    "1. **Première** entrée.\n",
    "2. *Deuxième* entrée.\n",
    "3. ~~Troisième~~ item entrée barrée."
   ]
  },
  {
   "cell_type": "markdown",
   "metadata": {},
   "source": [
    "On peut écrire de maths, e.g. $\\alpha^2$ ou"
   ]
  },
  {
   "cell_type": "markdown",
   "metadata": {},
   "source": [
    "$$\n",
    "X = \\int_0^{\\infty} \\frac{x}{x+1} \\mathrm{d}x\n",
    "$$"
   ]
  },
  {
   "cell_type": "code",
   "execution_count": null,
   "metadata": {},
   "outputs": [],
   "source": [
    "# Ceci est une cellule de code\n",
    "x = 10   # Ce qui est écrit après un \"#\" est du \"commentaire\" du code, il n'est donc pas exécuté\n",
    "\n",
    "# Procédons à des calculs\n",
    "a = 20\n",
    "b = 30\n",
    "c = a + b\n",
    "\n",
    "# Affichons les résultats (au-dessous de cette cellule)\n",
    "print(c)"
   ]
  },
  {
   "cell_type": "markdown",
   "metadata": {},
   "source": [
    "On peut comme ici écrire un peu plus de texte(cellule *markdown*) et poursuivre les calculs(cellules de code)."
   ]
  },
  {
   "cell_type": "code",
   "execution_count": null,
   "metadata": {},
   "outputs": [],
   "source": [
    "d = c * 2\n",
    "print(d)\n",
    "print(c)"
   ]
  },
  {
   "cell_type": "markdown",
   "metadata": {},
   "source": [
    "**Remarque:** \n",
    "\n",
    "Bien que JupyterLab/Jupyter s'execute avec un serveur, cela se fait sans besoin de connexion web (le chemin étant quelque chose comme *localhost:8888/lab*).<br>"
   ]
  },
  {
   "cell_type": "markdown",
   "metadata": {},
   "source": [
    "**Binder:** Une exception est d'utiliser [binder](https://mybinder.org), dans ce cas JupyterLab s'executera sur un cloud."
   ]
  },
  {
   "cell_type": "markdown",
   "metadata": {},
   "source": [
    "### <center> PROBLÉME CLASSIQUE DU CONSOMMATEUR </center>\n",
    "\n",
    "On considère ici l'exemple classique des manuels de cours de Microéconomie que vous avez vu dans vos études."
   ]
  },
  {
   "cell_type": "markdown",
   "metadata": {},
   "source": [
    "Le problème est le suivant:"
   ]
  },
  {
   "cell_type": "markdown",
   "metadata": {},
   "source": [
    "$$\n",
    "\\begin{align*}\n",
    "V(p_{1},p_{2},I) & = \\max_{q_{1},q_{2}} q_{1}^{\\alpha}q_{2}^{1-\\alpha}\\\\\n",
    " & \\text{s.c.}\\\\\n",
    "p_{1}q_{1}+p_{2}q_{2} & \\leq R, \\quad p_{1}, p_{2}, R > 0, \\quad q_{1},q_{2}  \\geq 0\n",
    "\\end{align*}\n",
    "$$"
   ]
  },
  {
   "cell_type": "markdown",
   "metadata": {},
   "source": [
    "On peut résoudre ce problème **numériquement**."
   ]
  },
  {
   "cell_type": "markdown",
   "metadata": {},
   "source": [
    "1. Choix de **paramètres**:"
   ]
  },
  {
   "cell_type": "code",
   "execution_count": null,
   "metadata": {},
   "outputs": [],
   "source": [
    "alpha = 0.5\n",
    "R = 10\n",
    "p1 = 1\n",
    "p2 = 2"
   ]
  },
  {
   "cell_type": "markdown",
   "metadata": {},
   "source": [
    "2. La **fonction objectif** du consommateur est:"
   ]
  },
  {
   "cell_type": "code",
   "execution_count": null,
   "metadata": {},
   "outputs": [],
   "source": [
    "# On définit la fonction objectif.\n",
    "def val_cons(q1, alpha, R, p1, p2): \n",
    "    \n",
    "    # a. Tout le revenu n'est pas dépensé sur le premier bien\n",
    "    #    Et ce qui est dépensé dans le deuxième est:\n",
    "    q2 = (R - p1*q1) / p2 \n",
    "    \n",
    "    # b. L'utilité obtenue est:\n",
    "    util = q1**alpha*q2**(1-alpha)\n",
    "    \n",
    "    return util # résultat produit par la fonction"
   ]
  },
  {
   "cell_type": "markdown",
   "metadata": {},
   "source": [
    "3. On utilise une fonction du module *scipy* pour **résoudre le problème**."
   ]
  },
  {
   "cell_type": "code",
   "execution_count": null,
   "metadata": {},
   "outputs": [],
   "source": [
    "# a. On importe à partir du module scipy la fonction optimize\n",
    "from scipy import optimize\n",
    "\n",
    "# b. la valeur du choix comme seulement fonction de q1\n",
    "obj = lambda q1: -val_cons(q1, alpha, R, p1, p2)\n",
    "\n",
    "# c. on appelle la fonction minimisatrice\n",
    "solution = optimize.minimize_scalar(obj, bounds=(0, R/p1))\n",
    "\n",
    "# d. affichage des résultats\n",
    "q1 = solution.x\n",
    "q2 = (R - q1*p1) / p2\n",
    "print(q1, q2)"
   ]
  },
  {
   "cell_type": "markdown",
   "metadata": {},
   "source": [
    "**Tâche**: résoudre le même problème avec la fonction d'utilité CES.\n",
    "\n",
    "$$\n",
    "u(q_1,q_2) = (\\alpha q_1^{-\\beta} + (1-\\alpha)q_2^{-\\beta})^{-1/\\beta}\n",
    "$$"
   ]
  },
  {
   "cell_type": "code",
   "execution_count": null,
   "metadata": {},
   "outputs": [],
   "source": [
    "# a. choix des paramètres\n",
    "alpha = 0.5\n",
    "beta = 0.000001\n",
    "R = 10\n",
    "p1 = 1\n",
    "p2 = 2\n",
    "\n",
    "# b. valeur du choix\n",
    "def val_cons_ces(q1, alpha, beta, R, p1, p2):\n",
    "    q2 = (R - p1*q1)/p2\n",
    "    if q1 > 0 and q2 > 0:\n",
    "        util = (alpha*q1**(-beta) + (1 - alpha)*q2**(-beta))**(-1 / beta) \n",
    "    else:\n",
    "        util = 0\n",
    "    return util\n",
    "\n",
    "# c. objectif\n",
    "obj = lambda q1: -val_cons_ces(q1, alpha, beta, R, p1, p2)\n",
    "\n",
    "# d. solution\n",
    "solution = optimize.minimize_scalar(obj, bounds=(0, R/p1))\n",
    "\n",
    "# e. résultat\n",
    "q1 = solution.x\n",
    "q2 = (R - q1 * p1)/p2\n",
    "print(q1, q2)"
   ]
  },
  {
   "cell_type": "markdown",
   "metadata": {},
   "source": [
    "### <center> SIMULATION DU MODÈLE AS-AD </center>\n",
    "\n",
    "**Remarque**: c'est un modèle macroéconomique pour [l'offre et la demande globales dans une économie](https://fr.wikipedia.org/wiki/Mod%C3%A8le_OG-DG)."
   ]
  },
  {
   "cell_type": "markdown",
   "metadata": {},
   "source": [
    "Soit le modèle défini par:\n",
    "\n",
    "$$\n",
    "\\begin{align*}\n",
    "\\hat{y}_{t} &= b\\hat{y}_{t - 1}+\\beta(z_{t} - z_{t-1}) -a\\beta s_{t} + a\\beta\\phi s_{t-1} \\\\\n",
    "\\hat{\\pi}_{t} &= b\\hat{\\pi}_{t - 1}+\\beta\\gamma z_{t} - \\beta\\phi\\gamma z_{t}+\\beta s_{t} - \\beta\\phi s_{t-1} \\\\\n",
    "z_{t} &= \\delta z_{t - 1}+x_{t}, x_{t} \\sim N(0, \\sigma_x^2) \\\\\n",
    "s_{t} &= \\omega s_{t - 1}+c_{t}, c_{t} \\sim N(0, \\sigma_c^2) \\\\\n",
    "b &= \\frac{1 + a\\phi\\gamma}{1 + a\\gamma} \\\\\n",
    "\\beta &= \\frac{1}{1 + a\\gamma}\n",
    "\\end{align*}\n",
    "$$\n",
    "\n",
    "où $\\hat{y}_{t}$ est l'écart de production, $\\hat{\\pi}_{t}$ est l'écart d'inflation, $z_{t}$ est un choc de demande AR(1), et $\\hat{s}_{t}$ est un chox d'offre AR(1)."
   ]
  },
  {
   "cell_type": "markdown",
   "metadata": {},
   "source": [
    "1. Choix de **paramètres**:"
   ]
  },
  {
   "cell_type": "code",
   "execution_count": null,
   "metadata": {},
   "outputs": [],
   "source": [
    "a = 0.4\n",
    "gamma = 0.1\n",
    "phi = 0.9\n",
    "delta = 0.8\n",
    "omega = 0.15\n",
    "sigma_x = 1\n",
    "sigma_c = 0.4\n",
    "T = 100"
   ]
  },
  {
   "cell_type": "markdown",
   "metadata": {},
   "source": [
    "2. Calcul des **paramètres composites**:"
   ]
  },
  {
   "cell_type": "code",
   "execution_count": null,
   "metadata": {},
   "outputs": [],
   "source": [
    "b = (1 + a*phi*gamma)/(1 + a*gamma)\n",
    "beta = 1/(1 + a*gamma) "
   ]
  },
  {
   "cell_type": "markdown",
   "metadata": {},
   "source": [
    "3. Définition des **fonctions du modèle**:"
   ]
  },
  {
   "cell_type": "code",
   "execution_count": null,
   "metadata": {},
   "outputs": [],
   "source": [
    "y_hat_func = lambda y_hat_lag, z,z_lag, s, s_lag: b*y_hat_lag + beta*(z-z_lag) - a*beta*s + a*beta*phi*s_lag\n",
    "pi_hat_func = lambda pi_lag,z,z_lag,s,s_lag: b*pi_lag + beta*gamma*z - beta*phi*gamma*z_lag + beta*s - beta*phi*s_lag\n",
    "z_func = lambda z_lag,x: delta*z_lag + x\n",
    "s_func = lambda s_lag,c: omega*s_lag + c"
   ]
  },
  {
   "cell_type": "markdown",
   "metadata": {},
   "source": [
    "4. On execute la **simulation**:"
   ]
  },
  {
   "cell_type": "code",
   "execution_count": null,
   "metadata": {},
   "outputs": [],
   "source": [
    "import numpy as np # importation du module numpy\n",
    "\n",
    "# a. mise en place du générateur de nombre aléatoires\n",
    "np.random.seed(2015)   \n",
    "\n",
    "# b. affectation des données simulées\n",
    "x = np.random.normal(loc=0, scale=sigma_x, size=T)\n",
    "c = np.random.normal(loc=0, scale=sigma_c, size=T)\n",
    "z = np.zeros(T)\n",
    "s = np.zeros(T)\n",
    "y_hat = np.zeros(T)\n",
    "pi_hat = np.zeros(T)\n",
    "\n",
    "# c. execution de la simulation\n",
    "for t in range(1,T):\n",
    "\n",
    "    # i. actualisation de z et s\n",
    "    z[t] = z_func(z[t-1], x[t])\n",
    "    s[t] = s_func(s[t-1], c[t])\n",
    "\n",
    "    # ii. calcul de y og pi \n",
    "    y_hat[t] = y_hat_func(y_hat[t-1], z[t], z[t-1], s[t], s[t-1])\n",
    "    pi_hat[t] = pi_hat_func(pi_hat[t-1], z[t], z[t-1], s[t], s[t-1])"
   ]
  },
  {
   "cell_type": "markdown",
   "metadata": {},
   "source": [
    "5. **Visualisation** de la simulation:"
   ]
  },
  {
   "cell_type": "code",
   "execution_count": null,
   "metadata": {},
   "outputs": [],
   "source": [
    "import matplotlib.pyplot as plt\n",
    "%matplotlib inline\n",
    "\n",
    "fig = plt.figure()\n",
    "ax = fig.add_subplot(1,1,1)\n",
    "\n",
    "ax.plot(y_hat, label='$\\\\hat{y}$')\n",
    "ax.plot(pi_hat, label='$\\\\hat{\\pi}$')\n",
    "\n",
    "ax.set_xlabel('temps')\n",
    "\n",
    "ax.set_ylabel('pourcentage')\n",
    "ax.set_ylim([-8,8])\n",
    "\n",
    "ax.legend(loc='upper left');"
   ]
  },
  {
   "cell_type": "markdown",
   "metadata": {},
   "source": [
    "On peut aussi utiliser **le style seaborn**:"
   ]
  },
  {
   "cell_type": "code",
   "execution_count": null,
   "metadata": {},
   "outputs": [],
   "source": [
    "plt.style.use('seaborn-whitegrid')\n",
    "\n",
    "fig = plt.figure()\n",
    "ax = fig.add_subplot(1,1,1)\n",
    "\n",
    "ax.plot(y_hat,label='$\\\\hat{y}$')\n",
    "ax.plot(pi_hat,label='$\\\\hat{pi}$')\n",
    "\n",
    "ax.set_xlabel('temps')\n",
    "\n",
    "ax.set_ylabel('poucentage')\n",
    "ax.set_ylim([-8,8])\n",
    "\n",
    "ax.legend(loc='upper left',facecolor='white',frameon='True');"
   ]
  },
  {
   "cell_type": "markdown",
   "metadata": {},
   "source": [
    "### <center> MODULES</center>"
   ]
  },
  {
   "cell_type": "markdown",
   "metadata": {},
   "source": [
    "Un **module** est un fichier **.py**-file avec des fonctions qu'on importe et auxquelle on peut alors faire appel dans le notebook.\n",
    "\n",
    "Vous pouvez ouvrir **monmodule.py** et y jeter un oeil."
   ]
  },
  {
   "cell_type": "code",
   "execution_count": 1,
   "metadata": {},
   "outputs": [],
   "source": [
    "import monmodule"
   ]
  },
  {
   "cell_type": "code",
   "execution_count": 4,
   "metadata": {},
   "outputs": [
    {
     "name": "stdout",
     "output_type": "stream",
     "text": [
      "25\n"
     ]
    }
   ],
   "source": [
    "x = 5\n",
    "y = monmodule.mafonction(x)\n",
    "print(y)"
   ]
  },
  {
   "cell_type": "markdown",
   "metadata": {},
   "source": [
    "# Analyse de données"
   ]
  },
  {
   "cell_type": "markdown",
   "metadata": {},
   "source": [
    "## Enquête Emploi de 2012\n",
    "\n",
    "On utilise un extrait des données de l'enquête emploi de l'Insee pour 2012 pour mesurer l'écart salarial entre femmes et hommes."
   ]
  },
  {
   "cell_type": "code",
   "execution_count": 7,
   "metadata": {},
   "outputs": [],
   "source": [
    "import pandas as pd\n",
    "import seaborn as sns\n",
    "import statsmodels.api as sm\n",
    "import numpy as np"
   ]
  },
  {
   "cell_type": "code",
   "execution_count": 3,
   "metadata": {},
   "outputs": [
    {
     "name": "stdout",
     "output_type": "stream",
     "text": [
      "<class 'pandas.core.frame.DataFrame'>\n",
      "RangeIndex: 31045 entries, 0 to 31044\n",
      "Data columns (total 39 columns):\n",
      " #   Column    Non-Null Count  Dtype  \n",
      "---  ------    --------------  -----  \n",
      " 0   ACTEU     31045 non-null  int64  \n",
      " 1   SEXE      31045 non-null  int64  \n",
      " 2   DDIPL     31045 non-null  int64  \n",
      " 3   FORDAT    31045 non-null  int64  \n",
      " 4   MATRI     31045 non-null  int64  \n",
      " 5   TYPMEN5   31045 non-null  int64  \n",
      " 6   ZUS       31045 non-null  int64  \n",
      " 7   REG       31045 non-null  int64  \n",
      " 8   AG        31045 non-null  int64  \n",
      " 9   AGQ       31045 non-null  int64  \n",
      " 10  AGEQ      31045 non-null  int64  \n",
      " 11  AGE       31045 non-null  int64  \n",
      " 12  AG5       31045 non-null  int64  \n",
      " 13  NBENF3    31045 non-null  int64  \n",
      " 14  NBENF6    31045 non-null  int64  \n",
      " 15  NBENF18   31045 non-null  int64  \n",
      " 16  SALRED    19764 non-null  float64\n",
      " 17  NBHEUR    19764 non-null  float64\n",
      " 18  NATPERC   31045 non-null  int64  \n",
      " 19  NATMERC   31045 non-null  int64  \n",
      " 20  PAIPERC   31045 non-null  int64  \n",
      " 21  PAIMERC   31045 non-null  int64  \n",
      " 22  TRIM      31045 non-null  int64  \n",
      " 23  RGI       31045 non-null  int64  \n",
      " 24  IDENT     31045 non-null  object \n",
      " 25  NOI       31045 non-null  int64  \n",
      " 26  DIP       31045 non-null  int64  \n",
      " 27  DIP11     31045 non-null  int64  \n",
      " 28  CONTRA    16190 non-null  float64\n",
      " 29  CSER      24445 non-null  float64\n",
      " 30  CSPM      31045 non-null  int64  \n",
      " 31  CSPP      31045 non-null  int64  \n",
      " 32  ANNEE     31045 non-null  int64  \n",
      " 33  CHPUB     19764 non-null  float64\n",
      " 34  NAFG4N    19764 non-null  object \n",
      " 35  ANCENTR4  19764 non-null  float64\n",
      " 36  exper     31045 non-null  int64  \n",
      " 37  adfe      31045 non-null  int64  \n",
      " 38  lsalhor   19764 non-null  float64\n",
      "dtypes: float64(7), int64(30), object(2)\n",
      "memory usage: 9.2+ MB\n"
     ]
    }
   ],
   "source": [
    "eemploi = pd.read_csv('/Users/michalurdanivia/Documents/GitHub/Cours-UGA-Python-L3-Eco'\\\n",
    "    '/Autres/Donnees/Enquete_Emploi_2012/eemploi2012_s0.csv', low_memory=False) \n",
    "eemploi = eemploi[['ACTEU', 'SEXE', 'DDIPL', 'FORDAT', 'MATRI', 'TYPMEN5', 'ZUS', 'REG','AG', \n",
    "             'AGQ', 'AGEQ','AGE','AG5','NBENF3', 'NBENF6', 'NBENF18', 'SALRED', 'NBHEUR', \n",
    "             'NATPERC','NATMERC', 'PAIPERC','PAIMERC','TRIM', 'RGI', 'IDENT', 'NOI', \n",
    "             'DIP', 'DIP11','CONTRA','CSER', 'CSPM', 'CSPP', 'ANNEE', 'CHPUB', 'NAFG4N', \n",
    "             'ANCENTR4', 'exper', 'adfe', 'lsalhor']]\n",
    "\n",
    "eemploi.info()"
   ]
  },
  {
   "cell_type": "code",
   "execution_count": 8,
   "metadata": {},
   "outputs": [
    {
     "ename": "SyntaxError",
     "evalue": "invalid syntax (<ipython-input-8-5bbe189cecc2>, line 4)",
     "output_type": "error",
     "traceback": [
      "\u001b[0;36m  File \u001b[0;32m\"<ipython-input-8-5bbe189cecc2>\"\u001b[0;36m, line \u001b[0;32m4\u001b[0m\n\u001b[0;31m    df['afe'] = df['FORDAT'] - (2012 - df['AG'])\u001b[0m\n\u001b[0m    ^\u001b[0m\n\u001b[0;31mSyntaxError\u001b[0m\u001b[0;31m:\u001b[0m invalid syntax\n"
     ]
    }
   ],
   "source": [
    "df = eemploi[(eemploi.ACTEU == 1) & (eemploi.NAFG4N !='00') & (eemploi.CSER !=0)]\n",
    "df = df.dropna()\n",
    "df['lsal'] = np.log(df['SALRED']/df['NBHEUR']\n",
    "df['afe'] = df['FORDAT'] - (2012 - df['AG'])\n",
    "df['exp'] = df['AG'] - df['afe']\n",
    "dummies = df[['DDIPL', 'MATRI', 'REG', 'ZUS', 'CSER', 'NAFG4N', 'ANCENTR4', 'SEXE']]\n",
    "dummies = pd.get_dummies(data = dummies, columns=['DDIPL', 'MATRI', 'REG', 'ZUS', 'CSER', 'NAFG4N', 'ANCENTR4', 'SEXE'])\n",
    "df = pd.concat([df, dummies], axis = 1)\n",
    "listvar = ['lsal', 'exp'] + list(dummies)\n",
    "df[listvar].describe()"
   ]
  },
  {
   "cell_type": "code",
   "execution_count": null,
   "metadata": {},
   "outputs": [],
   "source": [
    "lsal_tab = df.groupby([\"DDIPL\", \"SEXE\", \"CSER\"])['lsal'].mean().unstack(level=\"SEXE\")\n",
    "lsal_tab"
   ]
  },
  {
   "cell_type": "code",
   "execution_count": null,
   "metadata": {},
   "outputs": [],
   "source": [
    "import patsy\n",
    "formula = \"\"\"\n",
    "lsal ~ SEXE_2\n",
    "       + (C(DDIPL) + C(ANCENTR4) + C(NAFG4N) + C(REG) + C(CSER) + C(MATRI))**2 \n",
    "       + exp + I(exp**2) + I(exp**3) + I(exp**4)      \n",
    "\"\"\"\n",
    "Y, X = patsy.dmatrices(formula, df, return_type = \"dataframe\")"
   ]
  },
  {
   "cell_type": "code",
   "execution_count": null,
   "metadata": {},
   "outputs": [],
   "source": [
    "linreg_ols0 = sm.OLS(endog = Y, exog = X[['Intercept','SEXE_2']], missing = 'drop').fit(cov_type='HC0')\n",
    "linreg_ols1 = sm.OLS(endog = Y, exog = X, missing = 'drop').fit(cov_type='HC0')\n",
    "from stargazer.stargazer import Stargazer, LineLocation\n",
    "stargazer = Stargazer([linreg_ols0 , linreg_ols1])\n",
    "stargazer.covariate_order(['SEXE_2'])\n",
    "stargazer"
   ]
  }
 ],
 "metadata": {
  "interpreter": {
   "hash": "6c5e886fea06f7140bdfeaacc5132f10f8431bb82bdf3f614d06b7f9c313022e"
  },
  "kernelspec": {
   "display_name": "Python 3",
   "language": "python",
   "name": "python3"
  },
  "language_info": {
   "codemirror_mode": {
    "name": "ipython",
    "version": 3
   },
   "file_extension": ".py",
   "mimetype": "text/x-python",
   "name": "python",
   "nbconvert_exporter": "python",
   "pygments_lexer": "ipython3",
   "version": "3.8.8"
  },
  "toc-autonumbering": true
 },
 "nbformat": 4,
 "nbformat_minor": 4
}
