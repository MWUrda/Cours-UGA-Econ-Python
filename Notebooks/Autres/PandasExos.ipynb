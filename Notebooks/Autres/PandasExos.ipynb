{
 "cells": [
  {
   "attachments": {},
   "cell_type": "markdown",
   "metadata": {},
   "source": [
    "Exercice:\n",
    "\n",
    "Lire les données localisées ici:\n",
    "\n",
    "url = 'https://www.stata.com/data/jwooldridge/eacsap/hprice.dta'\n",
    "\n",
    "avec pandas.\n",
    "\n",
    "Afficher les premières lignes et calculer des statistiques descriptive."
   ]
  }
 ],
 "metadata": {
  "language_info": {
   "name": "python"
  },
  "orig_nbformat": 4
 },
 "nbformat": 4,
 "nbformat_minor": 2
}
