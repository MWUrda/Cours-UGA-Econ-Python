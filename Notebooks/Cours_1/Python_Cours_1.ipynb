{
 "cells": [
  {
   "cell_type": "markdown",
   "metadata": {},
   "source": [
    "# <center> INTRODUCTION À PYTHON POUR L'ÉCONOMIE APPLIQUÉE</center>\n",
    "## <center> COURS 1 : </center>\n",
    "## <center> BASES DU LANGAGE PYTHON</center>\n",
    "#### <center>Michal Urdanivia (UGA)</center>\n",
    "#### <center> michal.wong-urdanivia@univ-grenoble-alpes.fr </center>"
   ]
  },
  {
   "cell_type": "markdown",
   "metadata": {},
   "source": [
    "### <center> VUE D'ENSEMBLE </center>\n"
   ]
  },
  {
   "cell_type": "markdown",
   "metadata": {},
   "source": [
    "Nous allons introduire un certain nombre d'éléments fondamentaux de Python(objets, variable, opérateurs, classes, méthodes, fonctions, instructions conditionnelles, boucles). Nous apprendrons alors:\n",
    "- A différencier les différents **types** d'objets Python tels que les entiers(type **int**), les décimaux ou **nombres à virgule flottante** (type **float**) que nous appellerons **nombres flottants**, les chaînes de caractère(type **str**), les listes(type **list**), les vecteurs(type **tuple**), les dictionnaires(type **dict**).\n",
    "- A différencier entre les objets immuables(**immutable**), et muables (**mutable**) sur lesquels le **slicing** est possible ce qui nous permettra de traiter de l'emploi de références multiples.\n",
    "- Dans la définition d'une fonction, nous traiterons du concept de **portée**(**scope**)\n",
    "- Enfin, on étudiera assez brièvement des questions sur l'arithmétique des nombres à virgule flottante."
   ]
  },
  {
   "cell_type": "markdown",
   "metadata": {},
   "source": [
    "**Objectif/acquis:** \n",
    "\n",
    "Le contenu de ce notebook et premier cours est assez abstrait relativement à la suite du cours. Le principal acquis escompté est de commencer l'apprentissage d'un vocabulaire/langage avec lequel programmer et poursuivre la suite du cours lequel sera détaillé et approfondi par la suite.\n",
    "\n",
    "**Conseil d'apprentissage**\n",
    "\n",
    "N'essayez pas de mémoriser seulement sur la base de la lecture du notebook. Il vaut mieux que vous copiez et executiez le code en vous efforçant de comprendre celui-ci, que vous jouiez avec lui en le modifiant, en considérant d'autres exemples et manières de faire. Ceci vaut pour le reste du cours.\n"
   ]
  },
  {
   "cell_type": "markdown",
   "metadata": {},
   "source": [
    "**Références:**\n",
    "\n",
    "* **Tutoriel:** Un cours plus détaillé est [ici](https://www.python-course.eu/python3_course.php).\n",
    "* **Markdown:** Toutes le cellules qui contiennent du texte utilisent le *Markdown*. Un guide peut être consulté [ici](https://www.markdownguide.org/basic-syntax/)."
   ]
  },
  {
   "cell_type": "markdown",
   "metadata": {},
   "source": [
    "### <center> FONDAMENTAUX </center>\n",
    "\n",
    "Toutes les variables dans Python font **référence** à un **objet** d'un **type** prédéfini.\n"
   ]
  },
  {
   "cell_type": "markdown",
   "metadata": {},
   "source": [
    "### Types atomiques.\n",
    "\n",
    "Le types atomiques car il ne peut pas être modifié mais seulement remplacé.\n"
   ]
  },
  {
   "cell_type": "markdown",
   "metadata": {},
   "source": [
    "**Entiers (int):** -3, -2, -1, 0, 1, 2, 3, etc."
   ]
  },
  {
   "cell_type": "code",
   "execution_count": 1,
   "metadata": {},
   "outputs": [
    {
     "name": "stdout",
     "output_type": "stream",
     "text": [
      "<class 'int'>\n",
      "1\n"
     ]
    }
   ],
   "source": [
    "x = 1 # La variable x sert de référence pour un objet de type int avec la valeur 1.\n",
    "\n",
    "print(type(x)) # affichage du type de x.\n",
    "print(x) # affichage de la valeur de x."
   ]
  },
  {
   "cell_type": "markdown",
   "metadata": {},
   "source": [
    "**Remarque/conseil:** chaque fois que l'on souhaite des précision sur une fonction on peut commencer par regarder sa description avec `help(fonction)` ou **fonction** est la fonction dont on veut la description. Par exemple:"
   ]
  },
  {
   "cell_type": "code",
   "execution_count": 2,
   "metadata": {},
   "outputs": [
    {
     "name": "stdout",
     "output_type": "stream",
     "text": [
      "Help on built-in function print in module builtins:\n",
      "\n",
      "print(...)\n",
      "    print(value, ..., sep=' ', end='\\n', file=sys.stdout, flush=False)\n",
      "    \n",
      "    Prints the values to a stream, or to sys.stdout by default.\n",
      "    Optional keyword arguments:\n",
      "    file:  a file-like object (stream); defaults to the current sys.stdout.\n",
      "    sep:   string inserted between values, default a space.\n",
      "    end:   string appended after the last value, default a newline.\n",
      "    flush: whether to forcibly flush the stream.\n",
      "\n"
     ]
    }
   ],
   "source": [
    "help(print)"
   ]
  },
  {
   "cell_type": "markdown",
   "metadata": {},
   "source": [
    "**Décimaux/nombres flottants(float)**: 3.14, 2.72, 1.0, etc."
   ]
  },
  {
   "cell_type": "code",
   "execution_count": 3,
   "metadata": {},
   "outputs": [
    {
     "name": "stdout",
     "output_type": "stream",
     "text": [
      "<class 'float'>\n",
      "1.0\n"
     ]
    }
   ],
   "source": [
    "x = 1.0 # La variable x sert de référence pour un objet de type float avec la valeur 1 donné ici sous forme décimale.\n",
    "\n",
    "print(type(x))\n",
    "print(x)"
   ]
  },
  {
   "cell_type": "markdown",
   "metadata": {},
   "source": [
    "**Chaînes de caratères(str)**: \"abc\", \"123\", \"executez cette cellule\", etc."
   ]
  },
  {
   "cell_type": "code",
   "execution_count": 4,
   "metadata": {},
   "outputs": [
    {
     "name": "stdout",
     "output_type": "stream",
     "text": [
      "<class 'str'>\n",
      "abc\n"
     ]
    }
   ],
   "source": [
    "x = 'abc' # La variable x sert de référence pour un objet de type str avec la \"valeur\" abc.\n",
    "\n",
    "print(type(x))\n",
    "print(x)"
   ]
  },
  {
   "cell_type": "markdown",
   "metadata": {},
   "source": [
    "**Remarque:** il est aussi possible d'employer des guillemets doubles, par exemple \"abc\"."
   ]
  },
  {
   "cell_type": "code",
   "execution_count": 5,
   "metadata": {},
   "outputs": [
    {
     "name": "stdout",
     "output_type": "stream",
     "text": [
      "<class 'str'>\n",
      "abc\n"
     ]
    }
   ],
   "source": [
    "x = \"abc\" # La variable x sert de référence pour un objet de type str avec la \"valeur\" abc.\n",
    "\n",
    "print(type(x))\n",
    "print(x)"
   ]
  },
  {
   "cell_type": "markdown",
   "metadata": {},
   "source": [
    "**Booléens**: Vrai/Faux"
   ]
  },
  {
   "cell_type": "code",
   "execution_count": 6,
   "metadata": {},
   "outputs": [
    {
     "name": "stdout",
     "output_type": "stream",
     "text": [
      "<class 'bool'>\n",
      "True\n"
     ]
    }
   ],
   "source": [
    "x = True # La variable x sert de référence pour un objet booléen de valeurs vrai ou faux.\n",
    "print(type(x))\n",
    "print(x)"
   ]
  },
  {
   "cell_type": "markdown",
   "metadata": {},
   "source": [
    "**Types atomiques:**\n",
    "\n",
    "1. Entiers, *int*\n",
    "2. Nombre flottants, *float*\n",
    "3. Chaînes de caractère, *str*\n",
    "4. Booléens, *bool*"
   ]
  },
  {
   "cell_type": "markdown",
   "metadata": {},
   "source": [
    "### Conversion des types\n",
    "\n",
    "Dans certains cas les objets d'un type donné peuvent être convertis en un autre type. Par exemple le type *float* en un type *str*:\n"
   ]
  },
  {
   "cell_type": "code",
   "execution_count": 7,
   "metadata": {},
   "outputs": [
    {
     "name": "stdout",
     "output_type": "stream",
     "text": [
      "1.2 <class 'str'>\n"
     ]
    }
   ],
   "source": [
    "x = 1.2 # La variable x est une référence pour un objet de type float de valeur 1.2.\n",
    "\n",
    "y = str(x) # La variable y est une référence pour un objet de type *str* dont la valeur a été créé à partir de $x$.\n",
    "\n",
    "print(y,type(y))"
   ]
  },
  {
   "cell_type": "markdown",
   "metadata": {},
   "source": [
    "Et aussi à partir du type float au type int:"
   ]
  },
  {
   "cell_type": "code",
   "execution_count": 8,
   "metadata": {},
   "outputs": [
    {
     "name": "stdout",
     "output_type": "stream",
     "text": [
      "2 <class 'int'>\n"
     ]
    }
   ],
   "source": [
    "x = 2.9 # x est une variable de référence pour un objet de type *float*.\n",
    "y = int(x) # La variable y est une référence pour un objet de type *int* dont la valeur a été créé à partir de $x$.\n",
    "\n",
    "print(y,type(y))"
   ]
  },
  {
   "cell_type": "markdown",
   "metadata": {},
   "source": [
    "**Limite:** toutes les conversion ne sont pas possibles, par exemple un objet de type *str* en un objet de type *int*."
   ]
  },
  {
   "cell_type": "code",
   "execution_count": 10,
   "metadata": {},
   "outputs": [
    {
     "name": "stdout",
     "output_type": "stream",
     "text": [
      "peut être fait\n",
      "2\n"
     ]
    }
   ],
   "source": [
    "try: # Un essai du bloc de code suivant.\n",
    "    x = int('222a')\n",
    "    print('peut être fait')\n",
    "    print(x)\n",
    "except: # sauf si une erreur est trouvé dans le code\n",
    "    print('ne peut pas être fait')"
   ]
  },
  {
   "cell_type": "markdown",
   "metadata": {},
   "source": [
    "**Remarque**: l'indentation est requise (typiquement 4 espaces)."
   ]
  },
  {
   "cell_type": "markdown",
   "metadata": {},
   "source": [
    "**Question**: Peut on convertir un booléen `x = False` en un entier?\n",
    "\n",
    "- **A:** No.\n",
    "- **B:** Oui, le résultat est 0.\n",
    "- **C:** Oui, le résultat est 1.\n",
    "- **D:** Oui, le résultat est -1\n",
    "- **E:** Ne sais pas."
   ]
  },
  {
   "cell_type": "code",
   "execution_count": null,
   "metadata": {},
   "outputs": [],
   "source": [
    "# Exemple pour répondre.\n",
    "x = False\n",
    "y = int(x)\n",
    "print(y, type(y))"
   ]
  },
  {
   "cell_type": "markdown",
   "metadata": {},
   "source": [
    "### Opérateurs\n",
    "\n",
    "On peut combiner les variables en appliquant des **opérateurs** (e.g. +, -, /, **). Pour des nombres nous avons:"
   ]
  },
  {
   "cell_type": "code",
   "execution_count": null,
   "metadata": {},
   "outputs": [],
   "source": [
    "x = 3\n",
    "y = 2\n",
    "print(x+y)\n",
    "print(x-y)\n",
    "print(x/y)\n",
    "print(x*y)"
   ]
  },
  {
   "cell_type": "markdown",
   "metadata": {},
   "source": [
    "Pour des objets de type *str* on peut utiliser '+' pour la concaténation:"
   ]
  },
  {
   "cell_type": "code",
   "execution_count": 11,
   "metadata": {},
   "outputs": [
    {
     "name": "stdout",
     "output_type": "stream",
     "text": [
      "abcdef\n"
     ]
    }
   ],
   "source": [
    "x = 'abc'\n",
    "y = 'def'\n",
    "print(x+y)"
   ]
  },
  {
   "cell_type": "markdown",
   "metadata": {},
   "source": [
    "Un objet de type *str* peut être multiplié par un objet de type *int*:"
   ]
  },
  {
   "cell_type": "code",
   "execution_count": 12,
   "metadata": {},
   "outputs": [
    {
     "name": "stdout",
     "output_type": "stream",
     "text": [
      "abcabc\n"
     ]
    }
   ],
   "source": [
    "x = \"abc\"\n",
    "y = 2\n",
    "print(x*y)"
   ]
  },
  {
   "cell_type": "markdown",
   "metadata": {},
   "source": [
    "**Question**: Quel est le résultat de `x = 3**2`?\n",
    "\n",
    "- **A:** `x = 3`.\n",
    "- **B:** `x = 6`.\n",
    "- **C:** `x = 9`.\n",
    "- **D:** `x = 12`.\n",
    "- **E:** Ne sais pas."
   ]
  },
  {
   "cell_type": "markdown",
   "metadata": {},
   "source": [
    "**Réponse:**"
   ]
  },
  {
   "cell_type": "code",
   "execution_count": null,
   "metadata": {},
   "outputs": [],
   "source": [
    "x  = 3**2\n",
    "x"
   ]
  },
  {
   "cell_type": "markdown",
   "metadata": {},
   "source": [
    "**Remarque:** la division convertit les objets de type *int* en objets de type *float*."
   ]
  },
  {
   "cell_type": "code",
   "execution_count": 13,
   "metadata": {},
   "outputs": [
    {
     "name": "stdout",
     "output_type": "stream",
     "text": [
      "4.0 <class 'float'>\n",
      "2 <class 'int'>\n"
     ]
    }
   ],
   "source": [
    "x = 8\n",
    "y = x/2 # division.\n",
    "z = x//3 # division entière.\n",
    "print(y, type(y))\n",
    "print(z, type(z))"
   ]
  },
  {
   "cell_type": "markdown",
   "metadata": {},
   "source": [
    "### Augmentation\n",
    "\n",
    "Les variables peuvent être modifiées **par des opérateurs d'augmentation** (e.g. +=, -=, *=, /=)"
   ]
  },
  {
   "cell_type": "code",
   "execution_count": null,
   "metadata": {},
   "outputs": [],
   "source": [
    "x = 3 \n",
    "print(x)\n",
    "x += 1 # même résultat que x = x + 1.\n",
    "print(x)\n",
    "x *= 2 # même résultat que x = x * 2.\n",
    "print(x)\n",
    "x /= 2 # même résultat que x = x / 2.\n",
    "print(x)"
   ]
  },
  {
   "cell_type": "markdown",
   "metadata": {},
   "source": [
    "### Comparaisons\n",
    "\n",
    "On peut comparer des variables en utilisant les **des opérateurs booléens** (e.g. ==, !=, <, <=, >, >=). \n"
   ]
  },
  {
   "cell_type": "code",
   "execution_count": 14,
   "metadata": {},
   "outputs": [
    {
     "name": "stdout",
     "output_type": "stream",
     "text": [
      "False\n",
      "False\n",
      "True\n",
      "False\n"
     ]
    }
   ],
   "source": [
    "x = 3\n",
    "y = 2\n",
    "z = 10\n",
    "print(x < y) # x est strictement inférieur à y.\n",
    "print(x <= y) # x est inférieur ou égal à y.\n",
    "print(x != y) # x est différent de y.\n",
    "print(x == y) # x est égal à y."
   ]
  },
  {
   "cell_type": "markdown",
   "metadata": {},
   "source": [
    "La comparaison produit une variable booléenne:"
   ]
  },
  {
   "cell_type": "code",
   "execution_count": 15,
   "metadata": {},
   "outputs": [
    {
     "name": "stdout",
     "output_type": "stream",
     "text": [
      "<class 'bool'> False\n"
     ]
    }
   ],
   "source": [
    "z = x < y # z est une variable booléenne.\n",
    "print(type(z), z)"
   ]
  },
  {
   "cell_type": "markdown",
   "metadata": {},
   "source": [
    "### Résumé\n",
    "\n",
    "Les concepts importants à retenir:\n",
    "\n",
    "1. Variable\n",
    "2. Référence\n",
    "3. Objet\n",
    "4. Type (int, float, str, bool)\n",
    "5. Valeur\n",
    "6. Opérateur (+, -, *, **, /, //, % etc.)\n",
    "7. Augmentation (+=, -=, *=, /= etc.)\n",
    "8. Comparaison (==, !=, <, <= etc.)"
   ]
  },
  {
   "cell_type": "markdown",
   "metadata": {},
   "source": [
    "### <center> LE TYPES **CONTAINER** </center>\n",
    "\n",
    "Ce sont des objets qui consistent en plusieurs objets(ils les \"contiennent\"). Par exemple des objets de type atomique. Ce type d'objet est parfois qualifié également de **collection**. "
   ]
  },
  {
   "cell_type": "markdown",
   "metadata": {},
   "source": [
    "### Listes\n",
    "\n",
    "Un premier exemple sont les objets de type **list**.  Ils continnent des **variables** qui chacune servent de **référence**  pour un certain objet."
   ]
  },
  {
   "cell_type": "code",
   "execution_count": 16,
   "metadata": {},
   "outputs": [
    {
     "name": "stdout",
     "output_type": "stream",
     "text": [
      "[1, 'abc'] <class 'list'>\n"
     ]
    }
   ],
   "source": [
    "x = [1,'abc'] # La variable x sert de référence pour un objet de type list qui contient les élément 1 et \"abc\".\n",
    "print(x, type(x))"
   ]
  },
  {
   "cell_type": "markdown",
   "metadata": {},
   "source": [
    "La **longueur** d'un objet de type liste peut être obtenu en appliquant la fonction **len**."
   ]
  },
  {
   "cell_type": "code",
   "execution_count": 18,
   "metadata": {},
   "outputs": [
    {
     "name": "stdout",
     "output_type": "stream",
     "text": [
      "Le nombre d'éléments dans x est 2\n"
     ]
    }
   ],
   "source": [
    "print(f'Le nombre d\\'éléments dans x est {len(x)}')"
   ]
  },
  {
   "cell_type": "markdown",
   "metadata": {},
   "source": [
    "Les objets contenus dans une liste ont la caractéristique d'avoir des indices, et on dit qu'un objet de type liste est **subscriptable**(que l'on peut essayer de traduire par indexable).\n",
    "\n",
    "*Remarque*: le premier indice est *O*."
   ]
  },
  {
   "cell_type": "code",
   "execution_count": null,
   "metadata": {},
   "outputs": [],
   "source": [
    "print(x[0]) # 1er élément.\n",
    "print(x[1]) # 2ème élément."
   ]
  },
  {
   "cell_type": "markdown",
   "metadata": {},
   "source": [
    "Une liste est **muable**(ou modifiable), i.e. on peut modifier ses éléments à la volée, et leur objets de référence."
   ]
  },
  {
   "cell_type": "code",
   "execution_count": 19,
   "metadata": {},
   "outputs": [
    {
     "name": "stdout",
     "output_type": "stream",
     "text": [
      "['def', 2]\n"
     ]
    }
   ],
   "source": [
    "x[0] = 'def'\n",
    "x[1] = 2\n",
    "print(x)"
   ]
  },
  {
   "cell_type": "markdown",
   "metadata": {},
   "source": [
    "et leur ajouter des éléments:"
   ]
  },
  {
   "cell_type": "code",
   "execution_count": 20,
   "metadata": {},
   "outputs": [
    {
     "name": "stdout",
     "output_type": "stream",
     "text": [
      "['def', 2, 'nouvel_élément']\n"
     ]
    }
   ],
   "source": [
    "x.append('nouvel_élément') # ajout d'un nouvel élément à la fin de la liste.\n",
    "print(x)"
   ]
  },
  {
   "cell_type": "markdown",
   "metadata": {},
   "source": [
    "**Lien:** [Pourquoi zéro est le premier indice?](http://python-history.blogspot.com/2013/10/why-python-uses-0-based-indexing.html)  "
   ]
  },
  {
   "cell_type": "markdown",
   "metadata": {},
   "source": [
    "#### Slicing\n",
    "\n",
    "Le **slicing** sur un objet est une opération qui permet d'extraire du contenu de celui-ci. C'est le cas pour les listes.\n",
    "\n",
    "*Remarque:* le slicing ne s'applique pas sur tous les types d'objet."
   ]
  },
  {
   "cell_type": "code",
   "execution_count": 21,
   "metadata": {},
   "outputs": [
    {
     "name": "stdout",
     "output_type": "stream",
     "text": [
      "[0, 1, 2]\n",
      "[1, 2]\n",
      "[0, 1, 2]\n",
      "[1, 2, 3, 4, 5]\n",
      "[0, 1, 2, 3, 4, 5]\n",
      "[0, 1, 2, 3, 4]\n",
      "<class 'list'>\n",
      "<class 'int'>\n"
     ]
    }
   ],
   "source": [
    "x = [0,1,2,3,4,5]\n",
    "print(x[0:3]) # x[0] inclu , x[3] exclu.\n",
    "print(x[1:3])\n",
    "print(x[:3])\n",
    "print(x[1: ])\n",
    "print(x[:99]) # Ceci est particulier à Ptyhon. En général cela génère une erreur.  \n",
    "print(x[:-1]) # x[-1] est le dernier élément.\n",
    "\n",
    "print(type(x[ : -1])) # Le Slicing produit une liste.\n",
    "print(type(x[-1])) # Sauf s'il n'y a qu'un seul élément."
   ]
  },
  {
   "cell_type": "markdown",
   "metadata": {},
   "source": [
    "**Explication.** Les slices sont des intervalles semi-ouverts. i.e. ``x[i : i + n]`` est un intervalle qui commence en ``x[i]`` et crée une liste list de(jusqu'à) ``n`` éléments."
   ]
  },
  {
   "cell_type": "code",
   "execution_count": 22,
   "metadata": {},
   "outputs": [
    {
     "name": "stdout",
     "output_type": "stream",
     "text": [
      "[0, 1, 2]\n",
      "[3, 4]\n",
      "[5]\n"
     ]
    }
   ],
   "source": [
    "# Séparation d'une liste au points x[3] et x[5]: \n",
    "print(x[0:3])\n",
    "print(x[3:5])\n",
    "print(x[5:])"
   ]
  },
  {
   "cell_type": "markdown",
   "metadata": {},
   "source": [
    "**Question**: Considérons le code suivant:"
   ]
  },
  {
   "cell_type": "code",
   "execution_count": null,
   "metadata": {},
   "outputs": [],
   "source": [
    "x = [0,1,2,3,4,5]"
   ]
  },
  {
   "cell_type": "markdown",
   "metadata": {},
   "source": [
    "Quel est le résultat de `print(x[-4 : -2])`?\n",
    "\n",
    "- **A:** [1,2,3]\n",
    "- **B:** [2,3,4]\n",
    "- **C:** [2,3]\n",
    "- **D:** [3,4]\n",
    "- **E:** Ne sais pas."
   ]
  },
  {
   "cell_type": "code",
   "execution_count": null,
   "metadata": {},
   "outputs": [],
   "source": [
    "print(x[-4:-2])\n",
    "print(x[2:4])"
   ]
  },
  {
   "cell_type": "markdown",
   "metadata": {},
   "source": [
    "Pour des explications sur le slicing avec nombres négatifs vous pouvez consulter [celle-ci](https://codingbat.com/doc/python-strings.html), parmi d'autres.\n"
   ]
  },
  {
   "cell_type": "markdown",
   "metadata": {},
   "source": [
    "#### Références multiples.\n",
    "\n",
    "**Important**: Plusieurs variables peuvent servir de référence pour la **même** liste. "
   ]
  },
  {
   "cell_type": "code",
   "execution_count": 23,
   "metadata": {},
   "outputs": [
    {
     "name": "stdout",
     "output_type": "stream",
     "text": [
      "[2, 2, 3]\n"
     ]
    }
   ],
   "source": [
    "x = [1,2,3]\n",
    "y = x # y sert de référence pour la même liste que x.\n",
    "y[0] = 2 # on change le premier élément de la liste y.\n",
    "print(x) # x est aussi modifié car il sert de référence pour la même liste que y."
   ]
  },
  {
   "cell_type": "markdown",
   "metadata": {},
   "source": [
    "Pour savoir si deux variables servent de référence pour un même objet on utilise l'opérateur **is**."
   ]
  },
  {
   "cell_type": "code",
   "execution_count": 24,
   "metadata": {},
   "outputs": [
    {
     "name": "stdout",
     "output_type": "stream",
     "text": [
      "True\n",
      "False\n"
     ]
    }
   ],
   "source": [
    "print(y is x) \n",
    "z = [1,2]\n",
    "w = [1,2] \n",
    "print(z is w) # z et w ont le même contenu numérique, mais ne font pas référence au même objet. "
   ]
  },
  {
   "cell_type": "markdown",
   "metadata": {},
   "source": [
    "**Conclusion:** Le signe `=` copie la référence, mais pas le contenu! Qu'en est-il des types atomiques? "
   ]
  },
  {
   "cell_type": "code",
   "execution_count": 25,
   "metadata": {},
   "outputs": [
    {
     "name": "stdout",
     "output_type": "stream",
     "text": [
      "True\n",
      "15 10\n",
      "False\n"
     ]
    }
   ],
   "source": [
    "z = 10\n",
    "w = z\n",
    "print(z is w) # w est la même référence que z.\n",
    "z += 5\n",
    "print(z, w)\n",
    "print(z is w) # z a été remplacé par l'opérateur d'augmentation. "
   ]
  },
  {
   "cell_type": "markdown",
   "metadata": {},
   "source": [
    "Si une variable est supprimée, l'autre continue de servir de référence pour la même liste."
   ]
  },
  {
   "cell_type": "code",
   "execution_count": 26,
   "metadata": {},
   "outputs": [
    {
     "name": "stdout",
     "output_type": "stream",
     "text": [
      "[2, 2, 3]\n"
     ]
    }
   ],
   "source": [
    "del x # on supprime la variable x.\n",
    "print(y)"
   ]
  },
  {
   "cell_type": "markdown",
   "metadata": {},
   "source": [
    "A l'inverse, une liste peut être copiée avec le module **copy**:"
   ]
  },
  {
   "cell_type": "code",
   "execution_count": 27,
   "metadata": {},
   "outputs": [
    {
     "name": "stdout",
     "output_type": "stream",
     "text": [
      "[2, 2, 3]\n",
      "[1, 2, 3]\n",
      "False\n"
     ]
    }
   ],
   "source": [
    "from copy import copy\n",
    "\n",
    "x = [1, 2, 3]\n",
    "y = copy(x) # y est une copie de x.\n",
    "y[0] = 2\n",
    "print(y)\n",
    "print(x) # x n'est pas modifié quand on modifie y.\n",
    "print(x is y) # ils ne sont pas référence du même objet."
   ]
  },
  {
   "cell_type": "markdown",
   "metadata": {},
   "source": [
    "ou par slicing:"
   ]
  },
  {
   "cell_type": "code",
   "execution_count": 28,
   "metadata": {},
   "outputs": [
    {
     "name": "stdout",
     "output_type": "stream",
     "text": [
      "[2, 2, 3]\n",
      "[1, 2, 3]\n"
     ]
    }
   ],
   "source": [
    "x = [1, 2, 3]\n",
    "y = x[ : ] # y est une copie de x.\n",
    "y[0] = 2\n",
    "print(y)\n",
    "print(x) # x n'est pas modifié quand on modifie y."
   ]
  },
  {
   "cell_type": "markdown",
   "metadata": {},
   "source": [
    "**Point avancé**: Le module **deepcopy** est requis, quand les listes contiennent des objets muables:"
   ]
  },
  {
   "cell_type": "code",
   "execution_count": null,
   "metadata": {},
   "outputs": [],
   "source": [
    "from copy import deepcopy\n",
    "\n",
    "a = [1, 2, 3]\n",
    "x = [a, 2, 3] # x est une liste d'une liste et deux entiers.\n",
    "y1 = copy(x) # y1 est une copie de x\n",
    "y2 = deepcopy(x) # y2 est une deadcopy(\"copie morte\") de x.\n",
    "\n",
    "a[0] = 10 # modification 1.\n",
    "x[-1] = 1 # modification 2.\n",
    "print(x) # Les deux modifications ont eu cours.\n",
    "print(y1) # y1[0] est référence pour la même liste que x[0]. Seule la modification 1 a eu cours.\n",
    "print(y2) # y2[0] est une copie de la liste originelle de référence x[0]."
   ]
  },
  {
   "cell_type": "markdown",
   "metadata": {},
   "source": [
    "**Question**: Considérons le code:"
   ]
  },
  {
   "cell_type": "code",
   "execution_count": null,
   "metadata": {},
   "outputs": [],
   "source": [
    "x = [1, 2, 3]\n",
    "y = [x, x]\n",
    "z = x\n",
    "z[0] = 3\n",
    "z[2] = 1"
   ]
  },
  {
   "cell_type": "markdown",
   "metadata": {},
   "source": [
    "Quel est le résultat de `print(y[0])`?\n",
    "\n",
    "- **A:** 1\n",
    "- **B:** 3\n",
    "- **C:** [3, 2, 1]\n",
    "- **D:** [1, 2, 3]\n",
    "- **E:** Ne sais pas"
   ]
  },
  {
   "cell_type": "markdown",
   "metadata": {},
   "source": [
    "### Tuples\n",
    "\n",
    "Un **tuple** ou vecteur est une **liste immuable**. Extraire de l'information est similaire:"
   ]
  },
  {
   "cell_type": "code",
   "execution_count": 29,
   "metadata": {},
   "outputs": [
    {
     "name": "stdout",
     "output_type": "stream",
     "text": [
      "(1, 2, 3) <class 'tuple'>\n",
      "3\n",
      "(1, 2)\n"
     ]
    }
   ],
   "source": [
    "x = (1, 2, 3) # remarque: parenthèses \"( )\"à la place des crochets \"[ ]\" pour les définir\n",
    "print(x, type(x))\n",
    "print(x[2])\n",
    "print(x[ : 2])"
   ]
  },
  {
   "cell_type": "markdown",
   "metadata": {},
   "source": [
    "Mais il **ne peut pas être modifié** (il est immuable):                                  "
   ]
  },
  {
   "cell_type": "code",
   "execution_count": 30,
   "metadata": {},
   "outputs": [
    {
     "name": "stdout",
     "output_type": "stream",
     "text": [
      "pas de réussite à faire x[0]=2\n",
      "(1, 2, 3)\n"
     ]
    }
   ],
   "source": [
    "try: # essai d'execution du bloc de code suivant\n",
    "    x[0] = 2\n",
    "    print('réussite à faire x[0]=2')\n",
    "except: # si au moins une erreur se produit dans le code précédent\n",
    "    print('pas de réussite à faire x[0]=2')\n",
    "print(x)"
   ]
  },
  {
   "cell_type": "markdown",
   "metadata": {},
   "source": [
    "### Dictionnaires \n",
    "\n",
    "Une **dictionnaire** est un type de **container** dont les éléments sont identifiés par des **clés** plutôt que par des indices. \n",
    "\n",
    "* **Clé:** tout objet **immuable**  peut être une clé .\n",
    "* **Valeurs:** il n'y a pas de contrainte sur celles-ci "
   ]
  },
  {
   "cell_type": "code",
   "execution_count": 32,
   "metadata": {},
   "outputs": [
    {
     "name": "stdout",
     "output_type": "stream",
     "text": [
      "1\n"
     ]
    }
   ],
   "source": [
    "x = {} # création de x comme dictionnaire vide\n",
    "x['abc'] = '1' # clé='abc', valeur = '1'\n",
    "print(x['abc'])\n",
    "x[('abc',1)] = 2 # clé=('abc',1), valeur = 2"
   ]
  },
  {
   "cell_type": "code",
   "execution_count": 33,
   "metadata": {},
   "outputs": [
    {
     "data": {
      "text/plain": [
       "{'abc': '1', ('abc', 1): 2}"
      ]
     },
     "execution_count": 33,
     "metadata": {},
     "output_type": "execute_result"
    }
   ],
   "source": [
    "x"
   ]
  },
  {
   "cell_type": "markdown",
   "metadata": {},
   "source": [
    "Pour extraire les éléments du dictionaire on utilise leurs clés: "
   ]
  },
  {
   "cell_type": "code",
   "execution_count": 34,
   "metadata": {},
   "outputs": [
    {
     "name": "stdout",
     "output_type": "stream",
     "text": [
      "1\n"
     ]
    }
   ],
   "source": [
    "cle = 'abc'\n",
    "valeur = x[cle]\n",
    "print(valeur)"
   ]
  },
  {
   "cell_type": "code",
   "execution_count": null,
   "metadata": {},
   "outputs": [],
   "source": [
    "cle = ('abc',1)\n",
    "value = x[cle]\n",
    "print(valeur)"
   ]
  },
  {
   "cell_type": "markdown",
   "metadata": {},
   "source": [
    "Un dictionaire avec du contenu peut aussi être créé:"
   ]
  },
  {
   "cell_type": "code",
   "execution_count": null,
   "metadata": {},
   "outputs": [],
   "source": [
    "y = {'abc': '1', 'a': 1, 'b': 2, 'c': 3}\n",
    "print(y['c'])"
   ]
  },
  {
   "cell_type": "markdown",
   "metadata": {},
   "source": [
    "Pour *supprimer* le contenu du dictionaire on utilise sa clé:"
   ]
  },
  {
   "cell_type": "code",
   "execution_count": null,
   "metadata": {},
   "outputs": [],
   "source": [
    "print(y)\n",
    "del y['abc']\n",
    "print(y)"
   ]
  },
  {
   "cell_type": "markdown",
   "metadata": {},
   "source": [
    "**Exercice:** Créez un dictionaire appelé `TennisUSNo1_90s` avec les noms Agassi, Courier, Sampras comme valeurs et leurs prénoms comme clés."
   ]
  },
  {
   "cell_type": "markdown",
   "metadata": {},
   "source": [
    "**Réponse:**"
   ]
  },
  {
   "cell_type": "code",
   "execution_count": null,
   "metadata": {},
   "outputs": [],
   "source": [
    "TennisUSNo1_90s = {}\n",
    "TennisUSNo1_90s['André'] = 'Agassi'\n",
    "TennisUSNo1_90s['Jim'] = 'Courier'\n",
    "TennisUSNo1_90s['Pete'] = 'Sampras'\n",
    "\n",
    "grandChelem14 = TennisUSNo1_90s['Pete']\n",
    "print(grandChelem14)"
   ]
  },
  {
   "cell_type": "markdown",
   "metadata": {},
   "source": [
    "### Résumé\n",
    "\n",
    "Nouveaux concepts introduits:\n",
    "\n",
    "1. Type containers (listes, tuples, dictionaires)\n",
    "2. Immuable/muable\n",
    "3. Slicing sur les listes et tuples\n",
    "4. Références multiples(utilisation de copy et deepcopy)\n",
    "5. Clés et valeurs pour les dictionnaires"
   ]
  },
  {
   "cell_type": "markdown",
   "metadata": {},
   "source": [
    "**Remarque:** tous les types atomiques comme immuables, et seulement les chaînes de caractères peuvent être indexables(\"subscriptable\")."
   ]
  },
  {
   "cell_type": "code",
   "execution_count": null,
   "metadata": {},
   "outputs": [],
   "source": [
    "x = 'abcdef'\n",
    "print(x[:3])\n",
    "print(x[3:5])\n",
    "print(x[5:])\n",
    "try:\n",
    "    x[0] = 'f'\n",
    "except:\n",
    "    print('les chaînes de caratères sont immuables ')"
   ]
  },
  {
   "cell_type": "markdown",
   "metadata": {},
   "source": [
    "**Point avancé:** d'autres objets de type container existent e.g. **namedtuple** et **OrderDict** (voir [collections](https://docs.python.org/2/library/collections.html)), et [**sets**](https://docs.python.org/2/library/sets.html)."
   ]
  },
  {
   "cell_type": "markdown",
   "metadata": {},
   "source": [
    "### <center> INSTRUCTIONS CONDITIONNELLES ET BOUCLES </center>"
   ]
  },
  {
   "cell_type": "markdown",
   "metadata": {},
   "source": [
    "### Instructions conditionnelles\n",
    "\n",
    "Il s'agit de faire executer des tâches dans un programme lorsque des conditions précisées dans celui-ci sont vérifiées.\n",
    "\n",
    "Avec Python il s'agit alors d'écrire des **instructions conditionnelles**:"
   ]
  },
  {
   "cell_type": "code",
   "execution_count": 35,
   "metadata": {},
   "outputs": [
    {
     "name": "stdout",
     "output_type": "stream",
     "text": [
      "quatrième possibilité\n"
     ]
    }
   ],
   "source": [
    "x = 3\n",
    "if x < 2: \n",
    "    # sera exécuté si x est inférieur à 2\n",
    "    print('première possibilité')\n",
    "elif x > 4: # \"elif\" pour \"else if\"\n",
    "    # sera exécuté si x n'est pas inférieur à 2 et x est supérieur à 4\n",
    "    print('deuxième possibilité')\n",
    "elif x < 0:\n",
    "    # sera exécuté si x n'est pas inférieur à 2, x n'est pas supérieur à 4\n",
    "    # et x est inférieur à 0\n",
    "    print('troisième possibilité') # remarque: cette condition ne sera jamais vérifiée\n",
    "else:\n",
    "    # era exécuté si x n'est pas inférieur à 2, x n'est pas supérieur à 4\n",
    "    #  et x n'est pas inférieur à 0\n",
    "    print('quatrième possibilité')  "
   ]
  },
  {
   "cell_type": "markdown",
   "metadata": {},
   "source": [
    "**Remarque:**\n",
    "\n",
    "1. \"elif\" est une abréviation de \"else if\" \n",
    "2. L'**indentation** après le \"if\", \"elif\" et \"else\" est exigée(typiquement 4 espaces)"
   ]
  },
  {
   "cell_type": "markdown",
   "metadata": {},
   "source": [
    "Une **formulation équivalente** de l'instruction **if-elif-else** est:"
   ]
  },
  {
   "cell_type": "code",
   "execution_count": 36,
   "metadata": {},
   "outputs": [
    {
     "name": "stdout",
     "output_type": "stream",
     "text": [
      "première possibilité\n",
      "y n'est pas vide\n"
     ]
    }
   ],
   "source": [
    "x = -1\n",
    "cond_1 = x < 2 # un booléen(True/False)\n",
    "cond_2 = x > 4 # un booléen (True/False)\n",
    "cond_3 = x < 0 # un booléen (True/False)\n",
    "if cond_1: \n",
    "    print('première possibilité')\n",
    "elif cond_2:\n",
    "    print('deuxième possibilité')\n",
    "elif cond_3:\n",
    "    print('troisième possibilité')\n",
    "else:\n",
    "    print('quatrième possibilité')\n",
    "\n",
    "y = [1, 2]\n",
    "if y:\n",
    "    print('y n\\'est pas vide')"
   ]
  },
  {
   "cell_type": "markdown",
   "metadata": {},
   "source": [
    "Les instruction précédentes peuvent s'écrire seulement avec des \"if\":"
   ]
  },
  {
   "cell_type": "code",
   "execution_count": 37,
   "metadata": {},
   "outputs": [
    {
     "name": "stdout",
     "output_type": "stream",
     "text": [
      "première possibilité\n"
     ]
    }
   ],
   "source": [
    "if cond_1: \n",
    "    print('première possibilité')\n",
    "if not cond_1 and cond_2:\n",
    "    print('deuxième possibilité')\n",
    "if not (cond_1 or cond_2) and cond_3:\n",
    "    print('troisième possibilité')\n",
    "if not (cond_1 or cond_2 or cond_3):\n",
    "    print('quatrième possibilité')"
   ]
  },
  {
   "cell_type": "markdown",
   "metadata": {},
   "source": [
    "### Boucles simples"
   ]
  },
  {
   "cell_type": "markdown",
   "metadata": {},
   "source": [
    "On souhaite répéter plusieurs fois la même(ou les mêmes) tâche(s). Toutefois une telle répétition prends du temps et est sujette à des erreurs. Par exemple: "
   ]
  },
  {
   "cell_type": "code",
   "execution_count": 38,
   "metadata": {},
   "outputs": [
    {
     "name": "stdout",
     "output_type": "stream",
     "text": [
      "[0, 1, 4, 9, 16]\n"
     ]
    }
   ],
   "source": [
    "x_list = [0,1,2,3,4]\n",
    "y_list = [] # liste vide\n",
    "y_list.append(x_list[0]**2)\n",
    "y_list.append(x_list[1]**2)\n",
    "y_list.append(x_list[2]**2)\n",
    "y_list.append(x_list[3]**2)\n",
    "y_list.append(x_list[4]**2)\n",
    "print(y_list)"
   ]
  },
  {
   "cell_type": "markdown",
   "metadata": {},
   "source": [
    "On peut néanmoins éviter la répétition du code en utilisant une instruction avec boucle de type **for**:"
   ]
  },
  {
   "cell_type": "code",
   "execution_count": 39,
   "metadata": {},
   "outputs": [
    {
     "name": "stdout",
     "output_type": "stream",
     "text": [
      "[0, 1, 4, 9, 16]\n"
     ]
    }
   ],
   "source": [
    "y_list = [] # liste vide\n",
    "for x in x_list:\n",
    "    y_list.append(x**2)\n",
    "print(y_list)"
   ]
  },
  {
   "cell_type": "markdown",
   "metadata": {},
   "source": [
    "Avec une boucle de type **while**:"
   ]
  },
  {
   "cell_type": "code",
   "execution_count": 40,
   "metadata": {},
   "outputs": [
    {
     "name": "stdout",
     "output_type": "stream",
     "text": [
      "[0, 1, 4, 9, 16]\n"
     ]
    }
   ],
   "source": [
    "y_list = [] # liste vide\n",
    "i = 0\n",
    "while i <= 4:\n",
    "    y_list.append(x_list[i]**2)\n",
    "    i += 1\n",
    "print(y_list)"
   ]
  },
  {
   "cell_type": "markdown",
   "metadata": {},
   "source": [
    "Avec une boucle de type **for loop**  parcourant une série d'entiers(utilisant **range**):"
   ]
  },
  {
   "cell_type": "code",
   "execution_count": 42,
   "metadata": {},
   "outputs": [
    {
     "name": "stdout",
     "output_type": "stream",
     "text": [
      "0\n",
      "1\n",
      "2\n",
      "3\n",
      "4\n",
      "[0, 1, 4, 9, 16]\n"
     ]
    }
   ],
   "source": [
    "y_list = [] # liste vide\n",
    "for x in range(5):\n",
    "    print(x)\n",
    "    y_list.append(x**2)\n",
    "print(y_list)"
   ]
  },
  {
   "cell_type": "markdown",
   "metadata": {},
   "source": [
    "Avec une **list comprehension**:"
   ]
  },
  {
   "cell_type": "code",
   "execution_count": 43,
   "metadata": {},
   "outputs": [
    {
     "name": "stdout",
     "output_type": "stream",
     "text": [
      "[0, 1, 4, 9, 16]\n"
     ]
    }
   ],
   "source": [
    "y_list = [x**2 for x in x_list]\n",
    "print(y_list)"
   ]
  },
  {
   "cell_type": "markdown",
   "metadata": {},
   "source": [
    "**Remarque:** L'utilisation d'une **list comprehension** produit le code le plus court et rapide, mais il peu devenir confus dans des situations plus compliquées."
   ]
  },
  {
   "cell_type": "markdown",
   "metadata": {},
   "source": [
    "### Boucles plus complexes"
   ]
  },
  {
   "cell_type": "markdown",
   "metadata": {},
   "source": [
    "Les boucle **for** peuvent aussi être énumérées(avec **enumerate**):"
   ]
  },
  {
   "cell_type": "code",
   "execution_count": null,
   "metadata": {},
   "outputs": [],
   "source": [
    "y_list = []\n",
    "for i,x in enumerate(x_list):\n",
    "    print(i)\n",
    "    y_list.append(x**2)\n",
    "print(y_list)"
   ]
  },
  {
   "cell_type": "markdown",
   "metadata": {},
   "source": [
    "On peut aussi affiner les boucles avec **continue** et **break**."
   ]
  },
  {
   "cell_type": "code",
   "execution_count": null,
   "metadata": {},
   "outputs": [],
   "source": [
    "y_list = []\n",
    "x_list = [*range(10)] \n",
    "# Création d'une liste à partir d'une série d'entiers \n",
    "# identique à \n",
    "# x_list = list(range(10))\n",
    "\n",
    "for i,x in enumerate(x_list):\n",
    "    if i == 1:\n",
    "        continue # aller à l'itération suivante\n",
    "    elif i == 4:\n",
    "        break # arrêt prématuré de la boucle\n",
    "    y_list.append(x**2)\n",
    "print(y_list)"
   ]
  },
  {
   "cell_type": "markdown",
   "metadata": {},
   "source": [
    "**Exercice:** Créez une liste avec les 10 premiers nombres impaires positifs.\n",
    "\n",
    "**Remarque**: c'est un nombre de la forme $2n - 1$ pour $n = 1, 2, \\ldots$, (plus de détails [ici](https://lexique.netmath.ca/nombre-impair/) par exemple)"
   ]
  },
  {
   "cell_type": "markdown",
   "metadata": {},
   "source": [
    "**Réponse:**"
   ]
  },
  {
   "cell_type": "code",
   "execution_count": null,
   "metadata": {},
   "outputs": [],
   "source": [
    "my_list = []\n",
    "for i in range(10):\n",
    "    my_list.append((i+1)*2-1)\n",
    "print(my_list)"
   ]
  },
  {
   "cell_type": "markdown",
   "metadata": {},
   "source": [
    "**Zip:** une boucle peut porter sur 2 listes simultanément:"
   ]
  },
  {
   "cell_type": "code",
   "execution_count": null,
   "metadata": {},
   "outputs": [],
   "source": [
    "x = ['I', 'II', 'III']\n",
    "y = ['a', 'b', 'c']\n",
    "\n",
    "for i,j in zip(x,y):\n",
    "    print(i+j)"
   ]
  },
  {
   "cell_type": "markdown",
   "metadata": {},
   "source": [
    "Le module **itertools** permets de faire des boucles compliquées de manière astucieuse. Par exemple, une boucle sur toutes les combinaisons d'éléments dans 2 listes:"
   ]
  },
  {
   "cell_type": "code",
   "execution_count": null,
   "metadata": {},
   "outputs": [],
   "source": [
    "for i in x:\n",
    "    for j in y:\n",
    "        print(i+j)"
   ]
  },
  {
   "cell_type": "code",
   "execution_count": null,
   "metadata": {},
   "outputs": [],
   "source": [
    "import itertools as it\n",
    "for i,j in it.product(x,y):\n",
    "    print(i,j)"
   ]
  },
  {
   "cell_type": "markdown",
   "metadata": {},
   "source": [
    "### Dictionnaires"
   ]
  },
  {
   "cell_type": "markdown",
   "metadata": {},
   "source": [
    "Nous pouvons faire des boucles sur les clés, les valeurs, ou les valeurs-clés d'un dictionaire."
   ]
  },
  {
   "cell_type": "code",
   "execution_count": null,
   "metadata": {},
   "outputs": [],
   "source": [
    "mon_dico = {'a': '-', 'b': '--', 'c': '---'}\n",
    "for key in mon_dico.keys():\n",
    "    print(key)"
   ]
  },
  {
   "cell_type": "code",
   "execution_count": null,
   "metadata": {},
   "outputs": [],
   "source": [
    "for val in mon_dico.values():\n",
    "    print(val)"
   ]
  },
  {
   "cell_type": "code",
   "execution_count": null,
   "metadata": {},
   "outputs": [],
   "source": [
    "for key,val in mon_dico.items():\n",
    "    print(key,val)"
   ]
  },
  {
   "cell_type": "markdown",
   "metadata": {},
   "source": [
    "On peut aussi vérifier l'existence d'une clé:"
   ]
  },
  {
   "cell_type": "code",
   "execution_count": null,
   "metadata": {},
   "outputs": [],
   "source": [
    "if 'a' in mon_dico:\n",
    "    print('a est dans mon_dico avec la valeur ' + mon_dico['a'])\n",
    "else:\n",
    "    print('a n\\'est pas dans mon_dico')"
   ]
  },
  {
   "cell_type": "code",
   "execution_count": null,
   "metadata": {},
   "outputs": [],
   "source": [
    "if 'd' in mon_dico:\n",
    "    print('d est dans mon_dico avec la valeur ' + mon_dico['d'])\n",
    "else:\n",
    "    print('d n\\'est pas dans mon_dico')"
   ]
  },
  {
   "cell_type": "markdown",
   "metadata": {},
   "source": [
    "**Remarque:** les types dictionnaires peuvent faire ces opération rapidement sans qu'il n'y ait besoin d'une boucle sur tous leurs éléménts. Il convient donc d'utiliser les dictionnaires quand il est pertinent de faire ce type de vérifications."
   ]
  },
  {
   "cell_type": "markdown",
   "metadata": {},
   "source": [
    "### Résumé"
   ]
  },
  {
   "cell_type": "markdown",
   "metadata": {},
   "source": [
    "Les nouveaux concepts sont:\n",
    "\n",
    "1. Les instructions conditionnelles (if, elif, else)\n",
    "2. Les boucles (for, while, range, enumerate, continue, break, zip)\n",
    "3. Les list comprehension\n",
    "4. Itertools"
   ]
  },
  {
   "cell_type": "markdown",
   "metadata": {},
   "source": [
    "### <center> FONCTIONS </center>"
   ]
  },
  {
   "cell_type": "markdown",
   "metadata": {},
   "source": [
    "Commençons par une fonction simple avec un seul **argument** et produisant un seul **résultat**:"
   ]
  },
  {
   "cell_type": "code",
   "execution_count": null,
   "metadata": {},
   "outputs": [],
   "source": [
    "def f(x):\n",
    "    return x**2\n",
    "\n",
    "print(f(2))"
   ]
  },
  {
   "cell_type": "markdown",
   "metadata": {},
   "source": [
    "**Remarque:** L'identantion après le `def` est là encore demandée (typiquement 4 espaces)."
   ]
  },
  {
   "cell_type": "markdown",
   "metadata": {},
   "source": [
    "Sur une seule ligne la fonction peut définie par une  formulation **lambda**:"
   ]
  },
  {
   "cell_type": "code",
   "execution_count": null,
   "metadata": {},
   "outputs": [],
   "source": [
    "g = lambda x: x**2 \n",
    "print(g(2))"
   ]
  },
  {
   "cell_type": "markdown",
   "metadata": {},
   "source": [
    "**Remarque:** des détails sur la fonction **lambda** peuvent être obtenus [ici](https://python.developpez.com/cours/DiveIntoPython/php/frdiveintopython/power_of_introspection/lambda_functions.php#d0e10456), ou [ici](https://realpython.com/lessons/where-are-lambda-functions-useful/#transcript)"
   ]
  },
  {
   "cell_type": "markdown",
   "metadata": {},
   "source": [
    "On peut aisément définir des fonction avec plusieurs arguments:"
   ]
  },
  {
   "cell_type": "code",
   "execution_count": null,
   "metadata": {},
   "outputs": [],
   "source": [
    "def f(x,y):\n",
    "    return x**2 + y**2\n",
    "\n",
    "print(f(2,2))"
   ]
  },
  {
   "cell_type": "markdown",
   "metadata": {},
   "source": [
    "Et plusieurs résultats:"
   ]
  },
  {
   "cell_type": "code",
   "execution_count": null,
   "metadata": {},
   "outputs": [],
   "source": [
    "def f(x,y):\n",
    "    z = x**2\n",
    "    q = y**2\n",
    "    return z,q\n",
    "\n",
    "resultat_total = f(2,2) # produit un seul \"paquet\" de résultats de type tuple\n",
    "print(resultat_total)"
   ]
  },
  {
   "cell_type": "markdown",
   "metadata": {},
   "source": [
    "Le résultat peut être défait/décomposé:"
   ]
  },
  {
   "cell_type": "code",
   "execution_count": null,
   "metadata": {},
   "outputs": [],
   "source": [
    "z,q = resultat_total # on défait le paquet de résultats\n",
    "print(z)\n",
    "print(q)"
   ]
  },
  {
   "cell_type": "markdown",
   "metadata": {},
   "source": [
    "### Fonctions sans résultats..."
   ]
  },
  {
   "cell_type": "markdown",
   "metadata": {},
   "source": [
    "Les fonctions sans aucun résultat peuvent s'avérer utiles quand les arguments sont muables:"
   ]
  },
  {
   "cell_type": "code",
   "execution_count": null,
   "metadata": {},
   "outputs": [],
   "source": [
    "def f(x): # on suppose que l'argument x est une liste\n",
    "    nouvel_element = x[-1]+1\n",
    "    x.append(nouvel_element) \n",
    "    \n",
    "x = [1,2,3] # liste de base\n",
    "f(x) # mise à jour de la liste(joignant l'élément 4)\n",
    "f(x) # mise à jour de la liste(joignant l'élément 5)\n",
    "f(x)\n",
    "print(x)"
   ]
  },
  {
   "cell_type": "markdown",
   "metadata": {},
   "source": [
    "Remarque: ceci est appelé **effet de bord**([traduction](https://fr.wikipedia.org/wiki/Effet_de_bord_(informatique)) de side effect), et il vaut mieux l'éviter. "
   ]
  },
  {
   "cell_type": "markdown",
   "metadata": {},
   "source": [
    "### Mots-clés comme arguments"
   ]
  },
  {
   "cell_type": "markdown",
   "metadata": {},
   "source": [
    "Les arguments d'une fonction peuvent aussi être formulés sous forme de mots-clé et avec des valeurs par défaut(au lieu d'arguments positionnels):"
   ]
  },
  {
   "cell_type": "code",
   "execution_count": null,
   "metadata": {},
   "outputs": [],
   "source": [
    "def f(x,y,a=2,b=2):\n",
    "    return x**a + y**b\n",
    "\n",
    "print(f(2,4)) # 2**2 + 2**2\n",
    "print(f(2,2,b=3)) # 2**3 + 2**2\n",
    "print(f(2,2,a=3,b=3)) # 2**3 + 2**3"
   ]
  },
  {
   "cell_type": "markdown",
   "metadata": {},
   "source": [
    "**Remarque:** les mots-clés doivent apparaître après les arguments positionnels."
   ]
  },
  {
   "cell_type": "markdown",
   "metadata": {},
   "source": [
    "**Point avancé:** on peut aussi utiliser des mots-clés comme arguments qui restent non définis:"
   ]
  },
  {
   "cell_type": "code",
   "execution_count": null,
   "metadata": {},
   "outputs": [],
   "source": [
    "def f(**kwargs):\n",
    "    # kwargs (= \"keyword arguments\") est un dictionnaire\n",
    "    for key,value in kwargs.items():\n",
    "        print(key,value)\n",
    "f(a='abc',b='2',c=[1,2,3])"
   ]
  },
  {
   "cell_type": "markdown",
   "metadata": {},
   "source": [
    "et ces mots-clé peuvent être obtenus en décomposant/défaisant le dictionnaire: "
   ]
  },
  {
   "cell_type": "code",
   "execution_count": null,
   "metadata": {},
   "outputs": [],
   "source": [
    "mon_dico = {'a': 'abc', 'b': '2', 'c': [1,2,3]}\n",
    "f(**mon_dico)"
   ]
  },
  {
   "cell_type": "markdown",
   "metadata": {},
   "source": [
    "**Remarque:** ce qui précéde fait partie des concepts de [**packing** et **unpacking**](https://deusyss.developpez.com/tutoriels/Python/args_kwargs/)"
   ]
  },
  {
   "cell_type": "markdown",
   "metadata": {},
   "source": [
    "### Une fonction est un objet"
   ]
  },
  {
   "cell_type": "markdown",
   "metadata": {},
   "source": [
    "Une fonction est un objet et elle peut être un **argument** d'une autre fonction."
   ]
  },
  {
   "cell_type": "code",
   "execution_count": null,
   "metadata": {},
   "outputs": [],
   "source": [
    "def f(x):\n",
    "    return x**2\n",
    "\n",
    "def g(x,h):\n",
    "    temp = h(x) # appel de la fonction h(.) avec l'argument x\n",
    "    return temp+1\n",
    "\n",
    "print(g(2,f))"
   ]
  },
  {
   "cell_type": "markdown",
   "metadata": {},
   "source": [
    "### Concept de portée(scope)"
   ]
  },
  {
   "cell_type": "markdown",
   "metadata": {},
   "source": [
    "**Point important:** les variables dans les fonctions peuvent être **locales** or **globales** dans leur **portée**.  "
   ]
  },
  {
   "cell_type": "code",
   "execution_count": null,
   "metadata": {},
   "outputs": [],
   "source": [
    "a = 2 # variable globale\n",
    "def f(x):\n",
    "    return x**a # a est globale\n",
    "\n",
    "def g(x,a=2):\n",
    "    # la valeur par défaut de a est fixe au moment de définir la fonction\n",
    "    return x**a \n",
    "\n",
    "def h(x):\n",
    "    a = 2 # a est locale\n",
    "    return x**a\n",
    "\n",
    "print(f(2), g(2), h(2))\n",
    "print('augmentant la variable globale:')\n",
    "a += 1 \n",
    "print(f(2), g(2), h(2)) # le résultat ne change que pour f"
   ]
  },
  {
   "cell_type": "markdown",
   "metadata": {},
   "source": [
    "**Conseil:** ne pas se fier au variables globales, elles rendent difficile la compréhension du fonctionnement du code."
   ]
  },
  {
   "cell_type": "markdown",
   "metadata": {},
   "source": [
    "### Résumé"
   ]
  },
  {
   "cell_type": "markdown",
   "metadata": {},
   "source": [
    "**Fonctions:** \n",
    "\n",
    "1. ce sont des **objets**\n",
    "2. peuvent ou non avoir plusieurs **arguments** et produire plusieurs **résultats**\n",
    "3. peuvent avoir des arguments **positionnels** et des arguments définis par des **mots-clés**\n",
    "4. peuvent utiliser des variables **locales** ou **globales** variables (**portée/scope**)"
   ]
  },
  {
   "cell_type": "markdown",
   "metadata": {},
   "source": [
    "**Exercice:** programmez une fonction dont le résultat est le nom complet d'une personne à partir de son prénom et nom, et avec son deuxième prénom comme paramètre optionnel définit en tant que mot-clé et par défaut une valeur vide."
   ]
  },
  {
   "cell_type": "markdown",
   "metadata": {},
   "source": [
    "**Réponse:**"
   ]
  },
  {
   "cell_type": "code",
   "execution_count": null,
   "metadata": {},
   "outputs": [],
   "source": [
    "def nom_complet_v1(prenom,nom,prenom2=''):\n",
    "    nom_c = prenom\n",
    "    if prenom2 != '':\n",
    "        nom_c += ' '\n",
    "        nom_c += prenom2\n",
    "    nom_c += ' '\n",
    "    nom_c += nom\n",
    "    return nom_c\n",
    "    \n",
    "print(nom_complet_v1('Michal','Urdanivia','\"Economiste/Econometre\"'))"
   ]
  },
  {
   "cell_type": "markdown",
   "metadata": {},
   "source": [
    "**Réponse alternative** (plus avancée sur la base de listes):"
   ]
  },
  {
   "cell_type": "code",
   "execution_count": null,
   "metadata": {},
   "outputs": [],
   "source": [
    "def nom_comple_v2(prenom,nom,prenom2=''):\n",
    "    nom_c = [prenom]\n",
    "    \n",
    "    if prenom2 != '':\n",
    "        nom_c.append(prenom2)\n",
    "        \n",
    "    nom_c.append(nom)\n",
    "    return ' '.join(nom_c)\n",
    "\n",
    "print(nom_comple_v2('Michal','Urdanivia','\"Economiste/Econometre\"'))"
   ]
  },
  {
   "cell_type": "markdown",
   "metadata": {},
   "source": [
    "### <center>ARITHMÉTIQUE DES NOMBRES FLOTTANTS</center>"
   ]
  },
  {
   "cell_type": "markdown",
   "metadata": {},
   "source": [
    "### Présentation"
   ]
  },
  {
   "cell_type": "markdown",
   "metadata": {},
   "source": [
    "L'ensemble des nombres réels est indénombrable et l'ordinateur utilise l'approximation de la forme suivante de la droite des réels:\n",
    "\n",
    "$$\\text{nombre} = \\text{signifiant} \\times \\text{base}^{exposant}$$\n",
    "\n",
    "* **significant**: 1 bit, positif ou négatif\n",
    "* **base**: 52 bits\n",
    "* **exposant**: 11 bits\n",
    "\n",
    "Les nombres ne sont donc pas représentés, mais approchés."
   ]
  },
  {
   "cell_type": "code",
   "execution_count": null,
   "metadata": {},
   "outputs": [],
   "source": [
    "x = 0.1\n",
    "print(f'{x:.100f}') # affichage de x avec 100 chiffres après la virgule\n",
    "x = 17.2\n",
    "print(f'{x:.100f}') # affichage de x avec 100 chiffres après la virgule"
   ]
  },
  {
   "cell_type": "markdown",
   "metadata": {},
   "source": [
    "Des simples sommes peuvent par conséquent donner des résultats différents de ceux à quoi on s'attend:"
   ]
  },
  {
   "cell_type": "code",
   "execution_count": null,
   "metadata": {},
   "outputs": [],
   "source": [
    "print(0.1 + 0.1 + 0.1 + 0.1 + 0.1 + 0.1 + 0.1 + 0.1 + 0.1 + 0.1)"
   ]
  },
  {
   "cell_type": "markdown",
   "metadata": {},
   "source": [
    "Et également surprenant:"
   ]
  },
  {
   "cell_type": "code",
   "execution_count": null,
   "metadata": {},
   "outputs": [],
   "source": [
    "print(0.1 == 0.10000000000000001)"
   ]
  },
  {
   "cell_type": "markdown",
   "metadata": {},
   "source": [
    "**Comparer des nombres flottants** est toujours problématique.\n",
    "\n",
    "On sait que:\n",
    "\n",
    "$$\\frac{a \\cdot c}{b \\cdot c} = \\frac{a}{b},$$\n",
    "\n",
    "mais:"
   ]
  },
  {
   "cell_type": "code",
   "execution_count": null,
   "metadata": {},
   "outputs": [],
   "source": [
    "a = 0.001\n",
    "b = 11.11\n",
    "c = 1000\n",
    "test = (a*c)/(b*c) == a/b\n",
    "print(test)"
   ]
  },
  {
   "cell_type": "markdown",
   "metadata": {},
   "source": [
    "Souvent cependant arrondir les nombres vers un proche voisin peut s'avérer utile:"
   ]
  },
  {
   "cell_type": "code",
   "execution_count": null,
   "metadata": {},
   "outputs": [],
   "source": [
    "test = round((a*c)/(b*c), 10) == round(a/b, 10)\n",
    "print(test)"
   ]
  },
  {
   "cell_type": "markdown",
   "metadata": {},
   "source": [
    "On peut aussi utiliser la fonction **np.isclose** pour tester si deux floats sont numériquement proches, i.e. pratiquement les mêmes:"
   ]
  },
  {
   "cell_type": "code",
   "execution_count": null,
   "metadata": {},
   "outputs": [],
   "source": [
    "import numpy as np\n",
    "print(np.isclose((a*c)/(b*c), a/b))"
   ]
  },
  {
   "cell_type": "markdown",
   "metadata": {},
   "source": [
    "**Underflow**: la multiplication de plusieurs éléments très petits peut donner exactement zéro:"
   ]
  },
  {
   "cell_type": "code",
   "execution_count": null,
   "metadata": {},
   "outputs": [],
   "source": [
    "x = 1e-60\n",
    "y = 1\n",
    "for _ in range(6):\n",
    "    y *= x\n",
    "    print(y)"
   ]
  },
  {
   "cell_type": "markdown",
   "metadata": {},
   "source": [
    "**Overflow**: quand les résultats intermédiaires sont \"trop gros\", le résultat final peut être erroné ou impossible à calculer."
   ]
  },
  {
   "cell_type": "code",
   "execution_count": null,
   "metadata": {},
   "outputs": [],
   "source": [
    "x = 1.0\n",
    "y = 2.7\n",
    "for i in range(200):    \n",
    "    x *= (i+1)\n",
    "    y *= (i+1) \n",
    "print(y/x) # devrait être 2.7\n",
    "print(x,y)"
   ]
  },
  {
   "cell_type": "markdown",
   "metadata": {},
   "source": [
    "**Remarque:** `nan` n'est pas un nombre. `inf` est l'infini."
   ]
  },
  {
   "cell_type": "markdown",
   "metadata": {},
   "source": [
    "**Remarque:** l'ordre dans les additions compte, mais pas plus que çà:"
   ]
  },
  {
   "cell_type": "code",
   "execution_count": null,
   "metadata": {},
   "outputs": [],
   "source": [
    "sum1 = 10001234.0 + 0.12012 + 0.12312 + 1e-5\n",
    "sum2 = 1e-5 + 0.12312 + 0.12012 + 10001234.0\n",
    "print(sum1-sum2)"
   ]
  },
  {
   "cell_type": "markdown",
   "metadata": {},
   "source": [
    "\n",
    "### Résumé"
   ]
  },
  {
   "cell_type": "markdown",
   "metadata": {},
   "source": [
    "Principaux points à retenir:\n",
    "\n",
    "1. L'ordinateur fait des approximations pour les nombres décimaux!\n",
    "2. **Ne jamais comparer les flottants avec une égalité** (n'employer que des inégalités strictes)\n",
    "3. L'underflow et l'overflow peuvent créer des problèmes (pas tellement importants dans la pratique) \n",
    "\n",
    "Pour plus de détail consultez [ici](https://docs.python.org/3/tutorial/floatingpoint.html).\n",
    "\n",
    "**Vidéos:**\n",
    "\n",
    "* [Why computers are bad at algebra - Infinite Series](https://www.youtube.com/watch?v=pQs_wx8eoQ8)\n",
    "* [Floating point numbers - Computerphile](https://www.youtube.com/watch?v=PZRI1IfStY0)ç"
   ]
  },
  {
   "cell_type": "markdown",
   "metadata": {},
   "source": [
    "### <center> CLASSES(OBJETS DÉFINIS PAR L'UTILISATEUR) </center>"
   ]
  },
  {
   "cell_type": "markdown",
   "metadata": {},
   "source": [
    "**Point avancé:** de nouveaux types d'objets peuvent être définis en utilisant les **classes**."
   ]
  },
  {
   "cell_type": "code",
   "execution_count": null,
   "metadata": {},
   "outputs": [],
   "source": [
    "class humain():\n",
    "    \n",
    "    def __init__(self,name,taille,poids): # convoqué au moment de la création\n",
    "        \n",
    "        # sauvegarde des inputs comme attributs\n",
    "        self.name = name # un attribut\n",
    "        self.taille = taille # un attribut\n",
    "        self.poids = poids # un attribut\n",
    "    \n",
    "    def imc(self): # une méthode\n",
    "        \n",
    "        imc = self.poids/(self.taille/100)**2 # calcul de imc\n",
    "        return imc # output imc\n",
    "    \n",
    "    def print_imc(self):\n",
    "        print(self.imc())\n"
   ]
  },
  {
   "cell_type": "markdown",
   "metadata": {},
   "source": [
    "Une classe utilisée comme suit:"
   ]
  },
  {
   "cell_type": "code",
   "execution_count": null,
   "metadata": {},
   "outputs": [],
   "source": [
    "# a. on crée une instance de l'objet humain appelé \"roger\"        \n",
    "roger = humain('Roger F',185,85) # taille=185, poids=85\n",
    "print(type(roger))\n",
    "\n",
    "# b. affichage d'un attribut\n",
    "print(roger.taille)\n",
    "\n",
    "# c. affichage d'un résultat en utilisant une méthode\n",
    "print(roger.imc())"
   ]
  },
  {
   "cell_type": "markdown",
   "metadata": {},
   "source": [
    "**Les méthodes** sont comme les fonctions, mais elle peuvent utiliser automatiquement tous les attributs de la classe(sauvegardés dans *self.*) sans les prendre en tant qu'arguments."
   ]
  },
  {
   "cell_type": "markdown",
   "metadata": {},
   "source": [
    "Les **attributs** peuvent être modifiés avec la notation du type **instance.attribut**. Dans l'exemple précédent"
   ]
  },
  {
   "cell_type": "code",
   "execution_count": null,
   "metadata": {},
   "outputs": [],
   "source": [
    "roger.taille = 195\n",
    "print(roger.taille)\n",
    "print(roger.imc())"
   ]
  },
  {
   "cell_type": "markdown",
   "metadata": {},
   "source": [
    "Ou avec les notations **setattr** et **getatrr**. Soit dans l'exemple"
   ]
  },
  {
   "cell_type": "code",
   "execution_count": null,
   "metadata": {},
   "outputs": [],
   "source": [
    "setattr(roger,'taille',185) # roger.taille = 185\n",
    "taille = getattr(roger,'taille') # taille = roger.taille\n",
    "print(taille)\n",
    "print(roger.imc())"
   ]
  },
  {
   "cell_type": "markdown",
   "metadata": {},
   "source": [
    "### Méthodes et opérateurs"
   ]
  },
  {
   "cell_type": "markdown",
   "metadata": {},
   "source": [
    "Si les **méthodes appropriées** sont définies, les opérateurs courants, e.g. +, et les fonctions générales comme print peuvent être utilisées.\n",
    "\n",
    "Définissons un nouvel opérateurs appelé **fraction**:"
   ]
  },
  {
   "cell_type": "code",
   "execution_count": null,
   "metadata": {},
   "outputs": [],
   "source": [
    "class fraction:\n",
    "    \n",
    "    def __init__(self, numerateur,denominateur): # convoqué lors de la création\n",
    "        self.num = numerateur\n",
    "        self.denom = denominateur\n",
    "    \n",
    "    def __str__(self): # convoqué lors de l'utilisation de print\n",
    "        \n",
    "        return f'{self.num}/{self.denom}' # string = self.nom/self.denom\n",
    "    \n",
    "    def __add__(self,other): # convoqué lors de l'utilisation de +\n",
    "        \n",
    "        nouvel_num = self.num*other.denom + other.num*self.denom\n",
    "        nouvel_denom = self.denom*other.denom\n",
    "        \n",
    "        return fraction(nouvel_num,nouvel_denom)"
   ]
  },
  {
   "cell_type": "markdown",
   "metadata": {},
   "source": [
    "**Remarque:** on utilise\n",
    "\n",
    "$$\\frac{a}{b}+\\frac{c}{d}=\\frac{a \\cdot d+c \\cdot b}{b \\cdot d}$$"
   ]
  },
  {
   "cell_type": "markdown",
   "metadata": {},
   "source": [
    "On peut **additionner des fractions**:"
   ]
  },
  {
   "cell_type": "code",
   "execution_count": null,
   "metadata": {},
   "outputs": [],
   "source": [
    "x = fraction(1,3)\n",
    "print(x)"
   ]
  },
  {
   "cell_type": "code",
   "execution_count": null,
   "metadata": {},
   "outputs": [],
   "source": [
    "x = fraction(1,3) # 1/3 = 5/15\n",
    "y = fraction(2,5) # 2/5 = 6/15\n",
    "z = x+y # 5/15 + 6/15 = 11/15\n",
    "print(z,type(z))"
   ]
  },
  {
   "cell_type": "markdown",
   "metadata": {},
   "source": [
    "Equivalent à:"
   ]
  },
  {
   "cell_type": "code",
   "execution_count": null,
   "metadata": {},
   "outputs": [],
   "source": [
    "z_alt = x.__add__(y)\n",
    "print(z,type(z))"
   ]
  },
  {
   "cell_type": "markdown",
   "metadata": {},
   "source": [
    "Mais on ne peut pas (encore) **multiplier** les fractions:"
   ]
  },
  {
   "cell_type": "code",
   "execution_count": null,
   "metadata": {},
   "outputs": [],
   "source": [
    "try:\n",
    "    z = x*y\n",
    "    print(z)\n",
    "except:\n",
    "    print('la multiplication n\\'est pas définie pour le type fraction')"
   ]
  },
  {
   "cell_type": "markdown",
   "metadata": {},
   "source": [
    "**Exercice:** implémentez la multiplication pour le type fraction."
   ]
  },
  {
   "cell_type": "markdown",
   "metadata": {},
   "source": [
    "### <center>RÉSUMÉ</center>"
   ]
  },
  {
   "cell_type": "markdown",
   "metadata": {},
   "source": [
    "**Dans ce notebook** nous avons considéré:\n",
    "1. Les principaux types (int, str, float, bool, list, tuple, dict)\n",
    "2. Les opérateurs (+, *, /, +=, *=, /=, ==, !=, <)\n",
    "3. Les références multiples, (=) vs. création d'une copie (copy, deepcopy)\n",
    "4. Les instructions conditionnelles (if-elif-else), les boucles(for, while, range, enumerate, zip, product)\n",
    "5. Fonctions (arguments positionnels, et mots-clés), et portée\n",
    "6. Nombres flottants\n",
    "7. Classes (attributs, méthodes)"
   ]
  },
  {
   "cell_type": "markdown",
   "metadata": {},
   "source": [
    "**Votre travail:** relisez ce notebook en executant/jouant avec le code ou texte contenu dans les cellules. Essayez de compléter des points traités trop brièvement et/ou qui vous semblent peu clairs en regardant d'autres références.\n",
    "\n",
    "Par exemple les sections 1-5 [ici](https://python-programming.quantecon.org/python_essentials.html)."
   ]
  },
  {
   "cell_type": "markdown",
   "metadata": {},
   "source": [
    "**Notebook suivant:** on étudie la résolution numérique du problème classique du consommateur."
   ]
  },
  {
   "cell_type": "markdown",
   "metadata": {},
   "source": [
    "### <center>EXTRA: QUELQUES POINTS PLUS AVANCÉS</center>"
   ]
  },
  {
   "cell_type": "markdown",
   "metadata": {},
   "source": [
    "### Itérateurs"
   ]
  },
  {
   "cell_type": "markdown",
   "metadata": {},
   "source": [
    "Dans la boucle suivante, la liste \"ma_liste\" est qualifié d'**itérable**."
   ]
  },
  {
   "cell_type": "markdown",
   "metadata": {},
   "source": [
    "ma_liste = [0,2,4,6,8]\n",
    "for i in ma_liste:\n",
    "    print(i)"
   ]
  },
  {
   "cell_type": "markdown",
   "metadata": {},
   "source": [
    "Considérons la même boucle généré par un **itérateur**."
   ]
  },
  {
   "cell_type": "code",
   "execution_count": null,
   "metadata": {},
   "outputs": [],
   "source": [
    "for i in range(0,10,2):\n",
    "    print(i)"
   ]
  },
  {
   "cell_type": "markdown",
   "metadata": {},
   "source": [
    "Ce qui peut aussi s'écrire,"
   ]
  },
  {
   "cell_type": "code",
   "execution_count": null,
   "metadata": {},
   "outputs": [],
   "source": [
    "x = iter(range(0,10,2))\n",
    "print(x)\n",
    "print(next(x))\n",
    "print(next(x))\n",
    "print(next(x))"
   ]
  },
  {
   "cell_type": "markdown",
   "metadata": {},
   "source": [
    "Le principal bénéfice est que lorsque \"ma_liste\" est très longue on n'a en fait pas besoin de la créer."
   ]
  },
  {
   "cell_type": "markdown",
   "metadata": {},
   "source": [
    "On peut aussi écrire **notre propre classe d'itérateurs**:\n",
    "\n"
   ]
  },
  {
   "cell_type": "code",
   "execution_count": null,
   "metadata": {},
   "outputs": [],
   "source": [
    "class range_deux_inc:\n",
    "    \n",
    "    def __init__(self, N):\n",
    "        self.i = 0\n",
    "        self.N = N\n",
    "        \n",
    "    def __iter__(self):\n",
    "        return self\n",
    "    \n",
    "    def __next__(self):\n",
    "        \n",
    "        if self.i >= self.N:\n",
    "            raise StopIteration\n",
    "        \n",
    "        temp = self.i\n",
    "        self.i = self.i + 2\n",
    "        return temp "
   ]
  },
  {
   "cell_type": "markdown",
   "metadata": {},
   "source": [
    "Qui peut être utilisée ainsi:"
   ]
  },
  {
   "cell_type": "code",
   "execution_count": null,
   "metadata": {},
   "outputs": [],
   "source": [
    "x = iter(range_deux_inc(10))\n",
    "print(next(x))\n",
    "print(next(x))\n",
    "print(next(x))"
   ]
  },
  {
   "cell_type": "markdown",
   "metadata": {},
   "source": [
    "Ou dans une boucle,"
   ]
  },
  {
   "cell_type": "code",
   "execution_count": null,
   "metadata": {},
   "outputs": [],
   "source": [
    "for i in range_deux_inc(10):\n",
    "    print(i)"
   ]
  },
  {
   "cell_type": "markdown",
   "metadata": {},
   "source": [
    "### Plus sur les fonctions"
   ]
  },
  {
   "cell_type": "markdown",
   "metadata": {},
   "source": [
    "Nous pouvons avoir des **fonctions récursives** pour calculer des suites de Fibonacci(voir [ici](https://fr.wikipedia.org/wiki/Suite_de_Fibonacci) pour leur définition):"
   ]
  },
  {
   "cell_type": "markdown",
   "metadata": {},
   "source": [
    "$$\n",
    "\\begin{align*}\n",
    "F_0 &= 0 \\\\\n",
    "F_1 &= 1 \\\\\n",
    "F_n &= F_{n-1} + F_{n-2} \\\\\n",
    "\\end{align*}\n",
    "$$"
   ]
  },
  {
   "cell_type": "code",
   "execution_count": null,
   "metadata": {},
   "outputs": [],
   "source": [
    "def fibonacci(n):\n",
    "    if n == 0:\n",
    "        return 0\n",
    "    elif n == 1:\n",
    "        return 1\n",
    "    else:\n",
    "        return fibonacci(n-1) + fibonacci(n-2)\n",
    "    \n",
    "y = fibonacci(7)\n",
    "print(y)"
   ]
  }
 ],
 "metadata": {
  "interpreter": {
   "hash": "8a894924a8054982a5c897c02f36d019274ceaf42c853aa8fb1f2ffcb169480b"
  },
  "kernelspec": {
   "display_name": "Python 3.8.8 64-bit ('base': conda)",
   "name": "python3"
  },
  "language_info": {
   "codemirror_mode": {
    "name": "ipython",
    "version": 3
   },
   "file_extension": ".py",
   "mimetype": "text/x-python",
   "name": "python",
   "nbconvert_exporter": "python",
   "pygments_lexer": "ipython3",
   "version": "3.8.8"
  },
  "orig_nbformat": 4
 },
 "nbformat": 4,
 "nbformat_minor": 2
}
