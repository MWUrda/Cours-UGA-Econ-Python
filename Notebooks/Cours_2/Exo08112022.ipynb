{
 "cells": [
  {
   "cell_type": "markdown",
   "id": "f7ba66d5-44cd-45b2-89d8-bf830691fd2f",
   "metadata": {},
   "source": [
    "## Tâches:\n"
   ]
  },
  {
   "cell_type": "markdown",
   "id": "d8ee600d-06c0-43af-9488-d4ab8d1ebbc5",
   "metadata": {},
   "source": [
    "1. Créer une fonction qui calcule la moyenne d'une variable représentée sous la forme d'un array numpy.\n",
    "2. Tester la fonction sur une variable aléatoire de loi normale $ \\mathcal{N}(0, 1) $"
   ]
  },
  {
   "cell_type": "markdown",
   "id": "b97ce11c-1306-4ed3-be96-08b878ed905c",
   "metadata": {},
   "source": [
    "**Remarque** : \n",
    "\n",
    "Sur un vecteur $ X = (X_1, X_2, \\ldots, X_n)^\\top $. Pour calculer la moyenne de $X$, $\\bar{X}$,\n",
    "on peut faire:\n",
    "\n",
    "$$\n",
    "\\bar{X} = X^\\top \\times \\mathbf{1}_n / n,\n",
    "$$\n",
    "où  $\\mathbf{1}_n$ est le vecteur $(1, 1, \\ldots, 1)^\\top$ de taille $n$.\n"
   ]
  },
  {
   "cell_type": "code",
   "execution_count": 1,
   "id": "8a60d9c4-6498-470f-9be8-0d78c5660ece",
   "metadata": {},
   "outputs": [],
   "source": [
    "# 2\n",
    "import numpy as np\n",
    "\n",
    "X = np.random.normal(loc=0,scale=1,size=10)"
   ]
  },
  {
   "cell_type": "code",
   "execution_count": 2,
   "id": "4b59adc4-ab64-40b8-a5b4-bf8317f681b3",
   "metadata": {},
   "outputs": [
    {
     "data": {
      "text/plain": [
       "array([-0.96663666,  0.44821854,  1.21206181, -0.72878959,  0.83758423,\n",
       "        1.20618268,  0.4349465 ,  1.16475857,  1.02319793,  0.29773372])"
      ]
     },
     "execution_count": 2,
     "metadata": {},
     "output_type": "execute_result"
    }
   ],
   "source": [
    "X"
   ]
  },
  {
   "cell_type": "code",
   "execution_count": null,
   "id": "58cc5972-714d-4a7e-a0a4-7ab4f0a56346",
   "metadata": {},
   "outputs": [],
   "source": []
  }
 ],
 "metadata": {
  "kernelspec": {
   "display_name": "Python 3",
   "language": "python",
   "name": "python3"
  },
  "language_info": {
   "codemirror_mode": {
    "name": "ipython",
    "version": 3
   },
   "file_extension": ".py",
   "mimetype": "text/x-python",
   "name": "python",
   "nbconvert_exporter": "python",
   "pygments_lexer": "ipython3",
   "version": "3.8.8"
  }
 },
 "nbformat": 4,
 "nbformat_minor": 5
}
