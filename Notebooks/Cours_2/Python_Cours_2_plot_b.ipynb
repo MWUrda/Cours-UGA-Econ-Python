{
 "cells": [
  {
   "cell_type": "markdown",
   "metadata": {},
   "source": [
    "# <center> INTRODUCTION À PYTHON POUR L'ÉCONOMIE APPLIQUÉE</center>\n",
    "## <center> COURS 2.B : </center>\n",
    "## <center> GRAPHIQUES AVEC MATPLOTLIB</center>\n",
    "#### <center>Michal Urdanivia (UGA)</center>\n",
    "#### <center> michal.wong-urdanivia@univ-grenoble-alpes.fr </center>"
   ]
  },
  {
   "cell_type": "markdown",
   "metadata": {},
   "source": [
    "### <center> VUE D'ENSEMBLE </center> \n",
    "\n",
    "\n",
    "**Thèmes**\n",
    "- 1. Graphs à deux dimensions\n",
    "  - 1.1. Évaluation d'une fonction d'utilité sur un vecteur de points\n",
    "  - 1.2. Graphique de la fonction d'utilité en deux dimensions\n",
    "- 2. Graphs à trois dimensions\n",
    "  - 2.1. Évaluation d'une fonction d'utilité sur une grille de point\n",
    "  - 2.2. Graphique de la fonction d'utilité"
   ]
  },
  {
   "attachments": {},
   "cell_type": "markdown",
   "metadata": {},
   "source": [
    "Nous allons voir comment faire des graphiques simples avec la bibliothèque **[matplotlib](https://matplotlib.org/)** en considérant comme exemple le cas de l'évaluation d'une fonction d'utilité. \n",
    "\n",
    "Nous ne ferons que survoler l'emploi de cette bibliothèque espérant que cela offre néanmoins la possibilité d'apprendre rapidement à s'en servir pour développer ses propres graphiques selon ses besoins. \n",
    "\n",
    "Pour aller plus loin vous pouvez vous appuyer sur des [exemples](https://matplotlib.org/tutorials/introductory/sample_plots.html#sphx-glr-tutorials-introductory-sample-plots-py), et bien sûr la [documentation](https://matplotlib.org/users/index.html), [styles](https://matplotlib.org/3.1.0/gallery/style_sheets/style_sheets_reference.html)\n",
    "\n",
    "Notons qu'il existe d'autres**d'autres bibliothèques** telles que [seaborn](https://seaborn.pydata.org/) et [bokeh](https://bokeh.pydata.org/en/latest/) qui étant aussi très populaires, doivent être connues au moins dans leurs fonctionnalités de base."
   ]
  },
  {
   "cell_type": "markdown",
   "metadata": {},
   "source": [
    "### <center> 1. GRAPHIQUES À DEUX DIMENSIONS </center>\n",
    "\n"
   ]
  },
  {
   "cell_type": "markdown",
   "metadata": {},
   "source": [
    "### 1.1.  Évaluation d'une fonction d'utilité sur un vecteur de points"
   ]
  },
  {
   "attachments": {},
   "cell_type": "markdown",
   "metadata": {},
   "source": [
    "\n",
    "Soit la fonction d'utilité Cobb-Douglas\n",
    "\n",
    "$$\n",
    "u(q_1,q_2) = q_1^{\\alpha}q_2^{1-\\alpha}\n",
    "$$\n",
    "\n",
    "Pour l'instant $\\alpha$ est fixé à 0.5, et $q_{2}$ à 1, et la fonction est évaluée pour différentes valeurs de $q_{1}$(c.à.d., sur un vecteur de points)"
   ]
  },
  {
   "cell_type": "code",
   "execution_count": 1,
   "metadata": {},
   "outputs": [],
   "source": [
    "def u_func(q1,q2,alpha=0.50):\n",
    "    return q1**alpha * q2**(1-alpha)"
   ]
  },
  {
   "cell_type": "code",
   "execution_count": 2,
   "metadata": {},
   "outputs": [],
   "source": [
    "import numpy as np"
   ]
  },
  {
   "cell_type": "code",
   "execution_count": 3,
   "metadata": {},
   "outputs": [],
   "source": [
    "# Valeur fixe pour q2\n",
    "q2 = 1\n",
    "\n",
    "# Nombre de points\n",
    "N = 1000\n",
    "\n",
    "# Valeur maximale de q1\n",
    "q_max = 100 \n",
    "\n",
    "# Création d'un vecteur de 1000 points allant de 0 à q_max\n",
    "q1_vec = np.linspace(0,q_max,N)\n",
    "\n",
    "# Création d'un vecteur vide à remplir avec les différentes évaluations de la fonction d'utilité\n",
    "u_vec = np.empty(N)\n",
    "\n",
    "# Remplissage du vecteur avec une boucle\n",
    "for i, q1 in enumerate(q1_vec):\n",
    "    u_vec[i] = u_func(q1,q2)\n",
    "\n",
    "# Alternativement nous pouvons évaluer la fonction directement sur des arrays NumPy en utilisant \n",
    "# les caractéristiques de NumpY pour ce type d'opération.\n",
    "u_vec = u_func(q1_vec,q2)"
   ]
  },
  {
   "cell_type": "markdown",
   "metadata": {},
   "source": [
    "### 1.2. Graphique de la fonction d'utilité en deux dimensions"
   ]
  },
  {
   "cell_type": "markdown",
   "metadata": {
    "slideshow": {
     "slide_type": "fragment"
    },
    "tags": []
   },
   "source": [
    "Import des modules et déclaration pour faire les graphiques dans le notebook(\"en ligne\"):"
   ]
  },
  {
   "cell_type": "code",
   "execution_count": 4,
   "metadata": {},
   "outputs": [],
   "source": [
    "%matplotlib inline\n",
    "from mpl_toolkits.mplot3d import Axes3D # utilisé implicitement pour les graphs 3D\n",
    "import matplotlib.pyplot as plt # module de base\n",
    "\n",
    "# Options prédéfinies pour tous les graphs\n",
    "plt.rcParams.update({\"axes.grid\":True,\"grid.color\":\"black\",\"grid.alpha\":\"0.25\",\"grid.linestyle\":\"-\"})\n",
    "plt.rcParams.update({'font.size': 14})\n"
   ]
  },
  {
   "cell_type": "markdown",
   "metadata": {
    "slideshow": {
     "slide_type": "subslide"
    },
    "tags": []
   },
   "source": [
    "**Constructing a plot-object in matplotlib**\n",
    "1. `fig` is the figure object. It's the main \"canvas\" you are adding elements to.\n",
    "2. `ax` is a reference to a specific subplot on the canvas (only one here)\n",
    "3. Use the `ax` reference to put a diagram into the empty subplot"
   ]
  },
  {
   "cell_type": "code",
   "execution_count": 6,
   "metadata": {},
   "outputs": [
    {
     "data": {
      "image/png": "[encoded data removed]",
      "text/plain": [
       "<Figure size 640x480 with 1 Axes>"
      ]
     },
     "metadata": {},
     "output_type": "display_data"
    }
   ],
   "source": [
    "# a. création de la figure\n",
    "fig = plt.figure()\n",
    "\n",
    "# b. graph\n",
    "ax = fig.add_subplot(1,1,1)\n",
    "\n",
    "ax.plot(q1_vec,u_vec)\n",
    "\n",
    "ax.set_title('Valeur de l\\'utilité: $u(q_1,1)$')\n",
    "ax.set_xlabel('$q_1$')\n",
    "ax.set_ylabel('$u(q_1,1)$');"
   ]
  },
  {
   "attachments": {},
   "cell_type": "markdown",
   "metadata": {},
   "source": [
    "But what if $x_{2}$ changes?, e.g. $x_{2}=2$"
   ]
  },
  {
   "cell_type": "code",
   "execution_count": null,
   "metadata": {},
   "outputs": [],
   "source": [
    "# Calculate secondary u_vec \n",
    "x2 = 2\n",
    "u_vec_2 = u_func(x1_vec,x2)\n",
    "\n",
    "# a. create the figure\n",
    "fig = plt.figure()\n",
    "\n",
    "# b. create the plot \n",
    "ax = fig.add_subplot(1,1,1)\n",
    "\n",
    "ax.plot(x1_vec,u_vec,label='$x_{2}=1$')\n",
    "ax.plot(x1_vec,u_vec_2,label='$x_{2}=2$')\n",
    "\n",
    "ax.set_title('Value of choice, $u(x_1,x_2)$')\n",
    "ax.set_xlabel('$x_1$')\n",
    "ax.set_ylabel('$u(x_1,x_2)$')\n",
    "ax.legend(loc='upper left'); # Activate legend (uses the labels in ax.plot())\n"
   ]
  },
  {
   "cell_type": "code",
   "execution_count": null,
   "metadata": {},
   "outputs": [],
   "source": [
    "# a. create the figure\n",
    "fig = plt.figure()\n",
    "\n",
    "# b. \n",
    "ax = fig.add_subplot(1,1,1)\n",
    "\n",
    "n = 10\n",
    "for x2 in range(1,n):\n",
    "    u_vec_x2 = u_func(x1_vec,x2)\n",
    "    ax.plot(x1_vec,u_vec_x2,label='$x_{2}=$'+str(x2),c=(0.,0.1,x2/n)) # c is the color, the argument is the color in rgb format (in percentages of 255)\n",
    "\n",
    "ax.set_title('Value of choice, $u(x_1,x_2)$')\n",
    "ax.set_xlabel('$x_1$')\n",
    "ax.set_ylabel('$u(x_1,x_2)$')\n",
    "ax.legend(loc='upper left',prop={'size':9}); # Activate legend (uses the labels in ax.plot())\n"
   ]
  },
  {
   "cell_type": "markdown",
   "metadata": {},
   "source": [
    "## 2. <a id='toc2_'></a>[3-Dimensional plots](#toc0_)"
   ]
  },
  {
   "cell_type": "markdown",
   "metadata": {},
   "source": [
    "### 2.1. <a id='toc2_1_'></a>[Calculate an utility function on a grid](#toc0_)"
   ]
  },
  {
   "attachments": {},
   "cell_type": "markdown",
   "metadata": {
    "slideshow": {
     "slide_type": "fragment"
    },
    "tags": []
   },
   "source": [
    "In order to describe the shape of our utility function across both $x_{1}$ and $x_{2}$, we need to numerically evaluate it on a set of points. \n",
    "\n",
    "Thus, we calculate the utility function on a **2-dimensional grid** (`x1` and `x2`) with $N$ elements in each dimension:"
   ]
  },
  {
   "cell_type": "code",
   "execution_count": null,
   "metadata": {
    "slideshow": {
     "slide_type": "fragment"
    },
    "tags": []
   },
   "outputs": [],
   "source": [
    "# a. settings\n",
    "N = 100 # number of elements\n",
    "x_max = 10 # maximum value\n",
    "\n",
    "# b. allocate 2d numpy arrays for x1 and x2\n",
    "shape_tuple = (N,N)\n",
    "x1_values = np.empty(shape_tuple) # allocate 2d numpy array with shape=(N,N)\n",
    "x2_values = np.empty(shape_tuple)\n",
    "u_values = np.empty(shape_tuple)\n",
    "\n",
    "# c. fill numpy arrays using a nested loop\n",
    "for i in range(N): # 0,1,...,N-1\n",
    "    for j in range(N): # 0,1,...,N-1\n",
    "        x1_values[i,j] = (i/(N-1))*x_max # in [0,x_max]\n",
    "        x2_values[i,j] = (j/(N-1))*x_max # in [0,x_max]\n",
    "        u_values[i,j] = u_func(x1_values[i,j],x2_values[i,j],alpha=0.25)"
   ]
  },
  {
   "cell_type": "markdown",
   "metadata": {
    "slideshow": {
     "slide_type": "skip"
    },
    "tags": []
   },
   "source": [
    "**Note:** x1_values and x2_values are **both 2d**.  \n",
    "This is not strictly necessary in the present case. 1d arrays would suffice below in the nested loop and filling out of u_values.  \n",
    "However, it makes them isomorphic with the mesh grids used for countour plots, which often need 2d mesh grids. "
   ]
  },
  {
   "cell_type": "markdown",
   "metadata": {
    "slideshow": {
     "slide_type": "subslide"
    },
    "tags": []
   },
   "source": [
    "**Alternatively:** Use the corresponding numpy function to create your grid:"
   ]
  },
  {
   "cell_type": "code",
   "execution_count": null,
   "metadata": {
    "slideshow": {
     "slide_type": "fragment"
    },
    "tags": []
   },
   "outputs": [],
   "source": [
    "# a. Create numbers distributed evenly between 0 and x_max\n",
    "x_vec = np.linspace(0,x_max,N)\n",
    "\n",
    "# b. Create meshgrids similar to x1_values and x2_values above\n",
    "x1_mesh,x2_mesh = np.meshgrid(x_vec,x_vec,indexing='ij')\n",
    "\n",
    "print('Dimension of grid over x1 (same as x2): ', x1_mesh.shape) # Note that the grid is 2d. u_func needs 2d to calculate element by element. \n",
    "u_values_mesh = u_func(x1_mesh, x2_mesh, alpha=0.25)"
   ]
  },
  {
   "cell_type": "markdown",
   "metadata": {
    "slideshow": {
     "slide_type": "fragment"
    },
    "tags": []
   },
   "source": [
    "* How could `u_func` evaluate utility on x1_mesh and x2_mesh?  \n",
    "* Because numpy does everything *element-by-element*.  \n",
    "* Do you see why we **needed** a mesh grid instead of `x1_values = x_vec`?"
   ]
  },
  {
   "cell_type": "markdown",
   "metadata": {
    "slideshow": {
     "slide_type": "skip"
    },
    "tags": []
   },
   "source": [
    "**Mesh grids** are a little tricky to understand, but important for creating surface plots. You can read more at:  \n",
    "[GeeksforGeeks](https://www.geeksforgeeks.org/numpy-meshgrid-function/), [stack overflow](https://stackoverflow.com/questions/36013063/what-is-the-purpose-of-meshgrid-in-python-numpy) and the [numpy doc](https://numpy.org/doc/stable/reference/generated/numpy.meshgrid.html)"
   ]
  },
  {
   "cell_type": "markdown",
   "metadata": {
    "slideshow": {
     "slide_type": "skip"
    },
    "tags": []
   },
   "source": [
    "Test whether the results are the same:"
   ]
  },
  {
   "cell_type": "code",
   "execution_count": null,
   "metadata": {
    "slideshow": {
     "slide_type": "skip"
    },
    "tags": []
   },
   "outputs": [],
   "source": [
    "# a. maximum absolute difference\n",
    "max_abs_diff = np.max(np.abs(u_values-u_values_mesh))\n",
    "print(max_abs_diff) # very close to zero     \n",
    "\n",
    "# b. test if all values are \"close\"\n",
    "print(np.allclose(u_values,u_values_mesh))"
   ]
  },
  {
   "cell_type": "markdown",
   "metadata": {
    "slideshow": {
     "slide_type": "skip"
    },
    "tags": []
   },
   "source": [
    "**Note:** The results are not exactly the same due to floating point arithmetics."
   ]
  },
  {
   "cell_type": "markdown",
   "metadata": {},
   "source": [
    "### 2.2. <a id='toc2_2_'></a>[Plot the utility function](#toc0_)"
   ]
  },
  {
   "cell_type": "code",
   "execution_count": null,
   "metadata": {},
   "outputs": [],
   "source": [
    "%matplotlib inline\n",
    "fig = plt.figure() # create the figure\n",
    "ax = fig.add_subplot(1,1,1,projection='3d') # create a 3d type axis \n",
    "ax.plot_surface(x1_values,x2_values,u_values); # create surface plot in the axis\n",
    "# note: fig.add_subplot(a,b,c) creates the c'th subplot in a grid of a times b plots"
   ]
  },
  {
   "cell_type": "markdown",
   "metadata": {
    "slideshow": {
     "slide_type": "subslide"
    },
    "tags": []
   },
   "source": [
    "You can make the figure **zoomable** and **panable** using a **widget**:"
   ]
  },
  {
   "cell_type": "code",
   "execution_count": null,
   "metadata": {
    "slideshow": {
     "slide_type": "fragment"
    },
    "tags": []
   },
   "outputs": [],
   "source": [
    "%matplotlib widget\n",
    "fig = plt.figure() # create the figure\n",
    "ax = fig.add_subplot(1,1,1,projection='3d') # create a 3d axis in the figure \n",
    "ax.plot_surface(x1_values,x2_values,u_values); # create surface plot in the axis"
   ]
  },
  {
   "attachments": {},
   "cell_type": "markdown",
   "metadata": {},
   "source": [
    "Note: If this is not working for you, make sure you did step 1b in the [installation guide](https://sites.google.com/view/numeconcph-introprog/guides/installation), try to update nodejs, ipympl, ipywidgets. Sometimes it's really difficult to get widgets to work so don't hesitate to ask your TA for help. <br>\n",
    "See [here](https://matplotlib.org/3.2.2/users/navigation_toolbar.html) for navigating (use left-click and mouse to look around, and right-click and mouse to zoom)."
   ]
  },
  {
   "cell_type": "markdown",
   "metadata": {
    "slideshow": {
     "slide_type": "fragment"
    },
    "tags": []
   },
   "source": [
    "To restore normal plotting, turn on `inline`:"
   ]
  },
  {
   "cell_type": "code",
   "execution_count": null,
   "metadata": {
    "slideshow": {
     "slide_type": "fragment"
    },
    "tags": []
   },
   "outputs": [],
   "source": [
    "%matplotlib inline"
   ]
  },
  {
   "cell_type": "markdown",
   "metadata": {
    "slideshow": {
     "slide_type": "subslide"
    },
    "tags": []
   },
   "source": [
    "**Making it pretty**: Use a colormap and set labels.  "
   ]
  },
  {
   "cell_type": "code",
   "execution_count": null,
   "metadata": {
    "slideshow": {
     "slide_type": "fragment"
    },
    "tags": []
   },
   "outputs": [],
   "source": [
    "from matplotlib import cm # for colormaps\n",
    "# a. actual plot\n",
    "fig = plt.figure(figsize=(5,5))\n",
    "ax = fig.add_subplot(1,1,1,projection='3d')\n",
    "ax.plot_surface(x1_values,x2_values,u_values,cmap=cm.jet)\n",
    "\n",
    "# b. add labels\n",
    "ax.set_xlabel('$x_1$') # Notice latex syntax\n",
    "ax.set_ylabel('$x_2$')\n",
    "ax.set_zlabel('$u$')\n",
    "ax.zaxis.labelpad=0.05\n",
    "\n",
    "# c. invert xaxis to bring Origin in center front\n",
    "ax.invert_xaxis()\n",
    "fig.tight_layout()"
   ]
  },
  {
   "cell_type": "markdown",
   "metadata": {
    "slideshow": {
     "slide_type": "skip"
    },
    "tags": []
   },
   "source": [
    "Saving your figure is easy:"
   ]
  },
  {
   "cell_type": "code",
   "execution_count": null,
   "metadata": {
    "slideshow": {
     "slide_type": "skip"
    },
    "tags": []
   },
   "outputs": [],
   "source": [
    "fig.savefig('someplot.pdf') # or e.g. .png "
   ]
  },
  {
   "attachments": {},
   "cell_type": "markdown",
   "metadata": {
    "slideshow": {
     "slide_type": "skip"
    },
    "tags": []
   },
   "source": [
    "**More formatting options?** See these [examples](https://matplotlib.org/tutorials/introductory/sample_plots.html#sphx-glr-tutorials-introductory-sample-plots-py). <br>\n",
    "Another approach would be to use the [Seaborn package](https://seaborn.pydata.org/tutorial/objects_interface.html) which can create good looking plots. The syntax is however different from matplotlib. As I understand it, the syntax is reminiscent of ggplot2 for R. so if you're used to that seaborn might be for you."
   ]
  },
  {
   "cell_type": "markdown",
   "metadata": {
    "slideshow": {
     "slide_type": "skip"
    },
    "tags": []
   },
   "source": [
    "**Task**: Construct the following plot:"
   ]
  },
  {
   "attachments": {},
   "cell_type": "markdown",
   "metadata": {
    "slideshow": {
     "slide_type": "skip"
    },
    "tags": []
   },
   "source": [
    "![wireframeplot](someplot_wireframe.png)"
   ]
  },
  {
   "attachments": {},
   "cell_type": "markdown",
   "metadata": {},
   "source": [
    "It's called a wireframe and examples can be found [here](https://www.tutorialspoint.com/matplotlib/matplotlib_3d_wireframe_plot.htm) and [here](https://matplotlib.org/stable/plot_types/3D/wire3d_simple.html): "
   ]
  },
  {
   "cell_type": "code",
   "execution_count": null,
   "metadata": {
    "slideshow": {
     "slide_type": "skip"
    },
    "tags": []
   },
   "outputs": [],
   "source": [
    "# write your code here"
   ]
  },
  {
   "cell_type": "markdown",
   "metadata": {
    "slideshow": {
     "slide_type": "skip"
    },
    "tags": []
   },
   "source": [
    "**Answer:**"
   ]
  },
  {
   "cell_type": "code",
   "execution_count": null,
   "metadata": {
    "jupyter": {
     "source_hidden": true
    },
    "tags": []
   },
   "outputs": [],
   "source": [
    "# a. Answer\n",
    "fig = plt.figure()\n",
    "ax = fig.add_subplot(1,1,1,projection='3d')\n",
    "ax.plot_wireframe(x1_values,x2_values,u_values,edgecolor='black')\n",
    "\n",
    "# b. add labels\n",
    "ax.set_xlabel('$x_1$')\n",
    "ax.set_ylabel('$x_2$')\n",
    "ax.set_zlabel('$u$')\n",
    "\n",
    "# c. invert xaxis\n",
    "ax.invert_xaxis()\n",
    "\n",
    "# e. save\n",
    "fig.tight_layout()\n",
    "fig.savefig('someplot_wireframe.png')\n",
    "fig.savefig('someplot_wireframe.pdf')"
   ]
  }
 ],
 "metadata": {
  "kernelspec": {
   "display_name": "base",
   "language": "python",
   "name": "python3"
  },
  "language_info": {
   "codemirror_mode": {
    "name": "ipython",
    "version": 3
   },
   "file_extension": ".py",
   "mimetype": "text/x-python",
   "name": "python",
   "nbconvert_exporter": "python",
   "pygments_lexer": "ipython3",
   "version": "3.8.18"
  },
  "orig_nbformat": 4,
  "vscode": {
   "interpreter": {
    "hash": "2164e4eaf16dd6cd705646718fcef4f5f263bad5b7d103e76e9308c0132ca24b"
   }
  }
 },
 "nbformat": 4,
 "nbformat_minor": 2
}
