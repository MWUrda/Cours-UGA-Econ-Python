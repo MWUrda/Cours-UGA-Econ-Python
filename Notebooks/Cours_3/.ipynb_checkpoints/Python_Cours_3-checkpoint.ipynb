{
 "cells": [
  {
   "cell_type": "markdown",
   "metadata": {},
   "source": [
    "# <center> INTRODUCTION À PYTHON POUR L'ÉCONOMIE APPLIQUÉE</center>\n",
    "## <center> COURS 3 : </center>\n",
    "## <center> NOMBRES ALÉATOIRES ET SIMULATION</center>\n",
    "#### <center>Michal Urdanivia (UGA)</center>\n",
    "#### <center> michal.wong-urdanivia@univ-grenoble-alpes.fr </center>"
   ]
  },
  {
   "cell_type": "markdown",
   "metadata": {},
   "source": [
    "### <center> VUE D'ENSEMBLE </center>\n",
    "\n",
    "Dans ce cours nous allons étudier les points suivants:\n",
    "\n",
    "- Générer des nombres aléatoires avec une **graine** afin d'obtenir des résultats par simulation. Pour cela nous utiliserons notamment les modules **numpy.random** et **scipy.stats**.\n",
    "- Calculer l'espérance d'une variable aléatoire par la méthode de Monte-Carlo.\n",
    "- Sauvegarder les résultats pour une utilisation ultérieure avec **pickle**.\n",
    "- Faire des graphiques interactifs avec **ipywidgets**."
   ]
  },
  {
   "cell_type": "markdown",
   "metadata": {},
   "source": [
    "\n",
    "**Ressources:**\n",
    "\n",
    "* [numpy.random](https://docs.scipy.org/doc/numpy-1.13.0/reference/routines.random.html)\n",
    "* [scipy.stats](https://docs.scipy.org/doc/scipy/reference/stats.html)\n",
    "* [ipywidgets](https://ipywidgets.readthedocs.io/en/stable/examples/Widget%20List.html)\n",
    "* datacamp sur [pickle](https://www.datacamp.com/community/tutorials/pickle-python-tutorial)\n",
    "* [pense-bête(en français)](https://www.quennec.fr/trucs-astuces/langages/python/python-le-module-pickle) sur **pickle**."
   ]
  },
  {
   "cell_type": "markdown",
   "metadata": {},
   "source": [
    "**Importation des modules utilisés:** à l'inverse de ce que nous avons fait en général jusqu'ici, nous allons dorénavant importer tous les modules qui seront employés dans ce notebook, cela afin d'expliciter dès le début du notebook ses dépendances."
   ]
  },
  {
   "cell_type": "code",
   "execution_count": 3,
   "metadata": {},
   "outputs": [],
   "source": [
    "%matplotlib inline\n",
    "%load_ext autoreload\n",
    "%autoreload 2\n",
    "\n",
    "import math\n",
    "import pickle\n",
    "import numpy as np\n",
    "\n",
    "from scipy.stats import norm # loi normale\n",
    "\n",
    "\n",
    "import matplotlib.pyplot as plt\n",
    "plt.style.use('seaborn-whitegrid')\n",
    "import ipywidgets as widgets"
   ]
  },
  {
   "cell_type": "markdown",
   "metadata": {},
   "source": [
    "### <center> ÉCONOMIE D'ÉCHANGE AVEC BEAUCOUP DE CONSOMMATEURS</center>"
   ]
  },
  {
   "cell_type": "markdown",
   "metadata": {},
   "source": [
    "Soit une **économie d'échange** caractérisée comme suit,"
   ]
  },
  {
   "cell_type": "markdown",
   "metadata": {},
   "source": [
    "1. 2 biens, $(q_1,q_2)$\n",
    "2. $n$ consommateurs indicés par  $j \\in \\{1,2,\\dots,n\\}$\n",
    "3. Chaque agent a des préférences représentées par une fonction d'utilité Cobb-Douglas à coefficients hétérogènes suivant une loi uniforme.\n",
    "\n",
    "$$\n",
    "\\begin{align*}\n",
    "u^{j}(q_{1},q_{2}) & = q_{1}^{\\alpha_{j}}q_{2}^{1-\\alpha_{j}}\\\\\n",
    " & \\,\\,\\,\\alpha_{j}\\sim\\mathcal{U}(\\underline{\\mu},\\overline{\\mu})\\\\\n",
    " & \\,\\,\\,0<\\underline{\\mu}<\\overline{\\mu}<1\n",
    "\\end{align*}\n",
    "$$\n",
    "\n",
    "4. Le dotations sont homogènes et données par,\n",
    "\n",
    "$$\n",
    "\\boldsymbol{e}^{j}=(e_{1}^{j},e_{2}^{j})=(k,1),\\,k>0\n",
    "$$"
   ]
  },
  {
   "cell_type": "markdown",
   "metadata": {},
   "source": [
    "Il en résulte les **fonctions de demande**:\n",
    "\n",
    "$$\n",
    "\\begin{align*}\n",
    "q_{1}^{\\star j}(p_{1},p_{2},e^{j})&=&\\alpha_{j}\\frac{R}{p_{1}}=\\alpha_{j}\\frac{kp_{1}+p_{2}}{p_{1}} \\\\\n",
    "q_{2}^{\\star j}(p_{1},p_{2},e^{j})&=&(1-\\alpha_{j})\\frac{R}{p_{2}}=(1-\\alpha_{j})\\frac{kp_{1}+p_{2}}{p_{2}}\n",
    "\\end{align*}\n",
    "$$"
   ]
  },
  {
   "cell_type": "markdown",
   "metadata": {},
   "source": [
    "L'**équilibre** pour un tirage aléatoire de $\\alpha = \\{\\alpha_1,\\alpha_2,\\dots,\\alpha_n\\}$ est un ensemble de **prix** $p_1$ et $p_2$ qui vérifient:\n",
    "\n",
    "$$\n",
    "\\begin{align*}\n",
    "q_1(p_1,p_2) = \\sum_{j=1}^n q_{1}^{\\star j}(p_{1},p_{2},e^{j}) &= \\sum_{j=1}^n e_1^j = nk \\\\\n",
    "q_2(p_1,p_2) = \\sum_{j=1}^n q_{2}^{\\star j}(p_{1},p_{2},e^{j}) &= \\sum_{j=1}^n e_2^j = n\n",
    "\\end{align*}\n",
    "$$"
   ]
  },
  {
   "cell_type": "markdown",
   "metadata": {},
   "source": [
    "**Le problème à résoudre:** obtenir cet équilibre en prenant en compte l'hétérogénéité des préférences représenté par leur caractère aléatoire. Pour cela nous avons besoin de recourir à un **générateur de nombres aléatoires**."
   ]
  },
  {
   "cell_type": "markdown",
   "metadata": {},
   "source": [
    "**Préliminaires**: on fixe les valeurs des paramètres, et on définit les fonctions de demande."
   ]
  },
  {
   "cell_type": "code",
   "execution_count": 2,
   "metadata": {},
   "outputs": [],
   "source": [
    "# a. paramètres\n",
    "n = 1000\n",
    "k = 2 # dotations\n",
    "mu_inf = 0.1 # borne inf pour alpha\n",
    "mu_sup = 0.9 # borne sup pour alpha\n",
    "\n",
    "# b. fonctions de demande\n",
    "def fn_demande_q1(alpha,p1,p2,k):\n",
    "    R = k*p1+p2\n",
    "    return alpha*R/p1\n",
    "\n",
    "def fn_demande_q2(alpha,p1,p2,k):\n",
    "    R = k*p1+p2\n",
    "    return (1-alpha)*R/p2"
   ]
  },
  {
   "cell_type": "markdown",
   "metadata": {},
   "source": [
    "### <center> Nombres aléatoires</center>"
   ]
  },
  {
   "cell_type": "markdown",
   "metadata": {},
   "source": [
    "Deux approches principales sont:\n",
    "\n",
    "1. Les **observations physiques** de phénomènes aléatoires (désintégration radioactive, bruit thermique, bruit de tir, lancers de dés, etc). Vous pouvez consulter cette [référence](https://fr.wikipedia.org/wiki/G%C3%A9n%C3%A9rateur_de_nombres_al%C3%A9atoires_mat%C3%A9riel).\n",
    "2. L'utilisation d'**algorithms** pour créer des **nombres pseudo-aléatoires**. Vous pouvez consulter cette [référence](https://fr.wikipedia.org/wiki/G%C3%A9n%C3%A9rateur_de_nombres_pseudo-al%C3%A9atoires)."
   ]
  },
  {
   "cell_type": "markdown",
   "metadata": {},
   "source": [
    "Les **nombres pseudo-aléatoires** vérifient des propriétés afin de s'approcher au mieux de nombres aléatoires. En particulier, il doivent être tels qu'il soit impossible de calculer/deviner à partir d'une suite de ces nombres n'importe qu'elle valeur passée ou future."
   ]
  },
  {
   "cell_type": "markdown",
   "metadata": {},
   "source": [
    "**Plus de détails**: regardez cette [vidéo](https://www.youtube.com/watch?v=C82JyCmtKWg&app=desktop#fauxfullscreen) éditée par Infinite Series."
   ]
  },
  {
   "cell_type": "markdown",
   "metadata": {},
   "source": [
    "### Exemple simple avec la méthode du milieu du carré de [Von Neuman](https://fr.wikipedia.org/wiki/G%C3%A9n%C3%A9rateur_de_nombres_pseudo-al%C3%A9atoires#La_m%C3%A9thode_de_Von_Neumann)."
   ]
  },
  {
   "cell_type": "markdown",
   "metadata": {},
   "source": [
    "1. Début avec un nombre à $n$ chiffres.\n",
    "2. On l'élève au carré.\n",
    "3. Ajout de zéros si nécessaire devant le premier chiffre de façon à avoir un nombre à $2n$ chiffres.\n",
    "4. On extrait les $n$ chiffres du milieu (*le nombre aléatoire généré*)\n",
    "5. Retour à la première étape pour obtenir un autre nombre aléatoire, ..."
   ]
  },
  {
   "cell_type": "markdown",
   "metadata": {},
   "source": [
    "> **Avantages:** mise en oeuvre simple, conceptuellement proche de méthodes plus sophistiquées (e.g. \n",
    "[Mersenne-Twister](https://fr.wikipedia.org/wiki/Mersenne_Twisterdans)).\n",
    ">\n",
    "> **Inconvénients:** un cycle ne peut pas dépasser $8^n$ périodes, le cycles qui se répètent peuvent être très courts, l'état interne est directement observable.\n",
    ">\n",
    "> **Conclusion:** ne peut pas être utilisé en pratique."
   ]
  },
  {
   "cell_type": "markdown",
   "metadata": {},
   "source": [
    "**Code:** mise en oeuvre sous Python pour $n = 4$ chiffres aléatoires entiers."
   ]
  },
  {
   "cell_type": "code",
   "execution_count": 3,
   "metadata": {},
   "outputs": [],
   "source": [
    "def gna_milieu_carre(nombre,max_iter=100): \n",
    "    \n",
    "    deja_vus = [] # liste de nombres déjà vus/générés\n",
    "    \n",
    "    i = 0\n",
    "    while nombre not in deja_vus and i < max_iter:\n",
    "        \n",
    "        deja_vus.append(nombre)\n",
    "        carre = nombre**2\n",
    "        ajout = str(carre).zfill(8) # ajout de 0s devant le premier chiffre si besoin pour avoir un nombre à 8 chiffres\n",
    "        nombre = int(ajout[2:6]) # extraction de 4 chiffres du milieu ---> nombre aléatoire à 4 chiffres\n",
    "        \n",
    "        print(f\"carré = {carre:8d}, ajout = {ajout} -> {nombre:4d}\")\n",
    "        i += 1"
   ]
  },
  {
   "cell_type": "markdown",
   "metadata": {},
   "source": [
    "Exemple de cycle raisonnable quant à sa longueur/nombre de périodes"
   ]
  },
  {
   "cell_type": "code",
   "execution_count": 4,
   "metadata": {},
   "outputs": [
    {
     "name": "stdout",
     "output_type": "stream",
     "text": [
      "carré = 21650409, ajout = 21650409 -> 6504\n",
      "carré = 42302016, ajout = 42302016 -> 3020\n",
      "carré =  9120400, ajout = 09120400 -> 1204\n",
      "carré =  1449616, ajout = 01449616 -> 4496\n",
      "carré = 20214016, ajout = 20214016 -> 2140\n",
      "carré =  4579600, ajout = 04579600 -> 5796\n",
      "carré = 33593616, ajout = 33593616 -> 5936\n",
      "carré = 35236096, ajout = 35236096 -> 2360\n",
      "carré =  5569600, ajout = 05569600 -> 5696\n",
      "carré = 32444416, ajout = 32444416 -> 4444\n",
      "carré = 19749136, ajout = 19749136 -> 7491\n",
      "carré = 56115081, ajout = 56115081 -> 1150\n",
      "carré =  1322500, ajout = 01322500 -> 3225\n",
      "carré = 10400625, ajout = 10400625 -> 4006\n",
      "carré = 16048036, ajout = 16048036 ->  480\n",
      "carré =   230400, ajout = 00230400 -> 2304\n",
      "carré =  5308416, ajout = 05308416 -> 3084\n",
      "carré =  9511056, ajout = 09511056 -> 5110\n",
      "carré = 26112100, ajout = 26112100 -> 1121\n",
      "carré =  1256641, ajout = 01256641 -> 2566\n",
      "carré =  6584356, ajout = 06584356 -> 5843\n",
      "carré = 34140649, ajout = 34140649 -> 1406\n",
      "carré =  1976836, ajout = 01976836 -> 9768\n",
      "carré = 95413824, ajout = 95413824 -> 4138\n",
      "carré = 17123044, ajout = 17123044 -> 1230\n",
      "carré =  1512900, ajout = 01512900 -> 5129\n",
      "carré = 26306641, ajout = 26306641 -> 3066\n",
      "carré =  9400356, ajout = 09400356 -> 4003\n",
      "carré = 16024009, ajout = 16024009 ->  240\n",
      "carré =    57600, ajout = 00057600 ->  576\n",
      "carré =   331776, ajout = 00331776 -> 3317\n",
      "carré = 11002489, ajout = 11002489 ->   24\n",
      "carré =      576, ajout = 00000576 ->    5\n",
      "carré =       25, ajout = 00000025 ->    0\n",
      "carré =        0, ajout = 00000000 ->    0\n"
     ]
    }
   ],
   "source": [
    "gna_milieu_carre(4653)"
   ]
  },
  {
   "cell_type": "markdown",
   "metadata": {},
   "source": [
    "Un cycle très court"
   ]
  },
  {
   "cell_type": "code",
   "execution_count": 5,
   "metadata": {},
   "outputs": [
    {
     "name": "stdout",
     "output_type": "stream",
     "text": [
      "carré =   291600, ajout = 00291600 -> 2916\n",
      "carré =  8503056, ajout = 08503056 -> 5030\n",
      "carré = 25300900, ajout = 25300900 -> 3009\n",
      "carré =  9054081, ajout = 09054081 ->  540\n"
     ]
    }
   ],
   "source": [
    "gna_milieu_carre(540)"
   ]
  },
  {
   "cell_type": "markdown",
   "metadata": {},
   "source": [
    "Aucun cycle"
   ]
  },
  {
   "cell_type": "code",
   "execution_count": 6,
   "metadata": {},
   "outputs": [
    {
     "name": "stdout",
     "output_type": "stream",
     "text": [
      "carré = 14379264, ajout = 14379264 -> 3792\n"
     ]
    }
   ],
   "source": [
    "gna_milieu_carre(3792)"
   ]
  },
  {
   "cell_type": "markdown",
   "metadata": {},
   "source": [
    "### Numpy"
   ]
  },
  {
   "cell_type": "markdown",
   "metadata": {},
   "source": [
    "Numpy offre plusieurs fonctions pour générer des nombres aléatoires. Par exemple pour générer des nombres aléatoires entiers entre 0 et 10000:"
   ]
  },
  {
   "cell_type": "code",
   "execution_count": null,
   "metadata": {},
   "outputs": [],
   "source": [
    "X = np.random.randint(0, 10000, size=5) # on génère 5 entiers entre 0 et 10000 de façon aléatoire\n",
    "print(X)"
   ]
  },
  {
   "cell_type": "markdown",
   "metadata": {},
   "source": [
    "**Problème:** comment reproduire les résultats lors d'une prochaine session après avoir fermé Python?\n",
    "\n",
    "**Solution:** on utilise une **graine** qui est choisie et demeure la même si l'on veut reproduire les résultats. Voci un exemple:"
   ]
  },
  {
   "cell_type": "code",
   "execution_count": null,
   "metadata": {},
   "outputs": [],
   "source": [
    "print('on fixe la graine à 2000 et on génère des nombre aléatoires:')\n",
    "np.random.seed(2000)\n",
    "print(np.random.uniform(size=5)) # selon une loi uniforme\n",
    "print(np.random.uniform(size=5)) # selon une loi uniforme\n",
    "\n",
    "print('\\n réinitialisation avec la même graine :')\n",
    "np.random.seed(2000)\n",
    "print(np.random.uniform(size=5))"
   ]
  },
  {
   "cell_type": "markdown",
   "metadata": {},
   "source": [
    "> **Remarque:** la première et la troisième ligne sont identiques."
   ]
  },
  {
   "cell_type": "markdown",
   "metadata": {},
   "source": [
    "On peut aussi **sauvegarder l'état du générateur de nombres aléatoires**."
   ]
  },
  {
   "cell_type": "code",
   "execution_count": null,
   "metadata": {},
   "outputs": [],
   "source": [
    "# a. sauvegarde de l'état\n",
    "etat = np.random.get_state()\n",
    "\n",
    "# b. quelques nombre aléatoires\n",
    "print('nombres aléatoires générés à partir de l\\'état en cours:')\n",
    "print(np.random.uniform(size=5))\n",
    "print(np.random.uniform(size=5))\n",
    "\n",
    "# c. réinitialisation de l'état\n",
    "np.random.set_state(etat)\n",
    "\n",
    "# d. tirage des mêmes nombres\n",
    "print('\\n nombres aléatoires générés à partir de l\\'état passé:')\n",
    "print(np.random.uniform(size=5))\n",
    "print(np.random.uniform(size=5))"
   ]
  },
  {
   "cell_type": "markdown",
   "metadata": {},
   "source": [
    "> **Remarque**: la graine ne doit être fixée qu'une fois par programme car sa modification remet en cause le caractère aléatoire des tirages."
   ]
  },
  {
   "cell_type": "markdown",
   "metadata": {},
   "source": [
    "#### Autres lois"
   ]
  },
  {
   "cell_type": "markdown",
   "metadata": {},
   "source": [
    "Quelques exemples de nombre générés à partir d'autres lois de probabilité"
   ]
  },
  {
   "cell_type": "code",
   "execution_count": null,
   "metadata": {},
   "outputs": [],
   "source": [
    "X = np.random.normal(loc=0,scale=1,size=10**6)\n",
    "Y = np.random.beta(a=5,b=2,size=10**6)\n",
    "Z = np.random.uniform(low=-2,high=2,size=10**6)\n",
    "\n",
    "vec = np.array([-2.5,-2.0,-1.5,-1.0,-0.5,0,0.5,1.0,1.5,2,2.5])\n",
    "prob = (np.linspace(-1,1,vec.size)+0.1)**2 # nombres positifs\n",
    "prob /= np.sum(prob) # somme des probas égale à 1\n",
    "K = np.random.choice(vec,size=10**6,p=prob)"
   ]
  },
  {
   "cell_type": "markdown",
   "metadata": {},
   "source": [
    "Représentation graphique"
   ]
  },
  {
   "cell_type": "code",
   "execution_count": null,
   "metadata": {},
   "outputs": [],
   "source": [
    "fig = plt.figure(dpi=100)\n",
    "ax = fig.add_subplot(1,1,1)\n",
    "ax.hist(X,bins=100,density=True,alpha=0.5,label='normal') # alpha < 1 = transparent\n",
    "ax.hist(Y,bins=100,density=True,alpha=0.5,label='beta')\n",
    "ax.hist(Z,bins=100,density=True,alpha=0.5,label='uniform')\n",
    "ax.hist(K,bins=100,density=True,alpha=0.5,label='choice')\n",
    "ax.set_xlim([-3,3])\n",
    "ax.legend(loc='upper left'); # note: the ; stops output from being printed"
   ]
  },
  {
   "cell_type": "markdown",
   "metadata": {},
   "source": [
    "**Exercice:** à partir de ce [lien](https://docs.scipy.org/doc/numpy-1.13.0/reference/routines.random.html) choisissez une loi de probabilité et représentez-la sur le graphique précédent."
   ]
  },
  {
   "cell_type": "markdown",
   "metadata": {},
   "source": [
    "### Résultats analytiques"
   ]
  },
  {
   "cell_type": "markdown",
   "metadata": {},
   "source": [
    "**Question**: quelle est la proximité entre nos tirages aléatoires et une loi normale?"
   ]
  },
  {
   "cell_type": "code",
   "execution_count": null,
   "metadata": {},
   "outputs": [],
   "source": [
    "from scipy.stats import norm\n",
    "\n",
    "# a. création d'une loi analytique\n",
    "parm_pos = 0.25\n",
    "parm_ech = 0.75\n",
    "# parm_pos, parm_ech = norm.fit(X)\n",
    "F = norm(loc=parm_pos,scale=parm_ech)\n",
    "lna = F.rvs(5) # exemple: 5 tirages aléatoires à partir de la loi F\n",
    "print(f'F densité en 0.0: {F.pdf(0.0): 1.3f} \\\n",
    "\\nF fonction de répartition en 0.0: {F.cdf(0.0): 1.3f}') # l'objet F offre plusieurs fonctions utiles\n",
    "\n",
    "# b. vecteur de valeurs de x\n",
    "x_inf = F.ppf(0.001) # valeur de x où la fonction de répartition est 0.001\n",
    "x_sup = F.ppf(0.999) # x valeur de x où la fonction de répartition est 0.999\n",
    "x = np.linspace(x_inf,x_sup,100)\n",
    "\n",
    "# c. comparaison\n",
    "fig = plt.figure(dpi=100)\n",
    "ax = fig.add_subplot(1,1,1)\n",
    "ax.plot(x,F.pdf(x),lw=2,label='estimée')\n",
    "ax.hist(X,bins=100,density=True,histtype='stepfilled');"
   ]
  },
  {
   "cell_type": "markdown",
   "metadata": {},
   "source": [
    "### Un supplément: permutations"
   ]
  },
  {
   "cell_type": "code",
   "execution_count": null,
   "metadata": {},
   "outputs": [],
   "source": [
    "class lancer_des:\n",
    "    \n",
    "    def __init__(self,ndes):\n",
    "        self.ndes = ndes\n",
    "    \n",
    "    def lancer(self):\n",
    "        self.des = np.random.randint(1,7,size=self.ndes)\n",
    "        print(self.des)\n",
    "        \n",
    "    def shuffle(self):\n",
    "        np.random.shuffle(self.des)\n",
    "        print(self.des)\n",
    "        \n",
    "    def lancer_et_somme(self):\n",
    "        self.lancer()\n",
    "        print(self.des.sum())\n",
    "        \n",
    "mon_lancer = lancer_des(4)\n",
    "mon_lancer.lancer()\n",
    "mon_lancer.shuffle()\n",
    "mon_lancer.lancer_et_somme()"
   ]
  },
  {
   "cell_type": "markdown",
   "metadata": {},
   "source": [
    "### <center> DEMANDE </center>"
   ]
  },
  {
   "cell_type": "markdown",
   "metadata": {},
   "source": [
    "$$ \n",
    "q_1(p_1,p_2) = \\sum_{j=1}^n q_{1}^{\\star j}(p_{1},p_{2},e^{j}) = \\alpha_{j}\\frac{kp_{1}+p_{2}}{p_{1}}\n",
    "$$"
   ]
  },
  {
   "cell_type": "markdown",
   "metadata": {},
   "source": [
    "Demande(sa distribution) et demande totale"
   ]
  },
  {
   "cell_type": "code",
   "execution_count": 7,
   "metadata": {},
   "outputs": [],
   "source": [
    "def calcul_demande_q1(alphas,p1,p2,k):\n",
    "    distr = fn_demande_q1(alphas,p1,p2,k) # Remarque: on utilise des arrays  des scalaires dans une même opération ce qui fonctionne du fait du broadcasting!\n",
    "    total = distr.sum()\n",
    "    return distr,total"
   ]
  },
  {
   "cell_type": "markdown",
   "metadata": {},
   "source": [
    "Calcul pour plusieurs prix"
   ]
  },
  {
   "cell_type": "code",
   "execution_count": 8,
   "metadata": {},
   "outputs": [],
   "source": [
    "# a. tirage des alphas\n",
    "alphas = np.random.uniform(low=mu_inf,high=mu_sup,size=n)\n",
    "\n",
    "# b. prix\n",
    "p1_vec = [0.5,1,2,5]\n",
    "p2 = 1\n",
    "\n",
    "# c. demande\n",
    "dists = np.empty((len(p1_vec),n))\n",
    "totaux = np.empty(len(p1_vec))\n",
    "for i,p1 in enumerate(p1_vec):\n",
    "    dist,total = calcul_demande_q1(alphas,p1,p2,k)\n",
    "    dists[i,:] = dist\n",
    "    totaux[i] = total"
   ]
  },
  {
   "cell_type": "markdown",
   "metadata": {},
   "source": [
    "Graphique des résultats"
   ]
  },
  {
   "cell_type": "code",
   "execution_count": 9,
   "metadata": {},
   "outputs": [
    {
     "data": {
      "text/plain": [
       "[<matplotlib.lines.Line2D at 0x7fe99e81b3d0>]"
      ]
     },
     "execution_count": 9,
     "metadata": {},
     "output_type": "execute_result"
    },
    {
     "data": {
      "image/png": "[encoded data removed]",
      "text/plain": [
       "<Figure size 720x288 with 2 Axes>"
      ]
     },
     "metadata": {},
     "output_type": "display_data"
    }
   ],
   "source": [
    "fig = plt.figure(figsize=(10,4))\n",
    "\n",
    "ax_left = fig.add_subplot(1,2,1)\n",
    "ax_left.set_title('Distribution de la demande')\n",
    "for i,p1 in enumerate(p1_vec):\n",
    "    ax_left.hist(dists[i],density=True,alpha=0.5,label=f'$p_1 = {p1}$')\n",
    "ax_left.legend(loc='upper right')\n",
    "\n",
    "ax_right = fig.add_subplot(1,2,2)\n",
    "ax_right.set_title('Niveau de la demande')\n",
    "ax_right.grid(True)\n",
    "ax_right.plot(p1_vec,totaux)"
   ]
  },
  {
   "cell_type": "markdown",
   "metadata": {},
   "source": [
    "### <center> FIGURES INTERACTIVES</center>"
   ]
  },
  {
   "cell_type": "markdown",
   "metadata": {},
   "source": [
    "Définition d'une fonction pour construire un graphique,"
   ]
  },
  {
   "cell_type": "code",
   "execution_count": 10,
   "metadata": {},
   "outputs": [],
   "source": [
    "def graphique_interactif(alphas,p1,p2,k):\n",
    "    \n",
    "    # a. calculs\n",
    "    dist,_total = calcul_demande_q1(alphas,p1,p2,k)\n",
    "    \n",
    "    # b. graphique\n",
    "    fig = plt.figure(dpi=100)\n",
    "    ax = fig.add_subplot(1,1,1)\n",
    "    ax.hist(dist,density=True)\n",
    "    ax.set_xlim([0,4]) # rang pour les x fixe\n",
    "    ax.set_ylim([0,0.8]) # rang pour les x fixe"
   ]
  },
  {
   "cell_type": "markdown",
   "metadata": {},
   "source": [
    "**Cas 1:** graphique interactif avec **curseur(slider)**"
   ]
  },
  {
   "cell_type": "code",
   "execution_count": 11,
   "metadata": {},
   "outputs": [
    {
     "data": {
      "application/vnd.jupyter.widget-view+json": {
       "model_id": "02283e43a0a34fab8025970e8f920fe2",
       "version_major": 2,
       "version_minor": 0
      },
      "text/plain": [
       "interactive(children=(FloatSlider(value=2.0, description='$p_1$', max=5.0, min=0.1, step=0.05), Output()), _do…"
      ]
     },
     "metadata": {},
     "output_type": "display_data"
    }
   ],
   "source": [
    "widgets.interact(graphique_interactif,\n",
    "    alphas=widgets.fixed(alphas),\n",
    "    p1=widgets.FloatSlider(description='$p_1$', min=0.1, max=5, step=0.05, value=2),\n",
    "    p2=widgets.fixed(p2),\n",
    "    k=widgets.fixed(k)\n",
    ");"
   ]
  },
  {
   "cell_type": "markdown",
   "metadata": {},
   "source": [
    "**Cas 2:** graphique interactif avec **champ de saisie**"
   ]
  },
  {
   "cell_type": "code",
   "execution_count": 12,
   "metadata": {},
   "outputs": [
    {
     "data": {
      "application/vnd.jupyter.widget-view+json": {
       "model_id": "6d9cecf53b6a4a0bad7f9ee68028292a",
       "version_major": 2,
       "version_minor": 0
      },
      "text/plain": [
       "interactive(children=(FloatText(value=2.0, description='$p_1$'), Output()), _dom_classes=('widget-interact',))"
      ]
     },
     "metadata": {},
     "output_type": "display_data"
    }
   ],
   "source": [
    "widgets.interact(graphique_interactif,\n",
    "    alphas=widgets.fixed(alphas),\n",
    "    p1=widgets.FloatText(description = \"$p_1$\", value=2),\n",
    "    p2=widgets.fixed(p2),\n",
    "    k=widgets.fixed(k)\n",
    ");"
   ]
  },
  {
   "cell_type": "markdown",
   "metadata": {},
   "source": [
    "**Cas 3:** graphique interactif avec **menu déroulant**"
   ]
  },
  {
   "cell_type": "code",
   "execution_count": 13,
   "metadata": {},
   "outputs": [
    {
     "data": {
      "application/vnd.jupyter.widget-view+json": {
       "model_id": "0c438ff7e69c499bb8f732af95a38419",
       "version_major": 2,
       "version_minor": 0
      },
      "text/plain": [
       "interactive(children=(Dropdown(description='$p_1$', index=3, options=(0.5, 1, 1.5, 2.0, 2.5, 3), value=2.0), O…"
      ]
     },
     "metadata": {},
     "output_type": "display_data"
    }
   ],
   "source": [
    "widgets.interact(graphique_interactif,\n",
    "    alphas=widgets.fixed(alphas),\n",
    "    p1=widgets.Dropdown(description=\"$p_1$\", options=[0.5,1,1.5,2.0,2.5,3], value=2),\n",
    "    p2=widgets.fixed(p2),\n",
    "    k=widgets.fixed(k)\n",
    ");"
   ]
  },
  {
   "cell_type": "markdown",
   "metadata": {},
   "source": [
    "**Exercice:** ajoutez un curseur pour \\\\(k\\\\) dans le graphique ci-dessous."
   ]
  },
  {
   "cell_type": "code",
   "execution_count": null,
   "metadata": {},
   "outputs": [],
   "source": [
    "# code à modifier\n",
    "widgets.interact(graphique_interactif,\n",
    "    alphas=widgets.fixed(alphas),\n",
    "    p1=widgets.FloatSlider(description=\"$p_1$\", min=0.1, max=5, step=0.05, value=2),\n",
    "    p2=widgets.fixed(p2),\n",
    "    k=widgets.fixed(k)\n",
    ");"
   ]
  },
  {
   "cell_type": "markdown",
   "metadata": {},
   "source": [
    "### <center> ÉQUILIBRE</center>"
   ]
  },
  {
   "cell_type": "markdown",
   "metadata": {},
   "source": [
    "Les conditions d'équilibre (demande = offre) sont:\n",
    "\n",
    "$$\n",
    "\\begin{align*}\n",
    "\\sum_{j=1}^n q_{1}^{\\star j}(p_{1},p_{2},e^{j}) &= nk \\Leftrightarrow Z_1 := \\sum_{j=1}^n q_{1}^{\\star j}(p_{1},p_{2},e^{j}) - nk = 0 \\\\\n",
    "\\sum_{j=1}^n q_{2}^{\\star j}(p_{1},p_{2},e^{j}) &= n \\Leftrightarrow Z_2 := \\sum_{j=1}^n q_{2}^{\\star j}(p_{1},p_{2},e^{j}) - n = 0\n",
    "\\end{align*}\n",
    "$$"
   ]
  },
  {
   "cell_type": "markdown",
   "metadata": {},
   "source": [
    "**Idée:** résoudre la première équation, la seconde étant alors vérifiée du fait de la loi de Walras."
   ]
  },
  {
   "cell_type": "markdown",
   "metadata": {},
   "source": [
    "**Fonctions d'excès de demande:**"
   ]
  },
  {
   "cell_type": "code",
   "execution_count": 14,
   "metadata": {},
   "outputs": [],
   "source": [
    "def fn_exces_demande_q1(alphas,p1,p2,k):\n",
    "    \n",
    "    # a. demande\n",
    "    demande = np.sum(fn_demande_q1(alphas,p1,p2,k))\n",
    "    \n",
    "    # b. offre\n",
    "    offre = k*alphas.size\n",
    "    \n",
    "    # c. excès de demande\n",
    "    exces_demande = demande-offre\n",
    "    \n",
    "    return exces_demande\n",
    "\n",
    "def fn_exces_demande_q2(alphas,p1,p2,k):\n",
    "    \n",
    "    # a. demande\n",
    "    demande = np.sum(fn_demande_q2(alphas,p1,p2,k))\n",
    "    \n",
    "    # b. offre\n",
    "    offre = alphas.size\n",
    "    \n",
    "    # c. excès de demande\n",
    "    exces_demande = demande-offre\n",
    "    \n",
    "    return exces_demande"
   ]
  },
  {
   "cell_type": "markdown",
   "metadata": {},
   "source": [
    "**Algorithme:**  \n",
    "On choisit d'abord un paramètre de **tolérance** $\\epsilon > 0$ et un **facteur d'ajustement** $\\kappa$, et une valeur de départ $p_1 > 0$. \n",
    "\n",
    "On cherche le prix d'équilibre par:\n",
    "\n",
    "1. Calcul de l'excès de demande $Z_1 = \\sum_{j=1}^n q_{1}^{\\star j}(p_{1},p_{2},e^{j}) - nk$,\n",
    "2. Si $|Z_1| < \\epsilon $ alors on arrête,\n",
    "3. Si $|Z_1| \\geq \\epsilon $ on calcule/actualise $p_1 = p_1 + \\kappa \\cdot \\frac{Z_1}{n}$,\n",
    "4. On revient l'étape 1 $\\ldots$.\n",
    "\n",
    "C.à.d: si l'excès de demande est positif et loin de 0 on augmente le prix, et si l'excès de demande est négatif et loin de 0 on diminue le prix.\n"
   ]
  },
  {
   "cell_type": "code",
   "execution_count": 15,
   "metadata": {},
   "outputs": [],
   "source": [
    "def fn_prix_equilibre(alphas,p1,p2,k,kappa=0.5,eps=1e-8,maxiter=500):\n",
    "    \n",
    "    t = 0\n",
    "    while True:\n",
    "\n",
    "        # a. étape 1: excès de demande\n",
    "        Z1 = fn_exces_demande_q1(alphas,p1,p2,k)\n",
    "        \n",
    "        # b: étape 2: arrêt?\n",
    "        if  np.abs(Z1) < eps or t >= maxiter:\n",
    "            print(f'{t:3d}: p1 = {p1:12.8f} -> excès de demande -> {Z1:14.8f}')\n",
    "            break    \n",
    "    \n",
    "        # c. étape 3: on actualise p1\n",
    "        p1 = p1 + kappa*Z1/alphas.size\n",
    "            \n",
    "        # d. étape 4: affichage seulement à chaque 25ème boucle en utilisant l'opérateur modulo\n",
    "        if t < 5 or t%25 == 0:\n",
    "            print(f'{t:3d}: p1 = {p1:12.8f} -> excès de demande -> {Z1:14.8f}')\n",
    "        elif t == 5:\n",
    "            print('   ...')\n",
    "            \n",
    "        t += 1    \n",
    "\n",
    "    return p1"
   ]
  },
  {
   "cell_type": "markdown",
   "metadata": {},
   "source": [
    "Prix d'équilibre"
   ]
  },
  {
   "cell_type": "code",
   "execution_count": 16,
   "metadata": {},
   "outputs": [
    {
     "name": "stdout",
     "output_type": "stream",
     "text": [
      "  0: p1 =   1.33439880 -> excès de demande ->  -656.01196112\n",
      "  1: p1 =   1.27053636 -> excès de demande ->  -638.62442997\n",
      "  2: p1 =   1.20853906 -> excès de demande ->  -619.97297877\n",
      "  3: p1 =   1.14854100 -> excès de demande ->  -599.98058426\n",
      "  4: p1 =   1.09068322 -> excès de demande ->  -578.57782128\n",
      "   ...\n",
      " 25: p1 =   0.51008953 -> excès de demande ->   -48.02909064\n",
      " 50: p1 =   0.49046505 -> excès de demande ->    -0.16854647\n",
      " 75: p1 =   0.49040023 -> excès de demande ->    -0.00052951\n",
      "100: p1 =   0.49040003 -> excès de demande ->    -0.00000166\n",
      "123: p1 =   0.49040003 -> excès de demande ->    -0.00000001\n"
     ]
    }
   ],
   "source": [
    "p1 = 1.4\n",
    "p2 = 1\n",
    "kappa = 0.1\n",
    "eps = 1e-8\n",
    "p1 = fn_prix_equilibre(alphas,p1,p2,k,kappa=kappa,eps=eps)"
   ]
  },
  {
   "cell_type": "markdown",
   "metadata": {},
   "source": [
    "**Vérification:** on vérifie que l'excès de demande pour les deux biens est pratiquement zéro."
   ]
  },
  {
   "cell_type": "code",
   "execution_count": null,
   "metadata": {},
   "outputs": [],
   "source": [
    "Z1 = fn_exces_demande_q1(alphas,p1,p2,k)\n",
    "Z2 = fn_exces_demande_q2(alphas,p1,p2,k)\n",
    "print(Z1,Z2)\n",
    "assert np.abs(Z1) < eps\n",
    "assert np.abs(Z2) < eps"
   ]
  },
  {
   "cell_type": "markdown",
   "metadata": {},
   "source": [
    "### <center> INTÉGRATION NUMÉRIQUE PAR MONTE-CARLO</center>"
   ]
  },
  {
   "cell_type": "markdown",
   "metadata": {},
   "source": [
    "Le calcul numérique d'intégrales consiste à calculer,\n",
    "\n",
    "$$ \n",
    "\\operatorname{E}[g(X)]  \\text{ où } X \\sim F\n",
    "$$\n",
    "\n",
    "où $F$ est une loi de probabilité connue et $g$ est une fonction. \n",
    "\n",
    "On s'appuyant sur la loi des grands nombres, une approximation de cette intégrale est,\n",
    "\n",
    "$$\n",
    "\\operatorname{E}[g(X)]  \\approx \\frac{1}{n}\\sum_{i=1}^{n} g(X_i) \n",
    "$$\n",
    "\n",
    "où $X_i$ est un tirage à partir de $F$ en utilisant un générateur de nombres aléatoires. Cette procédure est appelée **intégration numériques par méthodes de Monte-Carlo**."
   ]
  },
  {
   "cell_type": "markdown",
   "metadata": {},
   "source": [
    "**Fonction de Monte-Carlo**"
   ]
  },
  {
   "cell_type": "code",
   "execution_count": null,
   "metadata": {},
   "outputs": [],
   "source": [
    "def g(x):\n",
    "    return (x-1)**2\n",
    "\n",
    "def MC(n,g,F):\n",
    "    X = F.rvs(size=n) # rvs = tirage de n nombres aléatoires à partir de F\n",
    "    return np.mean(g(X))"
   ]
  },
  {
   "cell_type": "markdown",
   "metadata": {},
   "source": [
    "**Exemple** avec une loi normale:"
   ]
  },
  {
   "cell_type": "code",
   "execution_count": null,
   "metadata": {},
   "outputs": [],
   "source": [
    "n = 1000\n",
    "mu = 0.1\n",
    "sigma = 0.5\n",
    "F = norm(loc=mu,scale=sigma)\n",
    "print(MC(n,g,F))"
   ]
  },
  {
   "cell_type": "markdown",
   "metadata": {},
   "source": [
    "Fonction pour tirer $k$ échantillons de Monte-Carlo:"
   ]
  },
  {
   "cell_type": "code",
   "execution_count": null,
   "metadata": {},
   "outputs": [],
   "source": [
    "def MC_echantillon(n,g,F,k):\n",
    "    \n",
    "    resultats = np.empty(k)\n",
    "    for i in range(k):\n",
    "        resultats[i] = MC(n,g,F)\n",
    "\n",
    "    return resultats"
   ]
  },
  {
   "cell_type": "markdown",
   "metadata": {},
   "source": [
    "La variance sur les échantillons de Monte-Carlo diminue quand $n$ devient grand:"
   ]
  },
  {
   "cell_type": "code",
   "execution_count": null,
   "metadata": {},
   "outputs": [],
   "source": [
    "k = 1000\n",
    "for n in [10**2,10**3,10**4,10**5]:\n",
    "    resultats = MC_echantillon(n,g,F,k)\n",
    "    print(f'n = {n:8d}: {resultats.mean():.6f} (std: {resultats.std():.4f})')"
   ]
  },
  {
   "cell_type": "code",
   "execution_count": null,
   "metadata": {},
   "outputs": [],
   "source": [
    "import session_info\n",
    "session_info.show()"
   ]
  },
  {
   "cell_type": "markdown",
   "metadata": {},
   "source": [
    "### <center> AVANCÉ: QUADRATURE DE GAUSS-HERMITE</center>"
   ]
  },
  {
   "cell_type": "markdown",
   "metadata": {},
   "source": [
    "**Problème:** l'intégration numérique par MC est **lente**.\n",
    "\n",
    "**Solution:** utiliser des formules d'intégration plus malignes sur la forme\n",
    "\n",
    "$$\n",
    "\\operatorname{E}[g(X)] \\approx \\sum_{i=1}^{n} w_ig(X_i) \n",
    "$$\n",
    "\n",
    "où $(X_i,w_i), \\forall n \\in \\{1,2,\\dots,n\\}$, sont appelés **noeuds et poids de la quadrature ** et résultent par une formule théorique qui dépend de la loi de $X$.\n",
    "\n",
    "**Exemple I, loi normale:** si $X \\sim \\mathcal{N}(\\mu,\\sigma)$ alors on peut utiliser la [quadrature de Gauss-Hermite](https://fr.wikipedia.org/wiki/M%C3%A9thodes_de_quadrature_de_Gauss#M%C3%A9thode_de_Gauss-Hermite) mise en oeuvre ci-dessous."
   ]
  },
  {
   "cell_type": "code",
   "execution_count": null,
   "metadata": {},
   "outputs": [],
   "source": [
    "def gauss_hermite(n):\n",
    "    \"\"\" noeuds de gauss-hermite \n",
    "\n",
    "    Args:\n",
    "\n",
    "        n (int): nombre de points\n",
    "\n",
    "    Renvois:\n",
    "\n",
    "        x (numpy.ndarray): noeuds de longueur n\n",
    "        w (numpy.ndarray): poids de longueur n\n",
    "\n",
    "    \"\"\"\n",
    "\n",
    "    # a. calculs\n",
    "    i = np.arange(1,n)\n",
    "    a = np.sqrt(i/2)\n",
    "    CM = np.diag(a,1) + np.diag(a,-1)\n",
    "    L,V = np.linalg.eig(CM)\n",
    "    I = L.argsort()\n",
    "    V = V[:,I].T\n",
    "\n",
    "    # b. noeuds et poids\n",
    "    x = L[I]\n",
    "    w = np.sqrt(math.pi)*V[:,0]**2\n",
    "\n",
    "    return x,w"
   ]
  },
  {
   "cell_type": "code",
   "execution_count": null,
   "metadata": {},
   "outputs": [],
   "source": [
    "def normal_gauss_hermite(sigma, n=7, mu=None, exp=False):\n",
    "    \"\"\" noeuds de gauss-hermite dans le cas de loi normale\n",
    "\n",
    "    Args:\n",
    "\n",
    "        sigma (double): écart-type\n",
    "        n (int): nombre de points\n",
    "        mu (double,optionnel): moyenne\n",
    "        exp (bool,optionnel): prends exp et corrige la moyenne (si cela n'est pas spécifié)\n",
    "\n",
    "    Renvois:\n",
    "\n",
    "        x (numpy.ndarray): noeuds de longueur n\n",
    "        w (numpy.ndarray): poids de longueur n\n",
    "\n",
    "    \"\"\"\n",
    "\n",
    "    if sigma == 0.0 or n == 1:\n",
    "        x = np.ones(n)\n",
    "        if mu is not None:\n",
    "            x += mu\n",
    "        w = np.ones(n)\n",
    "        return x,w\n",
    "\n",
    "    # a. GaussHermite\n",
    "    x,w = gauss_hermite(n)\n",
    "    x *= np.sqrt(2)*sigma \n",
    "\n",
    "    # b. log-normalité\n",
    "    if exp:\n",
    "        if mu is None:\n",
    "            x = np.exp(x - 0.5*sigma**2)\n",
    "        else:\n",
    "            x = np.exp(x + mu)\n",
    "    else:\n",
    "        if mu is None:\n",
    "            x = x \n",
    "        else:\n",
    "            x = x + mu\n",
    "\n",
    "    w /= np.sqrt(math.pi)\n",
    "\n",
    "    return x,w"
   ]
  },
  {
   "cell_type": "markdown",
   "metadata": {},
   "source": [
    "**Résultats:** comme la fonction n'est pas \"difficile\", peu de points de quadrature sont requis ici (*ceci n'est en généralement pas le cas*)."
   ]
  },
  {
   "cell_type": "code",
   "execution_count": null,
   "metadata": {},
   "outputs": [],
   "source": [
    "for n in [1,2,3,5,7,9,11]:\n",
    "    x,w = normal_gauss_hermite(mu=mu,sigma=sigma,n=n)\n",
    "    result = np.sum(w*g(x))\n",
    "    print(f'n = {n:3d}: {result:.10f}')"
   ]
  },
  {
   "cell_type": "markdown",
   "metadata": {},
   "source": [
    "**Example II, loi log-normale ([plus ici](https://fr.wikipedia.org/wiki/Loi_log-normale)):** \n",
    "\n",
    "1. Soit $\\log X \\sim \\mathcal{N}(\\mu,\\sigma)$. \n",
    "2. La quadrature de Gauss-Hermite avec noeuds et poids peut être utilisée avec l'option `exp=True`. \n",
    "3. Pour garantir $\\operatorname{E}(X) = 1$ alors $\\mu = -0.5\\sigma^2$."
   ]
  },
  {
   "cell_type": "code",
   "execution_count": null,
   "metadata": {},
   "outputs": [],
   "source": [
    "z = np.random.normal(size=1_000_000,scale=sigma)\n",
    "\n",
    "print('moyenne(x) quand mu = 0')\n",
    "x,w = normal_gauss_hermite(mu=0,sigma=sigma,n=7,exp=True)\n",
    "print(f'MC: {np.mean(np.exp(z)):.4f}')\n",
    "print(f'Gauss-Hermite: {np.sum(x*w):.4f}')\n",
    "print('')\n",
    "\n",
    "print('moyenne(x), mu = -0.5*sigma^2')\n",
    "x,w = normal_gauss_hermite(sigma=sigma,n=7,exp=True)\n",
    "print(f'MC: {np.mean(np.exp(z)-0.5*sigma**2):.4f}')\n",
    "print(f'Gauss-Hermite: {np.sum(x*w):.4f}')"
   ]
  },
  {
   "cell_type": "markdown",
   "metadata": {},
   "source": [
    "### <center> CHARGER ET SAUVEGARDER</center>"
   ]
  },
  {
   "cell_type": "markdown",
   "metadata": {},
   "source": [
    "### Pickle"
   ]
  },
  {
   "cell_type": "markdown",
   "metadata": {},
   "source": [
    "Une bonne façon générale pour charger et sauvegarder est d'utiliser **pickle**. Voici pour la sauvegarde:\n",
    "\n"
   ]
  },
  {
   "cell_type": "code",
   "execution_count": null,
   "metadata": {},
   "outputs": [],
   "source": [
    "# a. variables\n",
    "mon_dict = {'a':1,'b':2}\n",
    "mon_vec = np.array([1,2,3])\n",
    "mon_tupple = (1,4,2)\n",
    "\n",
    "# b. on les place dans un dictionnaire\n",
    "mes_donnees = {}\n",
    "mes_donnees['mon_dict'] = mon_dict\n",
    "mes_donnees['mon_vec'] = mon_vec\n",
    "mes_donnees['mon_tupple'] = mon_tupple\n",
    "\n",
    "# c. sauvegarde du dictionnaire dans un fichier\n",
    "with open(f'donnees.p', 'wb') as f: # wb = write binary\n",
    "    pickle.dump(mes_donnees, f)"
   ]
  },
  {
   "cell_type": "markdown",
   "metadata": {},
   "source": [
    "Suppression des variables:"
   ]
  },
  {
   "cell_type": "code",
   "execution_count": null,
   "metadata": {},
   "outputs": [],
   "source": [
    "del mon_dict\n",
    "del mon_vec\n",
    "del mon_tupple"
   ]
  },
  {
   "cell_type": "markdown",
   "metadata": {},
   "source": [
    "On recharge les données"
   ]
  },
  {
   "cell_type": "code",
   "execution_count": null,
   "metadata": {},
   "outputs": [],
   "source": [
    "# a. essai\n",
    "try:\n",
    "    print(mon_tupple)\n",
    "except:\n",
    "    print('mon_tupple n\\'existe pas')\n",
    "    \n",
    "# b. chargement    \n",
    "with open(f'donnees.p', 'rb') as f: # rb = read binary\n",
    "    donnees = pickle.load(f)\n",
    "    mon_dict = donnees['mon_dict']\n",
    "    mon_vec = donnees['mon_vec']\n",
    "    mon_tupple = donnees['mon_tupple']\n",
    "    \n",
    "# c. encore un essai\n",
    "print(mon_vec)\n",
    "print(mon_tupple)"
   ]
  },
  {
   "cell_type": "markdown",
   "metadata": {},
   "source": [
    "### Numpy"
   ]
  },
  {
   "cell_type": "markdown",
   "metadata": {},
   "source": [
    "Quand il s'agit de seulement sauvegarder des arrays numpy, une alternative est d'utiliser ``np.savez`` (ou ``np.savez_compressed``). Typiquement, cela est plus rapide que pickle."
   ]
  },
  {
   "cell_type": "markdown",
   "metadata": {},
   "source": [
    "Voici un exemple:"
   ]
  },
  {
   "cell_type": "code",
   "execution_count": null,
   "metadata": {},
   "outputs": [],
   "source": [
    "mes_donnees = {}\n",
    "mes_donnees['A'] = np.array([1,2,3])\n",
    "mes_donnees['B'] = np.zeros((5,8))\n",
    "mes_donnees['C'] = np.ones((7,3,8))\n",
    "np.savez(f'data.npz', **mes_donnees)\n",
    "# '**' défaire le dictionaire"
   ]
  },
  {
   "cell_type": "markdown",
   "metadata": {},
   "source": [
    "On recharge les données"
   ]
  },
  {
   "cell_type": "code",
   "execution_count": null,
   "metadata": {},
   "outputs": [],
   "source": [
    "# a. suppression\n",
    "del mes_donnees\n",
    "\n",
    "# a. chargement de tout\n",
    "mes_donnees = {}\n",
    "with np.load(f'data.npz') as data_obj:\n",
    "    for key in data_obj.files:\n",
    "        mes_donnees[key] = data_obj[key]\n",
    "print(mes_donnees['A'])\n",
    "\n",
    "# b. chargement d'un seul array\n",
    "X = np.load(f'data.npz')['A']\n",
    "print(X)"
   ]
  },
  {
   "cell_type": "markdown",
   "metadata": {},
   "source": [
    "### <center> RÉSUMÉ</center>"
   ]
  },
  {
   "cell_type": "markdown",
   "metadata": {},
   "source": [
    "**Ce cours:** nous avons traité:\n",
    "\n",
    "1. numpy.random: tirage de nombres (pseudo-)aléatoires (graine, état, lois)\n",
    "2. scipy.stats: utilisation de lois de probabilité analytiques (ppf, pdf, cdf, rvs)\n",
    "3. ipywidgets: graphiques interactifs\n",
    "4. pickle et np.savez: sauvegarde et chargement de donnees"
   ]
  },
  {
   "cell_type": "markdown",
   "metadata": {},
   "source": [
    "Les méthodes employées pour trouver l'équilibre peuvent aussi l'être pour de nombreux autres modèles. Par exemple, une méthode simple avec plusieurs biens.\n"
   ]
  },
  {
   "cell_type": "markdown",
   "metadata": {},
   "source": [
    "# Exercices\n",
    "\n",
    "\n"
   ]
  },
  {
   "cell_type": "markdown",
   "metadata": {},
   "source": [
    "## Tirage de nombre aléatoires"
   ]
  },
  {
   "cell_type": "markdown",
   "metadata": {},
   "source": [
    "Dans le code ci-après remplacez les lignes manquantes de manière à obtenir les résultats qui suivent."
   ]
  },
  {
   "cell_type": "code",
   "execution_count": 17,
   "metadata": {},
   "outputs": [
    {
     "name": "stdout",
     "output_type": "stream",
     "text": [
      "(0,0): x = 0.569\n",
      "(0,1): x = 0.077\n",
      "(1,0): x = 0.608\n",
      "(1,1): x = 0.897\n",
      "(2,0): x = 0.545\n",
      "(2,1): x = 0.703\n"
     ]
    }
   ],
   "source": [
    "import numpy as np\n",
    "np.random.seed(1986)\n",
    "# ligne manquante\n",
    "for i in range(3):\n",
    "    # ligne manquante\n",
    "    for j in range(2):\n",
    "        x = np.random.uniform()\n",
    "        print(f'({i},{j}): x = {x:.3f}')"
   ]
  },
  {
   "cell_type": "markdown",
   "metadata": {},
   "source": [
    "## Réponse:"
   ]
  },
  {
   "cell_type": "code",
   "execution_count": 18,
   "metadata": {},
   "outputs": [
    {
     "name": "stdout",
     "output_type": "stream",
     "text": [
      "(0,0): x = 0.569\n",
      "(0,1): x = 0.077\n",
      "(1,0): x = 0.569\n",
      "(1,1): x = 0.077\n",
      "(2,0): x = 0.569\n",
      "(2,1): x = 0.077\n"
     ]
    }
   ],
   "source": [
    "import numpy as np\n",
    "np.random.seed(1986)\n",
    "state = np.random.get_state()\n",
    "for i in range(3):\n",
    "    np.random.set_state(state)\n",
    "    for j in range(2):\n",
    "        x = np.random.uniform()\n",
    "        print(f'({i},{j}): x = {x:.3f}')"
   ]
  },
  {
   "cell_type": "markdown",
   "metadata": {},
   "source": [
    "## Calcul de l'espérance et variance d'un v.a."
   ]
  },
  {
   "cell_type": "markdown",
   "metadata": {},
   "source": [
    "Calculez l'espérance et variance\n",
    "\n",
    "$$ \n",
    "\\operatorname{E}[g(X)] \\approx \\frac{1}{n}\\sum_{i=1}^{n} g(X_i)\n",
    "$$\n",
    "$$ \n",
    "\\operatorname{Var}[g(X)] \\approx \\frac{1}{n}\\sum_{i=1}^{n} \\left( g(X_i) - \\frac{1}{n}\\sum_{i=1}^{n} g(X_i) \\right)^2\n",
    "$$\n",
    "\n",
    "où $ X_i \\sim \\mathcal{N}(0,\\sigma) $ et\n",
    "\n",
    "$$ \n",
    "g(x,\\omega)=\\begin{cases}\n",
    "x & \\text{if }x\\in[-\\omega,\\omega]\\\\\n",
    "-\\omega & \\text{if }x<-\\omega\\\\\n",
    "\\omega & \\text{if }x>\\omega\n",
    "\\end{cases} \n",
    "$$"
   ]
  },
  {
   "cell_type": "code",
   "execution_count": 19,
   "metadata": {},
   "outputs": [],
   "source": [
    "sigma = 3.14\n",
    "omega = 2\n",
    "n = 10000\n",
    "np.random.seed(1986)\n",
    "# votre réponse ci-dessous\n",
    "\n"
   ]
  },
  {
   "cell_type": "code",
   "execution_count": 20,
   "metadata": {},
   "outputs": [
    {
     "name": "stdout",
     "output_type": "stream",
     "text": [
      "moyenne = -0.00264, variance = 2.69804\n"
     ]
    }
   ],
   "source": [
    "# a. choix des paramètres\n",
    "sigma = 3.14\n",
    "omega = 2\n",
    "N = 10000\n",
    "np.random.seed(1986)\n",
    "\n",
    "# b. tirage de nombres aléatoires selon une loi normale\n",
    "x = np.random.normal(loc=0,scale=sigma,size=N)\n",
    "\n",
    "# c. fonction de transformation\n",
    "def g(x,omega):\n",
    "    y = x.copy()\n",
    "    y[x < -omega] = -omega\n",
    "    y[x > omega] = omega\n",
    "    return y\n",
    "\n",
    "# d. moyenne et variance\n",
    "mean = np.mean(g(x,omega))\n",
    "var = np.var(g(x-mean,omega))\n",
    "print(f'moyenne = {mean:.5f}, variance = {var:.5f}')\n",
    "    "
   ]
  },
  {
   "cell_type": "markdown",
   "metadata": {},
   "source": [
    "## Histogramme interactif"
   ]
  },
  {
   "cell_type": "markdown",
   "metadata": {},
   "source": [
    "**Première partie:** dans le code ci-dessous complétez les lignes manquantes pour avoir le graph de la figure."
   ]
  },
  {
   "cell_type": "code",
   "execution_count": 21,
   "metadata": {},
   "outputs": [
    {
     "name": "stdout",
     "output_type": "stream",
     "text": [
      "échec\n"
     ]
    }
   ],
   "source": [
    "# a. imports\n",
    "%matplotlib inline\n",
    "import matplotlib.pyplot as plt\n",
    "# ligne à compléter\n",
    "\n",
    "# b. graph de la figure\n",
    "def fitting_normal(X,mu_init,sigma_init):\n",
    "    \n",
    "    # i. loi normale à partir des paramètres initiaux(mu_init, sigma_init)\n",
    "    F = norm(loc=mu_init,scale=sigma_init)\n",
    "    \n",
    "    # ii. valeurs de x\n",
    "    # a compléter, x_inf =\n",
    "    # a compléter, x_sup =\n",
    "    x = np.linspace(x_inf,x_sup,100)\n",
    "\n",
    "    # iii. graphique\n",
    "    fig = plt.figure(dpi=100)\n",
    "    ax = fig.add_subplot(1,1,1)\n",
    "    ax.plot(x,F.pdf(x),lw=2)\n",
    "    ax.hist(X,bins=100,density=True,histtype='stepfilled');\n",
    "    ax.set_ylim([0,0.5])\n",
    "    ax.set_xlim([-6,6])\n",
    "\n",
    "# c. paramètres\n",
    "mu_vrai = 2\n",
    "sigma_vrai = 1\n",
    "mu_init = 1\n",
    "sigma_init = 2\n",
    "\n",
    "# d. tirages aléatoires\n",
    "X = np.random.normal(loc=mu_vrai,scale=sigma_vrai,size=10**6)\n",
    "\n",
    "# e. graphique\n",
    "try:\n",
    "    fitting_normal(X,mu_init,sigma_init)\n",
    "except:\n",
    "    print('échec')"
   ]
  },
  {
   "cell_type": "code",
   "execution_count": 22,
   "metadata": {},
   "outputs": [
    {
     "data": {
      "image/png": "[encoded data removed]",
      "text/plain": [
       "<Figure size 600x400 with 1 Axes>"
      ]
     },
     "metadata": {
      "needs_background": "light"
     },
     "output_type": "display_data"
    }
   ],
   "source": [
    "# a. imports\n",
    "%matplotlib inline\n",
    "import matplotlib.pyplot as plt\n",
    "from scipy.stats import norm\n",
    "\n",
    "# b. graph de la figure\n",
    "def fitting_normal(X,mu_init,sigma_init):\n",
    "    \n",
    "    # i. loi normale à partir des paramètres initiaux(mu_init, sigma_init)\n",
    "    F = norm(loc=mu_init,scale=sigma_init)\n",
    "    \n",
    "    # ii. valeurs de x\n",
    "    x_inf = F.ppf(0.001) # valeur de x où la fonction de répartition est 0.001\n",
    "    x_sup = F.ppf(0.999) # valeur de x où la fonction de répartition est 0.999\n",
    "    x = np.linspace(x_inf,x_sup,100)\n",
    "\n",
    "    # iii. graphique\n",
    "    fig = plt.figure(dpi=100)\n",
    "    ax = fig.add_subplot(1,1,1)\n",
    "    ax.plot(x,F.pdf(x),lw=2)\n",
    "    ax.hist(X,bins=100,density=True,histtype='stepfilled');\n",
    "    ax.set_ylim([0,0.5])\n",
    "    ax.set_xlim([-6,6])\n",
    "\n",
    "# c. paramètres\n",
    "mu_vrai = 2\n",
    "sigma_vrai = 1\n",
    "mu_init = 1\n",
    "sigma_init = 2\n",
    "\n",
    "# d. tirages aléatoires\n",
    "X = np.random.normal(loc=mu_vrai,scale=sigma_vrai,size=10**6)\n",
    "\n",
    "# e. graphique\n",
    "try:\n",
    "    fitting_normal(X,mu_init,sigma_init)\n",
    "except:\n",
    "    print('échec')"
   ]
  },
  {
   "cell_type": "markdown",
   "metadata": {},
   "source": [
    "**Deuxième partie:** création d'une figure interactive avec défilement(sliders) pour $\\mu$ et $\\sigma$."
   ]
  },
  {
   "cell_type": "code",
   "execution_count": 24,
   "metadata": {},
   "outputs": [
    {
     "data": {
      "application/vnd.jupyter.widget-view+json": {
       "model_id": "35caedbcddf146a5b0a8f13cd765e2a2",
       "version_major": 2,
       "version_minor": 0
      },
      "text/plain": [
       "interactive(children=(FloatSlider(value=1.0, description='$\\\\mu$', max=5.0, min=0.1, step=0.05), FloatSlider(v…"
      ]
     },
     "metadata": {},
     "output_type": "display_data"
    }
   ],
   "source": [
    "# Réponse\n",
    "import ipywidgets as widgets\n",
    "widgets.interact(fitting_normal,\n",
    "    X=widgets.fixed(X),\n",
    "    mu_init=widgets.FloatSlider(description=\"$\\mu$\", min=0.1, max=5, step=0.05, value=1),\n",
    "    sigma_init=widgets.FloatSlider(description=\"$\\sigma$\", min=0.1, max=5, step=0.05, value=1)\n",
    ");"
   ]
  },
  {
   "cell_type": "markdown",
   "metadata": {},
   "source": [
    "## Sauvegarde et lecture"
   ]
  },
  {
   "cell_type": "markdown",
   "metadata": {},
   "source": [
    "Considérez le code ci-dessous et complétez les lignes manquantes de sorte qu'il n'y ait pas d'erreur lors de l'execution."
   ]
  },
  {
   "cell_type": "code",
   "execution_count": null,
   "metadata": {},
   "outputs": [],
   "source": [
    "import pickle\n",
    "\n",
    "# a. création de données\n",
    "mes_donnees = {}\n",
    "mes_donnees['A'] = {'a':1,'b':2}\n",
    "mes_donnees['B'] = np.array([1,2,3])\n",
    "# ligne manquante\n",
    "\n",
    "mes_donnees_np = {}\n",
    "mes_donnees_np['D'] = np.array([1,2,3])\n",
    "mes_donnees_np['E'] = np.zeros((5,8))\n",
    "# ligne manquante\n",
    "\n",
    "# c. sauvegarde avec pickle\n",
    "with open(f'donnees.p', 'wb') as f:\n",
    "    # ligne manquante\n",
    "    pass\n",
    "    \n",
    "# d. sauvegarde avec numpy\n",
    "# ligne manquante, np.savez(?)\n",
    "    \n",
    "# a. essai du code\n",
    "def load_all():\n",
    "    with open(f'donnees.p', 'rb') as f:\n",
    "        donnees = pickle.load(f)\n",
    "        A = donnees['A']\n",
    "        B = donnees['B']\n",
    "        C = donnees['C']\n",
    "\n",
    "    with np.load(f'donnees.npz') as donnees:\n",
    "        D = donnees['D']\n",
    "        E = donnees['E']\n",
    "        F = donnees['F']        \n",
    "    \n",
    "    print('chargement des variables sans erreur')\n",
    "    \n",
    "try:\n",
    "    load_all()\n",
    "except:\n",
    "    print('échec')"
   ]
  },
  {
   "cell_type": "code",
   "execution_count": 26,
   "metadata": {},
   "outputs": [
    {
     "name": "stdout",
     "output_type": "stream",
     "text": [
      "chargement des variables sans erreur\n"
     ]
    }
   ],
   "source": [
    "# Réponse\n",
    "\n",
    "import pickle\n",
    "\n",
    "# a. création de donnees\n",
    "mes_donnees = {}\n",
    "mes_donnees['A'] = {'a':1,'b':2}\n",
    "mes_donnees['B'] = np.array([1,2,3])\n",
    "mes_donnees['C'] = (1,4,2)\n",
    "\n",
    "mes_donnees_np = {}\n",
    "mes_donnees_np['D'] = np.array([1,2,3])\n",
    "mes_donnees_np['E'] = np.zeros((5,8))\n",
    "mes_donnees_np['F'] = np.ones((7,3,8))\n",
    "\n",
    "# c. save with pickle\n",
    "with open(f'donnees.p', 'wb') as f:\n",
    "    pickle.dump(mes_donnees, f)\n",
    "    \n",
    "# d. save with numpy\n",
    "np.savez(f'donnees.npz', **mes_donnees_np)\n",
    "    \n",
    "# a. try\n",
    "def load_and_print():\n",
    "    with open(f'donnees.p', 'rb') as f:\n",
    "        donnees = pickle.load(f)\n",
    "        A = donnees['A']\n",
    "        B = donnees['B']\n",
    "        C = donnees['C']\n",
    "\n",
    "    with np.load(f'donnees.npz') as donnees:\n",
    "        D = donnees['D']\n",
    "        E = donnees['E']\n",
    "        F = donnees['F']        \n",
    "\n",
    "    print('chargement des variables sans erreur')\n",
    "            \n",
    "try:\n",
    "    load_and_print()\n",
    "except:\n",
    "    print('une erreur est trouvée')"
   ]
  },
  {
   "cell_type": "markdown",
   "metadata": {},
   "source": [
    "## Modules"
   ]
  },
  {
   "cell_type": "markdown",
   "metadata": {},
   "source": [
    "1. Faites un appel `ma_fct` dans le module `mon_module` dans ce dossier.\n",
    "2. Ouvrez `mon_module.py` avec vscode ou spyder(via \"anaconda navigator\"),et ajoutez une nouvelle fonction que vous appellerez à partir de ce notebook."
   ]
  },
  {
   "cell_type": "code",
   "execution_count": null,
   "metadata": {},
   "outputs": [],
   "source": [
    "# votre code ici"
   ]
  },
  {
   "cell_type": "markdown",
   "metadata": {},
   "source": [
    "**Réponse:**"
   ]
  },
  {
   "cell_type": "code",
   "execution_count": 1,
   "metadata": {},
   "outputs": [
    {
     "name": "stdout",
     "output_type": "stream",
     "text": [
      "hello world!\n",
      "hello world!\n",
      "hello world!\n",
      "hello world!\n",
      "hello world!\n"
     ]
    }
   ],
   "source": [
    "import mon_module\n",
    "mon_module.ma_fct(5)"
   ]
  },
  {
   "cell_type": "code",
   "execution_count": 2,
   "metadata": {},
   "outputs": [
    {
     "name": "stdout",
     "output_type": "stream",
     "text": [
      "bonjour!\n",
      "bonjour!\n",
      "bonjour!\n",
      "bonjour!\n",
      "bonjour!\n"
     ]
    }
   ],
   "source": [
    "mon_module.ma_fct_bis(5)"
   ]
  },
  {
   "cell_type": "markdown",
   "metadata": {},
   "source": [
    "# Problème"
   ]
  },
  {
   "cell_type": "markdown",
   "metadata": {},
   "source": [
    "Soit une **économie d'échange** avec\n",
    "\n",
    "1. 2 biens, $(q_1,q_2)$\n",
    "2. $n$ consommateurs indicés par $j \\in \\{1,2,\\dots,n\\}$\n",
    "3. Préférences de type Cobb-Douglas des coefficients *hétérogènes* selon une loi normale tronquée.\n",
    "\n",
    "    $$\n",
    "    \\begin{align*}\n",
    "    u^{j}(q_{1},q_{2}) & = q_{1}^{\\alpha_{j}}q_{2}^{1-\\alpha_{j}}\\\\\n",
    "     \\tilde{\\alpha}_{j}&\\sim\\mathcal{N}(\\mu,\\sigma)\\\\\n",
    "     \\alpha_j &= \\max(\\underline{\\mu},\\min(\\overline{\\mu},\\tilde{\\alpha}_{j}))\n",
    "    \\end{align*}\n",
    "    $$\n",
    "\n",
    "4. dotations hétérogènes et données par\n",
    "\n",
    "    $$\n",
    "    \\begin{align*}\n",
    "    \\boldsymbol{e}^{j}&=(e_{1}^{j},e_{2}^{j}) \\\\\n",
    "     e_i^j &\\sim f, f(x,\\beta_i) =  1/\\beta_i \\exp(-x/\\beta)\n",
    "    \\end{align*}\n",
    "    $$"
   ]
  },
  {
   "cell_type": "markdown",
   "metadata": {},
   "source": [
    "**Problème:** écrivez une fonction pour résoudre l'équilibre"
   ]
  },
  {
   "cell_type": "markdown",
   "metadata": {},
   "source": [
    "Vous pouvez utiliser les paramètres suivantes"
   ]
  },
  {
   "cell_type": "code",
   "execution_count": null,
   "metadata": {},
   "outputs": [],
   "source": [
    "# a. paramètres\n",
    "n = 10000\n",
    "mu = 0.5\n",
    "sigma = 0.2\n",
    "mu_inf = 0.1\n",
    "mu_sup = 0.9\n",
    "beta1 = 1.3\n",
    "beta2 = 2.1\n",
    "seed = 1986\n",
    "\n",
    "# b. tirage de nombre aléatoires\n",
    "# c. fonction de demande\n",
    "# d. excès de demande\n",
    "# e. fonction pour obtenir l'équilibre\n",
    "# f. appel de la fonction en e)"
   ]
  },
  {
   "cell_type": "markdown",
   "metadata": {},
   "source": [
    "**Indication:** la structure du code est exactement la même que pour l'économie d'échange traitée au début de le cours de ce notebook. Il est reproduit ici de façon condensée:"
   ]
  },
  {
   "cell_type": "code",
   "execution_count": null,
   "metadata": {},
   "outputs": [],
   "source": [
    "# a. paramètres\n",
    "N = 1000\n",
    "k = 2\n",
    "mu_inf = 0.1\n",
    "mu_sup = 0.9\n",
    "seed = 1986\n",
    "\n",
    "# b. tirage de nombre aléatoires\n",
    "np.random.seed(seed)\n",
    "alphas = np.random.uniform(low=mu_inf,high=mu_sup,size=n)\n",
    "\n",
    "# c. fonction de demande\n",
    "def fn_demande_q1(alpha,p1,p2,k):\n",
    "    R = k*p1+p2\n",
    "    return alpha*R/p1\n",
    "\n",
    "# d. excès de demande\n",
    "def fn_exces_demande_q1(alphas,p1,p2,k):\n",
    "    \n",
    "    # a. demande\n",
    "    demande = np.sum(fn_demande_q1(alphas,p1,p2,k))\n",
    "    \n",
    "    # b. offre\n",
    "    offre = k*alphas.size\n",
    "    \n",
    "    # c. excès de demande\n",
    "    exces_demande = demande-offre\n",
    "    \n",
    "    return exces_demande\n",
    "\n",
    "# e. fonction pour calcul de prix d'équilibre\n",
    "def fn_prix_equilibre(alphas,p1,p2,k,kappa=0.5,eps=1e-8,maxiter=500):\n",
    "    \n",
    "    t = 0\n",
    "    while True:\n",
    "\n",
    "        # a. étape 1: excès de demande\n",
    "        Z1 = fn_exces_demande_q1(alphas,p1,p2,k)\n",
    "        \n",
    "        # b: étape 2: arrêt?\n",
    "        if  np.abs(Z1) < eps or t >= maxiter:\n",
    "            print(f'{t:3d}: p1 = {p1:12.8f} -> excès de demande -> {Z1:14.8f}')\n",
    "            break    \n",
    "    \n",
    "        # c. step 3: actualisation de p1\n",
    "        p1 = p1 + kappa*Z1/alphas.size\n",
    "            \n",
    "        # d. step 4: résultat\n",
    "        if t < 5 or t%25 == 0:\n",
    "            print(f'{t:3d}: p1 = {p1:12.8f} -> excès de demande -> {Z1:14.8f}')\n",
    "        elif t == 5:\n",
    "            print('   ...')\n",
    "            \n",
    "        t += 1    \n",
    "\n",
    "    return p1\n",
    "\n",
    "# e. appel de la fonction pour prix d'équilibre\n",
    "p1 = 1.4\n",
    "p2 = 1\n",
    "kappa = 0.1\n",
    "eps = 1e-8\n",
    "p1 = fn_prix_equilibre(alphas,p1,p2,k,kappa=kappa,eps=eps)"
   ]
  },
  {
   "cell_type": "markdown",
   "metadata": {},
   "source": [
    "**Réponses:**"
   ]
  },
  {
   "cell_type": "code",
   "execution_count": 5,
   "metadata": {},
   "outputs": [
    {
     "name": "stdout",
     "output_type": "stream",
     "text": [
      "  0: p1 =   1.45140633 -> excès de demande ->  1028.12662815\n",
      "  1: p1 =   1.48943510 -> excès de demande ->   760.57530384\n",
      "  2: p1 =   1.51816180 -> excès de demande ->   574.53408777\n",
      "  3: p1 =   1.54017076 -> excès de demande ->   440.17912761\n",
      "  4: p1 =   1.55720246 -> excès de demande ->   340.63398830\n",
      "   ...\n",
      " 25: p1 =   1.62002594 -> excès de demande ->     2.71044780\n",
      " 50: p1 =   1.62056127 -> excès de demande ->     0.00980814\n",
      " 75: p1 =   1.62056320 -> excès de demande ->     0.00003553\n",
      "100: p1 =   1.62056321 -> excès de demande ->     0.00000013\n",
      "112: p1 =   1.62056321 -> excès de demande ->     0.00000001\n"
     ]
    }
   ],
   "source": [
    "# a. paramètres\n",
    "n = 10000\n",
    "mu = 0.5\n",
    "sigma = 0.2\n",
    "mu_inf = 0.1\n",
    "mu_sup = 0.9\n",
    "beta1 = 1.3\n",
    "beta2 = 2.1\n",
    "seed = 1986\n",
    "\n",
    "# b. tirage de nombre aléatoires\n",
    "np.random.seed(seed)\n",
    "alphas = np.random.normal(loc=mu,scale=sigma,size=n)\n",
    "alphas = np.fmax(np.fmin(alphas,mu_sup),mu_inf)\n",
    "e1 = np.random.exponential(beta1,size=n)\n",
    "e2 = np.random.exponential(beta2,size=n)\n",
    "\n",
    "# c. fonction de demande du bien 1\n",
    "def fn_demand_q1(alpha,p1,p2,e1,e2):\n",
    "    R = p1*e1+p2*e2\n",
    "    return alpha*R/p1\n",
    "\n",
    "# d. excès de demande du bien 1\n",
    "def fn_exces_demande_q1(alphas,p1,p2,e1,e2):\n",
    "    \n",
    "    # a. demande\n",
    "    demande = np.sum(fn_demand_q1(alphas,p1,p2,e1,e2))\n",
    "    \n",
    "    # b. offre\n",
    "    offre = np.sum(e1)\n",
    "    \n",
    "    # c. excès de demande\n",
    "    exces_demande = demande-offre\n",
    "    \n",
    "    return exces_demande\n",
    "\n",
    "# e. fonction pour calcul de prix d'équilibre\n",
    "def fn_prix_equilibre(alphas,p1,p2,e1,e2,kappa=0.5,eps=1e-8,maxiter=500):\n",
    "    \n",
    "    t = 0\n",
    "    while True:\n",
    "\n",
    "        # a. étape 1: excès de demande\n",
    "        Z1 = fn_exces_demande_q1(alphas,p1,p2,e1,e2)\n",
    "        \n",
    "        # b: étape 2= arrêt\n",
    "        if  np.abs(Z1) < eps or t >= maxiter:\n",
    "            print(f'{t:3d}: p1 = {p1:12.8f} -> excès de demande -> {Z1:14.8f}')\n",
    "            break    \n",
    "    \n",
    "        # c. étape 3: actualisation de p1\n",
    "        p1 = p1 + kappa*Z1/alphas.size\n",
    "            \n",
    "        # d. step 4: résultat\n",
    "        if t < 5 or t%25 == 0:\n",
    "            print(f'{t:3d}: p1 = {p1:12.8f} -> excès de demande -> {Z1:14.8f}')\n",
    "        elif t == 5:\n",
    "            print('   ...')\n",
    "            \n",
    "        t += 1    \n",
    "\n",
    "    return p1\n",
    "\n",
    "# f. appel de la fonction pour prix d'équilibre\n",
    "p1 = 1.4\n",
    "p2 = 1\n",
    "kappa = 0.5\n",
    "eps = 1e-8\n",
    "p1 = fn_prix_equilibre(alphas,p1,p2,e1,e2,kappa=kappa,eps=eps)"
   ]
  }
 ],
 "metadata": {
  "interpreter": {
   "hash": "8a894924a8054982a5c897c02f36d019274ceaf42c853aa8fb1f2ffcb169480b"
  },
  "kernelspec": {
   "display_name": "Python 3.8.8 64-bit ('base': conda)",
   "name": "python3"
  },
  "language_info": {
   "codemirror_mode": {
    "name": "ipython",
    "version": 3
   },
   "file_extension": ".py",
   "mimetype": "text/x-python",
   "name": "python",
   "nbconvert_exporter": "python",
   "pygments_lexer": "ipython3",
   "version": "3.8.8"
  },
  "orig_nbformat": 4
 },
 "nbformat": 4,
 "nbformat_minor": 2
}
