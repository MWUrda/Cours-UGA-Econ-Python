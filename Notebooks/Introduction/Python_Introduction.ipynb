{
 "cells": [
  {
   "cell_type": "markdown",
   "metadata": {},
   "source": [
    "# <center> INTRODUCTION À PYTHON POUR L'ÉCONOMIE APPLIQUÉE</center>\n",
    "## <center> COURS 0 : </center>\n",
    "## <center> QUELQUES EXEMPLES INTRODUCTIFS </center>\n",
    "#### <center>Michal Urdanivia (UGA)</center>\n",
    "#### <center> michal.wong-urdanivia@univ-grenoble-alpes.fr </center>"
   ]
  },
  {
   "cell_type": "markdown",
   "metadata": {},
   "source": [
    "### <center> PRÉSENTATION </center>"
   ]
  },
  {
   "cell_type": "markdown",
   "metadata": {},
   "source": [
    "Dans cette introduction nous allons donner un très court aperçu des possibilités d'utilisation du langage Python pour l'économiste. Pour cela:\n",
    "- nous allons présenter des exemples de simulation de modèles simples de l'économie,\n",
    "- des exemples du travail empirique pouvant être fait."
   ]
  },
  {
   "cell_type": "markdown",
   "metadata": {},
   "source": [
    "**Résumé:** Un notebook Jupyter est un document composé de **cellules** qui contiennent:\n",
    "- Le code de programmation qui dans notre cas sera du code Python.\n",
    "- Du texte dont du texte mathématiques écrit dans le \"style\" de LaTex. Ces cellules sont des cellules *markdown*.\n",
    "- Des résultats issus de l'execution du code programmé."
   ]
  },
  {
   "cell_type": "markdown",
   "metadata": {},
   "source": [
    "Ainsi, ceci est une cellule avec du texte et plus précisément cellule *markdown*."
   ]
  },
  {
   "cell_type": "markdown",
   "metadata": {},
   "source": [
    "On peut y écrire sous forme de listes:\n",
    "\n",
    "1. **Première** entrée.\n",
    "2. *Deuxième* entrée.\n",
    "3. ~~Troisième~~ item entrée barrée."
   ]
  },
  {
   "cell_type": "markdown",
   "metadata": {},
   "source": [
    "On peut écrire de maths, e.g. $\\alpha^2$ ou"
   ]
  },
  {
   "cell_type": "markdown",
   "metadata": {},
   "source": [
    "$$\n",
    "X = \\int_0^{\\infty} \\frac{x}{x+1} \\mathrm{d}x\n",
    "$$"
   ]
  },
  {
   "cell_type": "code",
   "execution_count": null,
   "metadata": {},
   "outputs": [],
   "source": [
    "# Ceci est une cellule de code\n",
    "x = 10   # Ce qui est écrit après un \"#\" est du \"commentaire\" du code, il n'est donc pas exécuté\n",
    "\n",
    "# Procédons à des calculs\n",
    "a = 20\n",
    "b = 30\n",
    "c = a + b\n",
    "\n",
    "# Affichons les résultats (au-dessous de cette cellule)\n",
    "print(c)"
   ]
  },
  {
   "cell_type": "markdown",
   "metadata": {},
   "source": [
    "On peut comme ici écrire un peu plus de texte(cellule *markdown*) et poursuivre les calculs(cellules de code)."
   ]
  },
  {
   "cell_type": "code",
   "execution_count": null,
   "metadata": {},
   "outputs": [],
   "source": [
    "d = c * 2\n",
    "print(d)\n",
    "print(c)"
   ]
  },
  {
   "cell_type": "markdown",
   "metadata": {},
   "source": [
    "**Remarque:** \n",
    "\n",
    "Bien que JupyterLab/Jupyter s'execute avec un serveur, cela se fait sans besoin de connexion web (le chemin étant quelque chose comme *localhost:8888/lab*).<br>"
   ]
  },
  {
   "cell_type": "markdown",
   "metadata": {},
   "source": [
    "**Binder:** Une exception est d'utiliser [binder](https://mybinder.org), dans ce cas JupyterLab s'executera sur un cloud."
   ]
  },
  {
   "cell_type": "markdown",
   "metadata": {},
   "source": [
    "### <center> PROBLÉME CLASSIQUE DU CONSOMMATEUR </center>\n",
    "\n",
    "On considère ici l'exemple classique des manuels de cours de Microéconomie que vous avez vu dans vos études."
   ]
  },
  {
   "cell_type": "markdown",
   "metadata": {},
   "source": [
    "Le problème est le suivant:"
   ]
  },
  {
   "cell_type": "markdown",
   "metadata": {},
   "source": [
    "$$\n",
    "\\begin{align*}\n",
    "V(p_{1},p_{2},R) & = \\max_{q_{1},q_{2}} q_{1}^{\\alpha}q_{2}^{1-\\alpha}\\\\\n",
    " & \\text{s.c.}\\\\\n",
    "p_{1}q_{1}+p_{2}q_{2} & \\leq R, \\quad p_{1}, p_{2}, R > 0, \\quad q_{1},q_{2}  \\geq 0\n",
    "\\end{align*}\n",
    "$$"
   ]
  },
  {
   "cell_type": "markdown",
   "metadata": {},
   "source": [
    "On peut résoudre ce problème **numériquement**."
   ]
  },
  {
   "cell_type": "markdown",
   "metadata": {},
   "source": [
    "1. Choix de **paramètres**:"
   ]
  },
  {
   "cell_type": "code",
   "execution_count": 1,
   "metadata": {},
   "outputs": [],
   "source": [
    "alpha = 0.5\n",
    "R = 10\n",
    "p1 = 1\n",
    "p2 = 2"
   ]
  },
  {
   "cell_type": "markdown",
   "metadata": {},
   "source": [
    "2. La **fonction objectif** du consommateur est:"
   ]
  },
  {
   "cell_type": "code",
   "execution_count": 2,
   "metadata": {},
   "outputs": [],
   "source": [
    "# On définit la fonction objectif.\n",
    "def val_cons(q1, alpha, R, p1, p2): \n",
    "    \n",
    "    # a. Tout le revenu n'est pas dépensé sur le premier bien\n",
    "    #    Et ce qui est dépensé dans le deuxième est:\n",
    "    q2 = (R - p1*q1) / p2 \n",
    "    \n",
    "    # b. L'utilité obtenue est:\n",
    "    util = q1**alpha*q2**(1-alpha)\n",
    "    \n",
    "    return util # résultat produit par la fonction"
   ]
  },
  {
   "cell_type": "markdown",
   "metadata": {},
   "source": [
    "3. On utilise une fonction du module *scipy* pour **résoudre le problème**."
   ]
  },
  {
   "cell_type": "code",
   "execution_count": 3,
   "metadata": {},
   "outputs": [
    {
     "name": "stdout",
     "output_type": "stream",
     "text": [
      "5.000000000088435 2.4999999999557825\n"
     ]
    }
   ],
   "source": [
    "# a. On importe à partir du module scipy la fonction optimize\n",
    "from scipy import optimize\n",
    "\n",
    "# b. la valeur du choix comme seulement fonction de q1\n",
    "obj = lambda q1: -val_cons(q1, alpha, R, p1, p2)\n",
    "\n",
    "# c. on appelle la fonction minimisatrice\n",
    "solution = optimize.minimize_scalar(obj, bounds=(0, R/p1))\n",
    "\n",
    "# d. affichage des résultats\n",
    "q1 = solution.x\n",
    "q2 = (R - q1*p1) / p2\n",
    "print(q1, q2)"
   ]
  },
  {
   "cell_type": "markdown",
   "metadata": {},
   "source": [
    "**Tâche**: résoudre le même problème avec la fonction d'utilité CES.\n",
    "\n",
    "$$\n",
    "u(q_1,q_2) = (\\alpha q_1^{-\\beta} + (1-\\alpha)q_2^{-\\beta})^{-1/\\beta}\n",
    "$$"
   ]
  },
  {
   "cell_type": "code",
   "execution_count": null,
   "metadata": {},
   "outputs": [],
   "source": [
    "# a. choix des paramètres\n",
    "alpha = 0.5\n",
    "beta = 0.000001\n",
    "R = 10\n",
    "p1 = 1\n",
    "p2 = 2\n",
    "\n",
    "# b. valeur du choix\n",
    "def val_cons_ces(q1, alpha, beta, R, p1, p2):\n",
    "    q2 = (R - p1*q1)/p2\n",
    "    if q1 > 0 and q2 > 0:\n",
    "        util = (alpha*q1**(-beta) + (1 - alpha)*q2**(-beta))**(-1 / beta) \n",
    "    else:\n",
    "        util = 0\n",
    "    return util\n",
    "\n",
    "# c. objectif\n",
    "obj = lambda q1: -val_cons_ces(q1, alpha, beta, R, p1, p2)\n",
    "\n",
    "# d. solution\n",
    "solution = optimize.minimize_scalar(obj, bounds=(0, R/p1))\n",
    "\n",
    "# e. résultat\n",
    "q1 = solution.x\n",
    "q2 = (R - q1 * p1)/p2\n",
    "print(q1, q2)"
   ]
  },
  {
   "cell_type": "markdown",
   "metadata": {},
   "source": [
    "### <center> SIMULATION DU MODÈLE AS-AD </center>\n",
    "\n",
    "**Remarque**: c'est un modèle macroéconomique pour [l'offre et la demande globales dans une économie](https://en.wikipedia.org/wiki/AD%E2%80%93AS_model)."
   ]
  },
  {
   "cell_type": "markdown",
   "metadata": {},
   "source": [
    "Soit le modèle défini par:\n",
    "\n",
    "$$\n",
    "\\begin{align*}\n",
    "\\hat{y}_{t} &= b\\hat{y}_{t - 1}+\\beta(z_{t} - z_{t-1}) -a\\beta s_{t} + a\\beta\\phi s_{t-1} \\\\\n",
    "\\hat{\\pi}_{t} &= b\\hat{\\pi}_{t - 1}+\\beta\\gamma z_{t} - \\beta\\phi\\gamma z_{t}+\\beta s_{t} - \\beta\\phi s_{t-1} \\\\\n",
    "z_{t} &= \\delta z_{t - 1}+x_{t}, x_{t} \\sim N(0, \\sigma_x^2) \\\\\n",
    "s_{t} &= \\omega s_{t - 1}+c_{t}, c_{t} \\sim N(0, \\sigma_c^2) \\\\\n",
    "b &= \\frac{1 + a\\phi\\gamma}{1 + a\\gamma} \\\\\n",
    "\\beta &= \\frac{1}{1 + a\\gamma}\n",
    "\\end{align*}\n",
    "$$\n",
    "\n",
    "où $\\hat{y}_{t}$ est l'écart de production, $\\hat{\\pi}_{t}$ est l'écart d'inflation, $z_{t}$ est un choc de demande AR(1), et $\\hat{s}_{t}$ est un choc d'offre AR(1)."
   ]
  },
  {
   "cell_type": "markdown",
   "metadata": {},
   "source": [
    "1. Choix de **paramètres**:"
   ]
  },
  {
   "cell_type": "code",
   "execution_count": 4,
   "metadata": {},
   "outputs": [],
   "source": [
    "a = 0.4\n",
    "gamma = 0.1\n",
    "phi = 0.9\n",
    "delta = 0.8\n",
    "omega = 0.15\n",
    "sigma_x = 1\n",
    "sigma_c = 0.4\n",
    "T = 100"
   ]
  },
  {
   "cell_type": "markdown",
   "metadata": {},
   "source": [
    "2. Calcul des **paramètres composites**:"
   ]
  },
  {
   "cell_type": "code",
   "execution_count": 5,
   "metadata": {},
   "outputs": [],
   "source": [
    "b = (1 + a*phi*gamma)/(1 + a*gamma)\n",
    "beta = 1/(1 + a*gamma) "
   ]
  },
  {
   "cell_type": "markdown",
   "metadata": {},
   "source": [
    "3. Définition des **fonctions du modèle**:"
   ]
  },
  {
   "cell_type": "code",
   "execution_count": 6,
   "metadata": {},
   "outputs": [],
   "source": [
    "y_hat_func = lambda y_hat_lag, z,z_lag, s, s_lag: b*y_hat_lag + beta*(z-z_lag) - a*beta*s + a*beta*phi*s_lag\n",
    "pi_hat_func = lambda pi_lag,z,z_lag,s,s_lag: b*pi_lag + beta*gamma*z - beta*phi*gamma*z_lag + beta*s - beta*phi*s_lag\n",
    "z_func = lambda z_lag,x: delta*z_lag + x\n",
    "s_func = lambda s_lag,c: omega*s_lag + c"
   ]
  },
  {
   "cell_type": "markdown",
   "metadata": {},
   "source": [
    "4. On execute la **simulation**:"
   ]
  },
  {
   "cell_type": "code",
   "execution_count": 7,
   "metadata": {},
   "outputs": [],
   "source": [
    "import numpy as np # importation du module numpy\n",
    "\n",
    "# a. mise en place du générateur de nombre aléatoires\n",
    "np.random.seed(2015)   \n",
    "\n",
    "# b. affectation des données simulées\n",
    "x = np.random.normal(loc=0, scale=sigma_x, size=T)\n",
    "c = np.random.normal(loc=0, scale=sigma_c, size=T)\n",
    "z = np.zeros(T)\n",
    "s = np.zeros(T)\n",
    "y_hat = np.zeros(T)\n",
    "pi_hat = np.zeros(T)\n",
    "\n",
    "# c. execution de la simulation\n",
    "for t in range(1,T):\n",
    "\n",
    "    # i. actualisation de z et s\n",
    "    z[t] = z_func(z[t-1], x[t])\n",
    "    s[t] = s_func(s[t-1], c[t])\n",
    "\n",
    "    # ii. calcul de y og pi \n",
    "    y_hat[t] = y_hat_func(y_hat[t-1], z[t], z[t-1], s[t], s[t-1])\n",
    "    pi_hat[t] = pi_hat_func(pi_hat[t-1], z[t], z[t-1], s[t], s[t-1])"
   ]
  },
  {
   "cell_type": "markdown",
   "metadata": {},
   "source": [
    "5. **Visualisation** de la simulation:"
   ]
  },
  {
   "cell_type": "code",
   "execution_count": 8,
   "metadata": {},
   "outputs": [
    {
     "data": {
      "image/png": "[encoded data removed]",
      "text/plain": [
       "<Figure size 432x288 with 1 Axes>"
      ]
     },
     "metadata": {
      "needs_background": "light"
     },
     "output_type": "display_data"
    }
   ],
   "source": [
    "import matplotlib.pyplot as plt\n",
    "%matplotlib inline\n",
    "\n",
    "fig = plt.figure()\n",
    "ax = fig.add_subplot(1,1,1)\n",
    "\n",
    "ax.plot(y_hat, label='$\\\\hat{y}$')\n",
    "ax.plot(pi_hat, label='$\\\\hat{\\pi}$')\n",
    "\n",
    "ax.set_xlabel('temps')\n",
    "\n",
    "ax.set_ylabel('pourcentage')\n",
    "ax.set_ylim([-8,8])\n",
    "\n",
    "ax.legend(loc='upper left');"
   ]
  },
  {
   "cell_type": "markdown",
   "metadata": {},
   "source": [
    "On peut aussi utiliser **le style seaborn**:"
   ]
  },
  {
   "cell_type": "code",
   "execution_count": null,
   "metadata": {},
   "outputs": [],
   "source": [
    "plt.style.use('seaborn-whitegrid')\n",
    "\n",
    "fig = plt.figure()\n",
    "ax = fig.add_subplot(1,1,1)\n",
    "\n",
    "ax.plot(y_hat,label='$\\\\hat{y}$')\n",
    "ax.plot(pi_hat,label='$\\\\hat{pi}$')\n",
    "\n",
    "ax.set_xlabel('temps')\n",
    "\n",
    "ax.set_ylabel('poucentage')\n",
    "ax.set_ylim([-8,8])\n",
    "\n",
    "ax.legend(loc='upper left',facecolor='white',frameon='True');"
   ]
  },
  {
   "cell_type": "markdown",
   "metadata": {},
   "source": [
    "### <center> MODULES</center>"
   ]
  },
  {
   "cell_type": "markdown",
   "metadata": {},
   "source": [
    "Un **module** est un fichier **.py**-file avec des fonctions qu'on importe et auxquelle on peut alors faire appel dans le notebook.\n",
    "\n",
    "Vous pouvez ouvrir **monmodule.py** et y jeter un oeil."
   ]
  },
  {
   "cell_type": "code",
   "execution_count": null,
   "metadata": {},
   "outputs": [],
   "source": [
    "import monmodule"
   ]
  },
  {
   "cell_type": "code",
   "execution_count": null,
   "metadata": {},
   "outputs": [],
   "source": [
    "x = 5\n",
    "y = monmodule.mafonction(x)\n",
    "print(y)"
   ]
  },
  {
   "cell_type": "markdown",
   "metadata": {},
   "source": [
    "### <center> ANALYSE BASIQUE DE DONNÉES</center>"
   ]
  },
  {
   "cell_type": "markdown",
   "metadata": {},
   "source": [
    "### Données d'application \n",
    "\n",
    "Nous allons utiliser des données qui sont disponible sur le site que [Bruce Hansen](https://www.ssc.wisc.edu/~bhansen/) dédie à son cours d'[économétrie](https://www.ssc.wisc.edu/~bhansen/econometrics/). Plus précisément, nous allons utiliser des données extraites du **Current Population Survey**(CPS) de 2009. Une description du fichier est [ici](https://www.ssc.wisc.edu/~bhansen/econometrics/cps09mar_description.pdf)\n",
    "\n"
   ]
  },
  {
   "cell_type": "markdown",
   "metadata": {},
   "source": [
    "#### Lecture des données\n",
    "\n",
    "Pour travailler(e.g., lire/charger les données, sélectionner des variables, etc) sur les données nous allons utiliser la bibliothèque [pandas](https://fr.wikipedia.org/wiki/Pandas) dont vous n'avez pas besoin de lire toute la documentation pour l'utiliser(quelqu'un a t-il déjà lu les quelques 3000 pages correspondantes à la doc en pdf? ou au moins 50 %?)"
   ]
  },
  {
   "cell_type": "code",
   "execution_count": 9,
   "metadata": {},
   "outputs": [],
   "source": [
    "# Imports\n",
    "\n",
    "import pandas as pd   \n",
    "import numpy as np\n",
    "import statsmodels.api as sm\n",
    "from sklearn import linear_model"
   ]
  },
  {
   "cell_type": "code",
   "execution_count": 10,
   "metadata": {},
   "outputs": [
    {
     "name": "stdout",
     "output_type": "stream",
     "text": [
      "<class 'pandas.core.frame.DataFrame'>\n",
      "Int64Index: 50742 entries, 0 to 50741\n",
      "Data columns (total 12 columns):\n",
      " #   Column     Non-Null Count  Dtype  \n",
      "---  ------     --------------  -----  \n",
      " 0   age        50742 non-null  float64\n",
      " 1   female     50742 non-null  float64\n",
      " 2   hisp       50742 non-null  float64\n",
      " 3   education  50742 non-null  float64\n",
      " 4   earnings   50742 non-null  float64\n",
      " 5   hours      50742 non-null  float64\n",
      " 6   week       50742 non-null  float64\n",
      " 7   union      50742 non-null  float64\n",
      " 8   uncov      50742 non-null  float64\n",
      " 9   region     50742 non-null  float64\n",
      " 10  race       50742 non-null  float64\n",
      " 11  marital    50742 non-null  float64\n",
      "dtypes: float64(12)\n",
      "memory usage: 5.0 MB\n"
     ]
    }
   ],
   "source": [
    "# Lecture des données.\n",
    "# On utilise la fonction \"read_stata\" dans pandas pour lire le fichier au format stata(\".dta\") disponible \n",
    "# sur le site de Bruce Hansen. Vous pouvez aussi le télécharger sur votre poste et ensuite le lire.\n",
    "# Nous l'appellons cps_df(pour cps data frame)\n",
    "\n",
    "cps_df = pd.read_stata(\"https://www.ssc.wisc.edu/~bhansen/econometrics/cps09mar.dta\")\n",
    "cps_df.info()   # Affichage d'informations.\n"
   ]
  },
  {
   "cell_type": "code",
   "execution_count": null,
   "metadata": {},
   "outputs": [],
   "source": [
    "# Affichage des premières lignes(5 par défaut) et de statistiques descriptives de base(moyennes, écart-types, etc)\n",
    "print(cps_df.head())\n",
    "cps_df.describe()"
   ]
  },
  {
   "cell_type": "markdown",
   "metadata": {},
   "source": [
    "#### Calcul de l'estimateur des MCO\n",
    "\n",
    "Le modèle que nous allons estimer suppose que,\n",
    "\n",
    "$$\n",
    "\\begin{align*}\n",
    "Y &= X^\\top \\beta + U, \\tag{1}\n",
    "\\end{align*}\n",
    "$$\n",
    "\n",
    "où $ Y\\in \\mathbb{R} $, $ X\\in\\mathbb{R}^K $, $ U\\in \\mathbb{R} $, sont de variables aléatoires: $ Y $ est la variables dépendante, \n",
    "$ X $ sont $ K $ régresseurs, $ U $ est l'erreur du modèle. $ Y $ et $ X $ sont observables tandis que $ U $ représente tout ce qui peut faire \n",
    "varier $ Y $ pour des valeurs données de $ X $. $ \\beta \\in \\mathbb{R}^K $ sont les paramètres inconnus du modèle qu'on se propose d'estimer car\n",
    "ils permettent de mesurer la relation entre les éléments de $ X $ et $ Y $ sans pour autant que cette relation si elle existe puisse avoir une \n",
    "interprétation causale ou en termers de modèle de régression. \n",
    "\n",
    "En effet ici on se contente de calculer l'estimateur des MCO défini sur des données sur (Y, X) $, $ \\{(Y_i, X_i)\\}_{i=1}^n $,\n",
    "\n",
    "$$\n",
    "\\begin{align*}\n",
    "\\hat{\\beta}_n^{MCO} &=  \\arg\\min_{b\\in \\mathbb{R}^K} n^{-1}\\sum_{i=1}^n(Y_i - X_i^\\top b)^2 \\tag{2}\n",
    "\\end{align*}\n",
    "$$\n",
    "\n",
    "On peut alors calculer $ \\hat{\\beta}_n^{MCO} $ dès lors que $ n^{-1}\\sum_{i=1}^n X_iX_i^\\top $ est de plein rang ce qui revient à l'absence d\n",
    "multicolinéarité entre régrésseurs dans l'échantillon. On obtient alors,\n",
    "\n",
    "$$\n",
    "\\begin{align*}\n",
    "\\hat{\\beta}_n^{MCO} &= \\left( n^{-1}\\sum_{i=1}^n X_iX_i^\\top \\right)^{-1} n^{-1}\\sum_{i=1}^n X_iY_i = \\left(\\mathbf{X}^\\top \\mathbf{X}\\right)^ {-1} \\mathbf{X}^\\top\\mathbf{Y}  \\tag{3}\n",
    "\\end{align*}\n",
    "$$\n",
    "\n",
    "où:\n",
    "- $ \\mathbf{X} $  est la matrice $ n\\times K$ des régrésseurs avec la $i$-ème ligne égale à $ X_i^\\top $,\n",
    "- $ \\mathbf{Y} $  est le vecteur $ n\\times 1$ de toutes les observations de la variable dépendante de $i$-ème élément égal à $ Y_i^\\top $.\n",
    "\n",
    "On peut se contenter d'une interprétation non causale ni en termes de modèle de régression en supposant $ \\operatorname{E}(XU) =0$, auquel cas \n",
    "on estime les coefficients de la projection de $Y$ sur $X$ définie par,\n",
    "\n",
    "$$\n",
    "\\begin{align*}\n",
    "\\beta &=  \\arg\\min_{b\\in \\mathbb{R}^K}\\operatorname{E}\\left((Y_i - X_i^\\top b)^2\\right) \\tag{3}\n",
    "\\end{align*}\n",
    "$$"
   ]
  },
  {
   "cell_type": "markdown",
   "metadata": {},
   "source": [
    "#### Calcul matriciel pour l'estimateur des MCO avec numpy\n",
    "\n",
    "Pour pouvoir utiliser des fonction de numpy pour du calcul matriciel nous avons besoin de définir des objets de type array sur lesquels travaille numpy. Ces objets incluant matrices et vecteurs. \n"
   ]
  },
  {
   "cell_type": "markdown",
   "metadata": {},
   "source": [
    "#### Application.\n",
    "\n",
    "- Nous allons considérer un modèle où la variable dépendante est un log du salaire, et les régresseurs incluent une constante, le niveau d'études, une mesure de l'expérience potentielle sur le marché du travail en années($ \\text{exper} $), son carré($ \\text{expersq} $), une indicatrice du sexe($ \\text{female} $), et une indicatrice d'être noir($ \\text{black} $).  Soit,\n",
    "\n",
    "  - $ Y $: $ \\text{lwage} $(salaire horaire en log),\n",
    "  - $ X $: $ (1, \\text{education}, \\text{exper}, \\text{expersq}, \\text{female}, \\text{black})$.\n",
    "\n",
    "- Parmi ces variables nous devons construire $ \\text{lwage} $, $\\text{exper}$, $\\text{expersq}$, et $\\text{black}$.\n",
    "\n",
    "- Donc la version de (1) qu'on considère est:\n",
    "\n",
    "$$ \n",
    "\\begin{align*}\n",
    "\\text{lwage} &= \\beta_1 + \\beta_2 \\text{education} + \\beta_3\\text{exper} + \\beta_4\\text{exper}^2  + \\beta_5\\text{female} + \\beta_6\\text{black}\n",
    "+ U\n",
    "\\end{align*}\n",
    "$$\n",
    "\n",
    "- Nous allons utiliser un échantillon qui correspond aux personnes qui se définissent comme blanches, ou noires(remarque: la collecte de données américaines permet de recueillir des informations quant à l'appartenance à des groupes ethniques préalablement définis).\n"
   ]
  },
  {
   "cell_type": "code",
   "execution_count": 11,
   "metadata": {},
   "outputs": [
    {
     "name": "stdout",
     "output_type": "stream",
     "text": [
      "(46411, 16)\n"
     ]
    },
    {
     "data": {
      "text/html": [
       "<div>\n",
       "<style scoped>\n",
       "    .dataframe tbody tr th:only-of-type {\n",
       "        vertical-align: middle;\n",
       "    }\n",
       "\n",
       "    .dataframe tbody tr th {\n",
       "        vertical-align: top;\n",
       "    }\n",
       "\n",
       "    .dataframe thead th {\n",
       "        text-align: right;\n",
       "    }\n",
       "</style>\n",
       "<table border=\"1\" class=\"dataframe\">\n",
       "  <thead>\n",
       "    <tr style=\"text-align: right;\">\n",
       "      <th></th>\n",
       "      <th>age</th>\n",
       "      <th>female</th>\n",
       "      <th>hisp</th>\n",
       "      <th>education</th>\n",
       "      <th>earnings</th>\n",
       "      <th>hours</th>\n",
       "      <th>week</th>\n",
       "      <th>union</th>\n",
       "      <th>uncov</th>\n",
       "      <th>region</th>\n",
       "      <th>marital</th>\n",
       "      <th>exper</th>\n",
       "      <th>expersq</th>\n",
       "      <th>lwage</th>\n",
       "      <th>white</th>\n",
       "      <th>black</th>\n",
       "    </tr>\n",
       "  </thead>\n",
       "  <tbody>\n",
       "    <tr>\n",
       "      <th>count</th>\n",
       "      <td>46411.000000</td>\n",
       "      <td>46411.000000</td>\n",
       "      <td>46411.000000</td>\n",
       "      <td>46411.000000</td>\n",
       "      <td>46411.000000</td>\n",
       "      <td>46411.000000</td>\n",
       "      <td>46411.000000</td>\n",
       "      <td>46411.000000</td>\n",
       "      <td>46411.000000</td>\n",
       "      <td>46411.000000</td>\n",
       "      <td>46411.000000</td>\n",
       "      <td>46411.000000</td>\n",
       "      <td>46411.000000</td>\n",
       "      <td>46411.000000</td>\n",
       "      <td>46411.000000</td>\n",
       "      <td>46411.000000</td>\n",
       "    </tr>\n",
       "    <tr>\n",
       "      <th>mean</th>\n",
       "      <td>42.213915</td>\n",
       "      <td>0.423477</td>\n",
       "      <td>0.154468</td>\n",
       "      <td>13.882269</td>\n",
       "      <td>55082.729181</td>\n",
       "      <td>43.879964</td>\n",
       "      <td>51.879554</td>\n",
       "      <td>0.021934</td>\n",
       "      <td>0.002262</td>\n",
       "      <td>2.597789</td>\n",
       "      <td>2.754584</td>\n",
       "      <td>22.331646</td>\n",
       "      <td>6.337939</td>\n",
       "      <td>2.945706</td>\n",
       "      <td>0.889358</td>\n",
       "      <td>0.110642</td>\n",
       "    </tr>\n",
       "    <tr>\n",
       "      <th>std</th>\n",
       "      <td>11.468616</td>\n",
       "      <td>0.494115</td>\n",
       "      <td>0.361400</td>\n",
       "      <td>2.713667</td>\n",
       "      <td>52324.915589</td>\n",
       "      <td>7.701222</td>\n",
       "      <td>0.596815</td>\n",
       "      <td>0.146471</td>\n",
       "      <td>0.047511</td>\n",
       "      <td>1.047513</td>\n",
       "      <td>2.497897</td>\n",
       "      <td>11.623014</td>\n",
       "      <td>5.635276</td>\n",
       "      <td>0.673137</td>\n",
       "      <td>0.313692</td>\n",
       "      <td>0.313692</td>\n",
       "    </tr>\n",
       "    <tr>\n",
       "      <th>min</th>\n",
       "      <td>15.000000</td>\n",
       "      <td>0.000000</td>\n",
       "      <td>0.000000</td>\n",
       "      <td>0.000000</td>\n",
       "      <td>1.000000</td>\n",
       "      <td>36.000000</td>\n",
       "      <td>48.000000</td>\n",
       "      <td>0.000000</td>\n",
       "      <td>0.000000</td>\n",
       "      <td>1.000000</td>\n",
       "      <td>1.000000</td>\n",
       "      <td>-4.000000</td>\n",
       "      <td>0.000000</td>\n",
       "      <td>-7.863267</td>\n",
       "      <td>0.000000</td>\n",
       "      <td>0.000000</td>\n",
       "    </tr>\n",
       "    <tr>\n",
       "      <th>25%</th>\n",
       "      <td>33.000000</td>\n",
       "      <td>0.000000</td>\n",
       "      <td>0.000000</td>\n",
       "      <td>12.000000</td>\n",
       "      <td>28000.000000</td>\n",
       "      <td>40.000000</td>\n",
       "      <td>52.000000</td>\n",
       "      <td>0.000000</td>\n",
       "      <td>0.000000</td>\n",
       "      <td>2.000000</td>\n",
       "      <td>1.000000</td>\n",
       "      <td>13.000000</td>\n",
       "      <td>1.690000</td>\n",
       "      <td>2.560096</td>\n",
       "      <td>1.000000</td>\n",
       "      <td>0.000000</td>\n",
       "    </tr>\n",
       "    <tr>\n",
       "      <th>50%</th>\n",
       "      <td>42.000000</td>\n",
       "      <td>0.000000</td>\n",
       "      <td>0.000000</td>\n",
       "      <td>13.000000</td>\n",
       "      <td>42000.000000</td>\n",
       "      <td>40.000000</td>\n",
       "      <td>52.000000</td>\n",
       "      <td>0.000000</td>\n",
       "      <td>0.000000</td>\n",
       "      <td>3.000000</td>\n",
       "      <td>1.000000</td>\n",
       "      <td>22.000000</td>\n",
       "      <td>4.840000</td>\n",
       "      <td>2.956512</td>\n",
       "      <td>1.000000</td>\n",
       "      <td>0.000000</td>\n",
       "    </tr>\n",
       "    <tr>\n",
       "      <th>75%</th>\n",
       "      <td>51.000000</td>\n",
       "      <td>1.000000</td>\n",
       "      <td>0.000000</td>\n",
       "      <td>16.000000</td>\n",
       "      <td>65000.000000</td>\n",
       "      <td>45.000000</td>\n",
       "      <td>52.000000</td>\n",
       "      <td>0.000000</td>\n",
       "      <td>0.000000</td>\n",
       "      <td>3.000000</td>\n",
       "      <td>5.000000</td>\n",
       "      <td>31.000000</td>\n",
       "      <td>9.610000</td>\n",
       "      <td>3.354542</td>\n",
       "      <td>1.000000</td>\n",
       "      <td>0.000000</td>\n",
       "    </tr>\n",
       "    <tr>\n",
       "      <th>max</th>\n",
       "      <td>85.000000</td>\n",
       "      <td>1.000000</td>\n",
       "      <td>1.000000</td>\n",
       "      <td>20.000000</td>\n",
       "      <td>561087.000000</td>\n",
       "      <td>99.000000</td>\n",
       "      <td>52.000000</td>\n",
       "      <td>1.000000</td>\n",
       "      <td>1.000000</td>\n",
       "      <td>4.000000</td>\n",
       "      <td>7.000000</td>\n",
       "      <td>75.000000</td>\n",
       "      <td>56.250000</td>\n",
       "      <td>5.583706</td>\n",
       "      <td>1.000000</td>\n",
       "      <td>1.000000</td>\n",
       "    </tr>\n",
       "  </tbody>\n",
       "</table>\n",
       "</div>"
      ],
      "text/plain": [
       "                age        female          hisp     education       earnings  \\\n",
       "count  46411.000000  46411.000000  46411.000000  46411.000000   46411.000000   \n",
       "mean      42.213915      0.423477      0.154468     13.882269   55082.729181   \n",
       "std       11.468616      0.494115      0.361400      2.713667   52324.915589   \n",
       "min       15.000000      0.000000      0.000000      0.000000       1.000000   \n",
       "25%       33.000000      0.000000      0.000000     12.000000   28000.000000   \n",
       "50%       42.000000      0.000000      0.000000     13.000000   42000.000000   \n",
       "75%       51.000000      1.000000      0.000000     16.000000   65000.000000   \n",
       "max       85.000000      1.000000      1.000000     20.000000  561087.000000   \n",
       "\n",
       "              hours          week         union         uncov        region  \\\n",
       "count  46411.000000  46411.000000  46411.000000  46411.000000  46411.000000   \n",
       "mean      43.879964     51.879554      0.021934      0.002262      2.597789   \n",
       "std        7.701222      0.596815      0.146471      0.047511      1.047513   \n",
       "min       36.000000     48.000000      0.000000      0.000000      1.000000   \n",
       "25%       40.000000     52.000000      0.000000      0.000000      2.000000   \n",
       "50%       40.000000     52.000000      0.000000      0.000000      3.000000   \n",
       "75%       45.000000     52.000000      0.000000      0.000000      3.000000   \n",
       "max       99.000000     52.000000      1.000000      1.000000      4.000000   \n",
       "\n",
       "            marital         exper       expersq         lwage         white  \\\n",
       "count  46411.000000  46411.000000  46411.000000  46411.000000  46411.000000   \n",
       "mean       2.754584     22.331646      6.337939      2.945706      0.889358   \n",
       "std        2.497897     11.623014      5.635276      0.673137      0.313692   \n",
       "min        1.000000     -4.000000      0.000000     -7.863267      0.000000   \n",
       "25%        1.000000     13.000000      1.690000      2.560096      1.000000   \n",
       "50%        1.000000     22.000000      4.840000      2.956512      1.000000   \n",
       "75%        5.000000     31.000000      9.610000      3.354542      1.000000   \n",
       "max        7.000000     75.000000     56.250000      5.583706      1.000000   \n",
       "\n",
       "              black  \n",
       "count  46411.000000  \n",
       "mean       0.110642  \n",
       "std        0.313692  \n",
       "min        0.000000  \n",
       "25%        0.000000  \n",
       "50%        0.000000  \n",
       "75%        0.000000  \n",
       "max        1.000000  "
      ]
     },
     "execution_count": 11,
     "metadata": {},
     "output_type": "execute_result"
    }
   ],
   "source": [
    "# Échantillon\n",
    "\n",
    "cps_df2 = cps_df[(cps_df.race == 1.0) | (cps_df.race == 2.0)]\n",
    "\n",
    "# Variables\n",
    "\n",
    "cps_df2 = cps_df2.assign(exper = cps_df2.age - cps_df2.education - 6) # Expérience\n",
    "cps_df2 = cps_df2.assign(expersq = cps_df2.exper**2/100) # Expérience au carré\n",
    "cps_df2 = cps_df2.assign(lwage = np.log(cps_df2.earnings / ( cps_df2.hours * cps_df2.week))) # revenu horaire\n",
    "cps_df2 = pd.get_dummies(data = cps_df2, columns= ['race']) # indicatrice d'appartenance ethnique\n",
    "cps_df2 = cps_df2.rename(columns={\"race_1.0\": \"white\", \"race_2.0\": \"black\"}) # on les renomme \n",
    "print(cps_df2.shape)\n",
    "cps_df2.describe()\n",
    "#cps_df2[['exper', 'age', 'education', 'expersq', 'lwage', 'earnings', 'week', 'hours']].head()\n"
   ]
  },
  {
   "cell_type": "code",
   "execution_count": 12,
   "metadata": {},
   "outputs": [
    {
     "name": "stdout",
     "output_type": "stream",
     "text": [
      "<class 'pandas.core.series.Series'> <class 'pandas.core.frame.DataFrame'>\n",
      "<class 'numpy.ndarray'> (46411, 1)\n",
      "<class 'numpy.ndarray'> (46411, 6)\n",
      "[[ 1.0207843 ]\n",
      " [ 0.11485911]\n",
      " [-0.26294147]\n",
      " [-0.11038367]\n",
      " [ 0.03688886]\n",
      " [-0.05834852]]\n"
     ]
    }
   ],
   "source": [
    "# Variables(dépendante et régresseurs)\n",
    "\n",
    "dep_var = cps_df2['lwage']\n",
    "reg_var = cps_df2[['education', 'female', 'black', 'exper', 'expersq']]\n",
    "\n",
    "# Ce ne sont pas array mais des objets pour pandas leur type est\n",
    "\n",
    "print(type(dep_var), type(reg_var))\n",
    "\n",
    "# Conversion en arrays pour numpy(on crée de nouveaux objets Yn, Xn, afin de ne pas écraser ceux de départ\n",
    "# que nous utiliserons par la suite.\n",
    "\n",
    "Y = dep_var.values[:, np.newaxis]\n",
    "X = reg_var.values\n",
    "n = len(Y)\n",
    "# On estime un modèle avec terme constant qu'on doit joindre\n",
    "X = np.concatenate((np.ones((n,1)), X), axis=1) \n",
    "print(type(Y), Y.shape)\n",
    "print(type(X), X.shape)\n",
    "\n",
    "# Calcul de l'estimateur\n",
    "\n",
    "beta_hat=np.linalg.inv(X.T@X) @ (X.T@Y) # \"@\" pour le produit matriciel \".T\" pour la transposé, et \"np.linalg.inv\" pour l'inverse\n",
    "print(beta_hat)"
   ]
  },
  {
   "cell_type": "markdown",
   "metadata": {},
   "source": [
    "Nous pourrions poursuivre et calculer à partir des paramètres estimés différentes quantités comme:\n",
    "\n",
    "- des matrices de variance covariances estimés selon différents scénarios correspondants au traitement de l'hétéroscédasticité,\n",
    "- des écart-types estimés, des t-statistiques, etc\n",
    "\n",
    "Mais nous voudrions aussi reproduire ces calculs avec d'autres données et/ou variables et/ou spécifications. Il devient alors indiqué \n",
    "de définir des fonctions pour faire cela. \n",
    "\n",
    "Nous allons définir des fonction pour calculer les coefficients estimés par MCO en utilisant la formule (9.\n",
    "\n",
    "**Remarques**: \n",
    "\n",
    "- Sur les fonctions regardez par exemple [ici](https://python-programming.quantecon.org/functions.html) .\n",
    "- Nous allons donner la possibilité à notre fonction de pondérer les observations.\n",
    "\n"
   ]
  },
  {
   "cell_type": "code",
   "execution_count": 13,
   "metadata": {},
   "outputs": [],
   "source": [
    "# Fonctions pour estimation par MCO.\n",
    "\n",
    "# Calcul des coefficients:\n",
    "\n",
    "def ols_beta_hat(Y, X, addConstant=True,verbose=True, s_wgt = None):\n",
    "\n",
    "    n  = len(Y)  \n",
    "    if X.ndim == 1:\n",
    "        K = 1\n",
    "        ind_var = X.name\n",
    "        X = X.values.reshape((n,1))\n",
    "    else:\n",
    "        K = X.shape[1]\n",
    "        ind_var = list(X.columns)  \n",
    "        X = X.values \n",
    "\n",
    "    dep_var = Y.name\n",
    "    Y = Y.values.reshape((n,1))\n",
    "    \n",
    "    if s_wgt is None:\n",
    "        sw = 1 \n",
    "        s_wgt_var = 'None'\n",
    "    else:\n",
    "        s_wgt_var = s_wgt.name                             \n",
    "        sw = np.asarray(s_wgt/s_wgt.mean()).reshape((-1,1))\n",
    "\n",
    "    if addConstant and K==1:\n",
    "        X = np.concatenate((np.ones((n,1)), X), axis=1) \n",
    "        K += 1\n",
    "        ind_var = ['constant', ind_var]\n",
    "    elif addConstant and K > 1:\n",
    "        X = np.concatenate((np.ones((n,1)), X), axis=1) \n",
    "        K += 1\n",
    "        ind_var = ['constant'] + ind_var  \n",
    "    else:\n",
    "        ind_var = [ind_var]\n",
    "    \n",
    "    XX  = (sw * X).T @ X\n",
    "    XY  = (sw * X).T @ Y\n",
    "    beta_hat = np.linalg.solve(XX, XY)\n",
    "\n",
    "    ehat    = X @ beta_hat\n",
    "    score_i   = sw * X * (Y - ehat)\n",
    "    return[beta_hat, ehat, XX, XY, X, Y, n, K, ind_var, dep_var, sw, score_i, s_wgt_var]\n",
    "    \n"
   ]
  },
  {
   "cell_type": "code",
   "execution_count": 14,
   "metadata": {},
   "outputs": [
    {
     "name": "stdout",
     "output_type": "stream",
     "text": [
      "[[ 1.0207843 ]\n",
      " [ 0.11485911]\n",
      " [-0.26294147]\n",
      " [-0.11038367]\n",
      " [ 0.03688886]\n",
      " [-0.05834852]]\n"
     ]
    }
   ],
   "source": [
    "beta_hat = ols_beta_hat(dep_var, reg_var)\n",
    "print(beta_hat[0])"
   ]
  },
  {
   "cell_type": "markdown",
   "metadata": {},
   "source": [
    "#### Calcul avec modules existants\n",
    "\n",
    "En général pour une tâche donnée, il est recommandé d'utiliser des modules/bibliothèques/fonctions déjà existantes plutôt que de chercher à les reprogrammer de zéro(bien que cet exercice soit très instructif) car ces fonctions on souvent été déjà largement testées, et surtout cela permet \n",
    "d'envisage des développements/améliorations sur des bases établies.\n",
    "\n",
    "Par exemple, pour calculer un estimateur des MCO il existe énormément de modules disponible largement employés par la communauté. Nous allons en considérer deux associés à deux bibliothèques parmi les plus populaires:\n",
    "\n",
    "- [statsmodels](https://www.statsmodels.org/stable/index.html): orienté statistique au sens général.\n",
    "\n",
    "- [scikit-learn](https://scikit-learn.org/stable/): davantage apprentissage."
   ]
  },
  {
   "cell_type": "markdown",
   "metadata": {},
   "source": [
    "**statsmodels**\n",
    "\n",
    "Une syntaxe de base est la suivante:"
   ]
  },
  {
   "cell_type": "code",
   "execution_count": 15,
   "metadata": {},
   "outputs": [
    {
     "name": "stdout",
     "output_type": "stream",
     "text": [
      "                            OLS Regression Results                            \n",
      "==============================================================================\n",
      "Dep. Variable:                  lwage   R-squared:                       0.280\n",
      "Model:                            OLS   Adj. R-squared:                  0.280\n",
      "Method:                 Least Squares   F-statistic:                     3602.\n",
      "Date:                Thu, 13 Oct 2022   Prob (F-statistic):               0.00\n",
      "Time:                        10:40:43   Log-Likelihood:                -39873.\n",
      "No. Observations:               46411   AIC:                         7.976e+04\n",
      "Df Residuals:                   46405   BIC:                         7.981e+04\n",
      "Df Model:                           5                                         \n",
      "Covariance Type:            nonrobust                                         \n",
      "==============================================================================\n",
      "                 coef    std err          t      P>|t|      [0.025      0.975]\n",
      "------------------------------------------------------------------------------\n",
      "const          1.0208      0.017     60.495      0.000       0.988       1.054\n",
      "education      0.1149      0.001    115.101      0.000       0.113       0.117\n",
      "female        -0.2629      0.005    -48.771      0.000      -0.274      -0.252\n",
      "black         -0.1104      0.008    -13.009      0.000      -0.127      -0.094\n",
      "exper          0.0369      0.001     44.842      0.000       0.035       0.039\n",
      "expersq       -0.0583      0.002    -34.281      0.000      -0.062      -0.055\n",
      "==============================================================================\n",
      "Omnibus:                    20304.171   Durbin-Watson:                   1.738\n",
      "Prob(Omnibus):                  0.000   Jarque-Bera (JB):           610974.968\n",
      "Skew:                          -1.498   Prob(JB):                         0.00\n",
      "Kurtosis:                      20.521   Cond. No.                         187.\n",
      "==============================================================================\n",
      "\n",
      "Notes:\n",
      "[1] Standard Errors assume that the covariance matrix of the errors is correctly specified.\n"
     ]
    }
   ],
   "source": [
    "model = sm.OLS(dep_var, sm.add_constant(reg_var))\n",
    "results = model.fit()\n",
    "print(results.summary())"
   ]
  },
  {
   "cell_type": "markdown",
   "metadata": {},
   "source": [
    "Plusieurs options sont disponibles, et par exemple pour avoir des écart-types estimés robustes à l'hétéroscédasticité:"
   ]
  },
  {
   "cell_type": "code",
   "execution_count": null,
   "metadata": {},
   "outputs": [],
   "source": [
    "results2 = model.fit(cov_type='HC0')\n",
    "print(results2.summary())"
   ]
  },
  {
   "cell_type": "markdown",
   "metadata": {},
   "source": [
    "**Remarques**\n",
    "\n",
    "- Comme pour le type d'écart-types plusieurs options sous forme d'arguments de la fonction existent. Pour plus de détails vous pouvez \n",
    "consulter la [documentation](https://www.statsmodels.org/dev/regression.html) et ou faire des rechercher(sur le web) en fonction de vos besoins.\n",
    "\n",
    "- L'option HC0 est une parmi d'autres disponibles pour les écart-types robustes à l'hétéroscédasticité, les autres étant 'HC1', 'HC2', 'HC3'. Pour de détails vous pouvez regarder la section 4.13 du [cours en pdf](https://www.ssc.wisc.edu/~bhansen/econometrics/Econometrics.pdf) de Bruce Hansen."
   ]
  },
  {
   "cell_type": "markdown",
   "metadata": {},
   "source": [
    "#### Sklearn\n",
    "\n",
    "Comme indiquée plus haut c'est une bibliothèque très populaire dans la communauté de l'apprentissage et donc pour ce qui concerne les questions de régression surtout concentré sur les problèmes de prédiction et non d'inférence comme ils est traditionnel en économétrie et statistique, et dans les questions économiques où l'on s'intéresse beaucoup à la mesure de relations causales. Néanmoins une litterature très abondante en économétrie théorique adapte et développe des outils initialement développés en apprentissage pour l'économie appliquée."
   ]
  },
  {
   "cell_type": "code",
   "execution_count": 16,
   "metadata": {},
   "outputs": [
    {
     "name": "stdout",
     "output_type": "stream",
     "text": [
      "1.0207842970773302 [ 0.11485911 -0.26294147 -0.11038367  0.03688886 -0.05834852]\n"
     ]
    }
   ],
   "source": [
    "sklr_model = linear_model.LinearRegression()\n",
    "\n",
    "# fit the model\n",
    "sklr_model.fit(reg_var, dep_var)\n",
    "\n",
    "print(sklr_model.intercept_, sklr_model.coef_)"
   ]
  },
  {
   "cell_type": "code",
   "execution_count": null,
   "metadata": {},
   "outputs": [],
   "source": [
    "colors = ['#165aa7', '#cb495c', '#fec630', '#bb60d5', '#f47915', '#06ab54', '#002070', '#b27d12', '#007030']"
   ]
  },
  {
   "cell_type": "code",
   "execution_count": null,
   "metadata": {},
   "outputs": [],
   "source": [
    "def var_scatter(df, ax=None, var=\"education\"):\n",
    "    if ax is None:\n",
    "        _, ax = plt.subplots(figsize=(8, 6))\n",
    "    df.plot.scatter(x=var , y=\"lwage\", alpha=0.35, s=1.5, ax=ax)\n",
    "\n",
    "    return ax\n",
    "\n",
    "var_scatter(cps_df2);"
   ]
  },
  {
   "cell_type": "code",
   "execution_count": null,
   "metadata": {},
   "outputs": [],
   "source": [
    "import seaborn as sns\n",
    "ax = var_scatter(cps_df2)\n",
    "def scatter_model(mod, X, ax=None, color=colors[1], x=\"education\"):\n",
    "    if ax is None:\n",
    "        _, ax = plt.subplots()\n",
    "\n",
    "    ax.scatter(X[x], mod.predict(X), c=color, alpha=0.25, s=1)\n",
    "    return ax\n",
    "\n",
    "scatter_model(sklr_model, reg_var, ax, color=colors[1])\n",
    "ax.legend([\"data\", \"model\"])"
   ]
  }
 ],
 "metadata": {
  "kernelspec": {
   "display_name": "Python 3.8.8 ('base')",
   "language": "python",
   "name": "python3"
  },
  "language_info": {
   "codemirror_mode": {
    "name": "ipython",
    "version": 3
   },
   "file_extension": ".py",
   "mimetype": "text/x-python",
   "name": "python",
   "nbconvert_exporter": "python",
   "pygments_lexer": "ipython3",
   "version": "3.8.8"
  },
  "toc-autonumbering": true,
  "vscode": {
   "interpreter": {
    "hash": "8a894924a8054982a5c897c02f36d019274ceaf42c853aa8fb1f2ffcb169480b"
   }
  }
 },
 "nbformat": 4,
 "nbformat_minor": 4
}
