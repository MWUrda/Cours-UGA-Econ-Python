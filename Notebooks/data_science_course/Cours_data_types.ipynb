{
 "cells": [
  {
   "cell_type": "markdown",
   "id": "f46318f6",
   "metadata": {},
   "source": [
    "# Data Types"
   ]
  },
  {
   "cell_type": "code",
   "execution_count": null,
   "id": "a0fba4c3",
   "metadata": {},
   "outputs": [],
   "source": [
    "import numpy as np\n",
    "import pandas as pd"
   ]
  },
  {
   "cell_type": "markdown",
   "id": "ffaa84cb",
   "metadata": {},
   "source": [
    "## Setup"
   ]
  },
  {
   "cell_type": "markdown",
   "id": "33573683",
   "metadata": {},
   "source": [
    "For the scope of this tutorial we are going to use AirBnb Scraped data for the city of Paris. The data is freely available at **Inside AirBnb**: http://insideairbnb.com/get-the-data.html.\n",
    "\n",
    "A description of all variables in all datasets is avaliable [here](https://docs.google.com/spreadsheets/d/1iWCNJcSutYqpULSQHlNyGInUvHg2BoUGoNRIGa6Szc4/edit#gid=982310896).\n",
    "\n",
    "We are going to use 2 datasets:\n",
    "\n",
    "- listing dataset: contains listing-level information\n",
    "- pricing dataset: contains pricing data, over time"
   ]
  },
  {
   "cell_type": "code",
   "execution_count": 5,
   "id": "57a3394d",
   "metadata": {},
   "outputs": [],
   "source": [
    "# Import listings data\n",
    "url_listings = \"http://data.insideairbnb.com/france/ile-de-france/paris/2023-09-04/visualisations/listings.csv\"\n",
    "df_listings = pd.read_csv(url_listings)\n",
    "\n",
    "# Import pricing data\n",
    "url_prices = \"http://data.insideairbnb.com/france/ile-de-france/paris/2023-09-04/data/calendar.csv.gz\"\n",
    "df_prices = pd.read_csv(url_prices, compression=\"gzip\")"
   ]
  },
  {
   "cell_type": "code",
   "execution_count": 6,
   "metadata": {},
   "outputs": [
    {
     "name": "stdout",
     "output_type": "stream",
     "text": [
      "<class 'pandas.core.frame.DataFrame'>\n",
      "RangeIndex: 24798862 entries, 0 to 24798861\n",
      "Data columns (total 7 columns):\n",
      " #   Column          Dtype  \n",
      "---  ------          -----  \n",
      " 0   listing_id      int64  \n",
      " 1   date            object \n",
      " 2   available       object \n",
      " 3   price           object \n",
      " 4   adjusted_price  object \n",
      " 5   minimum_nights  float64\n",
      " 6   maximum_nights  float64\n",
      "dtypes: float64(2), int64(1), object(4)\n",
      "memory usage: 1.3+ GB\n"
     ]
    }
   ],
   "source": [
    "df_prices.info()"
   ]
  },
  {
   "cell_type": "code",
   "execution_count": 9,
   "metadata": {},
   "outputs": [
    {
     "data": {
      "text/html": [
       "<div>\n",
       "<style scoped>\n",
       "    .dataframe tbody tr th:only-of-type {\n",
       "        vertical-align: middle;\n",
       "    }\n",
       "\n",
       "    .dataframe tbody tr th {\n",
       "        vertical-align: top;\n",
       "    }\n",
       "\n",
       "    .dataframe thead th {\n",
       "        text-align: right;\n",
       "    }\n",
       "</style>\n",
       "<table border=\"1\" class=\"dataframe\">\n",
       "  <thead>\n",
       "    <tr style=\"text-align: right;\">\n",
       "      <th></th>\n",
       "      <th>listing_id</th>\n",
       "      <th>date</th>\n",
       "      <th>available</th>\n",
       "      <th>price</th>\n",
       "      <th>adjusted_price</th>\n",
       "      <th>minimum_nights</th>\n",
       "      <th>maximum_nights</th>\n",
       "    </tr>\n",
       "  </thead>\n",
       "  <tbody>\n",
       "    <tr>\n",
       "      <th>0</th>\n",
       "      <td>3109</td>\n",
       "      <td>2023-09-05</td>\n",
       "      <td>f</td>\n",
       "      <td>$110.00</td>\n",
       "      <td>$110.00</td>\n",
       "      <td>2.0</td>\n",
       "      <td>30.0</td>\n",
       "    </tr>\n",
       "    <tr>\n",
       "      <th>1</th>\n",
       "      <td>3109</td>\n",
       "      <td>2023-09-06</td>\n",
       "      <td>f</td>\n",
       "      <td>$110.00</td>\n",
       "      <td>$110.00</td>\n",
       "      <td>2.0</td>\n",
       "      <td>30.0</td>\n",
       "    </tr>\n",
       "    <tr>\n",
       "      <th>2</th>\n",
       "      <td>3109</td>\n",
       "      <td>2023-09-07</td>\n",
       "      <td>f</td>\n",
       "      <td>$110.00</td>\n",
       "      <td>$110.00</td>\n",
       "      <td>2.0</td>\n",
       "      <td>30.0</td>\n",
       "    </tr>\n",
       "    <tr>\n",
       "      <th>3</th>\n",
       "      <td>3109</td>\n",
       "      <td>2023-09-08</td>\n",
       "      <td>t</td>\n",
       "      <td>$110.00</td>\n",
       "      <td>$110.00</td>\n",
       "      <td>2.0</td>\n",
       "      <td>30.0</td>\n",
       "    </tr>\n",
       "    <tr>\n",
       "      <th>4</th>\n",
       "      <td>3109</td>\n",
       "      <td>2023-09-09</td>\n",
       "      <td>t</td>\n",
       "      <td>$110.00</td>\n",
       "      <td>$110.00</td>\n",
       "      <td>2.0</td>\n",
       "      <td>30.0</td>\n",
       "    </tr>\n",
       "  </tbody>\n",
       "</table>\n",
       "</div>"
      ],
      "text/plain": [
       "   listing_id        date available    price adjusted_price  minimum_nights  \\\n",
       "0        3109  2023-09-05         f  $110.00        $110.00             2.0   \n",
       "1        3109  2023-09-06         f  $110.00        $110.00             2.0   \n",
       "2        3109  2023-09-07         f  $110.00        $110.00             2.0   \n",
       "3        3109  2023-09-08         t  $110.00        $110.00             2.0   \n",
       "4        3109  2023-09-09         t  $110.00        $110.00             2.0   \n",
       "\n",
       "   maximum_nights  \n",
       "0            30.0  \n",
       "1            30.0  \n",
       "2            30.0  \n",
       "3            30.0  \n",
       "4            30.0  "
      ]
     },
     "execution_count": 9,
     "metadata": {},
     "output_type": "execute_result"
    }
   ],
   "source": [
    "df_prices.head()"
   ]
  },
  {
   "cell_type": "markdown",
   "id": "d4954e5e",
   "metadata": {},
   "source": [
    "## Numerical Data"
   ]
  },
  {
   "cell_type": "markdown",
   "id": "a68b21e0",
   "metadata": {},
   "source": [
    "> Methods\n",
    ">\n",
    ">- `+`, `-`, `*`, `/`\n",
    ">- numpy functions\n",
    ">- `pd.cut()`"
   ]
  },
  {
   "cell_type": "markdown",
   "id": "a471d85d",
   "metadata": {},
   "source": [
    "Standard mathematical operations between columns are done row-wise."
   ]
  },
  {
   "cell_type": "code",
   "execution_count": 11,
   "id": "70387b22",
   "metadata": {},
   "outputs": [],
   "source": [
    "df_prices['maximum_nights'] - df_prices['minimum_nights']"
   ]
  },
  {
   "cell_type": "markdown",
   "id": "219c42a2",
   "metadata": {},
   "source": [
    "We can use most `numpy` operations element-wise on a single column."
   ]
  },
  {
   "cell_type": "code",
   "execution_count": 14,
   "id": "a3bd998d",
   "metadata": {},
   "outputs": [
    {
     "data": {
      "text/plain": [
       "0        4.700480\n",
       "1        4.941642\n",
       "2        4.941642\n",
       "3        5.192957\n",
       "4        4.317488\n",
       "           ...   \n",
       "67937    5.010635\n",
       "67938    5.645447\n",
       "67939    4.454347\n",
       "67940    5.257495\n",
       "67941    5.662960\n",
       "Name: price, Length: 67942, dtype: float64"
      ]
     },
     "execution_count": 14,
     "metadata": {},
     "output_type": "execute_result"
    }
   ],
   "source": [
    "np.log(df_listings['price'])"
   ]
  },
  {
   "cell_type": "markdown",
   "id": "1a266071",
   "metadata": {},
   "source": [
    "We can create a categorical variables from a numerical one using the `pd.cut()` function."
   ]
  },
  {
   "cell_type": "code",
   "execution_count": 16,
   "id": "34d31ab3",
   "metadata": {},
   "outputs": [
    {
     "data": {
      "text/plain": [
       "0        expensive\n",
       "1        expensive\n",
       "2        expensive\n",
       "3        expensive\n",
       "4               ok\n",
       "           ...    \n",
       "67937    expensive\n",
       "67938    expensive\n",
       "67939           ok\n",
       "67940    expensive\n",
       "67941    expensive\n",
       "Name: price, Length: 67942, dtype: category\n",
       "Categories (3, object): ['cheap' < 'ok' < 'expensive']"
      ]
     },
     "execution_count": 16,
     "metadata": {},
     "output_type": "execute_result"
    }
   ],
   "source": [
    "pd.cut(df_listings['price'], \n",
    "       bins = [0, 50, 100, np.inf], \n",
    "       labels=['cheap', 'ok', 'expensive'])"
   ]
  },
  {
   "cell_type": "markdown",
   "id": "2b96aec7",
   "metadata": {},
   "source": [
    "## String Data"
   ]
  },
  {
   "cell_type": "markdown",
   "id": "ffc18877",
   "metadata": {},
   "source": [
    "> Methods\n",
    ">\n",
    ">- `+`\n",
    ">- `.str.replace`\n",
    ">- `.str.contains`\n",
    ">- `.astype(str)`\n",
    ">-`pd.get_dummies()`"
   ]
  },
  {
   "cell_type": "markdown",
   "id": "b57dcbf3",
   "metadata": {},
   "source": [
    "We can use the `+` operator between columns, to do pairwise append.\n",
    "\n",
    "**Note**: we cannot do it with strings."
   ]
  },
  {
   "cell_type": "code",
   "execution_count": 17,
   "id": "ae02a154",
   "metadata": {},
   "outputs": [
    {
     "data": {
      "text/plain": [
       "0                  AnneObservatoire\n",
       "1              BorzouHôtel-de-Ville\n",
       "2              FranckHôtel-de-Ville\n",
       "3                        AnaïsOpéra\n",
       "4                  BernadetteLouvre\n",
       "                    ...            \n",
       "67937    Elisa TahinaPalais-Bourbon\n",
       "67938                  JoffreyOpéra\n",
       "67939                  JoffreyPassy\n",
       "67940        Vinicius ParisianOpéra\n",
       "67941                 RubenGobelins\n",
       "Length: 67942, dtype: object"
      ]
     },
     "execution_count": 17,
     "metadata": {},
     "output_type": "execute_result"
    }
   ],
   "source": [
    "df_listings['host_name'] + df_listings['neighbourhood']"
   ]
  },
  {
   "cell_type": "markdown",
   "id": "69abdbe4",
   "metadata": {},
   "source": [
    "Pandas Series have a lot of vectorized string functions. You can find a list [here](https://pandas.pydata.org/docs/user_guide/text.html#method-summary).\n",
    "\n",
    "For example, we want to remove the dollar symbol from the `price` variable in the `df_prices` dataset."
   ]
  },
  {
   "cell_type": "code",
   "execution_count": 19,
   "id": "b8fc9a14",
   "metadata": {},
   "outputs": [
    {
     "data": {
      "text/plain": [
       "0           110.00\n",
       "1           110.00\n",
       "2           110.00\n",
       "3           110.00\n",
       "4           110.00\n",
       "             ...  \n",
       "24798857     85.00\n",
       "24798858     85.00\n",
       "24798859     85.00\n",
       "24798860     85.00\n",
       "24798861     85.00\n",
       "Name: price, Length: 24798862, dtype: object"
      ]
     },
     "execution_count": 19,
     "metadata": {},
     "output_type": "execute_result"
    }
   ],
   "source": [
    "df_prices['price'].str.replace('$', '', regex=False)"
   ]
  },
  {
   "cell_type": "markdown",
   "id": "2cfc0528",
   "metadata": {},
   "source": [
    "Some of these functions use regular expressions.\n",
    "\n",
    "- `match()`: Call re.match() on each element, returning a boolean.\n",
    "- `extract()`: Call re.match() on each element, returning matched groups as strings.\n",
    "- `findall()`: Call re.findall() on each element\n",
    "- `replace()`: Replace occurrences of pattern with some other string\n",
    "- `contains()`: Call re.search() on each element, returning a boolean\n",
    "- `count()`: Count occurrences of pattern\n",
    "- `split()`: Equivalent to str.split(), but accepts regexps\n",
    "rsplit()\n",
    "\n",
    "For example, the next code checks whether in the word `centre` or `center` are contained in the text description."
   ]
  },
  {
   "cell_type": "code",
   "execution_count": 20,
   "id": "4a384197",
   "metadata": {
    "scrolled": true
   },
   "outputs": [
    {
     "data": {
      "text/plain": [
       "0        False\n",
       "1        False\n",
       "2        False\n",
       "3        False\n",
       "4        False\n",
       "         ...  \n",
       "67937    False\n",
       "67938    False\n",
       "67939    False\n",
       "67940    False\n",
       "67941    False\n",
       "Name: name, Length: 67942, dtype: bool"
      ]
     },
     "execution_count": 20,
     "metadata": {},
     "output_type": "execute_result"
    }
   ],
   "source": [
    "df_listings['name'].str.contains('centre|center')"
   ]
  },
  {
   "cell_type": "markdown",
   "id": "0d4ea724",
   "metadata": {},
   "source": [
    "Lastly, we can (try to) convert string variables to numeric using `astype(float)`."
   ]
  },
  {
   "cell_type": "code",
   "execution_count": 21,
   "id": "47f0f54f",
   "metadata": {},
   "outputs": [
    {
     "data": {
      "text/plain": [
       "0           110.0\n",
       "1           110.0\n",
       "2           110.0\n",
       "3           110.0\n",
       "4           110.0\n",
       "            ...  \n",
       "24798857     85.0\n",
       "24798858     85.0\n",
       "24798859     85.0\n",
       "24798860     85.0\n",
       "24798861     85.0\n",
       "Name: price, Length: 24798862, dtype: float64"
      ]
     },
     "execution_count": 21,
     "metadata": {},
     "output_type": "execute_result"
    }
   ],
   "source": [
    "df_prices['price'].str.replace('[$|,]', '', regex=True).astype(float)"
   ]
  },
  {
   "cell_type": "markdown",
   "id": "73563d49",
   "metadata": {},
   "source": [
    "We can also use it to convert numerics to strings using `astype(str)`."
   ]
  },
  {
   "cell_type": "code",
   "execution_count": null,
   "id": "0a1a848f",
   "metadata": {},
   "outputs": [],
   "source": [
    "df_listings['id'].astype(str)"
   ]
  },
  {
   "cell_type": "markdown",
   "id": "19f89b58",
   "metadata": {},
   "source": [
    "We can generate dummies from a categorical variable using `pd.get_dummies()`"
   ]
  },
  {
   "cell_type": "code",
   "execution_count": 22,
   "metadata": {},
   "outputs": [
    {
     "data": {
      "text/plain": [
       "0      Observatoire\n",
       "1    Hôtel-de-Ville\n",
       "2    Hôtel-de-Ville\n",
       "3             Opéra\n",
       "4            Louvre\n",
       "Name: neighbourhood, dtype: object"
      ]
     },
     "execution_count": 22,
     "metadata": {},
     "output_type": "execute_result"
    }
   ],
   "source": [
    "df_listings['neighbourhood'].head()"
   ]
  },
  {
   "cell_type": "code",
   "execution_count": 23,
   "id": "c3b3802e",
   "metadata": {},
   "outputs": [
    {
     "data": {
      "text/html": [
       "<div>\n",
       "<style scoped>\n",
       "    .dataframe tbody tr th:only-of-type {\n",
       "        vertical-align: middle;\n",
       "    }\n",
       "\n",
       "    .dataframe tbody tr th {\n",
       "        vertical-align: top;\n",
       "    }\n",
       "\n",
       "    .dataframe thead th {\n",
       "        text-align: right;\n",
       "    }\n",
       "</style>\n",
       "<table border=\"1\" class=\"dataframe\">\n",
       "  <thead>\n",
       "    <tr style=\"text-align: right;\">\n",
       "      <th></th>\n",
       "      <th>Batignolles-Monceau</th>\n",
       "      <th>Bourse</th>\n",
       "      <th>Buttes-Chaumont</th>\n",
       "      <th>Buttes-Montmartre</th>\n",
       "      <th>Entrepôt</th>\n",
       "      <th>Gobelins</th>\n",
       "      <th>Hôtel-de-Ville</th>\n",
       "      <th>Louvre</th>\n",
       "      <th>Luxembourg</th>\n",
       "      <th>Ménilmontant</th>\n",
       "      <th>Observatoire</th>\n",
       "      <th>Opéra</th>\n",
       "      <th>Palais-Bourbon</th>\n",
       "      <th>Panthéon</th>\n",
       "      <th>Passy</th>\n",
       "      <th>Popincourt</th>\n",
       "      <th>Reuilly</th>\n",
       "      <th>Temple</th>\n",
       "      <th>Vaugirard</th>\n",
       "      <th>Élysée</th>\n",
       "    </tr>\n",
       "  </thead>\n",
       "  <tbody>\n",
       "    <tr>\n",
       "      <th>0</th>\n",
       "      <td>False</td>\n",
       "      <td>False</td>\n",
       "      <td>False</td>\n",
       "      <td>False</td>\n",
       "      <td>False</td>\n",
       "      <td>False</td>\n",
       "      <td>False</td>\n",
       "      <td>False</td>\n",
       "      <td>False</td>\n",
       "      <td>False</td>\n",
       "      <td>True</td>\n",
       "      <td>False</td>\n",
       "      <td>False</td>\n",
       "      <td>False</td>\n",
       "      <td>False</td>\n",
       "      <td>False</td>\n",
       "      <td>False</td>\n",
       "      <td>False</td>\n",
       "      <td>False</td>\n",
       "      <td>False</td>\n",
       "    </tr>\n",
       "    <tr>\n",
       "      <th>1</th>\n",
       "      <td>False</td>\n",
       "      <td>False</td>\n",
       "      <td>False</td>\n",
       "      <td>False</td>\n",
       "      <td>False</td>\n",
       "      <td>False</td>\n",
       "      <td>True</td>\n",
       "      <td>False</td>\n",
       "      <td>False</td>\n",
       "      <td>False</td>\n",
       "      <td>False</td>\n",
       "      <td>False</td>\n",
       "      <td>False</td>\n",
       "      <td>False</td>\n",
       "      <td>False</td>\n",
       "      <td>False</td>\n",
       "      <td>False</td>\n",
       "      <td>False</td>\n",
       "      <td>False</td>\n",
       "      <td>False</td>\n",
       "    </tr>\n",
       "    <tr>\n",
       "      <th>2</th>\n",
       "      <td>False</td>\n",
       "      <td>False</td>\n",
       "      <td>False</td>\n",
       "      <td>False</td>\n",
       "      <td>False</td>\n",
       "      <td>False</td>\n",
       "      <td>True</td>\n",
       "      <td>False</td>\n",
       "      <td>False</td>\n",
       "      <td>False</td>\n",
       "      <td>False</td>\n",
       "      <td>False</td>\n",
       "      <td>False</td>\n",
       "      <td>False</td>\n",
       "      <td>False</td>\n",
       "      <td>False</td>\n",
       "      <td>False</td>\n",
       "      <td>False</td>\n",
       "      <td>False</td>\n",
       "      <td>False</td>\n",
       "    </tr>\n",
       "    <tr>\n",
       "      <th>3</th>\n",
       "      <td>False</td>\n",
       "      <td>False</td>\n",
       "      <td>False</td>\n",
       "      <td>False</td>\n",
       "      <td>False</td>\n",
       "      <td>False</td>\n",
       "      <td>False</td>\n",
       "      <td>False</td>\n",
       "      <td>False</td>\n",
       "      <td>False</td>\n",
       "      <td>False</td>\n",
       "      <td>True</td>\n",
       "      <td>False</td>\n",
       "      <td>False</td>\n",
       "      <td>False</td>\n",
       "      <td>False</td>\n",
       "      <td>False</td>\n",
       "      <td>False</td>\n",
       "      <td>False</td>\n",
       "      <td>False</td>\n",
       "    </tr>\n",
       "    <tr>\n",
       "      <th>4</th>\n",
       "      <td>False</td>\n",
       "      <td>False</td>\n",
       "      <td>False</td>\n",
       "      <td>False</td>\n",
       "      <td>False</td>\n",
       "      <td>False</td>\n",
       "      <td>False</td>\n",
       "      <td>True</td>\n",
       "      <td>False</td>\n",
       "      <td>False</td>\n",
       "      <td>False</td>\n",
       "      <td>False</td>\n",
       "      <td>False</td>\n",
       "      <td>False</td>\n",
       "      <td>False</td>\n",
       "      <td>False</td>\n",
       "      <td>False</td>\n",
       "      <td>False</td>\n",
       "      <td>False</td>\n",
       "      <td>False</td>\n",
       "    </tr>\n",
       "  </tbody>\n",
       "</table>\n",
       "</div>"
      ],
      "text/plain": [
       "   Batignolles-Monceau  Bourse  Buttes-Chaumont  Buttes-Montmartre  Entrepôt  \\\n",
       "0                False   False            False              False     False   \n",
       "1                False   False            False              False     False   \n",
       "2                False   False            False              False     False   \n",
       "3                False   False            False              False     False   \n",
       "4                False   False            False              False     False   \n",
       "\n",
       "   Gobelins  Hôtel-de-Ville  Louvre  Luxembourg  Ménilmontant  Observatoire  \\\n",
       "0     False           False   False       False         False          True   \n",
       "1     False            True   False       False         False         False   \n",
       "2     False            True   False       False         False         False   \n",
       "3     False           False   False       False         False         False   \n",
       "4     False           False    True       False         False         False   \n",
       "\n",
       "   Opéra  Palais-Bourbon  Panthéon  Passy  Popincourt  Reuilly  Temple  \\\n",
       "0  False           False     False  False       False    False   False   \n",
       "1  False           False     False  False       False    False   False   \n",
       "2  False           False     False  False       False    False   False   \n",
       "3   True           False     False  False       False    False   False   \n",
       "4  False           False     False  False       False    False   False   \n",
       "\n",
       "   Vaugirard  Élysée  \n",
       "0      False   False  \n",
       "1      False   False  \n",
       "2      False   False  \n",
       "3      False   False  \n",
       "4      False   False  "
      ]
     },
     "execution_count": 23,
     "metadata": {},
     "output_type": "execute_result"
    }
   ],
   "source": [
    "pd.get_dummies(df_listings['neighbourhood']).head()"
   ]
  },
  {
   "cell_type": "markdown",
   "id": "ccc15e12",
   "metadata": {},
   "source": [
    "## Time Data"
   ]
  },
  {
   "cell_type": "markdown",
   "id": "e5fef72c",
   "metadata": {},
   "source": [
    "> Methods\n",
    ">\n",
    ">- `pd.to_datetime()`\n",
    ">- `.dt.year`\n",
    ">- `.df.to_period()`\n",
    ">- `pd.to_timedelta()`"
   ]
  },
  {
   "cell_type": "markdown",
   "id": "efaca716",
   "metadata": {},
   "source": [
    "In the `df_prices` we have a date variable, `date`. Which format is it in? We can check it with the `.dtypes` attribute."
   ]
  },
  {
   "cell_type": "code",
   "execution_count": null,
   "id": "fb054bfd",
   "metadata": {},
   "outputs": [],
   "source": [
    "df_prices['date'].dtypes"
   ]
  },
  {
   "cell_type": "markdown",
   "id": "cc04dfdb",
   "metadata": {},
   "source": [
    "We can **convert** a variable into a date using the "
   ]
  },
  {
   "cell_type": "code",
   "execution_count": null,
   "id": "943365f7",
   "metadata": {},
   "outputs": [],
   "source": [
    "df_prices['datetime'] = pd.to_datetime(df_prices['date'])"
   ]
  },
  {
   "cell_type": "markdown",
   "id": "f758d41a",
   "metadata": {},
   "source": [
    "Indeed, if we now check the format of the `datetime` variable, it's `datetime`."
   ]
  },
  {
   "cell_type": "code",
   "execution_count": null,
   "id": "f549dc69",
   "metadata": {},
   "outputs": [],
   "source": [
    "df_prices['datetime'].dtypes"
   ]
  },
  {
   "cell_type": "markdown",
   "id": "15a4775c",
   "metadata": {},
   "source": [
    "Once we have a variable in `datetime` format, we gain plenty of datetime operations through the `dt` accessor object for datetime-like properties. \n",
    "\n",
    "For example, we can **extract the year** using `.dt.year`. We can do the same with `month`, `week` and `day`."
   ]
  },
  {
   "cell_type": "code",
   "execution_count": null,
   "id": "24b26fd9",
   "metadata": {},
   "outputs": [],
   "source": [
    "df_prices['datetime'].dt.year"
   ]
  },
  {
   "cell_type": "markdown",
   "id": "685dd772",
   "metadata": {},
   "source": [
    "We can change the **level of aggregation** of a date using `.dt.to_period()`. The option `M` converts to year-month level. "
   ]
  },
  {
   "cell_type": "code",
   "execution_count": null,
   "id": "ebc31c1b",
   "metadata": {},
   "outputs": [],
   "source": [
    "df_prices['datetime'].dt.to_period('M')"
   ]
  },
  {
   "cell_type": "markdown",
   "id": "86efac9e",
   "metadata": {},
   "source": [
    "We can **add or subtract time periods** from a date using the `pd.to_timedelta()` function. We need to specify the unit of measurement with the `unit` option."
   ]
  },
  {
   "cell_type": "code",
   "execution_count": null,
   "id": "b247165b",
   "metadata": {},
   "outputs": [],
   "source": [
    "df_prices['datetime'] -  pd.to_timedelta(3, unit='d')"
   ]
  },
  {
   "cell_type": "markdown",
   "id": "82ef0f68",
   "metadata": {},
   "source": [
    "## Missing Data"
   ]
  },
  {
   "cell_type": "markdown",
   "id": "8dc1aacc",
   "metadata": {},
   "source": [
    "> Methods\n",
    ">\n",
    ">- `.isna()`\n",
    ">- `.dropna()`\n",
    ">- `.fillna()`"
   ]
  },
  {
   "cell_type": "markdown",
   "id": "b7c1bc4c",
   "metadata": {},
   "source": [
    "The function `isna()` reports missing values."
   ]
  },
  {
   "cell_type": "code",
   "execution_count": null,
   "id": "ba703400",
   "metadata": {},
   "outputs": [],
   "source": [
    "df_listings.isna().head()"
   ]
  },
  {
   "cell_type": "markdown",
   "id": "48e3cb93",
   "metadata": {},
   "source": [
    "To get a quick description of the amount of missing data in the dataset, we can use"
   ]
  },
  {
   "cell_type": "code",
   "execution_count": null,
   "id": "0cbea92e",
   "metadata": {},
   "outputs": [],
   "source": [
    "df_listings.isna().sum()"
   ]
  },
  {
   "cell_type": "markdown",
   "id": "37b13faf",
   "metadata": {},
   "source": [
    "We can drop missing values using `dropna()`. It drops all rows with at least one missing value."
   ]
  },
  {
   "cell_type": "code",
   "execution_count": null,
   "id": "dda4f2cc",
   "metadata": {},
   "outputs": [],
   "source": [
    "df_listings.dropna().shape"
   ]
  },
  {
   "cell_type": "markdown",
   "id": "80e0f049",
   "metadata": {},
   "source": [
    "In this case unfortunately, it drops all the rows. If we wa to drop only rows with all missing values, we can use the parameter `how='all'`."
   ]
  },
  {
   "cell_type": "code",
   "execution_count": null,
   "id": "d4f826f0",
   "metadata": {},
   "outputs": [],
   "source": [
    "df_listings.dropna(how='all').shape"
   ]
  },
  {
   "cell_type": "markdown",
   "id": "61fd1aba",
   "metadata": {},
   "source": [
    "If we want to drop only missing values for one particular value, we can use the `subset` option."
   ]
  },
  {
   "cell_type": "code",
   "execution_count": null,
   "id": "78cabb3d",
   "metadata": {},
   "outputs": [],
   "source": [
    "df_listings.dropna(subset=['reviews_per_month']).shape"
   ]
  },
  {
   "cell_type": "markdown",
   "id": "3c561a51",
   "metadata": {},
   "source": [
    "We can also fill the missing values instead of dropping them, using `fillna()`."
   ]
  },
  {
   "cell_type": "code",
   "execution_count": null,
   "id": "75809f37",
   "metadata": {},
   "outputs": [],
   "source": [
    "df_listings.fillna(' -- This was NA  -- ').head()"
   ]
  },
  {
   "cell_type": "markdown",
   "id": "ceec4ced",
   "metadata": {},
   "source": [
    "We can also make missing values if we want."
   ]
  },
  {
   "cell_type": "code",
   "execution_count": null,
   "id": "deb53f82",
   "metadata": {},
   "outputs": [],
   "source": [
    "df_listings.iloc[2, 2] = np.nan\n",
    "df_listings.iloc[:3, :3]"
   ]
  }
 ],
 "metadata": {
  "@webio": {
   "lastCommId": null,
   "lastKernelId": null
  },
  "kernelspec": {
   "display_name": "Python 3 (ipykernel)",
   "language": "python",
   "name": "python3"
  },
  "language_info": {
   "codemirror_mode": {
    "name": "ipython",
    "version": 3
   },
   "file_extension": ".py",
   "mimetype": "text/x-python",
   "name": "python",
   "nbconvert_exporter": "python",
   "pygments_lexer": "ipython3",
   "version": "3.8.18"
  },
  "toc": {
   "base_numbering": 1,
   "nav_menu": {},
   "number_sections": false,
   "sideBar": true,
   "skip_h1_title": false,
   "title_cell": "Table of Contents",
   "title_sidebar": "Contents",
   "toc_cell": false,
   "toc_position": {
    "height": "calc(100% - 180px)",
    "left": "10px",
    "top": "150px",
    "width": "288px"
   },
   "toc_section_display": true,
   "toc_window_display": true
  },
  "varInspector": {
   "cols": {
    "lenName": 16,
    "lenType": 16,
    "lenVar": 40
   },
   "kernels_config": {
    "python": {
     "delete_cmd_postfix": "",
     "delete_cmd_prefix": "del ",
     "library": "var_list.py",
     "varRefreshCmd": "print(var_dic_list())"
    },
    "r": {
     "delete_cmd_postfix": ") ",
     "delete_cmd_prefix": "rm(",
     "library": "var_list.r",
     "varRefreshCmd": "cat(var_dic_list()) "
    }
   },
   "types_to_exclude": [
    "module",
    "function",
    "builtin_function_or_method",
    "instance",
    "_Feature"
   ],
   "window_display": false
  }
 },
 "nbformat": 4,
 "nbformat_minor": 5
}
