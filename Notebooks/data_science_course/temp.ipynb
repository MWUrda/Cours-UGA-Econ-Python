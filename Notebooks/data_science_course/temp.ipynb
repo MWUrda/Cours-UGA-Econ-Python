{
 "cells": [
  {
   "cell_type": "code",
   "execution_count": 1,
   "metadata": {},
   "outputs": [],
   "source": [
    "import pandas as pd\n",
    "import numpy as np\n",
    "from src.import_data import import_data\n",
    "import statsmodels.api as sm"
   ]
  },
  {
   "cell_type": "code",
   "execution_count": 2,
   "metadata": {},
   "outputs": [],
   "source": [
    "df_listings, df_prices, df = import_data()"
   ]
  },
  {
   "cell_type": "code",
   "execution_count": 3,
   "metadata": {},
   "outputs": [],
   "source": [
    "df_listings['log_price'] = np.log(1+df_listings['mean_price'])\n",
    "df_listings[\"log_rpm\"] = np.log(1 + df_listings[\"reviews_per_month\"])"
   ]
  },
  {
   "cell_type": "code",
   "execution_count": 8,
   "metadata": {},
   "outputs": [
    {
     "name": "stdout",
     "output_type": "stream",
     "text": [
      "<class 'pandas.core.frame.DataFrame'>\n",
      "RangeIndex: 67942 entries, 0 to 67941\n",
      "Data columns (total 25 columns):\n",
      " #   Column                Non-Null Count  Dtype  \n",
      "---  ------                --------------  -----  \n",
      " 0   listing_id            67942 non-null  int64  \n",
      " 1   listing_title         67942 non-null  object \n",
      " 2   neighborhood          67942 non-null  object \n",
      " 3   latitude              67942 non-null  float64\n",
      " 4   longitude             67942 non-null  float64\n",
      " 5   mean_price            67942 non-null  float64\n",
      " 6   host_id               67942 non-null  int64  \n",
      " 7   host_name             67935 non-null  object \n",
      " 8   host_response_time    42044 non-null  object \n",
      " 9   host_response_rate    42044 non-null  object \n",
      " 10  host_acceptance_rate  45676 non-null  object \n",
      " 11  property_type         67942 non-null  object \n",
      " 12  room_type             67942 non-null  object \n",
      " 13  accommodates          67942 non-null  int64  \n",
      " 14  bathrooms             0 non-null      float64\n",
      " 15  bedrooms              52322 non-null  float64\n",
      " 16  beds                  67242 non-null  float64\n",
      " 17  amenities             67942 non-null  object \n",
      " 18  number_of_reviews     67942 non-null  int64  \n",
      " 19  reviews_per_month     53185 non-null  float64\n",
      " 20  first_review          53185 non-null  object \n",
      " 21  last_review           53185 non-null  object \n",
      " 22  review_scores_rating  53185 non-null  float64\n",
      " 23  log_price             67942 non-null  float64\n",
      " 24  log_rpm               53185 non-null  float64\n",
      "dtypes: float64(10), int64(4), object(11)\n",
      "memory usage: 13.0+ MB\n"
     ]
    }
   ],
   "source": [
    "df_listings.info()"
   ]
  },
  {
   "cell_type": "code",
   "execution_count": 5,
   "metadata": {},
   "outputs": [
    {
     "name": "stdout",
     "output_type": "stream",
     "text": [
      "                            OLS Regression Results                            \n",
      "==============================================================================\n",
      "Dep. Variable:              log_price   R-squared:                       0.056\n",
      "Model:                            OLS   Adj. R-squared:                  0.056\n",
      "Method:                 Least Squares   F-statistic:                     3134.\n",
      "Date:                Mon, 20 Nov 2023   Prob (F-statistic):               0.00\n",
      "Time:                        10:38:26   Log-Likelihood:                -57170.\n",
      "No. Observations:               53185   AIC:                         1.143e+05\n",
      "Df Residuals:                   53183   BIC:                         1.144e+05\n",
      "Df Model:                           1                                         \n",
      "Covariance Type:            nonrobust                                         \n",
      "==============================================================================\n",
      "                 coef    std err          t      P>|t|      [0.025      0.975]\n",
      "------------------------------------------------------------------------------\n",
      "const          4.6915      0.005    977.811      0.000       4.682       4.701\n",
      "log_rpm        0.3405      0.006     55.981      0.000       0.329       0.352\n",
      "==============================================================================\n",
      "Omnibus:                     7472.186   Durbin-Watson:                   1.883\n",
      "Prob(Omnibus):                  0.000   Jarque-Bera (JB):            15577.874\n",
      "Skew:                           0.860   Prob(JB):                         0.00\n",
      "Kurtosis:                       5.018   Cond. No.                         2.86\n",
      "==============================================================================\n",
      "\n",
      "Notes:\n",
      "[1] Standard Errors assume that the covariance matrix of the errors is correctly specified.\n"
     ]
    }
   ],
   "source": [
    "model = sm.OLS(df_listings['log_price'], sm.add_constant(df_listings[\"log_rpm\"]), missing='drop')\n",
    "results = model.fit()\n",
    "print(results.summary())"
   ]
  },
  {
   "cell_type": "code",
   "execution_count": 6,
   "metadata": {},
   "outputs": [
    {
     "name": "stdout",
     "output_type": "stream",
     "text": [
      "                            OLS Regression Results                            \n",
      "==============================================================================\n",
      "Dep. Variable:              log_price   R-squared:                       0.056\n",
      "Model:                            OLS   Adj. R-squared:                  0.056\n",
      "Method:                 Least Squares   F-statistic:                     3050.\n",
      "Date:                Mon, 20 Nov 2023   Prob (F-statistic):               0.00\n",
      "Time:                        10:38:38   Log-Likelihood:                -57170.\n",
      "No. Observations:               53185   AIC:                         1.143e+05\n",
      "Df Residuals:                   53183   BIC:                         1.144e+05\n",
      "Df Model:                           1                                         \n",
      "Covariance Type:                  HC0                                         \n",
      "==============================================================================\n",
      "                 coef    std err          z      P>|z|      [0.025      0.975]\n",
      "------------------------------------------------------------------------------\n",
      "const          4.6915      0.005    913.436      0.000       4.681       4.702\n",
      "log_rpm        0.3405      0.006     55.224      0.000       0.328       0.353\n",
      "==============================================================================\n",
      "Omnibus:                     7472.186   Durbin-Watson:                   1.883\n",
      "Prob(Omnibus):                  0.000   Jarque-Bera (JB):            15577.874\n",
      "Skew:                           0.860   Prob(JB):                         0.00\n",
      "Kurtosis:                       5.018   Cond. No.                         2.86\n",
      "==============================================================================\n",
      "\n",
      "Notes:\n",
      "[1] Standard Errors are heteroscedasticity robust (HC0)\n"
     ]
    }
   ],
   "source": [
    "results2 = model.fit(cov_type='HC0')\n",
    "print(results2.summary())"
   ]
  },
  {
   "cell_type": "code",
   "execution_count": 10,
   "metadata": {},
   "outputs": [],
   "source": [
    "X = df_listings[['log_rpm', 'latitude']]"
   ]
  },
  {
   "cell_type": "code",
   "execution_count": 12,
   "metadata": {},
   "outputs": [
    {
     "name": "stdout",
     "output_type": "stream",
     "text": [
      "                            OLS Regression Results                            \n",
      "==============================================================================\n",
      "Dep. Variable:              log_price   R-squared:                       0.057\n",
      "Model:                            OLS   Adj. R-squared:                  0.057\n",
      "Method:                 Least Squares   F-statistic:                     1612.\n",
      "Date:                Mon, 20 Nov 2023   Prob (F-statistic):               0.00\n",
      "Time:                        10:56:16   Log-Likelihood:                -57127.\n",
      "No. Observations:               53185   AIC:                         1.143e+05\n",
      "Df Residuals:                   53182   BIC:                         1.143e+05\n",
      "Df Model:                           2                                         \n",
      "Covariance Type:            nonrobust                                         \n",
      "==============================================================================\n",
      "                 coef    std err          t      P>|t|      [0.025      0.975]\n",
      "------------------------------------------------------------------------------\n",
      "const         81.5050      8.309      9.809      0.000      65.219      97.791\n",
      "log_rpm        0.3398      0.006     55.903      0.000       0.328       0.352\n",
      "latitude      -1.5720      0.170     -9.244      0.000      -1.905      -1.239\n",
      "==============================================================================\n",
      "Omnibus:                     7454.548   Durbin-Watson:                   1.882\n",
      "Prob(Omnibus):                  0.000   Jarque-Bera (JB):            15578.855\n",
      "Skew:                           0.857   Prob(JB):                         0.00\n",
      "Kurtosis:                       5.022   Cond. No.                     1.32e+05\n",
      "==============================================================================\n",
      "\n",
      "Notes:\n",
      "[1] Standard Errors assume that the covariance matrix of the errors is correctly specified.\n",
      "[2] The condition number is large, 1.32e+05. This might indicate that there are\n",
      "strong multicollinearity or other numerical problems.\n"
     ]
    }
   ],
   "source": [
    "model_2 = sm.OLS(df_listings['log_price'], sm.add_constant(X), missing='drop')\n",
    "results2 = model_2.fit()\n",
    "print(results2.summary())"
   ]
  }
 ],
 "metadata": {
  "kernelspec": {
   "display_name": "linearmodels",
   "language": "python",
   "name": "python3"
  },
  "language_info": {
   "codemirror_mode": {
    "name": "ipython",
    "version": 3
   },
   "file_extension": ".py",
   "mimetype": "text/x-python",
   "name": "python",
   "nbconvert_exporter": "python",
   "pygments_lexer": "ipython3",
   "version": "3.10.9"
  }
 },
 "nbformat": 4,
 "nbformat_minor": 2
}
