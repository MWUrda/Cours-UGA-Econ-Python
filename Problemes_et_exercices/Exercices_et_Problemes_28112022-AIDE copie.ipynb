{
 "cells": [
  {
   "cell_type": "markdown",
   "metadata": {},
   "source": [
    "# <center> INTRODUCTION À PYTHON POUR L'ÉCONOMIE APPLIQUÉE</center>\n",
    "## <center> EXERCICES : 29.11.2022</center>\n",
    "#### <center>Michal Urdanivia (UGA)</center>\n",
    "#### <center> michal.wong-urdanivia@univ-grenoble-alpes.fr </center>"
   ]
  },
  {
   "cell_type": "markdown",
   "metadata": {},
   "source": [
    "### <center> INFORMATIONS </center>\n",
    "\n",
    "- Les exercices suivants portent sur le contenu du premier au troisième cours. Il sont une variation des problèmes de l'examen de session 1 de l'année 2021-2022.\n",
    "\n",
    "- Pour chaque réponse vous devez utiliser un code Python, car les phrases textuelles(par exemple dans des cellules `markdown` comme celle-ci) ne sont pas des réponses même si vous pouvez les utiliser pour commenter vos réponses.\n",
    "\n",
    "- Il est recommandé de commenter votre code dans les cellules de code elles-mêmes(avec le symbole $\\#$ précédant le commentaire).\n",
    "\n",
    "- J'ai laissé pour certaines questions des cellules de code incomplètes que vous pouvez utiliser si vous le souhaitez mais il faut les compléter afin d'obtenir les réponses affichées. Mais si vous préférez faire votre propre code de A à Z, supprimez les."
   ]
  },
  {
   "cell_type": "markdown",
   "metadata": {},
   "source": [
    "### <center> OPTIMISATION D'UNE FONCTION </center>\n",
    "\n",
    "\n",
    "On considère le problème suivant:\n",
    "\n",
    "$$\n",
    "\\min_{x\\in\\mathbb{R}} f(x)\n",
    "$$\n",
    "\n",
    "avec $ f(x) = x^3 - 8x $.\n"
   ]
  },
  {
   "cell_type": "markdown",
   "metadata": {},
   "source": [
    "**Question 1:**\n",
    "\n",
    "Quel est l'optimum de cette fonction?(il n'est pas demandé ici de coder mais de résoudre le problème analytiquement)"
   ]
  },
  {
   "cell_type": "markdown",
   "metadata": {},
   "source": [
    "**Question 2:**\n",
    "\n",
    "Résoudre ce problème en utilisant une boucle(c.f., devoir 1). Affichez vos résultats(valeur de la fonction, et de \n",
    "l'argument qui la minimise)"
   ]
  },
  {
   "cell_type": "markdown",
   "metadata": {},
   "source": [
    "**Question 3:**\n",
    "\n",
    "Résoudre ce problème en utilisant `optimize()` de scipy. Affichez vos résultats(valeur de la fonction, et de l'argument qui la minimise)"
   ]
  },
  {
   "cell_type": "markdown",
   "metadata": {},
   "source": [
    "**Question 4:**\n",
    "\n",
    "Représentez graphiquement vos solutions."
   ]
  },
  {
   "cell_type": "markdown",
   "metadata": {},
   "source": [
    "**Remarque**: vous pouvez consulter l'exercice 2 pour vous aider"
   ]
  },
  {
   "cell_type": "markdown",
   "metadata": {},
   "source": [
    "### <center> CALCUL D'UNE MOYENNE DE NOTES </center>"
   ]
  },
  {
   "cell_type": "code",
   "execution_count": 1,
   "metadata": {},
   "outputs": [],
   "source": [
    "import numpy as np"
   ]
  },
  {
   "cell_type": "markdown",
   "metadata": {},
   "source": [
    "Le code suivant crée un objet `etudiant` en générant de manière aléatoire les notes qui sont \n",
    "tirées uniformément parmi les entiers de 0 à 20. Pour cela on utilise la fonction dans Numpy \n",
    "[`numpy.random.randint()`](https://numpy.org/doc/stable/reference/random/generated/numpy.random\n",
    "randint.html). \n",
    "\n",
    "Ces notes sont deux DSs et deux DMs, \"ident\" est son identifiant.\n",
    "\n",
    "Donc l'objet `etudiant` créé de cet façon est du même type que les étudiants précédents à la \n",
    "différence que les notes sont attribuées de manière aléatoire."
   ]
  },
  {
   "cell_type": "code",
   "execution_count": 2,
   "metadata": {},
   "outputs": [],
   "source": [
    "# Création d'un étudiant fictif avec notes définies aléatoirement \n",
    "etudiant = {'ident': str(0), 'DM1': np.random.randint(0, 20), 'DM2': np.random.randint(0, 20), \n",
    "            'DS1': np.random.randint(0, 20), 'DS2' : np.random.randint(0, 20)}"
   ]
  },
  {
   "cell_type": "code",
   "execution_count": 5,
   "metadata": {},
   "outputs": [
    {
     "data": {
      "text/plain": [
       "{'ident': '0', 'DM1': 14, 'DM2': 13, 'DS1': 3, 'DS2': 5}"
      ]
     },
     "execution_count": 5,
     "metadata": {},
     "output_type": "execute_result"
    }
   ],
   "source": [
    "etudiant"
   ]
  },
  {
   "cell_type": "markdown",
   "metadata": {},
   "source": [
    "- Écrivez une fonction qui calcule la note finale de l'étudiant précédent comme la moyenne de la meilleure note en DS et la meilleure note en DM avec une pondération de $\\alpha \\in (0, 1)$ pour \n",
    "la première et $(1-\\alpha)$ pour la seconde, en donnant par défaut $\\alpha = 0.5$.\n",
    "- testez votre fonction sur l'étudiant précédent.\n",
    "- Écrivez une boucle qui:\n",
    "  - génère 20 objets du même type que l'objet `etudiant` précédent, et avec des identifiants allant de 0 à 19,\n",
    "  - conservez tous les objets ainsi générés dans une liste ayant donc 20 éléments nommée `etudiants`\n",
    "- Utilisez la fonction que vous avez construit sur chaque étudiant dans la liste `etudiants`\n",
    "de la question précédente. Pour cela: \n",
    "  - Faîtes une boucle qui applique cette fonction sur chaque élément de la liste `etudiants`\n",
    "  - conservez les résultats dans une liste `etudiants_notes`.\n",
    "  - testez votre code en affichant un étudiant en particulier."
   ]
  },
  {
   "cell_type": "code",
   "execution_count": 3,
   "metadata": {},
   "outputs": [],
   "source": [
    "# Réponse: fonction\n",
    "def NF(etudiant, alpha = 0.5): \n",
    "\n",
    "    # Note finale avec max() de Python\n",
    "\n",
    "    DM = max(etudiant['DM1'], etudiant['DM2']) \n",
    "    DS = max(etudiant['DS1'], etudiant['DS2']) \n",
    "    NF = alpha * DM + (1-alpha) * DS\n",
    "\n",
    "    # Résultat sous forme de liste\n",
    "\n",
    "    return [etudiant, NF]"
   ]
  },
  {
   "cell_type": "code",
   "execution_count": 4,
   "metadata": {},
   "outputs": [
    {
     "name": "stdout",
     "output_type": "stream",
     "text": [
      "Note finale: 9.5\n",
      "Note finale(pour alpha = 0.6): 10.4\n"
     ]
    }
   ],
   "source": [
    "# Réponse : test de la fonction\n",
    "\n",
    "etudiant_notes = NF(etudiant) # évaluation \n",
    "print('Note finale:', etudiant_notes[1]) # affichage de la note finale\n",
    "etudiant_notes_2 = NF(etudiant, alpha=0.6) # évaluation pour alpha = 0.6\n",
    "print('Note finale(pour alpha = 0.6):', etudiant_notes_2[1])\n"
   ]
  },
  {
   "cell_type": "code",
   "execution_count": 6,
   "metadata": {},
   "outputs": [],
   "source": [
    "# Réponse : boucle\n",
    "etudiants = [] # liste vide\n",
    "# boucle\n",
    "for i in range(20):\n",
    "    etudiants.append({'ident': str(i), 'DM1': np.random.randint(0, 20), \n",
    "    'DM2': np.random.randint(0, 20), \n",
    "    'DS1' : np.random.randint(0, 20),\n",
    "    'DS2' : np.random.randint(0, 20)})"
   ]
  },
  {
   "cell_type": "code",
   "execution_count": 7,
   "metadata": {},
   "outputs": [
    {
     "data": {
      "text/plain": [
       "[{'ident': '0', 'DM1': 10, 'DM2': 3, 'DS1': 7, 'DS2': 9},\n",
       " {'ident': '1', 'DM1': 16, 'DM2': 2, 'DS1': 17, 'DS2': 9},\n",
       " {'ident': '2', 'DM1': 19, 'DM2': 8, 'DS1': 3, 'DS2': 15},\n",
       " {'ident': '3', 'DM1': 19, 'DM2': 0, 'DS1': 11, 'DS2': 10},\n",
       " {'ident': '4', 'DM1': 14, 'DM2': 3, 'DS1': 9, 'DS2': 12},\n",
       " {'ident': '5', 'DM1': 16, 'DM2': 12, 'DS1': 12, 'DS2': 15},\n",
       " {'ident': '6', 'DM1': 9, 'DM2': 5, 'DS1': 7, 'DS2': 7},\n",
       " {'ident': '7', 'DM1': 1, 'DM2': 9, 'DS1': 18, 'DS2': 17},\n",
       " {'ident': '8', 'DM1': 14, 'DM2': 12, 'DS1': 15, 'DS2': 19},\n",
       " {'ident': '9', 'DM1': 0, 'DM2': 16, 'DS1': 2, 'DS2': 6},\n",
       " {'ident': '10', 'DM1': 12, 'DM2': 4, 'DS1': 19, 'DS2': 16},\n",
       " {'ident': '11', 'DM1': 19, 'DM2': 16, 'DS1': 5, 'DS2': 4},\n",
       " {'ident': '12', 'DM1': 4, 'DM2': 19, 'DS1': 7, 'DS2': 18},\n",
       " {'ident': '13', 'DM1': 5, 'DM2': 10, 'DS1': 5, 'DS2': 7},\n",
       " {'ident': '14', 'DM1': 2, 'DM2': 0, 'DS1': 0, 'DS2': 4},\n",
       " {'ident': '15', 'DM1': 13, 'DM2': 16, 'DS1': 5, 'DS2': 3},\n",
       " {'ident': '16', 'DM1': 13, 'DM2': 13, 'DS1': 13, 'DS2': 6},\n",
       " {'ident': '17', 'DM1': 17, 'DM2': 4, 'DS1': 15, 'DS2': 1},\n",
       " {'ident': '18', 'DM1': 15, 'DM2': 6, 'DS1': 6, 'DS2': 18},\n",
       " {'ident': '19', 'DM1': 16, 'DM2': 3, 'DS1': 1, 'DS2': 15}]"
      ]
     },
     "execution_count": 7,
     "metadata": {},
     "output_type": "execute_result"
    }
   ],
   "source": [
    "etudiants"
   ]
  },
  {
   "cell_type": "code",
   "execution_count": 8,
   "metadata": {},
   "outputs": [],
   "source": [
    "# SUITE..."
   ]
  }
 ],
 "metadata": {
  "kernelspec": {
   "display_name": "Python 3.8.8 ('base')",
   "language": "python",
   "name": "python3"
  },
  "language_info": {
   "codemirror_mode": {
    "name": "ipython",
    "version": 3
   },
   "file_extension": ".py",
   "mimetype": "text/x-python",
   "name": "python",
   "nbconvert_exporter": "python",
   "pygments_lexer": "ipython3",
   "version": "3.8.8"
  },
  "orig_nbformat": 4,
  "vscode": {
   "interpreter": {
    "hash": "8a894924a8054982a5c897c02f36d019274ceaf42c853aa8fb1f2ffcb169480b"
   }
  }
 },
 "nbformat": 4,
 "nbformat_minor": 2
}
