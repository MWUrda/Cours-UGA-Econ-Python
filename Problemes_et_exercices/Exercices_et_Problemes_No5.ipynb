{
 "cells": [
  {
   "cell_type": "markdown",
   "metadata": {},
   "source": [
    "# <center> INTRODUCTION À PYTHON POUR L'ÉCONOMIE APPLIQUÉE</center>\n",
    "## <center> PROBLÈMES ET EXERCICES : No 5</center>\n",
    "#### <center>Michal Urdanivia (UGA)</center>\n",
    "#### <center> michal.wong-urdanivia@univ-grenoble-alpes.fr </center>"
   ]
  },
  {
   "cell_type": "markdown",
   "metadata": {},
   "source": [
    "### <center> NUMPY ET CALCUL DE L'ESTIMATEUR DES MCO </center>\n",
    "On considère le calcul de l'estimateur des MCO d'un modèle économétrique/statistique pour la relation entre une variable $ Y $ et un vecteur(colonne) $ X\\in \\mathbb{R}^p $. $Y$ est généralement appelée variable dépendante ou régressande, et $X$ vecteur de covariable ou régresseurs.\n",
    "\n",
    "Nous avons $ n $ observations sur $ Y $ et $ X $, $\\{(X_i, Y_i)\\}_{i=1}^n$, et on suppose que la relation entre $Y_i$ et $X_i$ vérifie:\n",
    "\n",
    "$$\n",
    "\\begin{align*}\n",
    "Y_i &= X_i^\\top\\beta = X_{1, i}\\beta_1 + X_{2, i}\\beta_2+\\ldots X_{p, i}\\beta_p + \\varepsilon_i, \\quad i = 1, 2, \\ldots, n.\n",
    "\\end{align*}\n",
    "$$\n",
    "où $ $ \\varepsilon_i $ est l'erreur du modèle et représente tout ce qui n''est pas observé et explique les variations de $Y_i$ pour $ X_i $ donné.\n",
    "\n",
    "Nous voulons calculer l'estimateur des MCO(c.à.d., des moindres carrés ordinaires) de $ \\beta:=(\\beta_1, \\beta_2, \\ldots, \\beta_p) $, à savoir,\n",
    "\n",
    "$$\n",
    "\\begin{align*}\n",
    "\\hat{\\beta}^{MCO}&= (\\mathbf{X}^\\top\\mathbf{X})^{-1}\\mathbf{X}^\\top\\mathbf{Y},\n",
    "\\end{align*}\n",
    "$$\n",
    "\n",
    "où $ \\mathbf{X} $ est la matrice $ n\\times p $ dite des régresseurs ayant pour ligne $i$ le vecteur ligne $ X_i^\\top $, et $ \\mathbf{Y} $ est le vecteur $n\\times 1$ dont l'élément $i$ est $Y_i$.\n"
   ]
  },
  {
   "cell_type": "markdown",
   "metadata": {},
   "source": [
    "Nous allons d'abord générer des données afin de tester la fonction qui calculera l'estimateur des MCO. Pour cela on considère le cas de deux régresseurs(donc $p = 2$) et où le premier est constant, soit:\n",
    "\n",
    "$$\n",
    "\\begin{align*}\n",
    "Y_i &= \\beta_1 + \\beta_2 X_{2, i} + \\varepsilon_i, \\quad i = 1, 2, \\ldots, n.\n",
    "\\end{align*}\n",
    "$$\n",
    "\n",
    "Donc ici: \n",
    "\n",
    "- on cherche à calculer l'estimateur des MCO du vecteur $\\beta:=(\\beta_1, \\beta_2)^\\top$ qu'on note $\\hat{\\beta}^{MCO}:=(\\hat{\\beta}_1^{MCO}, \\hat{\\beta}_2^{MCO})$,\n",
    "\n",
    "- la matrice $ \\mathbf{X} $ est une matrice $ n \\times 2 $ de la forme:\n",
    "\n",
    "$$\n",
    "\\begin{align*}\n",
    "\\mathbf{X} & = \n",
    "\\begin{pmatrix}\n",
    "1 & X_{2, 1}\\\\\n",
    "1 & X_{2, 2}\\\\\n",
    "\\vdots&\\vdots\\\\\n",
    "1 & X_{2, n}\\\\\n",
    "\\end{pmatrix}\t\n",
    "\\end{align*}\n",
    "$$"
   ]
  },
  {
   "cell_type": "markdown",
   "metadata": {},
   "source": [
    "**Question 1:**\n",
    "\n",
    "Pour $ n=100 $, $ \\beta_1 = 0.25 $, $ \\beta_2 = 0.2 $:\n",
    "- Générez un vecteur de taille $n$ de nombre aléatoires selon une loi $\\mathcal{N}(0, 1)$, ce sera $ X_{2, i} $.\n",
    "- Générez un vecteur de taille $n$ ne contenant que le nombre 1, ce sera $ X_{1, i} $, le régresseur constant.\n",
    "- à partir de ces deux vecteurs créez la matrice $ \\mathbf{X} $, vous pouvez utiliser pour cela la fonction [`hstack()`](https://numpy.org/doc/stable/reference/generated/numpy.hstack.html) ou [`concanate`](https://numpy.org/doc/stable/reference/generated/numpy.concatenate.html#numpy.concatenate) de numpy(c.f., notebook du cours 2, indiquées dans la liste des \"choses à connaître\")\n",
    "- Générez un vecteur de taille $n$ de nombre aléatoires selon une loi $\\mathcal{N}(0, 1)$, ce sera \n",
    "$ \\varepsilon_{i} $.\n",
    "- Générez le vecteur $\\mathbf{Y}$ selon: $ Y_i = \\beta_1  + \\beta_2 X_{2i} + \\varepsilon_i $."
   ]
  },
  {
   "cell_type": "markdown",
   "metadata": {},
   "source": [
    "**Réponse:**"
   ]
  },
  {
   "cell_type": "code",
   "execution_count": 14,
   "metadata": {},
   "outputs": [],
   "source": [
    "import numpy as np"
   ]
  },
  {
   "cell_type": "code",
   "execution_count": 16,
   "metadata": {},
   "outputs": [
    {
     "name": "stdout",
     "output_type": "stream",
     "text": [
      "(100, 1) (100, 1) (100, 2) (100, 1)\n"
     ]
    }
   ],
   "source": [
    "# Votre code/réponse ici(à compléter)\n",
    "n = 100\n",
    "beta1 = 0.25\n",
    "beta2 = 0.2\n",
    "X1 = np.ones()\n",
    "X2 = np.random.randn(, 1)\n",
    "X = np.hstack((, ))\n",
    "varepsilon = np.random.randn(n, 1)\n",
    "Y = beta1*X1 + beta2*X2 + varepsilon\n",
    "print(X1.shape, X2.shape, X.shape, Y.shape)"
   ]
  },
  {
   "cell_type": "markdown",
   "metadata": {},
   "source": [
    "**Question 2:**\n",
    "\n",
    "Créez une fonction qui calcule l'estimateur des MCO de $\\beta$(pour $p$ quelconque). Pour calculer l'inverse d'une matrice vous pouvez utiliser [`linalg.inv()`](https://numpy.org/doc/stable/reference/generated/numpy.linalg.inv.html)(fonction non évoquée dans le notebook présentant Numpy) de Numpy, et le transposé d'une matrice $ A $ est donné par $ A.T $(voir \"cheatcheet\" numpy dans le dépôt git du cours-dossier Autres-) ou bien [ici](https://assets.datacamp.com/blog_assets/Numpy_Python_Cheat_Sheet.pdf). Voici un exemple:"
   ]
  },
  {
   "cell_type": "code",
   "execution_count": null,
   "metadata": {},
   "outputs": [],
   "source": [
    "# '#' enlevez le # si numpy n'a pas été importé avant(par exemple parce que vous n'avez pas traité les question\n",
    "# précédentes)\n",
    "# import numpy as np \n",
    "B = np.array([[2,0],[1,2]]) # une matrice 2x2\n",
    "print(B) \n",
    "print(B.T) # affichage de sa transposé\n",
    "print(np.linalg.inv(B)) # affichage de son inverse"
   ]
  },
  {
   "cell_type": "markdown",
   "metadata": {},
   "source": [
    "Dans le cas qui nous intéresse vous devez appliquer la transposé à la matrice $\\mathbf{X}$ et l'inverse à \n",
    "$ \\mathbf{X}^\\top \\mathbf{X} $."
   ]
  },
  {
   "cell_type": "markdown",
   "metadata": {},
   "source": [
    "**Réponse:**"
   ]
  },
  {
   "cell_type": "code",
   "execution_count": 17,
   "metadata": {},
   "outputs": [],
   "source": [
    "# Votre code/réponse(à compléter)\n",
    "def ols(X, Y)\n",
    "    betahat = np.linalg.inv()\n",
    "    return "
   ]
  },
  {
   "cell_type": "markdown",
   "metadata": {},
   "source": [
    "**Question 3:**\n",
    "\n",
    "Testez votre fonction sur les données de la question 12(affichez vos résultats)"
   ]
  },
  {
   "cell_type": "markdown",
   "metadata": {},
   "source": [
    "**Réponse:**"
   ]
  },
  {
   "cell_type": "code",
   "execution_count": 18,
   "metadata": {},
   "outputs": [
    {
     "data": {
      "text/plain": [
       "array([[ 0.20762138],\n",
       "       [-0.02827498]])"
      ]
     },
     "execution_count": 18,
     "metadata": {},
     "output_type": "execute_result"
    }
   ],
   "source": [
    "# Votre code/réponse(à compléter)\n",
    "\n",
    "ols"
   ]
  },
  {
   "cell_type": "markdown",
   "metadata": {},
   "source": [
    "**Question 3:** application sur données réelles."
   ]
  },
  {
   "cell_type": "markdown",
   "metadata": {},
   "source": [
    "**Données**: \n",
    "- Nous allons utiliser des données qui sont disponible sur le site que [Bruce Hansen](https://www.\n",
    "ssc.wisc.edu/~bhansen/) dédie à son cours d'\n",
    "[économétrie](https://www.ssc.wisc.edu/~bhansen/\n",
    "econometrics/). Plus précisément, nous allons utiliser des données extraites du **Current \n",
    "Population Survey**(CPS) de 2009. Une description du fichier est \n",
    "[ici](https://www.ssc.wisc.edu/\\~bhansen/econometrics/cps09mar_description.pdf)\n",
    "- Pour travailler(e.g., lire/charger les données, sélectionner des variables, etc) sur les données nous allons utiliser la bibliothèque [pandas](https://fr.wikipedia.org/wiki/Pandas) dont vous n'avez pas besoin de lire toute la documentation pour l'utiliser(quelqu'un a t-il déjà lu les quelques 3000 pages correspondantes à la doc en pdf? ou au moins 50 %?). \n",
    "- Cette bibliothèque et le travail sur données sera étudié plus en détail par la suite du cours, et pour le moment vous pouvez vous contenter d'executer le code fourni.\n"
   ]
  },
  {
   "cell_type": "code",
   "execution_count": 1,
   "metadata": {},
   "outputs": [],
   "source": [
    "import pandas as pd   "
   ]
  },
  {
   "cell_type": "code",
   "execution_count": 3,
   "metadata": {},
   "outputs": [
    {
     "name": "stdout",
     "output_type": "stream",
     "text": [
      "<class 'pandas.core.frame.DataFrame'>\n",
      "Int64Index: 50742 entries, 0 to 50741\n",
      "Data columns (total 12 columns):\n",
      " #   Column     Non-Null Count  Dtype  \n",
      "---  ------     --------------  -----  \n",
      " 0   age        50742 non-null  float64\n",
      " 1   female     50742 non-null  float64\n",
      " 2   hisp       50742 non-null  float64\n",
      " 3   education  50742 non-null  float64\n",
      " 4   earnings   50742 non-null  float64\n",
      " 5   hours      50742 non-null  float64\n",
      " 6   week       50742 non-null  float64\n",
      " 7   union      50742 non-null  float64\n",
      " 8   uncov      50742 non-null  float64\n",
      " 9   region     50742 non-null  float64\n",
      " 10  race       50742 non-null  float64\n",
      " 11  marital    50742 non-null  float64\n",
      "dtypes: float64(12)\n",
      "memory usage: 5.0 MB\n"
     ]
    }
   ],
   "source": [
    "# Lecture des données.\n",
    "# On utilise la fonction \"read_stata\" dans pandas pour lire le fichier au format stata(\".dta\") disponible \n",
    "# sur le site de Bruce Hansen. Vous pouvez aussi le télécharger sur votre poste et ensuite le lire.\n",
    "# Nous l'appellons cps_df(pour cps data frame)\n",
    "\n",
    "cps_df = pd.read_stata(\"https://www.ssc.wisc.edu/~bhansen/econometrics/cps09mar.dta\")\n",
    "cps_df.info()   # Affichage d'informations.\n"
   ]
  },
  {
   "cell_type": "code",
   "execution_count": 4,
   "metadata": {},
   "outputs": [
    {
     "name": "stdout",
     "output_type": "stream",
     "text": [
      "    age  female  hisp  education  earnings  hours  week  union  uncov  region  \\\n",
      "0  52.0     0.0   0.0       12.0  146000.0   45.0  52.0    0.0    0.0     1.0   \n",
      "1  38.0     0.0   0.0       18.0   50000.0   45.0  52.0    0.0    0.0     1.0   \n",
      "2  38.0     0.0   0.0       14.0   32000.0   40.0  51.0    0.0    0.0     1.0   \n",
      "3  41.0     1.0   0.0       13.0   47000.0   40.0  52.0    0.0    0.0     1.0   \n",
      "4  42.0     0.0   0.0       13.0  161525.0   50.0  52.0    1.0    0.0     1.0   \n",
      "\n",
      "   race  marital  \n",
      "0   1.0      1.0  \n",
      "1   1.0      1.0  \n",
      "2   1.0      1.0  \n",
      "3   1.0      1.0  \n",
      "4   1.0      1.0  \n"
     ]
    },
    {
     "data": {
      "text/html": [
       "<div>\n",
       "<style scoped>\n",
       "    .dataframe tbody tr th:only-of-type {\n",
       "        vertical-align: middle;\n",
       "    }\n",
       "\n",
       "    .dataframe tbody tr th {\n",
       "        vertical-align: top;\n",
       "    }\n",
       "\n",
       "    .dataframe thead th {\n",
       "        text-align: right;\n",
       "    }\n",
       "</style>\n",
       "<table border=\"1\" class=\"dataframe\">\n",
       "  <thead>\n",
       "    <tr style=\"text-align: right;\">\n",
       "      <th></th>\n",
       "      <th>age</th>\n",
       "      <th>female</th>\n",
       "      <th>hisp</th>\n",
       "      <th>education</th>\n",
       "      <th>earnings</th>\n",
       "      <th>hours</th>\n",
       "      <th>week</th>\n",
       "      <th>union</th>\n",
       "      <th>uncov</th>\n",
       "      <th>region</th>\n",
       "      <th>race</th>\n",
       "      <th>marital</th>\n",
       "    </tr>\n",
       "  </thead>\n",
       "  <tbody>\n",
       "    <tr>\n",
       "      <th>count</th>\n",
       "      <td>50742.000000</td>\n",
       "      <td>50742.000000</td>\n",
       "      <td>50742.000000</td>\n",
       "      <td>50742.000000</td>\n",
       "      <td>50742.000000</td>\n",
       "      <td>50742.000000</td>\n",
       "      <td>50742.000000</td>\n",
       "      <td>50742.000000</td>\n",
       "      <td>50742.000000</td>\n",
       "      <td>50742.000000</td>\n",
       "      <td>50742.000000</td>\n",
       "      <td>50742.000000</td>\n",
       "    </tr>\n",
       "    <tr>\n",
       "      <th>mean</th>\n",
       "      <td>42.131725</td>\n",
       "      <td>0.425722</td>\n",
       "      <td>0.148792</td>\n",
       "      <td>13.924619</td>\n",
       "      <td>55091.530685</td>\n",
       "      <td>43.827244</td>\n",
       "      <td>51.879272</td>\n",
       "      <td>0.021521</td>\n",
       "      <td>0.002207</td>\n",
       "      <td>2.635627</td>\n",
       "      <td>1.433507</td>\n",
       "      <td>2.763174</td>\n",
       "    </tr>\n",
       "    <tr>\n",
       "      <th>std</th>\n",
       "      <td>11.487620</td>\n",
       "      <td>0.494457</td>\n",
       "      <td>0.355887</td>\n",
       "      <td>2.744447</td>\n",
       "      <td>52222.071166</td>\n",
       "      <td>7.704467</td>\n",
       "      <td>0.598646</td>\n",
       "      <td>0.145113</td>\n",
       "      <td>0.046930</td>\n",
       "      <td>1.060051</td>\n",
       "      <td>1.317430</td>\n",
       "      <td>2.503158</td>\n",
       "    </tr>\n",
       "    <tr>\n",
       "      <th>min</th>\n",
       "      <td>15.000000</td>\n",
       "      <td>0.000000</td>\n",
       "      <td>0.000000</td>\n",
       "      <td>0.000000</td>\n",
       "      <td>1.000000</td>\n",
       "      <td>36.000000</td>\n",
       "      <td>48.000000</td>\n",
       "      <td>0.000000</td>\n",
       "      <td>0.000000</td>\n",
       "      <td>1.000000</td>\n",
       "      <td>1.000000</td>\n",
       "      <td>1.000000</td>\n",
       "    </tr>\n",
       "    <tr>\n",
       "      <th>25%</th>\n",
       "      <td>33.000000</td>\n",
       "      <td>0.000000</td>\n",
       "      <td>0.000000</td>\n",
       "      <td>12.000000</td>\n",
       "      <td>28000.000000</td>\n",
       "      <td>40.000000</td>\n",
       "      <td>52.000000</td>\n",
       "      <td>0.000000</td>\n",
       "      <td>0.000000</td>\n",
       "      <td>2.000000</td>\n",
       "      <td>1.000000</td>\n",
       "      <td>1.000000</td>\n",
       "    </tr>\n",
       "    <tr>\n",
       "      <th>50%</th>\n",
       "      <td>42.000000</td>\n",
       "      <td>0.000000</td>\n",
       "      <td>0.000000</td>\n",
       "      <td>13.000000</td>\n",
       "      <td>42000.000000</td>\n",
       "      <td>40.000000</td>\n",
       "      <td>52.000000</td>\n",
       "      <td>0.000000</td>\n",
       "      <td>0.000000</td>\n",
       "      <td>3.000000</td>\n",
       "      <td>1.000000</td>\n",
       "      <td>1.000000</td>\n",
       "    </tr>\n",
       "    <tr>\n",
       "      <th>75%</th>\n",
       "      <td>51.000000</td>\n",
       "      <td>1.000000</td>\n",
       "      <td>0.000000</td>\n",
       "      <td>16.000000</td>\n",
       "      <td>65000.000000</td>\n",
       "      <td>45.000000</td>\n",
       "      <td>52.000000</td>\n",
       "      <td>0.000000</td>\n",
       "      <td>0.000000</td>\n",
       "      <td>4.000000</td>\n",
       "      <td>1.000000</td>\n",
       "      <td>5.000000</td>\n",
       "    </tr>\n",
       "    <tr>\n",
       "      <th>max</th>\n",
       "      <td>85.000000</td>\n",
       "      <td>1.000000</td>\n",
       "      <td>1.000000</td>\n",
       "      <td>20.000000</td>\n",
       "      <td>561087.000000</td>\n",
       "      <td>99.000000</td>\n",
       "      <td>52.000000</td>\n",
       "      <td>1.000000</td>\n",
       "      <td>1.000000</td>\n",
       "      <td>4.000000</td>\n",
       "      <td>21.000000</td>\n",
       "      <td>7.000000</td>\n",
       "    </tr>\n",
       "  </tbody>\n",
       "</table>\n",
       "</div>"
      ],
      "text/plain": [
       "                age        female          hisp     education       earnings  \\\n",
       "count  50742.000000  50742.000000  50742.000000  50742.000000   50742.000000   \n",
       "mean      42.131725      0.425722      0.148792     13.924619   55091.530685   \n",
       "std       11.487620      0.494457      0.355887      2.744447   52222.071166   \n",
       "min       15.000000      0.000000      0.000000      0.000000       1.000000   \n",
       "25%       33.000000      0.000000      0.000000     12.000000   28000.000000   \n",
       "50%       42.000000      0.000000      0.000000     13.000000   42000.000000   \n",
       "75%       51.000000      1.000000      0.000000     16.000000   65000.000000   \n",
       "max       85.000000      1.000000      1.000000     20.000000  561087.000000   \n",
       "\n",
       "              hours          week         union         uncov        region  \\\n",
       "count  50742.000000  50742.000000  50742.000000  50742.000000  50742.000000   \n",
       "mean      43.827244     51.879272      0.021521      0.002207      2.635627   \n",
       "std        7.704467      0.598646      0.145113      0.046930      1.060051   \n",
       "min       36.000000     48.000000      0.000000      0.000000      1.000000   \n",
       "25%       40.000000     52.000000      0.000000      0.000000      2.000000   \n",
       "50%       40.000000     52.000000      0.000000      0.000000      3.000000   \n",
       "75%       45.000000     52.000000      0.000000      0.000000      4.000000   \n",
       "max       99.000000     52.000000      1.000000      1.000000      4.000000   \n",
       "\n",
       "               race       marital  \n",
       "count  50742.000000  50742.000000  \n",
       "mean       1.433507      2.763174  \n",
       "std        1.317430      2.503158  \n",
       "min        1.000000      1.000000  \n",
       "25%        1.000000      1.000000  \n",
       "50%        1.000000      1.000000  \n",
       "75%        1.000000      5.000000  \n",
       "max       21.000000      7.000000  "
      ]
     },
     "execution_count": 4,
     "metadata": {},
     "output_type": "execute_result"
    }
   ],
   "source": [
    "# Affichage des premières lignes(5 par défaut) et de statistiques descriptives de base(moyennes, écart-types, etc)\n",
    "print(cps_df.head())\n",
    "cps_df.describe()"
   ]
  },
  {
   "cell_type": "markdown",
   "metadata": {},
   "source": [
    "- Nous allons considérer un modèle où la variable dépendante est un log du salaire, et les \n",
    "régresseurs incluent une constante, le niveau d'études, une mesure de l'expérience potentielle \n",
    "sur le marché du travail en années($ \\text{exper} $), son carré($ \\text{expersq} $), une \n",
    "indicatrice du sexe($ \\text{female} $), et une indicatrice d'être noir($ \\text{black} $).  Soit\n",
    "\n",
    "  - $ Y $: $ \\text{lwage} $(salaire horaire en log),\n",
    "  - $ X $: $ (1, \\text{education}, \\text{exper}, \\text{expersq}, \\text{female}, \\text{black})$.\n",
    "\n",
    "- Parmi ces variables nous devons construire $ \\text{lwage} $, $\\text{exper}$, $\\text{expersq}$\n",
    "et $\\text{black}$.\n",
    "\n",
    "- Donc la version de (1) qu'on considère est:\n",
    "\n",
    "$$ \n",
    "\\begin{align*}\n",
    "\\text{lwage} &= \\beta_1 + \\beta_2 \\text{education} + \\beta_3\\text{exper} + \\beta_4\\text{exper}\n",
    "^2  + \\beta_5\\text{female} + \\beta_6\\text{black}\n",
    "+ U\n",
    "\\end{align*}\n",
    "$$\n",
    "\n",
    "- Nous allons utiliser un échantillon qui correspond aux personnes qui se définissent comme \n",
    "blanches, ou noires(remarque: la collecte de données américaines permet de recueillir des \n",
    "informations quant à l'appartenance à des groupes ethniques préalablement définis)."
   ]
  },
  {
   "cell_type": "code",
   "execution_count": 6,
   "metadata": {},
   "outputs": [],
   "source": [
    "import numpy as np"
   ]
  },
  {
   "cell_type": "code",
   "execution_count": 7,
   "metadata": {},
   "outputs": [
    {
     "name": "stdout",
     "output_type": "stream",
     "text": [
      "(46411, 16)\n"
     ]
    },
    {
     "data": {
      "text/html": [
       "<div>\n",
       "<style scoped>\n",
       "    .dataframe tbody tr th:only-of-type {\n",
       "        vertical-align: middle;\n",
       "    }\n",
       "\n",
       "    .dataframe tbody tr th {\n",
       "        vertical-align: top;\n",
       "    }\n",
       "\n",
       "    .dataframe thead th {\n",
       "        text-align: right;\n",
       "    }\n",
       "</style>\n",
       "<table border=\"1\" class=\"dataframe\">\n",
       "  <thead>\n",
       "    <tr style=\"text-align: right;\">\n",
       "      <th></th>\n",
       "      <th>age</th>\n",
       "      <th>female</th>\n",
       "      <th>hisp</th>\n",
       "      <th>education</th>\n",
       "      <th>earnings</th>\n",
       "      <th>hours</th>\n",
       "      <th>week</th>\n",
       "      <th>union</th>\n",
       "      <th>uncov</th>\n",
       "      <th>region</th>\n",
       "      <th>marital</th>\n",
       "      <th>exper</th>\n",
       "      <th>expersq</th>\n",
       "      <th>lwage</th>\n",
       "      <th>white</th>\n",
       "      <th>black</th>\n",
       "    </tr>\n",
       "  </thead>\n",
       "  <tbody>\n",
       "    <tr>\n",
       "      <th>count</th>\n",
       "      <td>46411.000000</td>\n",
       "      <td>46411.000000</td>\n",
       "      <td>46411.000000</td>\n",
       "      <td>46411.000000</td>\n",
       "      <td>46411.000000</td>\n",
       "      <td>46411.000000</td>\n",
       "      <td>46411.000000</td>\n",
       "      <td>46411.000000</td>\n",
       "      <td>46411.000000</td>\n",
       "      <td>46411.000000</td>\n",
       "      <td>46411.000000</td>\n",
       "      <td>46411.000000</td>\n",
       "      <td>46411.000000</td>\n",
       "      <td>46411.000000</td>\n",
       "      <td>46411.000000</td>\n",
       "      <td>46411.000000</td>\n",
       "    </tr>\n",
       "    <tr>\n",
       "      <th>mean</th>\n",
       "      <td>42.213915</td>\n",
       "      <td>0.423477</td>\n",
       "      <td>0.154468</td>\n",
       "      <td>13.882269</td>\n",
       "      <td>55082.729181</td>\n",
       "      <td>43.879964</td>\n",
       "      <td>51.879554</td>\n",
       "      <td>0.021934</td>\n",
       "      <td>0.002262</td>\n",
       "      <td>2.597789</td>\n",
       "      <td>2.754584</td>\n",
       "      <td>22.331646</td>\n",
       "      <td>6.337939</td>\n",
       "      <td>2.945706</td>\n",
       "      <td>0.889358</td>\n",
       "      <td>0.110642</td>\n",
       "    </tr>\n",
       "    <tr>\n",
       "      <th>std</th>\n",
       "      <td>11.468616</td>\n",
       "      <td>0.494115</td>\n",
       "      <td>0.361400</td>\n",
       "      <td>2.713667</td>\n",
       "      <td>52324.915589</td>\n",
       "      <td>7.701222</td>\n",
       "      <td>0.596815</td>\n",
       "      <td>0.146471</td>\n",
       "      <td>0.047511</td>\n",
       "      <td>1.047513</td>\n",
       "      <td>2.497897</td>\n",
       "      <td>11.623014</td>\n",
       "      <td>5.635276</td>\n",
       "      <td>0.673137</td>\n",
       "      <td>0.313692</td>\n",
       "      <td>0.313692</td>\n",
       "    </tr>\n",
       "    <tr>\n",
       "      <th>min</th>\n",
       "      <td>15.000000</td>\n",
       "      <td>0.000000</td>\n",
       "      <td>0.000000</td>\n",
       "      <td>0.000000</td>\n",
       "      <td>1.000000</td>\n",
       "      <td>36.000000</td>\n",
       "      <td>48.000000</td>\n",
       "      <td>0.000000</td>\n",
       "      <td>0.000000</td>\n",
       "      <td>1.000000</td>\n",
       "      <td>1.000000</td>\n",
       "      <td>-4.000000</td>\n",
       "      <td>0.000000</td>\n",
       "      <td>-7.863267</td>\n",
       "      <td>0.000000</td>\n",
       "      <td>0.000000</td>\n",
       "    </tr>\n",
       "    <tr>\n",
       "      <th>25%</th>\n",
       "      <td>33.000000</td>\n",
       "      <td>0.000000</td>\n",
       "      <td>0.000000</td>\n",
       "      <td>12.000000</td>\n",
       "      <td>28000.000000</td>\n",
       "      <td>40.000000</td>\n",
       "      <td>52.000000</td>\n",
       "      <td>0.000000</td>\n",
       "      <td>0.000000</td>\n",
       "      <td>2.000000</td>\n",
       "      <td>1.000000</td>\n",
       "      <td>13.000000</td>\n",
       "      <td>1.690000</td>\n",
       "      <td>2.560096</td>\n",
       "      <td>1.000000</td>\n",
       "      <td>0.000000</td>\n",
       "    </tr>\n",
       "    <tr>\n",
       "      <th>50%</th>\n",
       "      <td>42.000000</td>\n",
       "      <td>0.000000</td>\n",
       "      <td>0.000000</td>\n",
       "      <td>13.000000</td>\n",
       "      <td>42000.000000</td>\n",
       "      <td>40.000000</td>\n",
       "      <td>52.000000</td>\n",
       "      <td>0.000000</td>\n",
       "      <td>0.000000</td>\n",
       "      <td>3.000000</td>\n",
       "      <td>1.000000</td>\n",
       "      <td>22.000000</td>\n",
       "      <td>4.840000</td>\n",
       "      <td>2.956512</td>\n",
       "      <td>1.000000</td>\n",
       "      <td>0.000000</td>\n",
       "    </tr>\n",
       "    <tr>\n",
       "      <th>75%</th>\n",
       "      <td>51.000000</td>\n",
       "      <td>1.000000</td>\n",
       "      <td>0.000000</td>\n",
       "      <td>16.000000</td>\n",
       "      <td>65000.000000</td>\n",
       "      <td>45.000000</td>\n",
       "      <td>52.000000</td>\n",
       "      <td>0.000000</td>\n",
       "      <td>0.000000</td>\n",
       "      <td>3.000000</td>\n",
       "      <td>5.000000</td>\n",
       "      <td>31.000000</td>\n",
       "      <td>9.610000</td>\n",
       "      <td>3.354542</td>\n",
       "      <td>1.000000</td>\n",
       "      <td>0.000000</td>\n",
       "    </tr>\n",
       "    <tr>\n",
       "      <th>max</th>\n",
       "      <td>85.000000</td>\n",
       "      <td>1.000000</td>\n",
       "      <td>1.000000</td>\n",
       "      <td>20.000000</td>\n",
       "      <td>561087.000000</td>\n",
       "      <td>99.000000</td>\n",
       "      <td>52.000000</td>\n",
       "      <td>1.000000</td>\n",
       "      <td>1.000000</td>\n",
       "      <td>4.000000</td>\n",
       "      <td>7.000000</td>\n",
       "      <td>75.000000</td>\n",
       "      <td>56.250000</td>\n",
       "      <td>5.583706</td>\n",
       "      <td>1.000000</td>\n",
       "      <td>1.000000</td>\n",
       "    </tr>\n",
       "  </tbody>\n",
       "</table>\n",
       "</div>"
      ],
      "text/plain": [
       "                age        female          hisp     education       earnings  \\\n",
       "count  46411.000000  46411.000000  46411.000000  46411.000000   46411.000000   \n",
       "mean      42.213915      0.423477      0.154468     13.882269   55082.729181   \n",
       "std       11.468616      0.494115      0.361400      2.713667   52324.915589   \n",
       "min       15.000000      0.000000      0.000000      0.000000       1.000000   \n",
       "25%       33.000000      0.000000      0.000000     12.000000   28000.000000   \n",
       "50%       42.000000      0.000000      0.000000     13.000000   42000.000000   \n",
       "75%       51.000000      1.000000      0.000000     16.000000   65000.000000   \n",
       "max       85.000000      1.000000      1.000000     20.000000  561087.000000   \n",
       "\n",
       "              hours          week         union         uncov        region  \\\n",
       "count  46411.000000  46411.000000  46411.000000  46411.000000  46411.000000   \n",
       "mean      43.879964     51.879554      0.021934      0.002262      2.597789   \n",
       "std        7.701222      0.596815      0.146471      0.047511      1.047513   \n",
       "min       36.000000     48.000000      0.000000      0.000000      1.000000   \n",
       "25%       40.000000     52.000000      0.000000      0.000000      2.000000   \n",
       "50%       40.000000     52.000000      0.000000      0.000000      3.000000   \n",
       "75%       45.000000     52.000000      0.000000      0.000000      3.000000   \n",
       "max       99.000000     52.000000      1.000000      1.000000      4.000000   \n",
       "\n",
       "            marital         exper       expersq         lwage         white  \\\n",
       "count  46411.000000  46411.000000  46411.000000  46411.000000  46411.000000   \n",
       "mean       2.754584     22.331646      6.337939      2.945706      0.889358   \n",
       "std        2.497897     11.623014      5.635276      0.673137      0.313692   \n",
       "min        1.000000     -4.000000      0.000000     -7.863267      0.000000   \n",
       "25%        1.000000     13.000000      1.690000      2.560096      1.000000   \n",
       "50%        1.000000     22.000000      4.840000      2.956512      1.000000   \n",
       "75%        5.000000     31.000000      9.610000      3.354542      1.000000   \n",
       "max        7.000000     75.000000     56.250000      5.583706      1.000000   \n",
       "\n",
       "              black  \n",
       "count  46411.000000  \n",
       "mean       0.110642  \n",
       "std        0.313692  \n",
       "min        0.000000  \n",
       "25%        0.000000  \n",
       "50%        0.000000  \n",
       "75%        0.000000  \n",
       "max        1.000000  "
      ]
     },
     "execution_count": 7,
     "metadata": {},
     "output_type": "execute_result"
    }
   ],
   "source": [
    "# Échantillon\n",
    "\n",
    "cps_df2 = cps_df[(cps_df.race == 1.0) | (cps_df.race == 2.0)]\n",
    "\n",
    "# Variables\n",
    "\n",
    "cps_df2 = cps_df2.assign(exper = cps_df2.age - cps_df2.education - 6) # Expérience\n",
    "cps_df2 = cps_df2.assign(expersq = cps_df2.exper**2/100) # Expérience au carré\n",
    "cps_df2 = cps_df2.assign(lwage = np.log(cps_df2.earnings / ( cps_df2.hours * cps_df2.week))) # revenu horaire\n",
    "cps_df2 = pd.get_dummies(data = cps_df2, columns= ['race']) # indicatrice d'appartenance ethnique\n",
    "cps_df2 = cps_df2.rename(columns={\"race_1.0\": \"white\", \"race_2.0\": \"black\"}) # on les renomme \n",
    "print(cps_df2.shape)\n",
    "cps_df2.describe()\n",
    "#cps_df2[['exper', 'age', 'education', 'expersq', 'lwage', 'earnings', 'week', 'hours']].head()\n"
   ]
  },
  {
   "cell_type": "markdown",
   "metadata": {},
   "source": [
    "Nous allons travailler sur des arrays numpy qui seront obtenus par conversion des variables dans le dataframe pandas."
   ]
  },
  {
   "cell_type": "code",
   "execution_count": 8,
   "metadata": {},
   "outputs": [
    {
     "name": "stdout",
     "output_type": "stream",
     "text": [
      "<class 'pandas.core.series.Series'> <class 'pandas.core.frame.DataFrame'>\n",
      "<class 'numpy.ndarray'> (46411, 1)\n",
      "<class 'numpy.ndarray'> (46411, 6)\n"
     ]
    }
   ],
   "source": [
    "# Variables(dépendante et régresseurs)\n",
    "\n",
    "dep_var = cps_df2['lwage']\n",
    "reg_var = cps_df2[['education', 'female', 'black', 'exper', 'expersq']]\n",
    "\n",
    "# Ce ne sont pas array mais des objets pour pandas leur type est\n",
    "\n",
    "print(type(dep_var), type(reg_var))\n",
    "\n",
    "# Conversion en arrays pour numpy(on crée de nouveaux objets Yn, Xn, afin de ne pas écraser ceux de départ\n",
    "# que nous utiliserons par la suite.\n",
    "\n",
    "Y = dep_var.values[:, np.newaxis]\n",
    "X = reg_var.values\n",
    "n = len(Y)\n",
    "# On estime un modèle avec terme constant qu'on doit joindre\n",
    "X = np.concatenate((np.ones((n,1)), X), axis=1) \n",
    "print(type(Y), Y.shape)\n",
    "print(type(X), X.shape)\n"
   ]
  },
  {
   "cell_type": "code",
   "execution_count": 10,
   "metadata": {},
   "outputs": [],
   "source": [
    "# Testez de votre fonction sur ces données\n",
    "def ols(X, Y):\n",
    "    betahat = np.linalg.inv(X.T@X)@(X.T@Y)\n",
    "    return betahat"
   ]
  },
  {
   "cell_type": "code",
   "execution_count": 11,
   "metadata": {},
   "outputs": [
    {
     "data": {
      "text/plain": [
       "array([[ 1.0207843 ],\n",
       "       [ 0.11485911],\n",
       "       [-0.26294147],\n",
       "       [-0.11038367],\n",
       "       [ 0.03688886],\n",
       "       [-0.05834852]])"
      ]
     },
     "execution_count": 11,
     "metadata": {},
     "output_type": "execute_result"
    }
   ],
   "source": [
    "ols(X, Y)"
   ]
  },
  {
   "cell_type": "markdown",
   "metadata": {},
   "source": [
    "#### Calcul avec modules existants\n",
    "\n",
    "En général pour une tâche donnée, il est recommandé d'utiliser des modules/bibliothèques/\n",
    "fonctions déjà existantes plutôt que de chercher à les reprogrammer de zéro(bien que cet \n",
    "exercice soit très instructif) car ces fonctions on souvent été déjà largement testées, et\n",
    "surtout cela permet \n",
    "d'envisage des développements/améliorations sur des bases établies.\n",
    "\n",
    "Par exemple, pour calculer un estimateur des MCO il existe énormément de modules disponibl\n",
    "largement employés par la communauté. Nous allons en considérer deux associés à deux \n",
    "bibliothèques parmi les plus populaires:\n",
    "\n",
    "- [statsmodels](https://www.statsmodels.org/stable/index.html): orienté statistique au sen\n",
    "général.\n",
    "\n",
    "- [scikit-learn](https://scikit-learn.org/stable/): davantage apprentissage.\n",
    "\n",
    "**Remarque**: ces modules seront vus dans le cours à venir sur le travail avec données, et pour le moment vous pouvez vous contenter d'executer ce code."
   ]
  },
  {
   "cell_type": "code",
   "execution_count": 19,
   "metadata": {},
   "outputs": [],
   "source": [
    "import statsmodels.api as sm\n",
    "from sklearn import linear_model"
   ]
  },
  {
   "cell_type": "code",
   "execution_count": 20,
   "metadata": {},
   "outputs": [
    {
     "name": "stdout",
     "output_type": "stream",
     "text": [
      "                            OLS Regression Results                            \n",
      "==============================================================================\n",
      "Dep. Variable:                  lwage   R-squared:                       0.280\n",
      "Model:                            OLS   Adj. R-squared:                  0.280\n",
      "Method:                 Least Squares   F-statistic:                     3602.\n",
      "Date:                Thu, 10 Nov 2022   Prob (F-statistic):               0.00\n",
      "Time:                        11:40:27   Log-Likelihood:                -39873.\n",
      "No. Observations:               46411   AIC:                         7.976e+04\n",
      "Df Residuals:                   46405   BIC:                         7.981e+04\n",
      "Df Model:                           5                                         \n",
      "Covariance Type:            nonrobust                                         \n",
      "==============================================================================\n",
      "                 coef    std err          t      P>|t|      [0.025      0.975]\n",
      "------------------------------------------------------------------------------\n",
      "const          1.0208      0.017     60.495      0.000       0.988       1.054\n",
      "education      0.1149      0.001    115.101      0.000       0.113       0.117\n",
      "female        -0.2629      0.005    -48.771      0.000      -0.274      -0.252\n",
      "black         -0.1104      0.008    -13.009      0.000      -0.127      -0.094\n",
      "exper          0.0369      0.001     44.842      0.000       0.035       0.039\n",
      "expersq       -0.0583      0.002    -34.281      0.000      -0.062      -0.055\n",
      "==============================================================================\n",
      "Omnibus:                    20304.171   Durbin-Watson:                   1.738\n",
      "Prob(Omnibus):                  0.000   Jarque-Bera (JB):           610974.968\n",
      "Skew:                          -1.498   Prob(JB):                         0.00\n",
      "Kurtosis:                      20.521   Cond. No.                         187.\n",
      "==============================================================================\n",
      "\n",
      "Notes:\n",
      "[1] Standard Errors assume that the covariance matrix of the errors is correctly specified.\n"
     ]
    }
   ],
   "source": [
    "model = sm.OLS(dep_var, sm.add_constant(reg_var))\n",
    "results = model.fit()\n",
    "print(results.summary())"
   ]
  },
  {
   "cell_type": "markdown",
   "metadata": {},
   "source": [
    "**Question** \n",
    "\n",
    "1. Programmez une fonction qui calcule l'estimateur de la matrice de variances-covariances de l'estimateur des MCO dans le cas hétéroscédastique et homoscédastique en utilisant le calcul numérique sur des array numpy, et calculez les écart-types estimés.\n",
    "Pour rappel:\n",
    "- Dans le cas homoscédastique cet estimateur est donné par:\n",
    "\n",
    "$$\n",
    "\\hat{\\sigma}^2(\\mathbf{X}^\\top\\mathbf{X})^{-1}\n",
    "$$\n",
    "où $\\hat{\\sigma}^2$ est un estimateur convergent de la variance des erreurs. \n",
    "\n",
    "2. Testez votre fonction sur les données artificielles, et celles de B. Hansen."
   ]
  }
 ],
 "metadata": {
  "interpreter": {
   "hash": "8a894924a8054982a5c897c02f36d019274ceaf42c853aa8fb1f2ffcb169480b"
  },
  "kernelspec": {
   "display_name": "Python 3.8.8 64-bit ('base': conda)",
   "language": "python",
   "name": "python3"
  },
  "language_info": {
   "codemirror_mode": {
    "name": "ipython",
    "version": 3
   },
   "file_extension": ".py",
   "mimetype": "text/x-python",
   "name": "python",
   "nbconvert_exporter": "python",
   "pygments_lexer": "ipython3",
   "version": "3.8.8"
  },
  "orig_nbformat": 4
 },
 "nbformat": 4,
 "nbformat_minor": 2
}
