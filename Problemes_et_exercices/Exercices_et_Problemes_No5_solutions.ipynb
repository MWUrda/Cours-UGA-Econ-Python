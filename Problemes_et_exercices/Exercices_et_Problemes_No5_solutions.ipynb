{
 "cells": [
  {
   "cell_type": "markdown",
   "metadata": {},
   "source": [
    "# <center> INTRODUCTION À PYTHON POUR L'ÉCONOMIE APPLIQUÉE</center>\n",
    "## <center> PROBLÈMES ET EXERCICES : No 5</center>\n",
    "#### <center>Michal Urdanivia (UGA)</center>\n",
    "#### <center> michal.wong-urdanivia@univ-grenoble-alpes.fr </center>"
   ]
  },
  {
   "cell_type": "markdown",
   "metadata": {},
   "source": [
    "### <center> NUMPY ET CALCUL DE L'ESTIMATEUR DES MCO </center>\n",
    "\n",
    "On considère le calcul de l'estimateur des MCO d'un modèle économétrique/statistique pour la relation entre une variable $ Y $ et un vecteur(colonne) $ X\\in \\mathbb{R}^p $. $Y$ est généralement appelée variable dépendante ou régressande, et $X$ vecteur de covariable ou régresseurs.\n",
    "\n",
    "Nous avons $ n $ observations sur $ Y $ et $ X $, $\\{(X_i, Y_i)\\}_{i=1}^n$, et on suppose que la relation entre $Y_i$ et $X_i$ vérifie:\n",
    "\n",
    "$$\n",
    "\\begin{align*}\n",
    "Y_i &= X_i^\\top\\beta = X_{1, i}\\beta_1 + X_{2, i}\\beta_2+\\ldots X_{p, i}\\beta_p + \\varepsilon_i, \\quad i = 1, 2, \\ldots, n.\n",
    "\\end{align*}\n",
    "$$\n",
    "où $ \\varepsilon_i $ est l'erreur du modèle et représente tout ce qui n''est pas observé et explique les variations de $Y_i$ pour $ X_i $ donné.\n",
    "\n",
    "Nous voulons calculer l'estimateur des MCO(c.à.d., des moindres carrés ordinaires) de $ \\beta:=(\\beta_1, \\beta_2, \\ldots, \\beta_p) $, à savoir,\n",
    "\n",
    "$$\n",
    "\\begin{align*}\n",
    "\\hat{\\beta}^{MCO}&= (\\mathbf{X}^\\top\\mathbf{X})^{-1}\\mathbf{X}^\\top\\mathbf{Y},\n",
    "\\end{align*}\n",
    "$$\n",
    "\n",
    "où $ \\mathbf{X} $ est la matrice $ n\\times p $ dite des régresseurs ayant pour ligne $i$ le vecteur ligne $ X_i^\\top $, et $ \\mathbf{Y} $ est le vecteur $n\\times 1$ dont l'élément $i$ est $Y_i$.\n"
   ]
  },
  {
   "cell_type": "markdown",
   "metadata": {},
   "source": [
    "Nous allons d'abord générer des données afin de tester la fonction qui calculera l'estimateur des MCO. Pour cela on considère le cas de deux régresseurs(donc $p = 2$) et où le premier est constant, soit:\n",
    "\n",
    "$$\n",
    "\\begin{align*}\n",
    "Y_i &= \\beta_1 + \\beta_2 X_{2, i} + \\varepsilon_i, \\quad i = 1, 2, \\ldots, n.\n",
    "\\end{align*}\n",
    "$$\n",
    "\n",
    "Donc ici: \n",
    "\n",
    "- on cherche à calculer l'estimateur des MCO du vecteur $\\beta:=(\\beta_1, \\beta_2)^\\top$ qu'on note $\\hat{\\beta}^{MCO}:=(\\hat{\\beta}_1^{MCO}, \\hat{\\beta}_2^{MCO})$,\n",
    "\n",
    "- la matrice $ \\mathbf{X} $ est une matrice $ n \\times 2 $ de la forme:\n",
    "\n",
    "$$\n",
    "\\begin{align*}\n",
    "\\mathbf{X} & = \n",
    "\\begin{pmatrix}\n",
    "1 & X_{2, 1}\\\\\n",
    "1 & X_{2, 2}\\\\\n",
    "\\vdots&\\vdots\\\\\n",
    "1 & X_{2, n}\\\\\n",
    "\\end{pmatrix}\t\n",
    "\\end{align*}\n",
    "$$"
   ]
  },
  {
   "cell_type": "markdown",
   "metadata": {},
   "source": [
    "**Question 1:**\n",
    "\n",
    "Pour $ n=100 $, $ \\beta_1 = 0.25 $, $ \\beta_2 = 0.2 $:\n",
    "- Générez un vecteur de taille $n$ de nombre aléatoires selon une loi $\\mathcal{N}(0, 1)$, ce sera $ X_{2, i} $.\n",
    "- Générez un vecteur de taille $n$ ne contenant que le nombre 1, ce sera $ X_{1, i} $, le régresseur constant.\n",
    "- à partir de ces deux vecteurs créez la matrice $ \\mathbf{X} $, vous pouvez utiliser pour cela la fonction [`hstack()`](https://numpy.org/doc/stable/reference/generated/numpy.hstack.html) ou [`concanate`](https://numpy.org/doc/stable/reference/generated/numpy.concatenate.html#numpy.concatenate) de numpy(c.f., notebook du cours 2, indiquées dans la liste des \"choses à connaître\")\n",
    "- Générez un vecteur de taille $n$ de nombre aléatoires selon une loi $\\mathcal{N}(0, 1)$, ce sera \n",
    "$ \\varepsilon_{i} $.\n",
    "- Générez le vecteur $\\mathbf{Y}$ selon: $ Y_i = \\beta_1  + \\beta_2 X_{2i} + \\varepsilon_i $."
   ]
  },
  {
   "cell_type": "markdown",
   "metadata": {},
   "source": [
    "**Réponse:**"
   ]
  },
  {
   "cell_type": "code",
   "execution_count": 1,
   "metadata": {},
   "outputs": [],
   "source": [
    "import numpy as np"
   ]
  },
  {
   "cell_type": "code",
   "execution_count": 2,
   "metadata": {},
   "outputs": [
    {
     "name": "stdout",
     "output_type": "stream",
     "text": [
      "(100, 1) (100, 1) (100, 2) (100, 1)\n"
     ]
    }
   ],
   "source": [
    "n = 100\n",
    "beta1 = 0.25\n",
    "beta2 = 0.2\n",
    "X1 = np.ones((n, 1))\n",
    "X2 = np.random.randn(n, 1)\n",
    "X = np.hstack((X1, X2))\n",
    "varepsilon = np.random.randn(n, 1)\n",
    "Y = beta1*X1 + beta2*X2 + varepsilon\n",
    "print(X1.shape, X2.shape, X.shape, Y.shape)"
   ]
  },
  {
   "cell_type": "markdown",
   "metadata": {},
   "source": [
    "**Question 2:**\n",
    "\n",
    "Créez une fonction qui calcule l'estimateur des MCO de $\\beta$(pour $p$ quelconque). Pour calculer l'inverse d'une matrice vous pouvez utiliser [`linalg.inv()`](https://numpy.org/doc/stable/reference/generated/numpy.linalg.inv.html)(fonction non évoquée dans le notebook présentant Numpy) de Numpy, et le transposé d'une matrice $ A $ est donné par $ A.T $(voir \"cheatcheet\" numpy dans le dépôt git du cours-dossier Autres-) ou bien [ici](https://assets.datacamp.com/blog_assets/Numpy_Python_Cheat_Sheet.pdf). Voici un exemple:"
   ]
  },
  {
   "cell_type": "code",
   "execution_count": null,
   "metadata": {},
   "outputs": [],
   "source": [
    "# '#' enlevez le # si numpy n'a pas été importé avant(par exemple parce que vous n'avez pas traité les question\n",
    "# précédentes)\n",
    "# import numpy as np \n",
    "B = np.array([[2,0],[1,2]]) # une matrice 2x2\n",
    "print(B) \n",
    "print(B.T) # affichage de sa transposé\n",
    "print(np.linalg.inv(B)) # affichage de son inverse"
   ]
  },
  {
   "cell_type": "markdown",
   "metadata": {},
   "source": [
    "Dans le cas qui nous intéresse vous devez appliquer la transposé à la matrice $\\mathbf{X}$ et l'inverse à \n",
    "$ \\mathbf{X}^\\top \\mathbf{X} $."
   ]
  },
  {
   "cell_type": "markdown",
   "metadata": {},
   "source": [
    "**Réponse:**"
   ]
  },
  {
   "cell_type": "code",
   "execution_count": 3,
   "metadata": {},
   "outputs": [],
   "source": [
    "def ols(X, Y):\n",
    "    betahat = np.linalg.inv(X.T@X)@(X.T@Y)\n",
    "    return betahat"
   ]
  },
  {
   "cell_type": "markdown",
   "metadata": {},
   "source": [
    "**Question 3:**\n",
    "\n",
    "Testez votre fonction sur les données de la question 12(affichez vos résultats)"
   ]
  },
  {
   "cell_type": "markdown",
   "metadata": {},
   "source": [
    "**Réponse:**"
   ]
  },
  {
   "cell_type": "code",
   "execution_count": 4,
   "metadata": {},
   "outputs": [
    {
     "data": {
      "text/plain": [
       "array([[0.10150967],\n",
       "       [0.10633322]])"
      ]
     },
     "execution_count": 4,
     "metadata": {},
     "output_type": "execute_result"
    }
   ],
   "source": [
    "ols(X, Y)"
   ]
  },
  {
   "cell_type": "markdown",
   "metadata": {},
   "source": [
    "#### Application.\n",
    "\n",
    "- Nous allons considérer un modèle où la variable dépendante est un log du salaire, et les régresseurs incluent une constante, le niveau d'études, une mesure de l'expérience potentielle sur le marché du travail en années($ \\text{exper} $), son carré($ \\text{expersq} $), une indicatrice du sexe($ \\text{female} $), et une indicatrice d'être noir($ \\text{black} $).  Soit,\n",
    "\n",
    "  - $ Y $: $ \\text{lwage} $(salaire horaire en log),\n",
    "  - $ X $: $ (1, \\text{education}, \\text{exper}, \\text{expersq}, \\text{female}, \\text{black})$.\n",
    "\n",
    "- Parmi ces variables nous devons construire $ \\text{lwage} $, $\\text{exper}$, $\\text{expersq}$, et $\\text{black}$.\n",
    "\n",
    "- Donc la version de (1) qu'on considère est:\n",
    "\n",
    "$$ \n",
    "\\begin{align*}\n",
    "\\text{lwage} &= \\beta_1 + \\beta_2 \\text{education} + \\beta_3\\text{exper} + \\beta_4\\text{exper}^2  + \\beta_5\\text{female} + \\beta_6\\text{black}\n",
    "+ U\n",
    "\\end{align*}\n",
    "$$\n",
    "\n",
    "- Nous allons utiliser un échantillon qui correspond aux personnes qui se définissent comme blanches, ou noires(remarque: la collecte de données américaines permet de recueillir des informations quant à l'appartenance à des groupes ethniques préalablement définis).\n"
   ]
  }
 ],
 "metadata": {
  "interpreter": {
   "hash": "8a894924a8054982a5c897c02f36d019274ceaf42c853aa8fb1f2ffcb169480b"
  },
  "kernelspec": {
   "display_name": "Python 3.8.8 64-bit ('base': conda)",
   "language": "python",
   "name": "python3"
  },
  "language_info": {
   "codemirror_mode": {
    "name": "ipython",
    "version": 3
   },
   "file_extension": ".py",
   "mimetype": "text/x-python",
   "name": "python",
   "nbconvert_exporter": "python",
   "pygments_lexer": "ipython3",
   "version": "3.8.8"
  },
  "orig_nbformat": 4
 },
 "nbformat": 4,
 "nbformat_minor": 2
}
