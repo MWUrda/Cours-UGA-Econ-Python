{
 "cells": [
  {
   "cell_type": "markdown",
   "id": "0d37b366",
   "metadata": {},
   "source": [
    "# <center> INTRODUCTION À PYTHON POUR L'ÉCONOMIE APPLIQUÉE</center>\n",
    "## <center> EXERCICES : 06.12.2022</center>\n",
    "#### <center>Michal Urdanivia (UGA)</center>\n",
    "#### <center> michal.wong-urdanivia@univ-grenoble-alpes.fr </center>"
   ]
  },
  {
   "cell_type": "markdown",
   "id": "d8ee600d-06c0-43af-9488-d4ab8d1ebbc5",
   "metadata": {},
   "source": [
    "1. Créer une fonction qui calcule la moyenne d'une variable représentée sous la forme d'un array numpy.\n",
    "2. Tester la fonction sur une variable aléatoire de loi normale $ \\mathcal{N}(0, 1) $\n",
    "3. Faire la même chose qu'en 1 et 2 mais pour l'écart-type.\n",
    "4. Comparez vos résultats à ceux des fonctions de numpy [.mean](https://numpy.org/doc/stable/reference/generated/numpy.mean.html) et [.std](https://numpy.org/doc/stable/reference/generated/numpy.std.html). "
   ]
  },
  {
   "cell_type": "markdown",
   "id": "b97ce11c-1306-4ed3-be96-08b878ed905c",
   "metadata": {},
   "source": [
    "**Remarque** : \n",
    "\n",
    "Sur un vecteur $ X = (X_1, X_2, \\ldots, X_n)^\\top $. Pour calculer la moyenne de $X$, $\\bar{X}$,\n",
    "on peut faire:\n",
    "\n",
    "$$\n",
    "\\bar{X} = X^\\top \\times \\mathbf{1}_n / n,\n",
    "$$\n",
    "où  $\\mathbf{1}_n$ est le vecteur $(1, 1, \\ldots, 1)^\\top$ de taille $n$.\n"
   ]
  },
  {
   "cell_type": "code",
   "execution_count": 1,
   "id": "8a60d9c4-6498-470f-9be8-0d78c5660ece",
   "metadata": {},
   "outputs": [],
   "source": [
    "\n",
    "import numpy as np\n",
    "\n",
    "X = np.random.normal(loc=0,scale=1,size=10)# variable aléatoire de loi N(0, 1)\n",
    "\n",
    "# Votre code ici"
   ]
  }
 ],
 "metadata": {
  "kernelspec": {
   "display_name": "Python 3.8.8 ('base')",
   "language": "python",
   "name": "python3"
  },
  "language_info": {
   "codemirror_mode": {
    "name": "ipython",
    "version": 3
   },
   "file_extension": ".py",
   "mimetype": "text/x-python",
   "name": "python",
   "nbconvert_exporter": "python",
   "pygments_lexer": "ipython3",
   "version": "3.8.8"
  },
  "vscode": {
   "interpreter": {
    "hash": "8a894924a8054982a5c897c02f36d019274ceaf42c853aa8fb1f2ffcb169480b"
   }
  }
 },
 "nbformat": 4,
 "nbformat_minor": 5
}
