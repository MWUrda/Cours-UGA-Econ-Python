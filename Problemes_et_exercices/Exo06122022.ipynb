{
 "cells": [
  {
   "cell_type": "markdown",
   "id": "0d37b366",
   "metadata": {},
   "source": [
    "# <center> INTRODUCTION À PYTHON POUR L'ÉCONOMIE APPLIQUÉE</center>\n",
    "## <center> EXERCICES : 06.12.2022</center>\n",
    "#### <center>Michal Urdanivia (UGA)</center>\n",
    "#### <center> michal.wong-urdanivia@univ-grenoble-alpes.fr </center>"
   ]
  },
  {
   "cell_type": "markdown",
   "id": "d8ee600d-06c0-43af-9488-d4ab8d1ebbc5",
   "metadata": {},
   "source": [
    "1. Créer une fonction qui calcule la moyenne d'une variable représentée sous la forme d'un array numpy.\n",
    "2. Tester la fonction sur une variable aléatoire de loi normale $ \\mathcal{N}(0, 1) $\n",
    "3. Faire la même chose qu'en 1 et 2 mais pour l'écart-type.\n",
    "4. Comparez vos résultats à ceux des fonctions de numpy [.mean](https://numpy.org/doc/stable/reference/generated/numpy.mean.html) et [.std](https://numpy.org/doc/stable/reference/generated/numpy.std.html). "
   ]
  },
  {
   "cell_type": "markdown",
   "id": "b97ce11c-1306-4ed3-be96-08b878ed905c",
   "metadata": {},
   "source": [
    "**Remarque** : \n",
    "\n",
    "Sur un vecteur $ X = (X_1, X_2, \\ldots, X_n)^\\top $. Pour calculer la moyenne de $X$, $\\bar{X}$,\n",
    "on peut faire:\n",
    "\n",
    "$$\n",
    "\\bar{X} = X^\\top \\times \\mathbf{1}_n / n,\n",
    "$$\n",
    "où  $\\mathbf{1}_n$ est le vecteur $(1, 1, \\ldots, 1)^\\top$ de taille $n$.\n"
   ]
  },
  {
   "cell_type": "code",
   "execution_count": 22,
   "id": "8a60d9c4-6498-470f-9be8-0d78c5660ece",
   "metadata": {},
   "outputs": [],
   "source": [
    "\n",
    "import numpy as np\n",
    "\n",
    "X = np.random.normal(loc=0,scale=1,size=10)# variable aléatoire de loi N(0, 1)\n",
    "\n",
    "# Votre code ici"
   ]
  },
  {
   "cell_type": "code",
   "execution_count": 19,
   "id": "5f2c84bf",
   "metadata": {},
   "outputs": [
    {
     "data": {
      "text/plain": [
       "46411.0"
      ]
     },
     "execution_count": 19,
     "metadata": {},
     "output_type": "execute_result"
    }
   ],
   "source": []
  },
  {
   "cell_type": "code",
   "execution_count": 20,
   "id": "a3c05378",
   "metadata": {},
   "outputs": [],
   "source": [
    "# Question 1: fonction\n",
    "def moyenne(X):\n",
    "    vec_ones = np.ones(len(X))\n",
    "    n = np.sum(vec_ones)\n",
    "    mean_output = X.T @ vec_ones / n\n",
    "    return mean_output"
   ]
  },
  {
   "cell_type": "code",
   "execution_count": 23,
   "id": "5c3fca64",
   "metadata": {},
   "outputs": [
    {
     "data": {
      "text/plain": [
       "0.02300890776178264"
      ]
     },
     "execution_count": 23,
     "metadata": {},
     "output_type": "execute_result"
    }
   ],
   "source": [
    "# Question 2: test\n",
    "moyenne(X)"
   ]
  },
  {
   "cell_type": "code",
   "execution_count": null,
   "id": "94b49b1b",
   "metadata": {},
   "outputs": [],
   "source": [
    "# Question 3: \n",
    "def ecart_type(X):\n",
    "# A compléter\n",
    "    return ecart_type_output"
   ]
  },
  {
   "cell_type": "code",
   "execution_count": 6,
   "id": "413bd513",
   "metadata": {},
   "outputs": [
    {
     "data": {
      "text/plain": [
       "1.2406378486009726"
      ]
     },
     "execution_count": 6,
     "metadata": {},
     "output_type": "execute_result"
    }
   ],
   "source": [
    "np.std(X)"
   ]
  },
  {
   "cell_type": "markdown",
   "id": "11ebb6e1",
   "metadata": {},
   "source": [
    "5. Testez votre fonction sur le données issus du site de [Bruce Hansen](https://www.ssc.wisc.edu/~bhansen/econometrics/). Pour cela utilisez d'abord le code suivant qui lit les données sous forme d'un [dataframe pandas](https://pandas.pydata.org/docs/reference/api/pandas.DataFrame.html), sélectionne un échantillon et transforme des variables choisies en `numpy arrays`. En particulier on considère le niveau d'études( `education`) et le salaire en logarithme(`lwage`). Pour des détail sur ces données vous pouvez consulter ce [dictionnaire](https://www.ssc.wisc.edu/~bhansen/econometrics/cps09mar_description.pdf)."
   ]
  },
  {
   "cell_type": "code",
   "execution_count": 7,
   "id": "8bcdc1ac",
   "metadata": {},
   "outputs": [],
   "source": [
    "# Import de pandas\n",
    "import pandas as pd"
   ]
  },
  {
   "cell_type": "code",
   "execution_count": 8,
   "id": "9628b556",
   "metadata": {},
   "outputs": [
    {
     "name": "stdout",
     "output_type": "stream",
     "text": [
      "<class 'pandas.core.frame.DataFrame'>\n",
      "Int64Index: 50742 entries, 0 to 50741\n",
      "Data columns (total 12 columns):\n",
      " #   Column     Non-Null Count  Dtype  \n",
      "---  ------     --------------  -----  \n",
      " 0   age        50742 non-null  float64\n",
      " 1   female     50742 non-null  float64\n",
      " 2   hisp       50742 non-null  float64\n",
      " 3   education  50742 non-null  float64\n",
      " 4   earnings   50742 non-null  float64\n",
      " 5   hours      50742 non-null  float64\n",
      " 6   week       50742 non-null  float64\n",
      " 7   union      50742 non-null  float64\n",
      " 8   uncov      50742 non-null  float64\n",
      " 9   region     50742 non-null  float64\n",
      " 10  race       50742 non-null  float64\n",
      " 11  marital    50742 non-null  float64\n",
      "dtypes: float64(12)\n",
      "memory usage: 5.0 MB\n"
     ]
    }
   ],
   "source": [
    "# Lecture des données.\n",
    "# On utilise la fonction \"read_stata\" dans pandas pour lire le fichier au format stata(\".dta\") disponible \n",
    "# sur le site de Bruce Hansen. Vous pouvez aussi le télécharger sur votre poste et ensuite le lire.\n",
    "# Nous l'appellons cps_df(pour cps data frame)\n",
    "cps_df = pd.read_stata(\"https://www.ssc.wisc.edu/~bhansen/econometrics/cps09mar.dta\")\n",
    "cps_df.info()   # Affichage d'informations."
   ]
  },
  {
   "cell_type": "code",
   "execution_count": 9,
   "id": "f96762e7",
   "metadata": {},
   "outputs": [
    {
     "name": "stdout",
     "output_type": "stream",
     "text": [
      "(46411, 16)\n"
     ]
    },
    {
     "data": {
      "text/html": [
       "<div>\n",
       "<style scoped>\n",
       "    .dataframe tbody tr th:only-of-type {\n",
       "        vertical-align: middle;\n",
       "    }\n",
       "\n",
       "    .dataframe tbody tr th {\n",
       "        vertical-align: top;\n",
       "    }\n",
       "\n",
       "    .dataframe thead th {\n",
       "        text-align: right;\n",
       "    }\n",
       "</style>\n",
       "<table border=\"1\" class=\"dataframe\">\n",
       "  <thead>\n",
       "    <tr style=\"text-align: right;\">\n",
       "      <th></th>\n",
       "      <th>age</th>\n",
       "      <th>female</th>\n",
       "      <th>hisp</th>\n",
       "      <th>education</th>\n",
       "      <th>earnings</th>\n",
       "      <th>hours</th>\n",
       "      <th>week</th>\n",
       "      <th>union</th>\n",
       "      <th>uncov</th>\n",
       "      <th>region</th>\n",
       "      <th>marital</th>\n",
       "      <th>exper</th>\n",
       "      <th>expersq</th>\n",
       "      <th>lwage</th>\n",
       "      <th>white</th>\n",
       "      <th>black</th>\n",
       "    </tr>\n",
       "  </thead>\n",
       "  <tbody>\n",
       "    <tr>\n",
       "      <th>count</th>\n",
       "      <td>46411.000000</td>\n",
       "      <td>46411.000000</td>\n",
       "      <td>46411.000000</td>\n",
       "      <td>46411.000000</td>\n",
       "      <td>46411.000000</td>\n",
       "      <td>46411.000000</td>\n",
       "      <td>46411.000000</td>\n",
       "      <td>46411.000000</td>\n",
       "      <td>46411.000000</td>\n",
       "      <td>46411.000000</td>\n",
       "      <td>46411.000000</td>\n",
       "      <td>46411.000000</td>\n",
       "      <td>46411.000000</td>\n",
       "      <td>46411.000000</td>\n",
       "      <td>46411.000000</td>\n",
       "      <td>46411.000000</td>\n",
       "    </tr>\n",
       "    <tr>\n",
       "      <th>mean</th>\n",
       "      <td>42.213915</td>\n",
       "      <td>0.423477</td>\n",
       "      <td>0.154468</td>\n",
       "      <td>13.882269</td>\n",
       "      <td>55082.729181</td>\n",
       "      <td>43.879964</td>\n",
       "      <td>51.879554</td>\n",
       "      <td>0.021934</td>\n",
       "      <td>0.002262</td>\n",
       "      <td>2.597789</td>\n",
       "      <td>2.754584</td>\n",
       "      <td>22.331646</td>\n",
       "      <td>6.337939</td>\n",
       "      <td>2.945706</td>\n",
       "      <td>0.889358</td>\n",
       "      <td>0.110642</td>\n",
       "    </tr>\n",
       "    <tr>\n",
       "      <th>std</th>\n",
       "      <td>11.468616</td>\n",
       "      <td>0.494115</td>\n",
       "      <td>0.361400</td>\n",
       "      <td>2.713667</td>\n",
       "      <td>52324.915589</td>\n",
       "      <td>7.701222</td>\n",
       "      <td>0.596815</td>\n",
       "      <td>0.146471</td>\n",
       "      <td>0.047511</td>\n",
       "      <td>1.047513</td>\n",
       "      <td>2.497897</td>\n",
       "      <td>11.623014</td>\n",
       "      <td>5.635276</td>\n",
       "      <td>0.673137</td>\n",
       "      <td>0.313692</td>\n",
       "      <td>0.313692</td>\n",
       "    </tr>\n",
       "    <tr>\n",
       "      <th>min</th>\n",
       "      <td>15.000000</td>\n",
       "      <td>0.000000</td>\n",
       "      <td>0.000000</td>\n",
       "      <td>0.000000</td>\n",
       "      <td>1.000000</td>\n",
       "      <td>36.000000</td>\n",
       "      <td>48.000000</td>\n",
       "      <td>0.000000</td>\n",
       "      <td>0.000000</td>\n",
       "      <td>1.000000</td>\n",
       "      <td>1.000000</td>\n",
       "      <td>-4.000000</td>\n",
       "      <td>0.000000</td>\n",
       "      <td>-7.863267</td>\n",
       "      <td>0.000000</td>\n",
       "      <td>0.000000</td>\n",
       "    </tr>\n",
       "    <tr>\n",
       "      <th>25%</th>\n",
       "      <td>33.000000</td>\n",
       "      <td>0.000000</td>\n",
       "      <td>0.000000</td>\n",
       "      <td>12.000000</td>\n",
       "      <td>28000.000000</td>\n",
       "      <td>40.000000</td>\n",
       "      <td>52.000000</td>\n",
       "      <td>0.000000</td>\n",
       "      <td>0.000000</td>\n",
       "      <td>2.000000</td>\n",
       "      <td>1.000000</td>\n",
       "      <td>13.000000</td>\n",
       "      <td>1.690000</td>\n",
       "      <td>2.560096</td>\n",
       "      <td>1.000000</td>\n",
       "      <td>0.000000</td>\n",
       "    </tr>\n",
       "    <tr>\n",
       "      <th>50%</th>\n",
       "      <td>42.000000</td>\n",
       "      <td>0.000000</td>\n",
       "      <td>0.000000</td>\n",
       "      <td>13.000000</td>\n",
       "      <td>42000.000000</td>\n",
       "      <td>40.000000</td>\n",
       "      <td>52.000000</td>\n",
       "      <td>0.000000</td>\n",
       "      <td>0.000000</td>\n",
       "      <td>3.000000</td>\n",
       "      <td>1.000000</td>\n",
       "      <td>22.000000</td>\n",
       "      <td>4.840000</td>\n",
       "      <td>2.956512</td>\n",
       "      <td>1.000000</td>\n",
       "      <td>0.000000</td>\n",
       "    </tr>\n",
       "    <tr>\n",
       "      <th>75%</th>\n",
       "      <td>51.000000</td>\n",
       "      <td>1.000000</td>\n",
       "      <td>0.000000</td>\n",
       "      <td>16.000000</td>\n",
       "      <td>65000.000000</td>\n",
       "      <td>45.000000</td>\n",
       "      <td>52.000000</td>\n",
       "      <td>0.000000</td>\n",
       "      <td>0.000000</td>\n",
       "      <td>3.000000</td>\n",
       "      <td>5.000000</td>\n",
       "      <td>31.000000</td>\n",
       "      <td>9.610000</td>\n",
       "      <td>3.354542</td>\n",
       "      <td>1.000000</td>\n",
       "      <td>0.000000</td>\n",
       "    </tr>\n",
       "    <tr>\n",
       "      <th>max</th>\n",
       "      <td>85.000000</td>\n",
       "      <td>1.000000</td>\n",
       "      <td>1.000000</td>\n",
       "      <td>20.000000</td>\n",
       "      <td>561087.000000</td>\n",
       "      <td>99.000000</td>\n",
       "      <td>52.000000</td>\n",
       "      <td>1.000000</td>\n",
       "      <td>1.000000</td>\n",
       "      <td>4.000000</td>\n",
       "      <td>7.000000</td>\n",
       "      <td>75.000000</td>\n",
       "      <td>56.250000</td>\n",
       "      <td>5.583706</td>\n",
       "      <td>1.000000</td>\n",
       "      <td>1.000000</td>\n",
       "    </tr>\n",
       "  </tbody>\n",
       "</table>\n",
       "</div>"
      ],
      "text/plain": [
       "                age        female          hisp     education       earnings  \\\n",
       "count  46411.000000  46411.000000  46411.000000  46411.000000   46411.000000   \n",
       "mean      42.213915      0.423477      0.154468     13.882269   55082.729181   \n",
       "std       11.468616      0.494115      0.361400      2.713667   52324.915589   \n",
       "min       15.000000      0.000000      0.000000      0.000000       1.000000   \n",
       "25%       33.000000      0.000000      0.000000     12.000000   28000.000000   \n",
       "50%       42.000000      0.000000      0.000000     13.000000   42000.000000   \n",
       "75%       51.000000      1.000000      0.000000     16.000000   65000.000000   \n",
       "max       85.000000      1.000000      1.000000     20.000000  561087.000000   \n",
       "\n",
       "              hours          week         union         uncov        region  \\\n",
       "count  46411.000000  46411.000000  46411.000000  46411.000000  46411.000000   \n",
       "mean      43.879964     51.879554      0.021934      0.002262      2.597789   \n",
       "std        7.701222      0.596815      0.146471      0.047511      1.047513   \n",
       "min       36.000000     48.000000      0.000000      0.000000      1.000000   \n",
       "25%       40.000000     52.000000      0.000000      0.000000      2.000000   \n",
       "50%       40.000000     52.000000      0.000000      0.000000      3.000000   \n",
       "75%       45.000000     52.000000      0.000000      0.000000      3.000000   \n",
       "max       99.000000     52.000000      1.000000      1.000000      4.000000   \n",
       "\n",
       "            marital         exper       expersq         lwage         white  \\\n",
       "count  46411.000000  46411.000000  46411.000000  46411.000000  46411.000000   \n",
       "mean       2.754584     22.331646      6.337939      2.945706      0.889358   \n",
       "std        2.497897     11.623014      5.635276      0.673137      0.313692   \n",
       "min        1.000000     -4.000000      0.000000     -7.863267      0.000000   \n",
       "25%        1.000000     13.000000      1.690000      2.560096      1.000000   \n",
       "50%        1.000000     22.000000      4.840000      2.956512      1.000000   \n",
       "75%        5.000000     31.000000      9.610000      3.354542      1.000000   \n",
       "max        7.000000     75.000000     56.250000      5.583706      1.000000   \n",
       "\n",
       "              black  \n",
       "count  46411.000000  \n",
       "mean       0.110642  \n",
       "std        0.313692  \n",
       "min        0.000000  \n",
       "25%        0.000000  \n",
       "50%        0.000000  \n",
       "75%        0.000000  \n",
       "max        1.000000  "
      ]
     },
     "execution_count": 9,
     "metadata": {},
     "output_type": "execute_result"
    }
   ],
   "source": [
    "# Échantillon\n",
    "\n",
    "cps_df2 = cps_df[(cps_df.race == 1.0) | (cps_df.race == 2.0)]\n",
    "\n",
    "# Variables\n",
    "\n",
    "cps_df2 = cps_df2.assign(exper = cps_df2.age - cps_df2.education - 6) # Expérience\n",
    "cps_df2 = cps_df2.assign(expersq = cps_df2.exper**2/100) # Expérience au carré\n",
    "cps_df2 = cps_df2.assign(lwage = np.log(cps_df2.earnings / ( cps_df2.hours * cps_df2.week))) # revenu horaire\n",
    "cps_df2 = pd.get_dummies(data = cps_df2, columns= ['race']) # indicatrice d'appartenance ethnique\n",
    "cps_df2 = cps_df2.rename(columns={\"race_1.0\": \"white\", \"race_2.0\": \"black\"}) # on les renomme \n",
    "print(cps_df2.shape)\n",
    "cps_df2.describe()\n",
    "#cps_df2[['exper', 'age', 'education', 'expersq', 'lwage', 'earnings', 'week', 'hours']].head()\n",
    "\n"
   ]
  },
  {
   "cell_type": "code",
   "execution_count": 11,
   "id": "dda8bb01",
   "metadata": {},
   "outputs": [
    {
     "name": "stdout",
     "output_type": "stream",
     "text": [
      "<class 'pandas.core.series.Series'> <class 'pandas.core.frame.DataFrame'>\n",
      "<class 'numpy.ndarray'> (46411, 1)\n",
      "<class 'numpy.ndarray'> (46411, 6)\n"
     ]
    }
   ],
   "source": [
    "# Variables(dépendante et régresseurs)\n",
    "\n",
    "dep_var = cps_df2['lwage']\n",
    "reg_var = cps_df2[['education', 'female', 'black', 'exper', 'expersq']]\n",
    "\n",
    "# Ce ne sont pas array mais des objets pour pandas leur type est\n",
    "\n",
    "print(type(dep_var), type(reg_var))\n",
    "\n",
    "# Conversion en arrays pour numpy(on crée de nouveaux objets Yn, Xn, afin de ne pas écraser ceux de dépar\n",
    "# que nous utiliserons par la suite.\n",
    "\n",
    "Y = dep_var.values[:, np.newaxis]\n",
    "X = reg_var.values\n",
    "n = len(Y)\n",
    "# On estime un modèle avec terme constant qu'on doit joindre\n",
    "X = np.concatenate((np.ones((n,1)), X), axis=1) \n",
    "print(type(Y), Y.shape)\n",
    "print(type(X), X.shape)\n"
   ]
  },
  {
   "cell_type": "code",
   "execution_count": 13,
   "id": "6ed3ce5b",
   "metadata": {},
   "outputs": [
    {
     "data": {
      "text/plain": [
       "7.347662192152722"
      ]
     },
     "execution_count": 13,
     "metadata": {},
     "output_type": "execute_result"
    }
   ],
   "source": [
    "# Testez à présent vos fonctions sur Y et X.\n",
    "np.mean(Y)"
   ]
  }
 ],
 "metadata": {
  "kernelspec": {
   "display_name": "Python 3.8.8 ('base')",
   "language": "python",
   "name": "python3"
  },
  "language_info": {
   "codemirror_mode": {
    "name": "ipython",
    "version": 3
   },
   "file_extension": ".py",
   "mimetype": "text/x-python",
   "name": "python",
   "nbconvert_exporter": "python",
   "pygments_lexer": "ipython3",
   "version": "3.8.8"
  },
  "vscode": {
   "interpreter": {
    "hash": "8a894924a8054982a5c897c02f36d019274ceaf42c853aa8fb1f2ffcb169480b"
   }
  }
 },
 "nbformat": 4,
 "nbformat_minor": 5
}
