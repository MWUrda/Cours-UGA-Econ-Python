{
 "cells": [
  {
   "cell_type": "markdown",
   "id": "0d37b366",
   "metadata": {},
   "source": [
    "# <center> INTRODUCTION À PYTHON POUR L'ÉCONOMIE APPLIQUÉE</center>\n",
    "## <center> EXERCICES : 06.12.2022</center>\n",
    "#### <center>Michal Urdanivia (UGA)</center>\n",
    "#### <center> michal.wong-urdanivia@univ-grenoble-alpes.fr </center>"
   ]
  },
  {
   "cell_type": "markdown",
   "id": "d8ee600d-06c0-43af-9488-d4ab8d1ebbc5",
   "metadata": {},
   "source": [
    "1. Créer une fonction qui calcule la moyenne d'une variable représentée sous la forme d'un array numpy.\n",
    "2. Tester la fonction sur une variable aléatoire de loi normale $ \\mathcal{N}(0, 1) $\n",
    "3. Faire la même chose qu'en 1 et 2 mais pour l'écart-type.\n",
    "4. Comparez vos résultats à ceux des fonctions de numpy [.mean](https://numpy.org/doc/stable/reference/generated/numpy.mean.html) et [.std](https://numpy.org/doc/stable/reference/generated/numpy.std.html). "
   ]
  },
  {
   "cell_type": "markdown",
   "id": "b97ce11c-1306-4ed3-be96-08b878ed905c",
   "metadata": {},
   "source": [
    "**Remarque** : \n",
    "\n",
    "Sur un vecteur $ X = (X_1, X_2, \\ldots, X_n)^\\top $. Pour calculer la moyenne de $X$, $\\bar{X}$,\n",
    "on peut faire:\n",
    "\n",
    "$$\n",
    "\\bar{X} = X^\\top \\times \\mathbf{1}_n / n,\n",
    "$$\n",
    "où  $\\mathbf{1}_n$ est le vecteur $(1, 1, \\ldots, 1)^\\top$ de taille $n$.\n"
   ]
  },
  {
   "cell_type": "code",
   "execution_count": 1,
   "id": "8a60d9c4-6498-470f-9be8-0d78c5660ece",
   "metadata": {},
   "outputs": [],
   "source": [
    "\n",
    "import numpy as np\n",
    "\n",
    "X = np.random.normal(loc=0,scale=1,size=10)# variable aléatoire de loi N(0, 1)\n",
    "\n",
    "# Votre code ici"
   ]
  },
  {
   "cell_type": "markdown",
   "id": "11ebb6e1",
   "metadata": {},
   "source": [
    "5. Testez votre fonction sur le données issus du site de [Bruce Hansen](https://www.ssc.wisc.edu/~bhansen/econometrics/). Pour cela utilisez d'abord le code suivant qui lit les données sous forme d'un [dataframe pandas](https://pandas.pydata.org/docs/reference/api/pandas.DataFrame.html), sélectionne un échantillon et transforme des variables choisies en `numpy arrays`. En particulier on considère le niveau d'études( `education`) et le salaire en logarithme(`lwage`). Pour des détail sur ces données vous pouvez consulter ce [dictionnaire](https://www.ssc.wisc.edu/~bhansen/econometrics/cps09mar_description.pdf)."
   ]
  },
  {
   "cell_type": "code",
   "execution_count": 2,
   "id": "8bcdc1ac",
   "metadata": {},
   "outputs": [],
   "source": [
    "# Import de pandas\n",
    "import pandas as pd"
   ]
  },
  {
   "cell_type": "code",
   "execution_count": 3,
   "id": "9628b556",
   "metadata": {},
   "outputs": [
    {
     "name": "stdout",
     "output_type": "stream",
     "text": [
      "<class 'pandas.core.frame.DataFrame'>\n",
      "Int64Index: 50742 entries, 0 to 50741\n",
      "Data columns (total 12 columns):\n",
      " #   Column     Non-Null Count  Dtype  \n",
      "---  ------     --------------  -----  \n",
      " 0   age        50742 non-null  float64\n",
      " 1   female     50742 non-null  float64\n",
      " 2   hisp       50742 non-null  float64\n",
      " 3   education  50742 non-null  float64\n",
      " 4   earnings   50742 non-null  float64\n",
      " 5   hours      50742 non-null  float64\n",
      " 6   week       50742 non-null  float64\n",
      " 7   union      50742 non-null  float64\n",
      " 8   uncov      50742 non-null  float64\n",
      " 9   region     50742 non-null  float64\n",
      " 10  race       50742 non-null  float64\n",
      " 11  marital    50742 non-null  float64\n",
      "dtypes: float64(12)\n",
      "memory usage: 5.0 MB\n"
     ]
    }
   ],
   "source": [
    "# Lecture des données.\n",
    "# On utilise la fonction \"read_stata\" dans pandas pour lire le fichier au format stata(\".dta\") disponible \n",
    "# sur le site de Bruce Hansen. Vous pouvez aussi le télécharger sur votre poste et ensuite le lire.\n",
    "# Nous l'appellons cps_df(pour cps data frame)\n",
    "cps_df = pd.read_stata(\"https://www.ssc.wisc.edu/~bhansen/econometrics/cps09mar.dta\")\n",
    "cps_df.info()   # Affichage d'informations."
   ]
  },
  {
   "cell_type": "code",
   "execution_count": null,
   "id": "f96762e7",
   "metadata": {},
   "outputs": [],
   "source": [
    "# Échantillon\n",
    "\n",
    "cps_df2 = cps_df[(cps_df.race == 1.0) | (cps_df.race == 2.0)]\n",
    "\n",
    "# Variables\n",
    "\n",
    "cps_df2 = cps_df2.assign(exper = cps_df2.age - cps_df2.education - 6) # Expérience\n",
    "cps_df2 = cps_df2.assign(expersq = cps_df2.exper**2/100) # Expérience au carré\n",
    "cps_df2 = cps_df2.assign(lwage = np.log(cps_df2.earnings / ( cps_df2.hours * cps_df2.week))) # revenu horaire\n",
    "cps_df2 = pd.get_dummies(data = cps_df2, columns= ['race']) # indicatrice d'appartenance ethnique\n",
    "cps_df2 = cps_df2.rename(columns={\"race_1.0\": \"white\", \"race_2.0\": \"black\"}) # on les renomme \n",
    "print(cps_df2.shape)\n",
    "cps_df2.describe()\n",
    "#cps_df2[['exper', 'age', 'education', 'expersq', 'lwage', 'earnings', 'week', 'hours']].head()\n",
    "\n"
   ]
  },
  {
   "cell_type": "code",
   "execution_count": null,
   "id": "dda8bb01",
   "metadata": {},
   "outputs": [],
   "source": [
    "# Variables(dépendante et régresseurs)\n",
    "\n",
    "dep_var = cps_df2['lwage']\n",
    "reg_var = cps_df2[['education', 'female', 'black', 'exper', 'expersq']]\n",
    "\n",
    "# Ce ne sont pas array mais des objets pour pandas leur type est\n",
    "\n",
    "print(type(dep_var), type(reg_var))\n",
    "\n",
    "# Conversion en arrays pour numpy(on crée de nouveaux objets Yn, Xn, afin de ne pas écraser ceux de dépar\n",
    "# que nous utiliserons par la suite.\n",
    "\n",
    "Y = dep_var.values[:, np.newaxis]\n",
    "X = reg_var.values\n",
    "n = len(Y)\n",
    "# On estime un modèle avec terme constant qu'on doit joindre\n",
    "X = np.concatenate((np.ones((n,1)), X), axis=1) \n",
    "print(type(Y), Y.shape)\n",
    "print(type(X), X.shape)\n"
   ]
  },
  {
   "cell_type": "code",
   "execution_count": null,
   "id": "6ed3ce5b",
   "metadata": {},
   "outputs": [],
   "source": [
    "# Testez à présent vos fonctions"
   ]
  }
 ],
 "metadata": {
  "kernelspec": {
   "display_name": "Python 3.8.8 ('base')",
   "language": "python",
   "name": "python3"
  },
  "language_info": {
   "codemirror_mode": {
    "name": "ipython",
    "version": 3
   },
   "file_extension": ".py",
   "mimetype": "text/x-python",
   "name": "python",
   "nbconvert_exporter": "python",
   "pygments_lexer": "ipython3",
   "version": "3.8.8"
  },
  "vscode": {
   "interpreter": {
    "hash": "8a894924a8054982a5c897c02f36d019274ceaf42c853aa8fb1f2ffcb169480b"
   }
  }
 },
 "nbformat": 4,
 "nbformat_minor": 5
}
