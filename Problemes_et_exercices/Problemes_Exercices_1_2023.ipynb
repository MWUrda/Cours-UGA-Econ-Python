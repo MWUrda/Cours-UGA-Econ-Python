{
 "cells": [
  {
   "cell_type": "markdown",
   "metadata": {},
   "source": [
    "# <center> INTRODUCTION À PYTHON POUR L'ÉCONOMIE APPLIQUÉE</center>\n",
    "## <center> PROBLÈMES ET EXERCICES : No 1 </center>\n",
    "## <center> SEMAINE DU 6.11.2023  </center>\n",
    "#### <center>Michal Urdanivia (UGA)</center>\n",
    "#### <center> michal.wong-urdanivia@univ-grenoble-alpes.fr </center>"
   ]
  },
  {
   "cell_type": "markdown",
   "metadata": {},
   "source": [
    "### <center> 1. EXERCICES </center>"
   ]
  },
  {
   "cell_type": "markdown",
   "metadata": {},
   "source": [
    "#### Exercise 1: boucles.\n",
    "\n",
    "Considérons le polynôme\n",
    "\n",
    "\n",
    "<a id='equation-polynom0'></a>\n",
    "$$\n",
    "p(x)\n",
    "= a_0 + a_1 x + a_2 x^2 + \\cdots a_n x^n\n",
    "= \\sum_{i=0}^n a_i x^i \\tag{5.1}\n",
    "$$\n",
    "\n",
    "Écrivez une fonction `p` telle que `p(x, coeff)` calcule la valeur de [(5.1)](#equation-polynom0) étant donné un `x` et une liste de coefficients `coeff` ($ a_1, a_2, \\cdots a_n $).\n",
    "\n",
    "Pour cela  essayez d'utiliser `enumerate()` dans une boucle."
   ]
  },
  {
   "cell_type": "markdown",
   "metadata": {},
   "source": [
    "#### Exercice 2: arrays numpy.\n",
    "\n",
    "Définissez une fonction qui fait la même tâche que la précédente mais utilise des arrays NumPy au lieu de boucles\n",
    "\n",
    "Pour cela utilisez:\n",
    "* vous pouvez utiliser la fonction `numpy.ones_like()`(demandez de l'aide sur cette fonction si vous en avez besoin `help(numpy.ones_like)`).\n",
    "* la fonction `numpy.cumprod()`(demandez de l'aide sur cette fonction si vous en avez besoin `help(numpy.cumprod)`).\n",
    "\n",
    "Remarquez que ce type de fonction existe déjà avec `numpy.poly1d` mais pour cet exercice on ne l'utilise pas.\n"
   ]
  }
 ],
 "metadata": {
  "kernelspec": {
   "display_name": "base",
   "language": "python",
   "name": "python3"
  },
  "language_info": {
   "codemirror_mode": {
    "name": "ipython",
    "version": 3
   },
   "file_extension": ".py",
   "mimetype": "text/x-python",
   "name": "python",
   "nbconvert_exporter": "python",
   "pygments_lexer": "ipython3",
   "version": "3.8.18"
  }
 },
 "nbformat": 4,
 "nbformat_minor": 2
}
